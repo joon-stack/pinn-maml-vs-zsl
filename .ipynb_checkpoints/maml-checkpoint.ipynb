{
 "cells": [
  {
   "cell_type": "code",
   "execution_count": 1,
   "id": "13fab8b6-cb38-4b19-aade-f0939939bc93",
   "metadata": {},
   "outputs": [],
   "source": [
    "from maml import *\n",
    "import matplotlib.pyplot as plt"
   ]
  },
  {
   "cell_type": "code",
   "execution_count": 2,
   "id": "d8e3a9ab-9d5b-49a7-9ad6-6ad5b4eab18f",
   "metadata": {},
   "outputs": [
    {
     "name": "stdout",
     "output_type": "stream",
     "text": [
      "Initializing MAML-PINN model\n",
      "Finished initialization of MAML-PINN model\n",
      "Start MAML training at iteration 0\n",
      "[0.003183098861837907]\n",
      "Validation before training (0.003)| Inner_loss_I: 0.4893 | Inner_loss_B: 0.0021 | Inner_loss_F: 0.0000 | Inner_loss: 0.4914 | NRMSE: 16.1242\n",
      "Validation (0.003)| Inner_loss_I: 0.4456 |Inner_loss_B: 0.0054 | Inner_loss_F: 0.0002 | Inner_loss: 0.4512 | NRMSE: 14.1242\n",
      "Model saved\n",
      "Step 100 | Inner_loss_I: 0.4209 | Inner_loss_B: 0.0181 | Inner_loss_F: 0.0005\n",
      "Validation (0.003)| Inner_loss_I: 0.4204 |Inner_loss_B: 0.0185 | Inner_loss_F: 0.0006 | Inner_loss: 0.4395 | NRMSE: 7.6307\n",
      "Validation (0.003)| Inner_loss_I: 0.3936 |Inner_loss_B: 0.0394 | Inner_loss_F: 0.0014 | Inner_loss: 0.4344 | NRMSE: 5.0465\n",
      "Model saved\n",
      "Step 200 | Inner_loss_I: 0.3629 | Inner_loss_B: 0.0542 | Inner_loss_F: 0.0024\n",
      "Validation (0.003)| Inner_loss_I: 0.3427 |Inner_loss_B: 0.0547 | Inner_loss_F: 0.0023 | Inner_loss: 0.3997 | NRMSE: 4.0859\n",
      "Validation (0.003)| Inner_loss_I: 0.3226 |Inner_loss_B: 0.0565 | Inner_loss_F: 0.0031 | Inner_loss: 0.3823 | NRMSE: 4.1021\n",
      "Model saved\n",
      "Step 300 | Inner_loss_I: 0.3219 | Inner_loss_B: 0.0574 | Inner_loss_F: 0.0036\n",
      "Validation (0.003)| Inner_loss_I: 0.3346 |Inner_loss_B: 0.0592 | Inner_loss_F: 0.0040 | Inner_loss: 0.3977 | NRMSE: 4.0207\n",
      "Validation (0.003)| Inner_loss_I: 0.3410 |Inner_loss_B: 0.0566 | Inner_loss_F: 0.0045 | Inner_loss: 0.4021 | NRMSE: 4.1246\n",
      "Model saved\n",
      "Step 400 | Inner_loss_I: 0.3446 | Inner_loss_B: 0.0558 | Inner_loss_F: 0.0051\n",
      "Validation (0.003)| Inner_loss_I: 0.3149 |Inner_loss_B: 0.0560 | Inner_loss_F: 0.0054 | Inner_loss: 0.3763 | NRMSE: 4.1466\n",
      "Validation (0.003)| Inner_loss_I: 0.3497 |Inner_loss_B: 0.0546 | Inner_loss_F: 0.0061 | Inner_loss: 0.4104 | NRMSE: 4.1907\n",
      "Model saved\n",
      "Step 500 | Inner_loss_I: 0.3331 | Inner_loss_B: 0.0553 | Inner_loss_F: 0.0071\n",
      "Validation (0.003)| Inner_loss_I: 0.3370 |Inner_loss_B: 0.0554 | Inner_loss_F: 0.0074 | Inner_loss: 0.3998 | NRMSE: 4.1368\n",
      "Validation (0.003)| Inner_loss_I: 0.3317 |Inner_loss_B: 0.0550 | Inner_loss_F: 0.0089 | Inner_loss: 0.3955 | NRMSE: 4.1969\n",
      "Model saved\n",
      "Step 600 | Inner_loss_I: 0.3076 | Inner_loss_B: 0.0518 | Inner_loss_F: 0.0103\n",
      "Validation (0.003)| Inner_loss_I: 0.3549 |Inner_loss_B: 0.0529 | Inner_loss_F: 0.0106 | Inner_loss: 0.4183 | NRMSE: 4.1489\n",
      "Validation (0.003)| Inner_loss_I: 0.3260 |Inner_loss_B: 0.0528 | Inner_loss_F: 0.0125 | Inner_loss: 0.3912 | NRMSE: 4.1435\n",
      "Model saved\n",
      "Step 700 | Inner_loss_I: 0.3019 | Inner_loss_B: 0.0503 | Inner_loss_F: 0.0146\n",
      "Validation (0.003)| Inner_loss_I: 0.3226 |Inner_loss_B: 0.0509 | Inner_loss_F: 0.0148 | Inner_loss: 0.3882 | NRMSE: 4.1437\n",
      "Validation (0.003)| Inner_loss_I: 0.3193 |Inner_loss_B: 0.0531 | Inner_loss_F: 0.0190 | Inner_loss: 0.3914 | NRMSE: 3.9113\n",
      "Model saved\n",
      "Step 800 | Inner_loss_I: 0.2973 | Inner_loss_B: 0.0456 | Inner_loss_F: 0.0188\n",
      "Validation (0.003)| Inner_loss_I: 0.2828 |Inner_loss_B: 0.0483 | Inner_loss_F: 0.0194 | Inner_loss: 0.3504 | NRMSE: 3.8027\n",
      "Validation (0.003)| Inner_loss_I: 0.2619 |Inner_loss_B: 0.0431 | Inner_loss_F: 0.0201 | Inner_loss: 0.3251 | NRMSE: 3.5950\n",
      "Model saved\n",
      "Step 900 | Inner_loss_I: 0.2552 | Inner_loss_B: 0.0453 | Inner_loss_F: 0.0193\n",
      "Validation (0.003)| Inner_loss_I: 0.2371 |Inner_loss_B: 0.0449 | Inner_loss_F: 0.0219 | Inner_loss: 0.3039 | NRMSE: 3.0122\n",
      "Validation (0.003)| Inner_loss_I: 0.2010 |Inner_loss_B: 0.0350 | Inner_loss_F: 0.0215 | Inner_loss: 0.2575 | NRMSE: 2.4439\n",
      "Model saved\n",
      "Step 1000 | Inner_loss_I: 0.1691 | Inner_loss_B: 0.0331 | Inner_loss_F: 0.0199\n",
      "Validation (0.003)| Inner_loss_I: 0.1794 |Inner_loss_B: 0.0320 | Inner_loss_F: 0.0259 | Inner_loss: 0.2373 | NRMSE: 1.8699\n",
      "Validation (0.003)| Inner_loss_I: 0.1357 |Inner_loss_B: 0.0192 | Inner_loss_F: 0.0383 | Inner_loss: 0.1932 | NRMSE: 1.4729\n",
      "Model saved\n",
      "Step 1100 | Inner_loss_I: 0.0978 | Inner_loss_B: 0.0143 | Inner_loss_F: 0.0359\n",
      "Validation (0.003)| Inner_loss_I: 0.1158 |Inner_loss_B: 0.0118 | Inner_loss_F: 0.0535 | Inner_loss: 0.1812 | NRMSE: 1.2725\n",
      "Validation (0.003)| Inner_loss_I: 0.0934 |Inner_loss_B: 0.0076 | Inner_loss_F: 0.0669 | Inner_loss: 0.1680 | NRMSE: 1.2462\n",
      "Model saved\n",
      "Step 1200 | Inner_loss_I: 0.0821 | Inner_loss_B: 0.0091 | Inner_loss_F: 0.0488\n",
      "Validation (0.003)| Inner_loss_I: 0.1008 |Inner_loss_B: 0.0092 | Inner_loss_F: 0.0714 | Inner_loss: 0.1815 | NRMSE: 1.1882\n",
      "Validation (0.003)| Inner_loss_I: 0.0897 |Inner_loss_B: 0.0062 | Inner_loss_F: 0.0758 | Inner_loss: 0.1717 | NRMSE: 1.1545\n",
      "Model saved\n",
      "Step 1300 | Inner_loss_I: 0.0764 | Inner_loss_B: 0.0077 | Inner_loss_F: 0.0532\n",
      "Validation (0.003)| Inner_loss_I: 0.0821 |Inner_loss_B: 0.0063 | Inner_loss_F: 0.0756 | Inner_loss: 0.1640 | NRMSE: 1.1694\n",
      "Validation (0.003)| Inner_loss_I: 0.0904 |Inner_loss_B: 0.0072 | Inner_loss_F: 0.0796 | Inner_loss: 0.1772 | NRMSE: 1.1768\n",
      "Model saved\n",
      "Step 1400 | Inner_loss_I: 0.0727 | Inner_loss_B: 0.0069 | Inner_loss_F: 0.0549\n",
      "Validation (0.003)| Inner_loss_I: 0.0821 |Inner_loss_B: 0.0060 | Inner_loss_F: 0.0746 | Inner_loss: 0.1626 | NRMSE: 1.1382\n",
      "Validation (0.003)| Inner_loss_I: 0.0811 |Inner_loss_B: 0.0059 | Inner_loss_F: 0.0780 | Inner_loss: 0.1649 | NRMSE: 1.1217\n",
      "Model saved\n",
      "Step 1500 | Inner_loss_I: 0.0755 | Inner_loss_B: 0.0066 | Inner_loss_F: 0.0642\n",
      "Validation (0.003)| Inner_loss_I: 0.0802 |Inner_loss_B: 0.0053 | Inner_loss_F: 0.0779 | Inner_loss: 0.1635 | NRMSE: 1.1244\n",
      "Validation (0.003)| Inner_loss_I: 0.0780 |Inner_loss_B: 0.0058 | Inner_loss_F: 0.0737 | Inner_loss: 0.1575 | NRMSE: 1.1374\n",
      "Model saved\n",
      "Step 1600 | Inner_loss_I: 0.0697 | Inner_loss_B: 0.0068 | Inner_loss_F: 0.0465\n",
      "Validation (0.003)| Inner_loss_I: 0.0855 |Inner_loss_B: 0.0070 | Inner_loss_F: 0.0724 | Inner_loss: 0.1649 | NRMSE: 1.1023\n",
      "Validation (0.003)| Inner_loss_I: 0.0826 |Inner_loss_B: 0.0073 | Inner_loss_F: 0.0739 | Inner_loss: 0.1638 | NRMSE: 1.0959\n",
      "Model saved\n",
      "Step 1700 | Inner_loss_I: 0.0732 | Inner_loss_B: 0.0074 | Inner_loss_F: 0.0569\n",
      "Validation (0.003)| Inner_loss_I: 0.0771 |Inner_loss_B: 0.0055 | Inner_loss_F: 0.0732 | Inner_loss: 0.1559 | NRMSE: 1.1216\n",
      "Validation (0.003)| Inner_loss_I: 0.0747 |Inner_loss_B: 0.0059 | Inner_loss_F: 0.0732 | Inner_loss: 0.1537 | NRMSE: 1.0964\n",
      "Model saved\n",
      "Step 1800 | Inner_loss_I: 0.0759 | Inner_loss_B: 0.0069 | Inner_loss_F: 0.0625\n",
      "Validation (0.003)| Inner_loss_I: 0.0756 |Inner_loss_B: 0.0066 | Inner_loss_F: 0.0710 | Inner_loss: 0.1533 | NRMSE: 1.0564\n",
      "Validation (0.003)| Inner_loss_I: 0.0699 |Inner_loss_B: 0.0051 | Inner_loss_F: 0.0664 | Inner_loss: 0.1414 | NRMSE: 1.1034\n",
      "Model saved\n",
      "Step 1900 | Inner_loss_I: 0.0695 | Inner_loss_B: 0.0078 | Inner_loss_F: 0.0569\n",
      "Validation (0.003)| Inner_loss_I: 0.0754 |Inner_loss_B: 0.0062 | Inner_loss_F: 0.0684 | Inner_loss: 0.1499 | NRMSE: 1.0993\n",
      "Validation (0.003)| Inner_loss_I: 0.0776 |Inner_loss_B: 0.0062 | Inner_loss_F: 0.0694 | Inner_loss: 0.1532 | NRMSE: 1.0650\n",
      "Model saved\n",
      "Step 2000 | Inner_loss_I: 0.0679 | Inner_loss_B: 0.0071 | Inner_loss_F: 0.0561\n",
      "Validation (0.003)| Inner_loss_I: 0.0695 |Inner_loss_B: 0.0052 | Inner_loss_F: 0.0681 | Inner_loss: 0.1428 | NRMSE: 1.0831\n",
      "Validation (0.003)| Inner_loss_I: 0.0805 |Inner_loss_B: 0.0082 | Inner_loss_F: 0.0676 | Inner_loss: 0.1563 | NRMSE: 1.0597\n",
      "Model saved\n",
      "Step 2100 | Inner_loss_I: 0.0678 | Inner_loss_B: 0.0077 | Inner_loss_F: 0.0538\n",
      "Validation (0.003)| Inner_loss_I: 0.0648 |Inner_loss_B: 0.0064 | Inner_loss_F: 0.0661 | Inner_loss: 0.1373 | NRMSE: 1.1135\n",
      "Validation (0.003)| Inner_loss_I: 0.0769 |Inner_loss_B: 0.0058 | Inner_loss_F: 0.0679 | Inner_loss: 0.1506 | NRMSE: 1.0646\n",
      "Model saved\n",
      "Step 2200 | Inner_loss_I: 0.0710 | Inner_loss_B: 0.0079 | Inner_loss_F: 0.0492\n",
      "Validation (0.003)| Inner_loss_I: 0.0685 |Inner_loss_B: 0.0051 | Inner_loss_F: 0.0668 | Inner_loss: 0.1403 | NRMSE: 1.0624\n",
      "Validation (0.003)| Inner_loss_I: 0.0675 |Inner_loss_B: 0.0044 | Inner_loss_F: 0.0670 | Inner_loss: 0.1389 | NRMSE: 1.0249\n",
      "Model saved\n",
      "Step 2300 | Inner_loss_I: 0.0653 | Inner_loss_B: 0.0079 | Inner_loss_F: 0.0452\n",
      "Validation (0.003)| Inner_loss_I: 0.0788 |Inner_loss_B: 0.0071 | Inner_loss_F: 0.0683 | Inner_loss: 0.1543 | NRMSE: 1.0250\n",
      "Validation (0.003)| Inner_loss_I: 0.0691 |Inner_loss_B: 0.0053 | Inner_loss_F: 0.0633 | Inner_loss: 0.1377 | NRMSE: 1.0067\n",
      "Model saved\n",
      "Step 2400 | Inner_loss_I: 0.0660 | Inner_loss_B: 0.0076 | Inner_loss_F: 0.0524\n",
      "Validation (0.003)| Inner_loss_I: 0.0650 |Inner_loss_B: 0.0067 | Inner_loss_F: 0.0616 | Inner_loss: 0.1333 | NRMSE: 1.0414\n",
      "Validation (0.003)| Inner_loss_I: 0.0661 |Inner_loss_B: 0.0061 | Inner_loss_F: 0.0637 | Inner_loss: 0.1359 | NRMSE: 1.0140\n",
      "Model saved\n",
      "Step 2500 | Inner_loss_I: 0.0587 | Inner_loss_B: 0.0066 | Inner_loss_F: 0.0432\n",
      "Validation (0.003)| Inner_loss_I: 0.0600 |Inner_loss_B: 0.0059 | Inner_loss_F: 0.0587 | Inner_loss: 0.1245 | NRMSE: 0.9988\n",
      "Validation (0.003)| Inner_loss_I: 0.0662 |Inner_loss_B: 0.0058 | Inner_loss_F: 0.0650 | Inner_loss: 0.1369 | NRMSE: 0.9983\n",
      "Model saved\n",
      "Step 2600 | Inner_loss_I: 0.0618 | Inner_loss_B: 0.0066 | Inner_loss_F: 0.0449\n",
      "Validation (0.003)| Inner_loss_I: 0.0617 |Inner_loss_B: 0.0052 | Inner_loss_F: 0.0602 | Inner_loss: 0.1271 | NRMSE: 1.0196\n",
      "Validation (0.003)| Inner_loss_I: 0.0674 |Inner_loss_B: 0.0057 | Inner_loss_F: 0.0619 | Inner_loss: 0.1350 | NRMSE: 0.9544\n",
      "Model saved\n",
      "Step 2700 | Inner_loss_I: 0.0633 | Inner_loss_B: 0.0060 | Inner_loss_F: 0.0455\n",
      "Validation (0.003)| Inner_loss_I: 0.0624 |Inner_loss_B: 0.0046 | Inner_loss_F: 0.0596 | Inner_loss: 0.1266 | NRMSE: 0.9971\n",
      "Validation (0.003)| Inner_loss_I: 0.0667 |Inner_loss_B: 0.0053 | Inner_loss_F: 0.0638 | Inner_loss: 0.1358 | NRMSE: 0.9558\n",
      "Model saved\n",
      "Step 2800 | Inner_loss_I: 0.0622 | Inner_loss_B: 0.0051 | Inner_loss_F: 0.0497\n",
      "Validation (0.003)| Inner_loss_I: 0.0655 |Inner_loss_B: 0.0042 | Inner_loss_F: 0.0587 | Inner_loss: 0.1283 | NRMSE: 0.9605\n",
      "Validation (0.003)| Inner_loss_I: 0.0651 |Inner_loss_B: 0.0039 | Inner_loss_F: 0.0614 | Inner_loss: 0.1304 | NRMSE: 0.9431\n",
      "Model saved\n",
      "Step 2900 | Inner_loss_I: 0.0586 | Inner_loss_B: 0.0054 | Inner_loss_F: 0.0438\n",
      "Validation (0.003)| Inner_loss_I: 0.0643 |Inner_loss_B: 0.0047 | Inner_loss_F: 0.0567 | Inner_loss: 0.1257 | NRMSE: 0.9570\n",
      "Validation (0.003)| Inner_loss_I: 0.0658 |Inner_loss_B: 0.0039 | Inner_loss_F: 0.0615 | Inner_loss: 0.1312 | NRMSE: 0.9249\n",
      "Model saved\n",
      "Step 3000 | Inner_loss_I: 0.0563 | Inner_loss_B: 0.0048 | Inner_loss_F: 0.0415\n",
      "Validation (0.003)| Inner_loss_I: 0.0632 |Inner_loss_B: 0.0030 | Inner_loss_F: 0.0623 | Inner_loss: 0.1284 | NRMSE: 0.9480\n",
      "Validation (0.003)| Inner_loss_I: 0.0614 |Inner_loss_B: 0.0044 | Inner_loss_F: 0.0581 | Inner_loss: 0.1240 | NRMSE: 0.9065\n",
      "Model saved\n",
      "Step 3100 | Inner_loss_I: 0.0530 | Inner_loss_B: 0.0043 | Inner_loss_F: 0.0414\n",
      "Validation (0.003)| Inner_loss_I: 0.0602 |Inner_loss_B: 0.0032 | Inner_loss_F: 0.0575 | Inner_loss: 0.1209 | NRMSE: 0.9089\n",
      "Validation (0.003)| Inner_loss_I: 0.0598 |Inner_loss_B: 0.0027 | Inner_loss_F: 0.0587 | Inner_loss: 0.1213 | NRMSE: 0.8997\n",
      "Model saved\n",
      "Step 3200 | Inner_loss_I: 0.0533 | Inner_loss_B: 0.0037 | Inner_loss_F: 0.0384\n",
      "Validation (0.003)| Inner_loss_I: 0.0591 |Inner_loss_B: 0.0016 | Inner_loss_F: 0.0585 | Inner_loss: 0.1191 | NRMSE: 0.9328\n",
      "Validation (0.003)| Inner_loss_I: 0.0593 |Inner_loss_B: 0.0022 | Inner_loss_F: 0.0596 | Inner_loss: 0.1211 | NRMSE: 0.8745\n",
      "Model saved\n",
      "Step 3300 | Inner_loss_I: 0.0477 | Inner_loss_B: 0.0036 | Inner_loss_F: 0.0342\n",
      "Validation (0.003)| Inner_loss_I: 0.0626 |Inner_loss_B: 0.0020 | Inner_loss_F: 0.0613 | Inner_loss: 0.1259 | NRMSE: 0.8740\n",
      "Validation (0.003)| Inner_loss_I: 0.0558 |Inner_loss_B: 0.0025 | Inner_loss_F: 0.0603 | Inner_loss: 0.1187 | NRMSE: 0.8372\n",
      "Model saved\n",
      "Step 3400 | Inner_loss_I: 0.0441 | Inner_loss_B: 0.0031 | Inner_loss_F: 0.0322\n",
      "Validation (0.003)| Inner_loss_I: 0.0526 |Inner_loss_B: 0.0024 | Inner_loss_F: 0.0577 | Inner_loss: 0.1127 | NRMSE: 0.8082\n",
      "Validation (0.003)| Inner_loss_I: 0.0523 |Inner_loss_B: 0.0019 | Inner_loss_F: 0.0572 | Inner_loss: 0.1114 | NRMSE: 0.8430\n",
      "Model saved\n",
      "Step 3500 | Inner_loss_I: 0.0498 | Inner_loss_B: 0.0044 | Inner_loss_F: 0.0302\n",
      "Validation (0.003)| Inner_loss_I: 0.0527 |Inner_loss_B: 0.0020 | Inner_loss_F: 0.0513 | Inner_loss: 0.1060 | NRMSE: 0.8256\n",
      "Validation (0.003)| Inner_loss_I: 0.0626 |Inner_loss_B: 0.0126 | Inner_loss_F: 0.0442 | Inner_loss: 0.1194 | NRMSE: 0.8003\n",
      "Model saved\n",
      "Step 3600 | Inner_loss_I: 0.0925 | Inner_loss_B: 0.0139 | Inner_loss_F: 0.0309\n",
      "Validation (0.003)| Inner_loss_I: 0.0338 |Inner_loss_B: 0.0254 | Inner_loss_F: 0.0854 | Inner_loss: 0.1445 | NRMSE: 0.6192\n",
      "Validation (0.003)| Inner_loss_I: 0.0478 |Inner_loss_B: 0.0062 | Inner_loss_F: 0.0846 | Inner_loss: 0.1386 | NRMSE: 0.7805\n",
      "Model saved\n",
      "Step 3700 | Inner_loss_I: 0.0509 | Inner_loss_B: 0.0055 | Inner_loss_F: 0.0343\n",
      "Validation (0.003)| Inner_loss_I: 0.0462 |Inner_loss_B: 0.0039 | Inner_loss_F: 0.0740 | Inner_loss: 0.1240 | NRMSE: 0.7942\n",
      "Validation (0.003)| Inner_loss_I: 0.0446 |Inner_loss_B: 0.0104 | Inner_loss_F: 0.0757 | Inner_loss: 0.1307 | NRMSE: 0.7163\n",
      "Model saved\n",
      "Step 3800 | Inner_loss_I: 0.0481 | Inner_loss_B: 0.0050 | Inner_loss_F: 0.0428\n",
      "Validation (0.003)| Inner_loss_I: 0.0496 |Inner_loss_B: 0.0056 | Inner_loss_F: 0.0630 | Inner_loss: 0.1182 | NRMSE: 0.7800\n",
      "Validation (0.003)| Inner_loss_I: 0.0432 |Inner_loss_B: 0.0116 | Inner_loss_F: 0.0742 | Inner_loss: 0.1289 | NRMSE: 0.6907\n",
      "Model saved\n",
      "Step 3900 | Inner_loss_I: 0.0394 | Inner_loss_B: 0.0060 | Inner_loss_F: 0.0352\n",
      "Validation (0.003)| Inner_loss_I: 0.0438 |Inner_loss_B: 0.0053 | Inner_loss_F: 0.0776 | Inner_loss: 0.1266 | NRMSE: 0.7180\n",
      "Validation (0.003)| Inner_loss_I: 0.0466 |Inner_loss_B: 0.0072 | Inner_loss_F: 0.0680 | Inner_loss: 0.1218 | NRMSE: 0.7421\n",
      "Model saved\n",
      "Step 4000 | Inner_loss_I: 0.0302 | Inner_loss_B: 0.0068 | Inner_loss_F: 0.0452\n",
      "Validation (0.003)| Inner_loss_I: 0.0485 |Inner_loss_B: 0.0032 | Inner_loss_F: 0.0664 | Inner_loss: 0.1181 | NRMSE: 0.7411\n",
      "Validation (0.003)| Inner_loss_I: 0.0405 |Inner_loss_B: 0.0053 | Inner_loss_F: 0.0733 | Inner_loss: 0.1191 | NRMSE: 0.6649\n",
      "Model saved\n",
      "Step 4100 | Inner_loss_I: 0.0419 | Inner_loss_B: 0.0043 | Inner_loss_F: 0.0344\n",
      "Validation (0.003)| Inner_loss_I: 0.0367 |Inner_loss_B: 0.0064 | Inner_loss_F: 0.0660 | Inner_loss: 0.1092 | NRMSE: 0.6799\n",
      "Validation (0.003)| Inner_loss_I: 0.0491 |Inner_loss_B: 0.0062 | Inner_loss_F: 0.0584 | Inner_loss: 0.1137 | NRMSE: 0.7415\n",
      "Model saved\n",
      "Step 4200 | Inner_loss_I: 0.0488 | Inner_loss_B: 0.0038 | Inner_loss_F: 0.0213\n",
      "Validation (0.003)| Inner_loss_I: 0.0321 |Inner_loss_B: 0.0026 | Inner_loss_F: 0.0910 | Inner_loss: 0.1257 | NRMSE: 0.6365\n",
      "Validation (0.003)| Inner_loss_I: 0.0340 |Inner_loss_B: 0.0054 | Inner_loss_F: 0.0844 | Inner_loss: 0.1239 | NRMSE: 0.6231\n",
      "Model saved\n",
      "Step 4300 | Inner_loss_I: 0.0352 | Inner_loss_B: 0.0062 | Inner_loss_F: 0.0388\n",
      "Validation (0.003)| Inner_loss_I: 0.0307 |Inner_loss_B: 0.0020 | Inner_loss_F: 0.0895 | Inner_loss: 0.1221 | NRMSE: 0.6591\n",
      "Validation (0.003)| Inner_loss_I: 0.0676 |Inner_loss_B: 0.0035 | Inner_loss_F: 0.0384 | Inner_loss: 0.1096 | NRMSE: 0.9143\n",
      "Model saved\n",
      "Step 4400 | Inner_loss_I: 0.0352 | Inner_loss_B: 0.0034 | Inner_loss_F: 0.0351\n",
      "Validation (0.003)| Inner_loss_I: 0.0329 |Inner_loss_B: 0.0034 | Inner_loss_F: 0.0761 | Inner_loss: 0.1124 | NRMSE: 0.6353\n",
      "Validation (0.003)| Inner_loss_I: 0.0401 |Inner_loss_B: 0.0094 | Inner_loss_F: 0.0691 | Inner_loss: 0.1186 | NRMSE: 0.6477\n",
      "Model saved\n",
      "Step 4500 | Inner_loss_I: 0.0430 | Inner_loss_B: 0.0043 | Inner_loss_F: 0.0175\n",
      "Validation (0.003)| Inner_loss_I: 0.0298 |Inner_loss_B: 0.0032 | Inner_loss_F: 0.0830 | Inner_loss: 0.1160 | NRMSE: 0.6077\n",
      "Validation (0.003)| Inner_loss_I: 0.0348 |Inner_loss_B: 0.0087 | Inner_loss_F: 0.0682 | Inner_loss: 0.1117 | NRMSE: 0.6237\n",
      "Model saved\n",
      "Step 4600 | Inner_loss_I: 0.0464 | Inner_loss_B: 0.0028 | Inner_loss_F: 0.0175\n",
      "Validation (0.003)| Inner_loss_I: 0.0439 |Inner_loss_B: 0.0034 | Inner_loss_F: 0.0602 | Inner_loss: 0.1074 | NRMSE: 0.7178\n",
      "Validation (0.003)| Inner_loss_I: 0.0745 |Inner_loss_B: 0.0021 | Inner_loss_F: 0.0447 | Inner_loss: 0.1213 | NRMSE: 0.8621\n",
      "Model saved\n",
      "Step 4700 | Inner_loss_I: 0.0325 | Inner_loss_B: 0.0047 | Inner_loss_F: 0.0260\n",
      "Validation (0.003)| Inner_loss_I: 0.0342 |Inner_loss_B: 0.0031 | Inner_loss_F: 0.0789 | Inner_loss: 0.1163 | NRMSE: 0.6484\n",
      "Validation (0.003)| Inner_loss_I: 0.0565 |Inner_loss_B: 0.0014 | Inner_loss_F: 0.0583 | Inner_loss: 0.1162 | NRMSE: 0.8500\n",
      "Model saved\n",
      "Step 4800 | Inner_loss_I: 0.0369 | Inner_loss_B: 0.0039 | Inner_loss_F: 0.0331\n",
      "Validation (0.003)| Inner_loss_I: 0.0444 |Inner_loss_B: 0.0031 | Inner_loss_F: 0.0616 | Inner_loss: 0.1090 | NRMSE: 0.7060\n",
      "Validation (0.003)| Inner_loss_I: 0.0315 |Inner_loss_B: 0.0031 | Inner_loss_F: 0.0683 | Inner_loss: 0.1029 | NRMSE: 0.6258\n",
      "Model saved\n",
      "Step 4900 | Inner_loss_I: 0.0307 | Inner_loss_B: 0.0032 | Inner_loss_F: 0.0280\n",
      "Validation (0.003)| Inner_loss_I: 0.0420 |Inner_loss_B: 0.0025 | Inner_loss_F: 0.0658 | Inner_loss: 0.1102 | NRMSE: 0.7346\n",
      "Validation (0.003)| Inner_loss_I: 0.0304 |Inner_loss_B: 0.0020 | Inner_loss_F: 0.0952 | Inner_loss: 0.1276 | NRMSE: 0.6125\n",
      "Model saved\n",
      "Step 5000 | Inner_loss_I: 0.0327 | Inner_loss_B: 0.0025 | Inner_loss_F: 0.0416\n",
      "Validation (0.003)| Inner_loss_I: 0.0388 |Inner_loss_B: 0.0027 | Inner_loss_F: 0.0741 | Inner_loss: 0.1157 | NRMSE: 0.6369\n"
     ]
    }
   ],
   "source": [
    "maml = MAML(5, 0.01, 0.0001, 100, 100, 1000, -1, 1, eqname='burgers')\n",
    "train_loss, val_loss, val_ood_loss, nrmse, model = maml.train(5000, 5, 5)"
   ]
  },
  {
   "cell_type": "code",
   "execution_count": 22,
   "id": "195ae952-2dae-49cf-8066-5c8643128e13",
   "metadata": {},
   "outputs": [
    {
     "data": {
      "text/plain": [
       "[<matplotlib.lines.Line2D at 0x196ee141640>]"
      ]
     },
     "execution_count": 22,
     "metadata": {},
     "output_type": "execute_result"
    },
    {
     "data": {
      "image/png": "[encoded data removed]",
      "text/plain": [
       "<Figure size 432x288 with 1 Axes>"
      ]
     },
     "metadata": {
      "needs_background": "light"
     },
     "output_type": "display_data"
    }
   ],
   "source": [
    "# steps = [ 1000 / len(val_loss['inner_loss']) * i for i in range(len(val_loss['inner_loss']))]\n",
    "# idx = [100 * i for i in range(10)]\n",
    "# loss = train_loss['inner_loss_f'][::100]\n",
    "plt.plot(nrmse['nrmse_val'])\n",
    "# plt.plot( loss)\n",
    "# plt.plot(nrmse['nrmse_val'])\n",
    "# plt.plot(nrmse['nrmse_val_ood'])\n",
    "# plt.plot(train_loss['inner_loss'])"
   ]
  },
  {
   "cell_type": "code",
   "execution_count": 23,
   "id": "beaf51e6-34c1-46d0-a622-424e88f6f24c",
   "metadata": {},
   "outputs": [],
   "source": [
    "from train import *"
   ]
  },
  {
   "cell_type": "code",
   "execution_count": 24,
   "id": "05a4919f-b3c5-43b2-9405-44497c91636e",
   "metadata": {},
   "outputs": [],
   "source": [
    "epochs = 500\n",
    "lr = 0.01"
   ]
  },
  {
   "cell_type": "code",
   "execution_count": 6,
   "id": "76a42cee-eac9-4394-9421-a89e1effb1a6",
   "metadata": {},
   "outputs": [
    {
     "name": "stdout",
     "output_type": "stream",
     "text": [
      "Current device: cuda\n",
      "Model loaded succefully maml.data\n",
      "Epoch 10 | Loss_I: nan | Loss_B: 0.2537 | Loss_F: 0.0534\n",
      "NRMSE: 0.2748\n"
     ]
    },
    {
     "name": "stderr",
     "output_type": "stream",
     "text": [
      "C:\\Users\\fembem\\anaconda3\\envs\\torch-1.10.1\\lib\\site-packages\\numpy\\core\\fromnumeric.py:3474: RuntimeWarning: Mean of empty slice.\n",
      "  return _methods._mean(a, axis=axis, dtype=dtype,\n",
      "C:\\Users\\fembem\\anaconda3\\envs\\torch-1.10.1\\lib\\site-packages\\numpy\\core\\_methods.py:189: RuntimeWarning: invalid value encountered in double_scalars\n",
      "  ret = ret.dtype.type(ret / rcount)\n"
     ]
    },
    {
     "name": "stdout",
     "output_type": "stream",
     "text": [
      "Epoch 20 | Loss_I: nan | Loss_B: 0.1442 | Loss_F: 0.0324\n",
      "NRMSE: 0.1555\n",
      "Epoch 30 | Loss_I: nan | Loss_B: 0.0991 | Loss_F: 0.0257\n",
      "NRMSE: 0.1835\n",
      "Epoch 40 | Loss_I: nan | Loss_B: 0.0752 | Loss_F: 0.0230\n",
      "NRMSE: 0.0426\n",
      "Epoch 50 | Loss_I: nan | Loss_B: 0.0605 | Loss_F: 0.0201\n",
      "NRMSE: 0.0300\n",
      "Epoch 60 | Loss_I: nan | Loss_B: 0.0505 | Loss_F: 0.0185\n",
      "NRMSE: 0.0204\n",
      "Epoch 70 | Loss_I: nan | Loss_B: 0.0433 | Loss_F: 0.0168\n",
      "NRMSE: 0.0350\n",
      "Epoch 80 | Loss_I: nan | Loss_B: 0.0379 | Loss_F: 0.0155\n",
      "NRMSE: 0.0271\n",
      "Epoch 90 | Loss_I: nan | Loss_B: 0.0337 | Loss_F: 0.0142\n",
      "NRMSE: 0.0239\n",
      "Epoch 100 | Loss_I: nan | Loss_B: 0.0303 | Loss_F: 0.0132\n",
      "NRMSE: 0.0156\n",
      "Epoch 110 | Loss_I: nan | Loss_B: 0.0276 | Loss_F: 0.0122\n",
      "NRMSE: 0.0112\n",
      "Epoch 120 | Loss_I: nan | Loss_B: 0.0253 | Loss_F: 0.0114\n",
      "NRMSE: 0.0063\n",
      "Epoch 130 | Loss_I: nan | Loss_B: 0.0233 | Loss_F: 0.0106\n",
      "NRMSE: 0.0034\n",
      "Epoch 140 | Loss_I: nan | Loss_B: 0.0217 | Loss_F: 0.0099\n",
      "NRMSE: 0.0021\n",
      "Epoch 150 | Loss_I: nan | Loss_B: 0.0202 | Loss_F: 0.0093\n",
      "NRMSE: 0.0016\n",
      "Epoch 160 | Loss_I: nan | Loss_B: 0.0190 | Loss_F: 0.0087\n",
      "NRMSE: 0.0012\n",
      "Epoch 170 | Loss_I: nan | Loss_B: 0.0178 | Loss_F: 0.0083\n",
      "NRMSE: 0.0009\n",
      "Epoch 180 | Loss_I: nan | Loss_B: 0.0169 | Loss_F: 0.0078\n",
      "NRMSE: 0.0009\n",
      "Epoch 190 | Loss_I: nan | Loss_B: 0.0160 | Loss_F: 0.0074\n",
      "NRMSE: 0.0009\n",
      "Epoch 200 | Loss_I: nan | Loss_B: 0.0152 | Loss_F: 0.0070\n",
      "NRMSE: 0.0009\n",
      "Epoch 210 | Loss_I: nan | Loss_B: 0.0144 | Loss_F: 0.0067\n",
      "NRMSE: 0.0009\n",
      "Epoch 220 | Loss_I: nan | Loss_B: 0.0138 | Loss_F: 0.0064\n",
      "NRMSE: 0.0008\n",
      "Epoch 230 | Loss_I: nan | Loss_B: 0.0132 | Loss_F: 0.0061\n",
      "NRMSE: 0.0008\n",
      "Epoch 240 | Loss_I: nan | Loss_B: 0.0126 | Loss_F: 0.0059\n",
      "NRMSE: 0.0008\n",
      "Epoch 250 | Loss_I: nan | Loss_B: 0.0121 | Loss_F: 0.0057\n",
      "NRMSE: 0.0008\n",
      "Epoch 260 | Loss_I: nan | Loss_B: 0.0117 | Loss_F: 0.0054\n",
      "NRMSE: 0.0008\n",
      "Epoch 270 | Loss_I: nan | Loss_B: 0.0112 | Loss_F: 0.0052\n",
      "NRMSE: 0.0007\n",
      "Epoch 280 | Loss_I: nan | Loss_B: 0.0108 | Loss_F: 0.0051\n",
      "NRMSE: 0.0007\n",
      "Epoch 290 | Loss_I: nan | Loss_B: 0.0105 | Loss_F: 0.0049\n",
      "NRMSE: 0.0007\n",
      "Epoch 300 | Loss_I: nan | Loss_B: 0.0101 | Loss_F: 0.0047\n",
      "NRMSE: 0.0006\n",
      "Epoch 310 | Loss_I: nan | Loss_B: 0.0098 | Loss_F: 0.0046\n",
      "NRMSE: 0.0006\n",
      "Epoch 320 | Loss_I: nan | Loss_B: 0.0095 | Loss_F: 0.0044\n",
      "NRMSE: 0.0006\n",
      "Epoch 330 | Loss_I: nan | Loss_B: 0.0092 | Loss_F: 0.0043\n",
      "NRMSE: 0.0006\n",
      "Epoch 340 | Loss_I: nan | Loss_B: 0.0089 | Loss_F: 0.0042\n",
      "NRMSE: 0.0006\n",
      "Epoch 350 | Loss_I: nan | Loss_B: 0.0087 | Loss_F: 0.0041\n",
      "NRMSE: 0.0005\n",
      "Epoch 360 | Loss_I: nan | Loss_B: 0.0084 | Loss_F: 0.0039\n",
      "NRMSE: 0.0005\n",
      "Epoch 370 | Loss_I: nan | Loss_B: 0.0082 | Loss_F: 0.0038\n",
      "NRMSE: 0.0005\n",
      "Epoch 380 | Loss_I: nan | Loss_B: 0.0080 | Loss_F: 0.0037\n",
      "NRMSE: 0.0005\n",
      "Epoch 390 | Loss_I: nan | Loss_B: 0.0078 | Loss_F: 0.0036\n",
      "NRMSE: 0.0005\n",
      "Epoch 400 | Loss_I: nan | Loss_B: 0.0076 | Loss_F: 0.0035\n",
      "NRMSE: 0.0004\n",
      "Epoch 410 | Loss_I: nan | Loss_B: 0.0074 | Loss_F: 0.0035\n",
      "NRMSE: 0.0004\n",
      "Epoch 420 | Loss_I: nan | Loss_B: 0.0072 | Loss_F: 0.0034\n",
      "NRMSE: 0.0004\n",
      "Epoch 430 | Loss_I: nan | Loss_B: 0.0071 | Loss_F: 0.0033\n",
      "NRMSE: 0.0004\n",
      "Epoch 440 | Loss_I: nan | Loss_B: 0.0069 | Loss_F: 0.0032\n",
      "NRMSE: 0.0004\n",
      "Epoch 450 | Loss_I: nan | Loss_B: 0.0067 | Loss_F: 0.0032\n",
      "NRMSE: 0.0004\n",
      "Epoch 460 | Loss_I: nan | Loss_B: 0.0066 | Loss_F: 0.0031\n",
      "NRMSE: 0.0003\n",
      "Epoch 470 | Loss_I: nan | Loss_B: 0.0065 | Loss_F: 0.0030\n",
      "NRMSE: 0.0003\n",
      "Epoch 480 | Loss_I: nan | Loss_B: 0.0063 | Loss_F: 0.0030\n",
      "NRMSE: 0.0003\n",
      "Epoch 490 | Loss_I: nan | Loss_B: 0.0062 | Loss_F: 0.0029\n",
      "NRMSE: 0.0003\n",
      "Epoch 500 | Loss_I: nan | Loss_B: 0.0061 | Loss_F: 0.0028\n",
      "NRMSE: 0.0003\n"
     ]
    }
   ],
   "source": [
    "loss_i, loss_b, loss_f, loss, model, val_loss, val_ood_loss, nrmse_set = train(epochs=epochs, lr=lr, i_size=0, b_size=2, f_size=100, zero_shot=False, load=True, load_data='models/maml_burgers_5000.data', alpha_list=0.01 / np.pi, eqname='burgers')"
   ]
  },
  {
   "cell_type": "code",
   "execution_count": 7,
   "id": "bb393f14-2ead-48bf-ac7c-eaac00cacd2d",
   "metadata": {},
   "outputs": [
    {
     "name": "stdout",
     "output_type": "stream",
     "text": [
      "Current device: cuda\n",
      "Epoch 10 | Loss_I: nan | Loss_B: 0.2245 | Loss_F: 0.2915\n",
      "NRMSE: 0.3335\n",
      "Epoch 20 | Loss_I: nan | Loss_B: 0.1223 | Loss_F: 0.2138\n",
      "NRMSE: 0.0872\n",
      "Epoch 30 | Loss_I: nan | Loss_B: 0.0844 | Loss_F: 0.1586\n",
      "NRMSE: 0.1262\n",
      "Epoch 40 | Loss_I: nan | Loss_B: 0.0640 | Loss_F: 0.1261\n",
      "NRMSE: 0.0666\n",
      "Epoch 50 | Loss_I: nan | Loss_B: 0.0514 | Loss_F: 0.1041\n",
      "NRMSE: 0.0881\n",
      "Epoch 60 | Loss_I: nan | Loss_B: 0.0429 | Loss_F: 0.0884\n",
      "NRMSE: 0.0142\n",
      "Epoch 70 | Loss_I: nan | Loss_B: 0.0368 | Loss_F: 0.0767\n",
      "NRMSE: 0.0122\n",
      "Epoch 80 | Loss_I: nan | Loss_B: 0.0322 | Loss_F: 0.0677\n",
      "NRMSE: 0.0199\n",
      "Epoch 90 | Loss_I: nan | Loss_B: 0.0286 | Loss_F: 0.0606\n",
      "NRMSE: 0.0051\n",
      "Epoch 100 | Loss_I: nan | Loss_B: 0.0258 | Loss_F: 0.0549\n",
      "NRMSE: 0.0021\n",
      "Epoch 110 | Loss_I: nan | Loss_B: 0.0234 | Loss_F: 0.0502\n",
      "NRMSE: 0.0061\n",
      "Epoch 120 | Loss_I: nan | Loss_B: 0.0215 | Loss_F: 0.0462\n",
      "NRMSE: 0.0071\n",
      "Epoch 130 | Loss_I: nan | Loss_B: 0.0198 | Loss_F: 0.0428\n",
      "NRMSE: 0.0067\n",
      "Epoch 140 | Loss_I: nan | Loss_B: 0.0184 | Loss_F: 0.0399\n",
      "NRMSE: 0.0058\n",
      "Epoch 150 | Loss_I: nan | Loss_B: 0.0172 | Loss_F: 0.0374\n",
      "NRMSE: 0.0051\n",
      "Epoch 160 | Loss_I: nan | Loss_B: 0.0161 | Loss_F: 0.0351\n",
      "NRMSE: 0.0050\n",
      "Epoch 170 | Loss_I: nan | Loss_B: 0.0152 | Loss_F: 0.0332\n",
      "NRMSE: 0.0048\n",
      "Epoch 180 | Loss_I: nan | Loss_B: 0.0143 | Loss_F: 0.0314\n",
      "NRMSE: 0.0045\n",
      "Epoch 190 | Loss_I: nan | Loss_B: 0.0136 | Loss_F: 0.0298\n",
      "NRMSE: 0.0041\n",
      "Epoch 200 | Loss_I: nan | Loss_B: 0.0129 | Loss_F: 0.0283\n",
      "NRMSE: 0.0038\n",
      "Epoch 210 | Loss_I: nan | Loss_B: 0.0123 | Loss_F: 0.0270\n",
      "NRMSE: 0.0035\n",
      "Epoch 220 | Loss_I: nan | Loss_B: 0.0117 | Loss_F: 0.0258\n",
      "NRMSE: 0.0032\n",
      "Epoch 230 | Loss_I: nan | Loss_B: 0.0112 | Loss_F: 0.0247\n",
      "NRMSE: 0.0029\n",
      "Epoch 240 | Loss_I: nan | Loss_B: 0.0107 | Loss_F: 0.0237\n",
      "NRMSE: 0.0026\n",
      "Epoch 250 | Loss_I: nan | Loss_B: 0.0103 | Loss_F: 0.0228\n",
      "NRMSE: 0.0024\n",
      "Epoch 260 | Loss_I: nan | Loss_B: 0.0099 | Loss_F: 0.0219\n",
      "NRMSE: 0.0022\n",
      "Epoch 270 | Loss_I: nan | Loss_B: 0.0095 | Loss_F: 0.0211\n",
      "NRMSE: 0.0020\n",
      "Epoch 280 | Loss_I: nan | Loss_B: 0.0092 | Loss_F: 0.0204\n",
      "NRMSE: 0.0019\n",
      "Epoch 290 | Loss_I: nan | Loss_B: 0.0089 | Loss_F: 0.0197\n",
      "NRMSE: 0.0018\n",
      "Epoch 300 | Loss_I: nan | Loss_B: 0.0086 | Loss_F: 0.0190\n",
      "NRMSE: 0.0017\n",
      "Epoch 310 | Loss_I: nan | Loss_B: 0.0083 | Loss_F: 0.0184\n",
      "NRMSE: 0.0016\n",
      "Epoch 320 | Loss_I: nan | Loss_B: 0.0080 | Loss_F: 0.0178\n",
      "NRMSE: 0.0015\n",
      "Epoch 330 | Loss_I: nan | Loss_B: 0.0078 | Loss_F: 0.0173\n",
      "NRMSE: 0.0015\n",
      "Epoch 340 | Loss_I: nan | Loss_B: 0.0076 | Loss_F: 0.0168\n",
      "NRMSE: 0.0014\n",
      "Epoch 350 | Loss_I: nan | Loss_B: 0.0074 | Loss_F: 0.0163\n",
      "NRMSE: 0.0014\n",
      "Epoch 360 | Loss_I: nan | Loss_B: 0.0072 | Loss_F: 0.0159\n",
      "NRMSE: 0.0013\n",
      "Epoch 370 | Loss_I: nan | Loss_B: 0.0070 | Loss_F: 0.0154\n",
      "NRMSE: 0.0013\n",
      "Epoch 380 | Loss_I: nan | Loss_B: 0.0068 | Loss_F: 0.0150\n",
      "NRMSE: 0.0013\n",
      "Epoch 390 | Loss_I: nan | Loss_B: 0.0066 | Loss_F: 0.0147\n",
      "NRMSE: 0.0012\n",
      "Epoch 400 | Loss_I: nan | Loss_B: 0.0064 | Loss_F: 0.0143\n",
      "NRMSE: 0.0012\n",
      "Epoch 410 | Loss_I: nan | Loss_B: 0.0063 | Loss_F: 0.0140\n",
      "NRMSE: 0.0012\n",
      "Epoch 420 | Loss_I: nan | Loss_B: 0.0061 | Loss_F: 0.0136\n",
      "NRMSE: 0.0012\n",
      "Epoch 430 | Loss_I: nan | Loss_B: 0.0060 | Loss_F: 0.0133\n",
      "NRMSE: 0.0011\n",
      "Epoch 440 | Loss_I: nan | Loss_B: 0.0059 | Loss_F: 0.0130\n",
      "NRMSE: 0.0011\n",
      "Epoch 450 | Loss_I: nan | Loss_B: 0.0057 | Loss_F: 0.0127\n",
      "NRMSE: 0.0011\n",
      "Epoch 460 | Loss_I: nan | Loss_B: 0.0056 | Loss_F: 0.0124\n",
      "NRMSE: 0.0011\n",
      "Epoch 470 | Loss_I: nan | Loss_B: 0.0055 | Loss_F: 0.0122\n",
      "NRMSE: 0.0011\n",
      "Epoch 480 | Loss_I: nan | Loss_B: 0.0054 | Loss_F: 0.0119\n",
      "NRMSE: 0.0010\n",
      "Epoch 490 | Loss_I: nan | Loss_B: 0.0053 | Loss_F: 0.0117\n",
      "NRMSE: 0.0010\n",
      "Epoch 500 | Loss_I: nan | Loss_B: 0.0052 | Loss_F: 0.0115\n",
      "NRMSE: 0.0010\n"
     ]
    }
   ],
   "source": [
    "loss_i_2, loss_b_2, loss_f_2, loss_2, model_2, val_loss_2, val_ood_loss_2, nrmse_set_2 = train(epochs=epochs, lr=lr, i_size=0, b_size=2, f_size=20, zero_shot=False, load=False, load_data='maml.data', alpha_list=0.7, beta_list=0.7)"
   ]
  },
  {
   "cell_type": "code",
   "execution_count": 8,
   "id": "ec1be12f-7744-49cb-8731-5242744665c5",
   "metadata": {},
   "outputs": [
    {
     "name": "stdout",
     "output_type": "stream",
     "text": [
      "Current device: cuda\n"
     ]
    }
   ],
   "source": [
    "device = torch.device('cuda' if torch.cuda.is_available() else 'cpu')\n",
    "print(\"Current device:\", device)\n",
    "test_x = np.linspace(-1, 1, num=100).reshape(-1, 1)\n",
    "# test_alpha = np.full((100, 1), alpha[2])\n",
    "# test_beta = np.full((100, 1), beta[2])\n",
    "test_alpha = np.full((100, 1), 0.7)\n",
    "test_beta = np.full((100, 1), 0.7)\n",
    "# test_in = np.hstack((test_x, test_alpha, test_beta))\n",
    "test_u = model_2(torch.Tensor(test_x).to(device))\n",
    "X = test_x\n",
    "\n",
    "Y = np.sin(test_alpha * X) + np.cos(test_beta * X) + 0.1 * X\n"
   ]
  },
  {
   "cell_type": "code",
   "execution_count": 9,
   "id": "8998c3ae-9cc2-4f95-a092-1c66c2689387",
   "metadata": {},
   "outputs": [
    {
     "data": {
      "text/plain": [
       "<matplotlib.colorbar.Colorbar at 0x19632578370>"
      ]
     },
     "execution_count": 9,
     "metadata": {},
     "output_type": "execute_result"
    },
    {
     "data": {
      "image/png": "[encoded data removed]",
      "text/plain": [
       "<Figure size 720x576 with 2 Axes>"
      ]
     },
     "metadata": {
      "needs_background": "light"
     },
     "output_type": "display_data"
    }
   ],
   "source": [
    "C = test_u.cpu().detach().numpy()\n",
    "plt.figure(figsize=(10, 8))\n",
    "plt.scatter(X, C, label='PINN')\n",
    "plt.scatter(X, Y, label='Answer')\n",
    "plt.legend()\n",
    "plt.colorbar()"
   ]
  },
  {
   "cell_type": "code",
   "execution_count": 10,
   "id": "fd364c44-e281-468c-b9e9-c1a08a75d236",
   "metadata": {},
   "outputs": [
    {
     "data": {
      "text/plain": [
       "[<matplotlib.lines.Line2D at 0x1963774cb80>]"
      ]
     },
     "execution_count": 10,
     "metadata": {},
     "output_type": "execute_result"
    },
    {
     "data": {
      "image/png": "[encoded data removed]",
      "text/plain": [
       "<Figure size 432x288 with 1 Axes>"
      ]
     },
     "metadata": {
      "needs_background": "light"
     },
     "output_type": "display_data"
    }
   ],
   "source": [
    "plt.plot(loss)\n",
    "plt.plot(loss_2)"
   ]
  },
  {
   "cell_type": "code",
   "execution_count": 11,
   "id": "c5e5be5d-e097-4cb6-9e0a-c7e2dea80d1a",
   "metadata": {},
   "outputs": [],
   "source": [
    "from burgers import *"
   ]
  },
  {
   "cell_type": "code",
   "execution_count": 12,
   "id": "db0e993d-d356-4fb6-9af8-a7b90becfdc3",
   "metadata": {},
   "outputs": [
    {
     "data": {
      "text/plain": [
       "<matplotlib.colorbar.Colorbar at 0x19642db5760>"
      ]
     },
     "execution_count": 12,
     "metadata": {},
     "output_type": "execute_result"
    },
    {
     "data": {
      "image/png": "[encoded data removed]",
      "text/plain": [
       "<Figure size 432x288 with 2 Axes>"
      ]
     },
     "metadata": {
      "needs_background": "light"
     },
     "output_type": "display_data"
    }
   ],
   "source": [
    "vtn = 101\n",
    "vxn = 101\n",
    "nu = 1 / np.pi\n",
    "vx = np.linspace(-1, 1, vxn)\n",
    "vt = np.linspace(0, 1, vtn)\n",
    "\n",
    "vu = burgers_viscous_time_exact1(nu, vxn, vx, vtn, vt)\n",
    "\n",
    "x, t = np.meshgrid(vx, vt)\n",
    "x = x.reshape(-1, 1)\n",
    "t = t.reshape(-1, 1)\n",
    "\n",
    "plt.scatter(x, t, c=vu, cmap='seismic')\n",
    "plt.colorbar()"
   ]
  },
  {
   "cell_type": "code",
   "execution_count": null,
   "id": "a71300da-7d02-45bc-b01c-e1d59586a7df",
   "metadata": {},
   "outputs": [],
   "source": []
  }
 ],
 "metadata": {
  "kernelspec": {
   "display_name": "torch",
   "language": "python",
   "name": "torch-1.10.1"
  },
  "language_info": {
   "codemirror_mode": {
    "name": "ipython",
    "version": 3
   },
   "file_extension": ".py",
   "mimetype": "text/x-python",
   "name": "python",
   "nbconvert_exporter": "python",
   "pygments_lexer": "ipython3",
   "version": "3.9.12"
  }
 },
 "nbformat": 4,
 "nbformat_minor": 5
}

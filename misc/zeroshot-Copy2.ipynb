{
 "cells": [
  {
   "cell_type": "code",
   "execution_count": 2,
   "id": "4c95e5e4-c9e6-4121-b38e-2be430ee1559",
   "metadata": {},
   "outputs": [],
   "source": [
    "from train import *"
   ]
  },
  {
   "cell_type": "code",
   "execution_count": 3,
   "id": "86e9d045-4b0d-4d20-8f55-dfc34a834df2",
   "metadata": {},
   "outputs": [
    {
     "name": "stdout",
     "output_type": "stream",
     "text": [
      "Current device: cuda\n"
     ]
    }
   ],
   "source": [
    "device = torch.device('cuda' if torch.cuda.is_available() else 'cpu')\n",
    "print(\"Current device:\", device)"
   ]
  },
  {
   "cell_type": "code",
   "execution_count": 4,
   "id": "a6e33fe2-2fa3-4f8e-82e5-87720cc821e8",
   "metadata": {},
   "outputs": [],
   "source": [
    "def lhs(size, lb=-1, rb=1):\n",
    "    res = np.zeros(size)\n",
    "    length = (rb - lb) / size\n",
    "    for i in range(size):\n",
    "        sub_lb = lb + length * i\n",
    "        sub_rb = lb + length * (i + 1)\n",
    "        res[i] = np.random.rand() * length + sub_lb\n",
    "    return res\n",
    "        "
   ]
  },
  {
   "cell_type": "code",
   "execution_count": 17,
   "id": "b83f38ef-efc5-4bb9-9f10-d486996ea2dc",
   "metadata": {},
   "outputs": [
    {
     "name": "stdout",
     "output_type": "stream",
     "text": [
      "Current device: cuda\n",
      "Data generation completed\n",
      "Validation | Loss_I: nan | Loss_B: 0.0198 | Loss_F: 0.2140\n",
      "Validation OOD | Loss_I: nan | Loss_B: 0.1169 | Loss_F: 0.1782\n",
      "alpha, beta: 0.884, -0.694 Val. NRMSE: 0.130 | alpha, beta: 1.466, 1.289 Val. OOD NRMSE: 0.569\n",
      "Epoch 100 | Loss_I: nan | Loss_B: 0.1514 | Loss_F: 0.2004\n"
     ]
    },
    {
     "name": "stderr",
     "output_type": "stream",
     "text": [
      "C:\\Users\\fembem\\anaconda3\\envs\\torch-1.10.1\\lib\\site-packages\\numpy\\core\\fromnumeric.py:3474: RuntimeWarning: Mean of empty slice.\n",
      "  return _methods._mean(a, axis=axis, dtype=dtype,\n",
      "C:\\Users\\fembem\\anaconda3\\envs\\torch-1.10.1\\lib\\site-packages\\numpy\\core\\_methods.py:189: RuntimeWarning: invalid value encountered in double_scalars\n",
      "  ret = ret.dtype.type(ret / rcount)\n"
     ]
    },
    {
     "name": "stdout",
     "output_type": "stream",
     "text": [
      "Validation | Loss_I: nan | Loss_B: 0.0103 | Loss_F: 0.4041\n",
      "Validation OOD | Loss_I: nan | Loss_B: 0.0598 | Loss_F: 0.4765\n",
      "alpha, beta: 0.884, -0.694 Val. NRMSE: 0.071 | alpha, beta: 1.466, 1.289 Val. OOD NRMSE: 0.527\n",
      "Epoch 200 | Loss_I: nan | Loss_B: 0.0771 | Loss_F: 0.1336\n",
      "Validation | Loss_I: nan | Loss_B: 0.0069 | Loss_F: 0.4995\n",
      "Validation OOD | Loss_I: nan | Loss_B: 0.0412 | Loss_F: 0.6059\n",
      "alpha, beta: 0.884, -0.694 Val. NRMSE: 0.038 | alpha, beta: 1.466, 1.289 Val. OOD NRMSE: 0.383\n",
      "Epoch 300 | Loss_I: nan | Loss_B: 0.0517 | Loss_F: 0.0946\n",
      "Validation | Loss_I: nan | Loss_B: 0.0052 | Loss_F: 0.5298\n",
      "Validation OOD | Loss_I: nan | Loss_B: 0.0317 | Loss_F: 0.6505\n",
      "alpha, beta: 0.884, -0.694 Val. NRMSE: 0.027 | alpha, beta: 1.466, 1.289 Val. OOD NRMSE: 0.360\n",
      "Epoch 400 | Loss_I: nan | Loss_B: 0.0390 | Loss_F: 0.0730\n",
      "Validation | Loss_I: nan | Loss_B: 0.0055 | Loss_F: 0.5643\n",
      "Validation OOD | Loss_I: nan | Loss_B: 0.0275 | Loss_F: 0.6600\n",
      "alpha, beta: 0.884, -0.694 Val. NRMSE: 0.085 | alpha, beta: 1.466, 1.289 Val. OOD NRMSE: 0.401\n",
      "Epoch 500 | Loss_I: nan | Loss_B: 0.0313 | Loss_F: 0.0593\n",
      "Validation | Loss_I: nan | Loss_B: 0.0046 | Loss_F: 0.5898\n",
      "Validation OOD | Loss_I: nan | Loss_B: 0.0234 | Loss_F: 0.6760\n",
      "alpha, beta: 0.884, -0.694 Val. NRMSE: 0.019 | alpha, beta: 1.466, 1.289 Val. OOD NRMSE: 0.318\n",
      "Epoch 600 | Loss_I: nan | Loss_B: 0.0262 | Loss_F: 0.0499\n",
      "Validation | Loss_I: nan | Loss_B: 0.0039 | Loss_F: 0.6056\n",
      "Validation OOD | Loss_I: nan | Loss_B: 0.0205 | Loss_F: 0.6885\n",
      "alpha, beta: 0.884, -0.694 Val. NRMSE: 0.018 | alpha, beta: 1.466, 1.289 Val. OOD NRMSE: 0.294\n",
      "Epoch 700 | Loss_I: nan | Loss_B: 0.0224 | Loss_F: 0.0431\n",
      "Validation | Loss_I: nan | Loss_B: 0.0035 | Loss_F: 0.5999\n",
      "Validation OOD | Loss_I: nan | Loss_B: 0.0180 | Loss_F: 0.6794\n",
      "alpha, beta: 0.884, -0.694 Val. NRMSE: 0.022 | alpha, beta: 1.466, 1.289 Val. OOD NRMSE: 0.336\n",
      "Epoch 800 | Loss_I: nan | Loss_B: 0.0198 | Loss_F: 0.0380\n",
      "Validation | Loss_I: nan | Loss_B: 0.0031 | Loss_F: 0.6026\n",
      "Validation OOD | Loss_I: nan | Loss_B: 0.0162 | Loss_F: 0.6870\n",
      "alpha, beta: 0.884, -0.694 Val. NRMSE: 0.019 | alpha, beta: 1.466, 1.289 Val. OOD NRMSE: 0.296\n",
      "Epoch 900 | Loss_I: nan | Loss_B: 0.0176 | Loss_F: 0.0339\n",
      "Validation | Loss_I: nan | Loss_B: 0.0028 | Loss_F: 0.6071\n",
      "Validation OOD | Loss_I: nan | Loss_B: 0.0148 | Loss_F: 0.6914\n",
      "alpha, beta: 0.884, -0.694 Val. NRMSE: 0.018 | alpha, beta: 1.466, 1.289 Val. OOD NRMSE: 0.282\n",
      "Epoch 1000 | Loss_I: nan | Loss_B: 0.0158 | Loss_F: 0.0307\n",
      "Validation | Loss_I: nan | Loss_B: 0.0025 | Loss_F: 0.6039\n",
      "Validation OOD | Loss_I: nan | Loss_B: 0.0136 | Loss_F: 0.7014\n",
      "alpha, beta: 0.884, -0.694 Val. NRMSE: 0.018 | alpha, beta: 1.466, 1.289 Val. OOD NRMSE: 0.272\n",
      "Epoch 1100 | Loss_I: nan | Loss_B: 0.0144 | Loss_F: 0.0280\n",
      "Validation | Loss_I: nan | Loss_B: 0.0023 | Loss_F: 0.6084\n",
      "Validation OOD | Loss_I: nan | Loss_B: 0.0125 | Loss_F: 0.6995\n",
      "alpha, beta: 0.884, -0.694 Val. NRMSE: 0.019 | alpha, beta: 1.466, 1.289 Val. OOD NRMSE: 0.302\n",
      "Epoch 1200 | Loss_I: nan | Loss_B: 0.0132 | Loss_F: 0.0258\n",
      "Validation | Loss_I: nan | Loss_B: 0.0021 | Loss_F: 0.6138\n",
      "Validation OOD | Loss_I: nan | Loss_B: 0.0116 | Loss_F: 0.7060\n",
      "alpha, beta: 0.884, -0.694 Val. NRMSE: 0.018 | alpha, beta: 1.466, 1.289 Val. OOD NRMSE: 0.280\n",
      "Epoch 1300 | Loss_I: nan | Loss_B: 0.0122 | Loss_F: 0.0238\n",
      "Validation | Loss_I: nan | Loss_B: 0.0020 | Loss_F: 0.6226\n",
      "Validation OOD | Loss_I: nan | Loss_B: 0.0108 | Loss_F: 0.6998\n",
      "alpha, beta: 0.884, -0.694 Val. NRMSE: 0.017 | alpha, beta: 1.466, 1.289 Val. OOD NRMSE: 0.267\n",
      "Epoch 1400 | Loss_I: nan | Loss_B: 0.0114 | Loss_F: 0.0222\n",
      "Validation | Loss_I: nan | Loss_B: 0.0019 | Loss_F: 0.6251\n",
      "Validation OOD | Loss_I: nan | Loss_B: 0.0102 | Loss_F: 0.7049\n",
      "alpha, beta: 0.884, -0.694 Val. NRMSE: 0.018 | alpha, beta: 1.466, 1.289 Val. OOD NRMSE: 0.250\n",
      "Epoch 1500 | Loss_I: nan | Loss_B: 0.0106 | Loss_F: 0.0208\n",
      "Validation | Loss_I: nan | Loss_B: 0.0017 | Loss_F: 0.6261\n",
      "Validation OOD | Loss_I: nan | Loss_B: 0.0096 | Loss_F: 0.7051\n",
      "alpha, beta: 0.884, -0.694 Val. NRMSE: 0.017 | alpha, beta: 1.466, 1.289 Val. OOD NRMSE: 0.278\n",
      "Epoch 1600 | Loss_I: nan | Loss_B: 0.0100 | Loss_F: 0.0195\n",
      "Validation | Loss_I: nan | Loss_B: 0.0016 | Loss_F: 0.6290\n",
      "Validation OOD | Loss_I: nan | Loss_B: 0.0090 | Loss_F: 0.7029\n",
      "alpha, beta: 0.884, -0.694 Val. NRMSE: 0.016 | alpha, beta: 1.466, 1.289 Val. OOD NRMSE: 0.262\n",
      "Epoch 1700 | Loss_I: nan | Loss_B: 0.0094 | Loss_F: 0.0184\n",
      "Validation | Loss_I: nan | Loss_B: 0.0016 | Loss_F: 0.6330\n",
      "Validation OOD | Loss_I: nan | Loss_B: 0.0086 | Loss_F: 0.7025\n",
      "alpha, beta: 0.884, -0.694 Val. NRMSE: 0.016 | alpha, beta: 1.466, 1.289 Val. OOD NRMSE: 0.249\n",
      "Epoch 1800 | Loss_I: nan | Loss_B: 0.0089 | Loss_F: 0.0174\n",
      "Validation | Loss_I: nan | Loss_B: 0.0015 | Loss_F: 0.6338\n",
      "Validation OOD | Loss_I: nan | Loss_B: 0.0082 | Loss_F: 0.7020\n",
      "alpha, beta: 0.884, -0.694 Val. NRMSE: 0.021 | alpha, beta: 1.466, 1.289 Val. OOD NRMSE: 0.276\n",
      "Epoch 1900 | Loss_I: nan | Loss_B: 0.0084 | Loss_F: 0.0165\n",
      "Validation | Loss_I: nan | Loss_B: 0.0014 | Loss_F: 0.6330\n",
      "Validation OOD | Loss_I: nan | Loss_B: 0.0078 | Loss_F: 0.7031\n",
      "alpha, beta: 0.884, -0.694 Val. NRMSE: 0.016 | alpha, beta: 1.466, 1.289 Val. OOD NRMSE: 0.267\n",
      "Epoch 2000 | Loss_I: nan | Loss_B: 0.0080 | Loss_F: 0.0157\n",
      "Validation | Loss_I: nan | Loss_B: 0.0013 | Loss_F: 0.6340\n",
      "Validation OOD | Loss_I: nan | Loss_B: 0.0075 | Loss_F: 0.6986\n",
      "alpha, beta: 0.884, -0.694 Val. NRMSE: 0.016 | alpha, beta: 1.466, 1.289 Val. OOD NRMSE: 0.253\n",
      "Epoch 2100 | Loss_I: nan | Loss_B: 0.0076 | Loss_F: 0.0150\n",
      "Validation | Loss_I: nan | Loss_B: 0.0013 | Loss_F: 0.6376\n",
      "Validation OOD | Loss_I: nan | Loss_B: 0.0072 | Loss_F: 0.6939\n",
      "alpha, beta: 0.884, -0.694 Val. NRMSE: 0.015 | alpha, beta: 1.466, 1.289 Val. OOD NRMSE: 0.244\n",
      "Epoch 2200 | Loss_I: nan | Loss_B: 0.0073 | Loss_F: 0.0143\n",
      "Validation | Loss_I: nan | Loss_B: 0.0012 | Loss_F: 0.6420\n",
      "Validation OOD | Loss_I: nan | Loss_B: 0.0069 | Loss_F: 0.6947\n",
      "alpha, beta: 0.884, -0.694 Val. NRMSE: 0.017 | alpha, beta: 1.466, 1.289 Val. OOD NRMSE: 0.273\n",
      "Epoch 2300 | Loss_I: nan | Loss_B: 0.0070 | Loss_F: 0.0137\n",
      "Validation | Loss_I: nan | Loss_B: 0.0012 | Loss_F: 0.6441\n",
      "Validation OOD | Loss_I: nan | Loss_B: 0.0066 | Loss_F: 0.6968\n",
      "alpha, beta: 0.884, -0.694 Val. NRMSE: 0.016 | alpha, beta: 1.466, 1.289 Val. OOD NRMSE: 0.258\n",
      "Epoch 2400 | Loss_I: nan | Loss_B: 0.0067 | Loss_F: 0.0131\n",
      "Validation | Loss_I: nan | Loss_B: 0.0011 | Loss_F: 0.6470\n",
      "Validation OOD | Loss_I: nan | Loss_B: 0.0064 | Loss_F: 0.6963\n",
      "alpha, beta: 0.884, -0.694 Val. NRMSE: 0.015 | alpha, beta: 1.466, 1.289 Val. OOD NRMSE: 0.248\n",
      "Epoch 2500 | Loss_I: nan | Loss_B: 0.0064 | Loss_F: 0.0126\n",
      "Validation | Loss_I: nan | Loss_B: 0.0011 | Loss_F: 0.6519\n",
      "Validation OOD | Loss_I: nan | Loss_B: 0.0061 | Loss_F: 0.6967\n",
      "alpha, beta: 0.884, -0.694 Val. NRMSE: 0.018 | alpha, beta: 1.466, 1.289 Val. OOD NRMSE: 0.283\n",
      "Epoch 2600 | Loss_I: nan | Loss_B: 0.0062 | Loss_F: 0.0121\n",
      "Validation | Loss_I: nan | Loss_B: 0.0011 | Loss_F: 0.6523\n",
      "Validation OOD | Loss_I: nan | Loss_B: 0.0059 | Loss_F: 0.6941\n",
      "alpha, beta: 0.884, -0.694 Val. NRMSE: 0.016 | alpha, beta: 1.466, 1.289 Val. OOD NRMSE: 0.262\n",
      "Epoch 2700 | Loss_I: nan | Loss_B: 0.0060 | Loss_F: 0.0117\n",
      "Validation | Loss_I: nan | Loss_B: 0.0010 | Loss_F: 0.6515\n",
      "Validation OOD | Loss_I: nan | Loss_B: 0.0057 | Loss_F: 0.6967\n",
      "alpha, beta: 0.884, -0.694 Val. NRMSE: 0.016 | alpha, beta: 1.466, 1.289 Val. OOD NRMSE: 0.250\n",
      "Epoch 2800 | Loss_I: nan | Loss_B: 0.0058 | Loss_F: 0.0113\n",
      "Validation | Loss_I: nan | Loss_B: 0.0010 | Loss_F: 0.6487\n",
      "Validation OOD | Loss_I: nan | Loss_B: 0.0056 | Loss_F: 0.6956\n",
      "alpha, beta: 0.884, -0.694 Val. NRMSE: 0.023 | alpha, beta: 1.466, 1.289 Val. OOD NRMSE: 0.294\n",
      "Epoch 2900 | Loss_I: nan | Loss_B: 0.0056 | Loss_F: 0.0109\n",
      "Validation | Loss_I: nan | Loss_B: 0.0010 | Loss_F: 0.6467\n",
      "Validation OOD | Loss_I: nan | Loss_B: 0.0054 | Loss_F: 0.6937\n",
      "alpha, beta: 0.884, -0.694 Val. NRMSE: 0.016 | alpha, beta: 1.466, 1.289 Val. OOD NRMSE: 0.261\n",
      "Epoch 3000 | Loss_I: nan | Loss_B: 0.0054 | Loss_F: 0.0106\n",
      "Validation | Loss_I: nan | Loss_B: 0.0009 | Loss_F: 0.6512\n",
      "Validation OOD | Loss_I: nan | Loss_B: 0.0053 | Loss_F: 0.6898\n",
      "alpha, beta: 0.884, -0.694 Val. NRMSE: 0.015 | alpha, beta: 1.466, 1.289 Val. OOD NRMSE: 0.249\n",
      "Epoch 3100 | Loss_I: nan | Loss_B: 0.0052 | Loss_F: 0.0102\n",
      "Validation | Loss_I: nan | Loss_B: 0.0009 | Loss_F: 0.6473\n",
      "Validation OOD | Loss_I: nan | Loss_B: 0.0052 | Loss_F: 0.6904\n",
      "alpha, beta: 0.884, -0.694 Val. NRMSE: 0.031 | alpha, beta: 1.466, 1.289 Val. OOD NRMSE: 0.248\n",
      "Epoch 3200 | Loss_I: nan | Loss_B: 0.0051 | Loss_F: 0.0099\n",
      "Validation | Loss_I: nan | Loss_B: 0.0009 | Loss_F: 0.6501\n",
      "Validation OOD | Loss_I: nan | Loss_B: 0.0051 | Loss_F: 0.6884\n",
      "alpha, beta: 0.884, -0.694 Val. NRMSE: 0.016 | alpha, beta: 1.466, 1.289 Val. OOD NRMSE: 0.257\n",
      "Epoch 3300 | Loss_I: nan | Loss_B: 0.0049 | Loss_F: 0.0096\n",
      "Validation | Loss_I: nan | Loss_B: 0.0009 | Loss_F: 0.6482\n",
      "Validation OOD | Loss_I: nan | Loss_B: 0.0049 | Loss_F: 0.6906\n",
      "alpha, beta: 0.884, -0.694 Val. NRMSE: 0.016 | alpha, beta: 1.466, 1.289 Val. OOD NRMSE: 0.246\n",
      "Epoch 3400 | Loss_I: nan | Loss_B: 0.0048 | Loss_F: 0.0093\n",
      "Validation | Loss_I: nan | Loss_B: 0.0010 | Loss_F: 0.6519\n",
      "Validation OOD | Loss_I: nan | Loss_B: 0.0049 | Loss_F: 0.6857\n",
      "alpha, beta: 0.884, -0.694 Val. NRMSE: 0.076 | alpha, beta: 1.466, 1.289 Val. OOD NRMSE: 0.318\n",
      "Epoch 3500 | Loss_I: nan | Loss_B: 0.0046 | Loss_F: 0.0091\n",
      "Validation | Loss_I: nan | Loss_B: 0.0010 | Loss_F: 0.6509\n",
      "Validation OOD | Loss_I: nan | Loss_B: 0.0048 | Loss_F: 0.6830\n",
      "alpha, beta: 0.884, -0.694 Val. NRMSE: 0.016 | alpha, beta: 1.466, 1.289 Val. OOD NRMSE: 0.256\n",
      "Epoch 3600 | Loss_I: nan | Loss_B: 0.0045 | Loss_F: 0.0088\n",
      "Validation | Loss_I: nan | Loss_B: 0.0010 | Loss_F: 0.6507\n",
      "Validation OOD | Loss_I: nan | Loss_B: 0.0047 | Loss_F: 0.6814\n",
      "alpha, beta: 0.884, -0.694 Val. NRMSE: 0.016 | alpha, beta: 1.466, 1.289 Val. OOD NRMSE: 0.244\n",
      "Epoch 3700 | Loss_I: nan | Loss_B: 0.0044 | Loss_F: 0.0086\n",
      "Validation | Loss_I: nan | Loss_B: 0.0009 | Loss_F: 0.6520\n",
      "Validation OOD | Loss_I: nan | Loss_B: 0.0046 | Loss_F: 0.6787\n",
      "alpha, beta: 0.884, -0.694 Val. NRMSE: 0.022 | alpha, beta: 1.466, 1.289 Val. OOD NRMSE: 0.258\n",
      "Epoch 3800 | Loss_I: nan | Loss_B: 0.0043 | Loss_F: 0.0084\n",
      "Validation | Loss_I: nan | Loss_B: 0.0009 | Loss_F: 0.6504\n",
      "Validation OOD | Loss_I: nan | Loss_B: 0.0045 | Loss_F: 0.6782\n",
      "alpha, beta: 0.884, -0.694 Val. NRMSE: 0.016 | alpha, beta: 1.466, 1.289 Val. OOD NRMSE: 0.236\n",
      "Epoch 3900 | Loss_I: nan | Loss_B: 0.0042 | Loss_F: 0.0082\n",
      "Validation | Loss_I: nan | Loss_B: 0.0009 | Loss_F: 0.6478\n",
      "Validation OOD | Loss_I: nan | Loss_B: 0.0044 | Loss_F: 0.6753\n",
      "alpha, beta: 0.884, -0.694 Val. NRMSE: 0.016 | alpha, beta: 1.466, 1.289 Val. OOD NRMSE: 0.245\n",
      "Epoch 4000 | Loss_I: nan | Loss_B: 0.0041 | Loss_F: 0.0080\n",
      "Validation | Loss_I: nan | Loss_B: 0.0009 | Loss_F: 0.6498\n",
      "Validation OOD | Loss_I: nan | Loss_B: 0.0043 | Loss_F: 0.6740\n",
      "alpha, beta: 0.884, -0.694 Val. NRMSE: 0.016 | alpha, beta: 1.466, 1.289 Val. OOD NRMSE: 0.235\n",
      "Epoch 4100 | Loss_I: nan | Loss_B: 0.0040 | Loss_F: 0.0078\n",
      "Validation | Loss_I: nan | Loss_B: 0.0009 | Loss_F: 0.6512\n",
      "Validation OOD | Loss_I: nan | Loss_B: 0.0042 | Loss_F: 0.6722\n",
      "alpha, beta: 0.884, -0.694 Val. NRMSE: 0.016 | alpha, beta: 1.466, 1.289 Val. OOD NRMSE: 0.244\n",
      "Epoch 4200 | Loss_I: nan | Loss_B: 0.0039 | Loss_F: 0.0076\n",
      "Validation | Loss_I: nan | Loss_B: 0.0008 | Loss_F: 0.6511\n",
      "Validation OOD | Loss_I: nan | Loss_B: 0.0041 | Loss_F: 0.6715\n",
      "alpha, beta: 0.884, -0.694 Val. NRMSE: 0.016 | alpha, beta: 1.466, 1.289 Val. OOD NRMSE: 0.234\n",
      "Epoch 4300 | Loss_I: nan | Loss_B: 0.0038 | Loss_F: 0.0074\n",
      "Validation | Loss_I: nan | Loss_B: 0.0008 | Loss_F: 0.6502\n",
      "Validation OOD | Loss_I: nan | Loss_B: 0.0040 | Loss_F: 0.6688\n",
      "alpha, beta: 0.884, -0.694 Val. NRMSE: 0.021 | alpha, beta: 1.466, 1.289 Val. OOD NRMSE: 0.256\n",
      "Epoch 4400 | Loss_I: nan | Loss_B: 0.0037 | Loss_F: 0.0073\n",
      "Validation | Loss_I: nan | Loss_B: 0.0008 | Loss_F: 0.6506\n",
      "Validation OOD | Loss_I: nan | Loss_B: 0.0039 | Loss_F: 0.6671\n",
      "alpha, beta: 0.884, -0.694 Val. NRMSE: 0.017 | alpha, beta: 1.466, 1.289 Val. OOD NRMSE: 0.241\n",
      "Epoch 4500 | Loss_I: nan | Loss_B: 0.0037 | Loss_F: 0.0071\n",
      "Validation | Loss_I: nan | Loss_B: 0.0008 | Loss_F: 0.6509\n",
      "Validation OOD | Loss_I: nan | Loss_B: 0.0039 | Loss_F: 0.6669\n",
      "alpha, beta: 0.884, -0.694 Val. NRMSE: 0.017 | alpha, beta: 1.466, 1.289 Val. OOD NRMSE: 0.233\n",
      "Epoch 4600 | Loss_I: nan | Loss_B: 0.0036 | Loss_F: 0.0069\n",
      "Validation | Loss_I: nan | Loss_B: 0.0008 | Loss_F: 0.6497\n",
      "Validation OOD | Loss_I: nan | Loss_B: 0.0038 | Loss_F: 0.6654\n",
      "alpha, beta: 0.884, -0.694 Val. NRMSE: 0.017 | alpha, beta: 1.466, 1.289 Val. OOD NRMSE: 0.230\n",
      "Epoch 4700 | Loss_I: nan | Loss_B: 0.0035 | Loss_F: 0.0068\n",
      "Validation | Loss_I: nan | Loss_B: 0.0008 | Loss_F: 0.6500\n",
      "Validation OOD | Loss_I: nan | Loss_B: 0.0037 | Loss_F: 0.6641\n",
      "alpha, beta: 0.884, -0.694 Val. NRMSE: 0.025 | alpha, beta: 1.466, 1.289 Val. OOD NRMSE: 0.229\n",
      "Epoch 4800 | Loss_I: nan | Loss_B: 0.0034 | Loss_F: 0.0067\n",
      "Validation | Loss_I: nan | Loss_B: 0.0007 | Loss_F: 0.6512\n",
      "Validation OOD | Loss_I: nan | Loss_B: 0.0037 | Loss_F: 0.6633\n",
      "alpha, beta: 0.884, -0.694 Val. NRMSE: 0.017 | alpha, beta: 1.466, 1.289 Val. OOD NRMSE: 0.230\n",
      "Epoch 4900 | Loss_I: nan | Loss_B: 0.0034 | Loss_F: 0.0065\n",
      "Validation | Loss_I: nan | Loss_B: 0.0007 | Loss_F: 0.6508\n",
      "Validation OOD | Loss_I: nan | Loss_B: 0.0036 | Loss_F: 0.6619\n",
      "alpha, beta: 0.884, -0.694 Val. NRMSE: 0.018 | alpha, beta: 1.466, 1.289 Val. OOD NRMSE: 0.242\n",
      "Epoch 5000 | Loss_I: nan | Loss_B: 0.0033 | Loss_F: 0.0064\n"
     ]
    }
   ],
   "source": [
    "epochs = 5000\n",
    "lr = 0.01\n",
    "\n",
    "# alpha = np.random.uniform(low=0.005/np.pi, high=0.1/np.pi, size=100)\n",
    "# print(alpha)\n",
    "alpha = np.random.uniform(low=-1, high=1, size=100)\n",
    "beta = np.random.uniform(low=-1, high=1, size=100)\n",
    "# alpha = -0.752\n",
    "# beta = 0.932\n",
    "# print(\"Alpha: {:.3f}, Beta: {:.3f}\".format(alpha, beta))\n",
    "# print(alpha)\n",
    "# print(beta)\n",
    "# loss_i, loss_b, loss_f, loss, model, val_loss, val_ood_loss, nrmse = train(epochs=epochs, lr=lr, i_size=0, b_size=2, f_size=100, zero_shot=False, alpha_list=alpha, beta_list=beta, low=-1, high=1, eqname='poisson')\n",
    "loss_i, loss_b, loss_f, loss, model, val_loss, val_ood_loss, nrmse, val_losses, val_ood_losses = train(epochs=epochs, lr=lr, i_size=0, b_size=2, f_size=1, zero_shot=True, alpha_list=alpha, beta_list=beta, low=-1, high=1, eqname='poisson', load=False, load_data='models/poisson_zs_8000.data')\n",
    "# loss_i, loss_b, loss_f, loss, model, val_loss, val_ood_loss, nrmse, val_losses, val_ood_losses= train(epochs=epochs, lr=lr, i_size=1, b_size=2, f_size=1, zero_shot=True, alpha_list=alpha, low=-1, high=1, eqname='burgers')\n",
    "# loss_i, loss_b, loss_f, loss, model, val_loss, val_ood_loss, nrmse = train(epochs=epochs, lr=lr, i_size=100, b_size=100, f_size=10000, zero_shot=False, alpha_list=(0.01 / np.pi), low=-1, high=1, eqname='burgers')"
   ]
  },
  {
   "cell_type": "code",
   "execution_count": 16,
   "id": "0a28ad61-1558-4be0-b399-d18164ca435d",
   "metadata": {},
   "outputs": [
    {
     "data": {
      "text/html": [
       "<div>\n",
       "<style scoped>\n",
       "    .dataframe tbody tr th:only-of-type {\n",
       "        vertical-align: middle;\n",
       "    }\n",
       "\n",
       "    .dataframe tbody tr th {\n",
       "        vertical-align: top;\n",
       "    }\n",
       "\n",
       "    .dataframe thead th {\n",
       "        text-align: right;\n",
       "    }\n",
       "</style>\n",
       "<table border=\"1\" class=\"dataframe\">\n",
       "  <thead>\n",
       "    <tr style=\"text-align: right;\">\n",
       "      <th></th>\n",
       "      <th>Unnamed: 0</th>\n",
       "    </tr>\n",
       "  </thead>\n",
       "  <tbody>\n",
       "  </tbody>\n",
       "</table>\n",
       "</div>"
      ],
      "text/plain": [
       "Empty DataFrame\n",
       "Columns: [Unnamed: 0]\n",
       "Index: []"
      ]
     },
     "execution_count": 16,
     "metadata": {},
     "output_type": "execute_result"
    }
   ],
   "source": [
    "# import pandas as pd\n",
    "# nrmse_df = pd.read_csv('data/nrmse_burgers_zs.csv')\n",
    "# val_loss_df = pd.read_csv('data/val_loss_burgers_zs.csv')\n",
    "# val_ood_loss_df = pd.read_csv('data/val_ood_loss_burgers_zs.csv')\n",
    "# train_loss_df = pd.read_csv('data/train_loss_burgers_zs.csv')"
   ]
  },
  {
   "cell_type": "code",
   "execution_count": 20,
   "id": "e272eaec-0dbd-4e3a-b67c-a23b97f14842",
   "metadata": {},
   "outputs": [
    {
     "data": {
      "text/plain": [
       "Text(0, 0.5, 'Loss')"
      ]
     },
     "execution_count": 20,
     "metadata": {},
     "output_type": "execute_result"
    },
    {
     "data": {
      "image/png": "[encoded data removed]",
      "text/plain": [
       "<Figure size 432x288 with 1 Axes>"
      ]
     },
     "metadata": {
      "needs_background": "light"
     },
     "output_type": "display_data"
    }
   ],
   "source": [
    "# plt.plot(loss_i, label='loss_i')\n",
    "plt.plot(loss_b, label='loss_b')\n",
    "plt.plot(loss_f, label='loss_f')\n",
    "plt.plot(loss, label='loss')\n",
    "plt.yscale('log')\n",
    "plt.legend()\n",
    "plt.title('Zero-shot training losses')\n",
    "plt.xlabel('Epochs')\n",
    "plt.ylabel('Loss')"
   ]
  },
  {
   "cell_type": "code",
   "execution_count": 24,
   "id": "7f634610-3c6f-4b0f-aa5a-2b680d7f4908",
   "metadata": {},
   "outputs": [
    {
     "data": {
      "text/plain": [
       "Text(0, 0.5, 'Loss')"
      ]
     },
     "execution_count": 24,
     "metadata": {},
     "output_type": "execute_result"
    },
    {
     "data": {
      "image/png": "[encoded data removed]",
      "text/plain": [
       "<Figure size 432x288 with 1 Axes>"
      ]
     },
     "metadata": {
      "needs_background": "light"
     },
     "output_type": "display_data"
    }
   ],
   "source": [
    "\n",
    "# plt.plot(val_losses['loss_i'], label='loss_i')\n",
    "plt.plot(val_losses['loss_b'], label='loss_b')\n",
    "plt.plot(val_losses['loss_f'], label='loss_f')\n",
    "plt.plot(np.array(val_losses['loss_f']) + np.array(val_losses['loss_b']) * 10, label='loss')\n",
    "plt.yscale('log')\n",
    "plt.legend()\n",
    "plt.title('Zero-shot validation losses (in-distribution)')\n",
    "plt.xlabel('Epochs')\n",
    "plt.ylabel('Loss')"
   ]
  },
  {
   "cell_type": "code",
   "execution_count": 25,
   "id": "3b8a34ba-d478-401c-bf47-253f1d69c72a",
   "metadata": {},
   "outputs": [
    {
     "data": {
      "text/plain": [
       "Text(0, 0.5, 'Loss')"
      ]
     },
     "execution_count": 25,
     "metadata": {},
     "output_type": "execute_result"
    },
    {
     "data": {
      "image/png": "[encoded data removed]",
      "text/plain": [
       "<Figure size 432x288 with 1 Axes>"
      ]
     },
     "metadata": {
      "needs_background": "light"
     },
     "output_type": "display_data"
    }
   ],
   "source": [
    "\n",
    "# plt.plot(val_losses['loss_i'], label='loss_i')\n",
    "plt.plot(val_ood_losses['loss_b'], label='loss_b')\n",
    "plt.plot(val_ood_losses['loss_f'], label='loss_f')\n",
    "plt.plot(np.array(val_ood_losses['loss_f']) + np.array(val_ood_losses['loss_b']) * 10, label='loss')\n",
    "plt.yscale('log')\n",
    "plt.legend()\n",
    "plt.title('Zero-shot validation losses (out-of-distribution)')\n",
    "plt.xlabel('Epochs')\n",
    "plt.ylabel('Loss')"
   ]
  },
  {
   "cell_type": "code",
   "execution_count": 11,
   "id": "8a72cdbd-6c83-48d5-9e3e-14849f5ba909",
   "metadata": {},
   "outputs": [
    {
     "data": {
      "image/png": "[encoded data removed]",
      "text/plain": [
       "<Figure size 432x288 with 1 Axes>"
      ]
     },
     "metadata": {
      "needs_background": "light"
     },
     "output_type": "display_data"
    }
   ],
   "source": [
    "epochs = [5000 / len(val_loss) * i for i in range(1, len(val_loss) + 1)]\n",
    "plt.plot(epochs, val_loss, label='in-distribution')\n",
    "plt.plot(epochs, val_ood_loss, label='out-of-distribution')\n",
    "plt.yscale('log')\n",
    "plt.title(\"Validation metrics\")\n",
    "plt.xlabel('Epochs')\n",
    "plt.ylabel('NRMSE')\n",
    "plt.legend()\n",
    "plt.show()"
   ]
  },
  {
   "cell_type": "code",
   "execution_count": null,
   "id": "fde0ebd0-87cf-4fe0-8b93-47f0fd513eb9",
   "metadata": {},
   "outputs": [],
   "source": [
    "# import pandas as pd\n",
    "\n",
    "# nrmse_df = pd.DataFrame(nrmse)\n",
    "# val_loss_df = pd.DataFrame(val_loss)\n",
    "# val_ood_loss_df = pd.DataFrame(val_ood_loss)\n",
    "# train_loss_df = pd.DataFrame({'loss_b': loss_b, 'loss_f': loss_f, 'loss': loss})\n",
    "\n",
    "# nrmse_df.to_csv('data/nrmse_burgers_zs.csv')\n",
    "# val_loss_df.to_csv('data/val_loss_burgers_zs.csv')\n",
    "# val_ood_loss_df.to_csv('data/val_ood_loss_burgers_zs.csv')\n",
    "# train_loss_df.to_csv('data/train_loss_burgers_zs.csv')"
   ]
  },
  {
   "cell_type": "markdown",
   "id": "0dc1ee82-1098-42d4-9aac-0bef9c3484ea",
   "metadata": {
    "tags": []
   },
   "source": [
    "## Results - Case 1"
   ]
  },
  {
   "cell_type": "code",
   "execution_count": 3,
   "id": "023056ae-29e0-439c-af1d-071e39eaafd4",
   "metadata": {},
   "outputs": [],
   "source": [
    "from maml import *"
   ]
  },
  {
   "cell_type": "code",
   "execution_count": 57,
   "id": "94de8083-e1c4-4e05-8115-78880dab39a6",
   "metadata": {},
   "outputs": [],
   "source": [
    "alpha = -1.26\n",
    "beta = 1.48"
   ]
  },
  {
   "cell_type": "code",
   "execution_count": 59,
   "id": "2ff3f89e-939c-44f3-ae82-d274bcb3d2b8",
   "metadata": {},
   "outputs": [
    {
     "name": "stdout",
     "output_type": "stream",
     "text": [
      "Current device: cuda\n",
      "Data generation completed\n",
      "Epoch 100 | Loss_I: nan | Loss_B: 0.0328 | Loss_F: 0.8596\n",
      "NRMSE: 0.0357\n",
      "Epoch 200 | Loss_I: nan | Loss_B: 0.0168 | Loss_F: 0.4309\n",
      "NRMSE: 0.0385\n",
      "Epoch 300 | Loss_I: nan | Loss_B: 0.0116 | Loss_F: 0.2878\n",
      "NRMSE: 0.0259\n",
      "Epoch 400 | Loss_I: nan | Loss_B: 0.0088 | Loss_F: 0.2161\n",
      "NRMSE: 0.0416\n",
      "Epoch 500 | Loss_I: nan | Loss_B: 0.0070 | Loss_F: 0.1730\n",
      "NRMSE: 0.0417\n",
      "Epoch 600 | Loss_I: nan | Loss_B: 0.0060 | Loss_F: 0.1444\n",
      "NRMSE: 0.0319\n",
      "Epoch 700 | Loss_I: nan | Loss_B: 0.0052 | Loss_F: 0.1239\n",
      "NRMSE: 0.0419\n",
      "Epoch 800 | Loss_I: nan | Loss_B: 0.0046 | Loss_F: 0.1085\n",
      "NRMSE: 0.0419\n",
      "Epoch 900 | Loss_I: nan | Loss_B: 0.0041 | Loss_F: 0.0965\n",
      "NRMSE: 0.0366\n",
      "Epoch 1000 | Loss_I: nan | Loss_B: 0.0037 | Loss_F: 0.0869\n",
      "NRMSE: 0.0424\n",
      "Epoch 1100 | Loss_I: nan | Loss_B: 0.0035 | Loss_F: 0.0791\n",
      "NRMSE: 0.0470\n",
      "Epoch 1200 | Loss_I: nan | Loss_B: 0.0032 | Loss_F: 0.0725\n",
      "NRMSE: 0.0423\n",
      "Epoch 1300 | Loss_I: nan | Loss_B: 0.0029 | Loss_F: 0.0670\n",
      "NRMSE: 0.0422\n",
      "Epoch 1400 | Loss_I: nan | Loss_B: 0.0028 | Loss_F: 0.0622\n",
      "NRMSE: 0.0365\n",
      "Epoch 1500 | Loss_I: nan | Loss_B: 0.0026 | Loss_F: 0.0581\n",
      "NRMSE: 0.0424\n",
      "Epoch 1600 | Loss_I: nan | Loss_B: 0.0025 | Loss_F: 0.0545\n",
      "NRMSE: 0.0423\n",
      "Epoch 1700 | Loss_I: nan | Loss_B: 0.0023 | Loss_F: 0.0513\n",
      "NRMSE: 0.0424\n",
      "Epoch 1800 | Loss_I: nan | Loss_B: 0.0022 | Loss_F: 0.0484\n",
      "NRMSE: 0.0425\n",
      "Epoch 1900 | Loss_I: nan | Loss_B: 0.0021 | Loss_F: 0.0459\n",
      "NRMSE: 0.0527\n",
      "Epoch 2000 | Loss_I: nan | Loss_B: 0.0020 | Loss_F: 0.0436\n",
      "NRMSE: 0.0425\n"
     ]
    }
   ],
   "source": [
    "loss_i, loss_b, loss_f, loss, model, val_loss, val_ood_loss, nrmse, val_losses, val_ood_losses = train(epochs=2000, lr=0.01, i_size=0, b_size=2, f_size=100, zero_shot=False, alpha_list=alpha, beta_list=beta, low=-1, high=1, eqname='poisson', load=False, load_data='models/poisson_zs_8000.data')"
   ]
  },
  {
   "cell_type": "code",
   "execution_count": 71,
   "id": "ef0f6257-9ceb-4755-9a69-552614785fcf",
   "metadata": {},
   "outputs": [
    {
     "data": {
      "text/plain": [
       "PINN(\n",
       "  (module1): Sequential(\n",
       "    (0): Linear(in_features=3, out_features=20, bias=True)\n",
       "    (1): Linear(in_features=20, out_features=20, bias=True)\n",
       "    (2): Linear(in_features=20, out_features=20, bias=True)\n",
       "    (3): Linear(in_features=20, out_features=20, bias=True)\n",
       "    (4): Linear(in_features=20, out_features=1, bias=True)\n",
       "  )\n",
       ")"
      ]
     },
     "execution_count": 71,
     "metadata": {},
     "output_type": "execute_result"
    }
   ],
   "source": [
    "model3 = PINN(20, 5, dim=1, param_num=2, zero_shot=True)\n",
    "model3.load_state_dict(torch.load('models/poisson_zs_2000_ref.data'))\n",
    "model3.to(device)\n",
    "model2 = PINN(20, 5, dim=1, param_num=2, zero_shot=True)\n",
    "model2.load_state_dict(torch.load('models/model_used/maml_poisson_high1_5000.data'))\n",
    "model2.to(device)"
   ]
  },
  {
   "cell_type": "code",
   "execution_count": 72,
   "id": "7a687946-c076-4ed3-bba2-d018c6f0d9ec",
   "metadata": {},
   "outputs": [
    {
     "name": "stdout",
     "output_type": "stream",
     "text": [
      "Initializing MAML-PINN model\n",
      "Current device:  cuda\n",
      "cuda\n",
      "Zero shot mode is True\n",
      "Finished initialization of MAML-PINN model\n",
      "Trained model will be saved by None\n"
     ]
    },
    {
     "data": {
      "text/plain": [
       "<All keys matched successfully>"
      ]
     },
     "execution_count": 72,
     "metadata": {},
     "output_type": "execute_result"
    }
   ],
   "source": [
    "task = alpha, beta\n",
    "maml = MAML(5, 0.01, 0.0005, 1,2,  1, -1, 1, eqname='poisson', zero_shot=True, load=False, modelpath='models/model_ref/burgers_zs_1000_ref.data')\n",
    "phi, _, _, _, _, _, _ = maml._inner_loop(model2.state_dict(), task, train=True)\n",
    "model_adapted = deepcopy(model2)\n",
    "model_adapted.load_state_dict(phi)"
   ]
  },
  {
   "cell_type": "code",
   "execution_count": 73,
   "id": "3c59d853-2f13-4a40-bd6e-35f19df25451",
   "metadata": {},
   "outputs": [],
   "source": [
    "test_x = np.linspace(-1, 1, num=100).reshape(-1, 1)\n",
    "test_alpha = np.full((100, 1), alpha)\n",
    "test_beta = np.full((100, 1), beta)\n",
    "\n",
    "X = test_x\n",
    "\n",
    "Y = np.sin(test_alpha * X) + np.cos(test_beta * X) + 0.1 * X\n",
    "test_in = np.hstack((test_x, test_alpha, test_beta))\n",
    "test_in_ = test_x\n",
    "test_u_ = model(torch.Tensor(test_in_).to(device))\n",
    "test_u = model3(torch.Tensor(test_in).to(device))\n",
    "# test_in = test_x\n",
    "test_u_2 = model2(torch.Tensor(test_in).to(device))\n",
    "test_u_3 = model_adapted(torch.Tensor(test_in).to(device))"
   ]
  },
  {
   "cell_type": "code",
   "execution_count": 74,
   "id": "9afb1f67-2c32-4c2e-abcd-b241da7dc70d",
   "metadata": {},
   "outputs": [
    {
     "data": {
      "text/plain": [
       "<matplotlib.legend.Legend at 0x29c3cbf92e0>"
      ]
     },
     "execution_count": 74,
     "metadata": {},
     "output_type": "execute_result"
    },
    {
     "data": {
      "image/png": "[encoded data removed]",
      "text/plain": [
       "<Figure size 720x576 with 1 Axes>"
      ]
     },
     "metadata": {
      "needs_background": "light"
     },
     "output_type": "display_data"
    }
   ],
   "source": [
    "C_ = test_u_.cpu().detach().numpy()\n",
    "C = test_u.cpu().detach().numpy()\n",
    "C2 = test_u_2.cpu().detach().numpy()\n",
    "C3 = test_u_3.cpu().detach().numpy()\n",
    "plt.figure(figsize=(10, 8))\n",
    "plt.plot(X, Y, 'k', label='truth')\n",
    "plt.plot(X, C_, 'r--', label='PINN')\n",
    "plt.plot(X, C, 'b--', label='zero-shot')\n",
    "plt.plot(X, C2, 'g--', label='MAML')\n",
    "plt.plot(X, C3, 'y--', label='adapted MAML')\n",
    "plt.xlabel('x')\n",
    "plt.ylabel('u')\n",
    "plt.title('Solutions (out-of-distribution)')\n",
    "plt.legend()"
   ]
  },
  {
   "cell_type": "code",
   "execution_count": 14,
   "id": "6a2c7028-78fd-445d-8665-e2599236cc9c",
   "metadata": {},
   "outputs": [],
   "source": [
    "def compute_nrmse(C, Y):\n",
    "    return np.sqrt(np.sum((C-Y)**2)/np.sum(C**2))"
   ]
  },
  {
   "cell_type": "code",
   "execution_count": 15,
   "id": "4d17abca-e0a2-44bd-806e-ae8457aac676",
   "metadata": {},
   "outputs": [
    {
     "data": {
      "text/plain": [
       "0.009578262182410877"
      ]
     },
     "execution_count": 15,
     "metadata": {},
     "output_type": "execute_result"
    }
   ],
   "source": [
    "compute_nrmse(C_, Y)"
   ]
  },
  {
   "cell_type": "code",
   "execution_count": 55,
   "id": "45949b13-4915-4014-8732-17f7f032b942",
   "metadata": {},
   "outputs": [
    {
     "name": "stdout",
     "output_type": "stream",
     "text": [
      "Current device: cuda\n",
      "Data generation completed\n"
     ]
    },
    {
     "name": "stderr",
     "output_type": "stream",
     "text": [
      "C:\\Users\\fembem\\anaconda3\\envs\\torch-1.10.1\\lib\\site-packages\\numpy\\core\\fromnumeric.py:3474: RuntimeWarning: Mean of empty slice.\n",
      "  return _methods._mean(a, axis=axis, dtype=dtype,\n",
      "C:\\Users\\fembem\\anaconda3\\envs\\torch-1.10.1\\lib\\site-packages\\numpy\\core\\_methods.py:189: RuntimeWarning: invalid value encountered in double_scalars\n",
      "  ret = ret.dtype.type(ret / rcount)\n"
     ]
    },
    {
     "name": "stdout",
     "output_type": "stream",
     "text": [
      "Epoch 100 | Loss_I: nan | Loss_B: 0.0385 | Loss_F: 0.5127\n",
      "NRMSE: 0.0139\n",
      "Epoch 200 | Loss_I: nan | Loss_B: 0.0193 | Loss_F: 0.2569\n",
      "NRMSE: 0.0408\n",
      "Epoch 300 | Loss_I: nan | Loss_B: 0.0129 | Loss_F: 0.1713\n",
      "NRMSE: 0.0294\n",
      "Epoch 400 | Loss_I: nan | Loss_B: 0.0097 | Loss_F: 0.1286\n",
      "NRMSE: 0.0296\n",
      "Epoch 500 | Loss_I: nan | Loss_B: 0.0077 | Loss_F: 0.1029\n",
      "NRMSE: 0.0271\n",
      "Epoch 600 | Loss_I: nan | Loss_B: 0.0065 | Loss_F: 0.0858\n",
      "NRMSE: 0.0292\n",
      "Epoch 700 | Loss_I: nan | Loss_B: 0.0056 | Loss_F: 0.0735\n",
      "NRMSE: 0.0293\n",
      "Epoch 800 | Loss_I: nan | Loss_B: 0.0049 | Loss_F: 0.0644\n",
      "NRMSE: 0.0288\n",
      "Epoch 900 | Loss_I: nan | Loss_B: 0.0044 | Loss_F: 0.0572\n",
      "NRMSE: 0.0294\n",
      "Epoch 1000 | Loss_I: nan | Loss_B: 0.0039 | Loss_F: 0.0515\n",
      "NRMSE: 0.0294\n",
      "Current device: cuda\n",
      "Data generation completed\n",
      "Epoch 100 | Loss_I: nan | Loss_B: 0.0261 | Loss_F: 0.6374\n",
      "NRMSE: 0.0149\n",
      "Epoch 200 | Loss_I: nan | Loss_B: 0.0131 | Loss_F: 0.3196\n",
      "NRMSE: 0.0219\n",
      "Epoch 300 | Loss_I: nan | Loss_B: 0.0087 | Loss_F: 0.2134\n",
      "NRMSE: 0.0219\n",
      "Epoch 400 | Loss_I: nan | Loss_B: 0.0065 | Loss_F: 0.1602\n",
      "NRMSE: 0.0218\n",
      "Epoch 500 | Loss_I: nan | Loss_B: 0.0053 | Loss_F: 0.1283\n",
      "NRMSE: 0.0192\n",
      "Epoch 600 | Loss_I: nan | Loss_B: 0.0044 | Loss_F: 0.1070\n",
      "NRMSE: 0.0237\n",
      "Epoch 700 | Loss_I: nan | Loss_B: 0.0038 | Loss_F: 0.0918\n",
      "NRMSE: 0.0220\n",
      "Epoch 800 | Loss_I: nan | Loss_B: 0.0034 | Loss_F: 0.0804\n",
      "NRMSE: 0.0123\n",
      "Epoch 900 | Loss_I: nan | Loss_B: 0.0030 | Loss_F: 0.0715\n",
      "NRMSE: 0.0218\n",
      "Epoch 1000 | Loss_I: nan | Loss_B: 0.0027 | Loss_F: 0.0643\n",
      "NRMSE: 0.0217\n",
      "Current device: cuda\n",
      "Data generation completed\n",
      "Epoch 100 | Loss_I: nan | Loss_B: 0.0223 | Loss_F: 0.9532\n",
      "NRMSE: 0.0098\n",
      "Epoch 200 | Loss_I: nan | Loss_B: 0.0111 | Loss_F: 0.4779\n",
      "NRMSE: 0.0115\n",
      "Epoch 300 | Loss_I: nan | Loss_B: 0.0075 | Loss_F: 0.3187\n",
      "NRMSE: 0.0126\n",
      "Epoch 400 | Loss_I: nan | Loss_B: 0.0056 | Loss_F: 0.2391\n",
      "NRMSE: 0.0344\n",
      "Epoch 500 | Loss_I: nan | Loss_B: 0.0046 | Loss_F: 0.1913\n",
      "NRMSE: 0.0221\n",
      "Epoch 600 | Loss_I: nan | Loss_B: 0.0038 | Loss_F: 0.1595\n",
      "NRMSE: 0.0133\n",
      "Epoch 700 | Loss_I: nan | Loss_B: 0.0033 | Loss_F: 0.1367\n",
      "NRMSE: 0.0138\n",
      "Epoch 800 | Loss_I: nan | Loss_B: 0.0029 | Loss_F: 0.1196\n",
      "NRMSE: 0.0152\n",
      "Epoch 900 | Loss_I: nan | Loss_B: 0.0026 | Loss_F: 0.1064\n",
      "NRMSE: 0.0135\n",
      "Epoch 1000 | Loss_I: nan | Loss_B: 0.0023 | Loss_F: 0.0958\n",
      "NRMSE: 0.0142\n",
      "Current device: cuda\n",
      "Data generation completed\n",
      "Epoch 100 | Loss_I: nan | Loss_B: 0.0498 | Loss_F: 0.6765\n",
      "NRMSE: 0.2010\n",
      "Epoch 200 | Loss_I: nan | Loss_B: 0.0252 | Loss_F: 0.4169\n",
      "NRMSE: 0.0175\n",
      "Epoch 300 | Loss_I: nan | Loss_B: 0.0168 | Loss_F: 0.2784\n",
      "NRMSE: 0.0235\n",
      "Epoch 400 | Loss_I: nan | Loss_B: 0.0126 | Loss_F: 0.2089\n",
      "NRMSE: 0.0229\n",
      "Epoch 500 | Loss_I: nan | Loss_B: 0.0101 | Loss_F: 0.1673\n",
      "NRMSE: 0.0223\n",
      "Epoch 600 | Loss_I: nan | Loss_B: 0.0084 | Loss_F: 0.1394\n",
      "NRMSE: 0.0224\n",
      "Epoch 700 | Loss_I: nan | Loss_B: 0.0072 | Loss_F: 0.1195\n",
      "NRMSE: 0.0224\n",
      "Epoch 800 | Loss_I: nan | Loss_B: 0.0063 | Loss_F: 0.1046\n",
      "NRMSE: 0.0225\n",
      "Epoch 900 | Loss_I: nan | Loss_B: 0.0056 | Loss_F: 0.0930\n",
      "NRMSE: 0.0218\n",
      "Epoch 1000 | Loss_I: nan | Loss_B: 0.0051 | Loss_F: 0.0837\n",
      "NRMSE: 0.0226\n",
      "Current device: cuda\n",
      "Data generation completed\n",
      "Epoch 100 | Loss_I: nan | Loss_B: 0.0395 | Loss_F: 0.8214\n",
      "NRMSE: 0.0060\n",
      "Epoch 200 | Loss_I: nan | Loss_B: 0.0198 | Loss_F: 0.4112\n",
      "NRMSE: 0.0081\n",
      "Epoch 300 | Loss_I: nan | Loss_B: 0.0133 | Loss_F: 0.2744\n",
      "NRMSE: 0.0060\n",
      "Epoch 400 | Loss_I: nan | Loss_B: 0.0099 | Loss_F: 0.2058\n",
      "NRMSE: 0.0078\n",
      "Epoch 500 | Loss_I: nan | Loss_B: 0.0080 | Loss_F: 0.1648\n",
      "NRMSE: 0.0116\n",
      "Epoch 600 | Loss_I: nan | Loss_B: 0.0067 | Loss_F: 0.1373\n",
      "NRMSE: 0.0073\n",
      "Epoch 700 | Loss_I: nan | Loss_B: 0.0057 | Loss_F: 0.1177\n",
      "NRMSE: 0.0073\n",
      "Epoch 800 | Loss_I: nan | Loss_B: 0.0051 | Loss_F: 0.1031\n",
      "NRMSE: 0.0060\n",
      "Epoch 900 | Loss_I: nan | Loss_B: 0.0045 | Loss_F: 0.0917\n",
      "NRMSE: 0.0072\n",
      "Epoch 1000 | Loss_I: nan | Loss_B: 0.0041 | Loss_F: 0.0825\n",
      "NRMSE: 0.0073\n",
      "Current device: cuda\n",
      "Data generation completed\n",
      "Epoch 100 | Loss_I: nan | Loss_B: 0.0528 | Loss_F: 0.4898\n",
      "NRMSE: 0.0626\n",
      "Epoch 200 | Loss_I: nan | Loss_B: 0.0264 | Loss_F: 0.2465\n",
      "NRMSE: 0.0283\n",
      "Epoch 300 | Loss_I: nan | Loss_B: 0.0176 | Loss_F: 0.1646\n",
      "NRMSE: 0.0285\n",
      "Epoch 400 | Loss_I: nan | Loss_B: 0.0132 | Loss_F: 0.1236\n",
      "NRMSE: 0.0287\n",
      "Epoch 500 | Loss_I: nan | Loss_B: 0.0106 | Loss_F: 0.0989\n",
      "NRMSE: 0.0289\n",
      "Epoch 600 | Loss_I: nan | Loss_B: 0.0088 | Loss_F: 0.0824\n",
      "NRMSE: 0.0291\n",
      "Epoch 700 | Loss_I: nan | Loss_B: 0.0075 | Loss_F: 0.0707\n",
      "NRMSE: 0.0291\n",
      "Epoch 800 | Loss_I: nan | Loss_B: 0.0066 | Loss_F: 0.0619\n",
      "NRMSE: 0.0292\n",
      "Epoch 900 | Loss_I: nan | Loss_B: 0.0059 | Loss_F: 0.0550\n",
      "NRMSE: 0.0292\n",
      "Epoch 1000 | Loss_I: nan | Loss_B: 0.0053 | Loss_F: 0.0495\n",
      "NRMSE: 0.0292\n",
      "Current device: cuda\n",
      "Data generation completed\n",
      "Epoch 100 | Loss_I: nan | Loss_B: 0.0412 | Loss_F: 0.7220\n",
      "NRMSE: 0.0019\n",
      "Epoch 200 | Loss_I: nan | Loss_B: 0.0207 | Loss_F: 0.3616\n",
      "NRMSE: 0.0088\n",
      "Epoch 300 | Loss_I: nan | Loss_B: 0.0139 | Loss_F: 0.2413\n",
      "NRMSE: 0.0418\n",
      "Epoch 400 | Loss_I: nan | Loss_B: 0.0105 | Loss_F: 0.1811\n",
      "NRMSE: 0.0004\n",
      "Epoch 500 | Loss_I: nan | Loss_B: 0.0085 | Loss_F: 0.1450\n",
      "NRMSE: 0.0728\n",
      "Epoch 600 | Loss_I: nan | Loss_B: 0.0071 | Loss_F: 0.1210\n",
      "NRMSE: 0.0011\n",
      "Epoch 700 | Loss_I: nan | Loss_B: 0.0061 | Loss_F: 0.1037\n",
      "NRMSE: 0.0007\n",
      "Epoch 800 | Loss_I: nan | Loss_B: 0.0053 | Loss_F: 0.0907\n",
      "NRMSE: 0.0007\n",
      "Epoch 900 | Loss_I: nan | Loss_B: 0.0048 | Loss_F: 0.0808\n",
      "NRMSE: 0.0002\n",
      "Epoch 1000 | Loss_I: nan | Loss_B: 0.0043 | Loss_F: 0.0727\n",
      "NRMSE: 0.0005\n",
      "Current device: cuda\n",
      "Data generation completed\n",
      "Epoch 100 | Loss_I: nan | Loss_B: 0.0594 | Loss_F: 0.7839\n",
      "NRMSE: 0.0147\n",
      "Epoch 200 | Loss_I: nan | Loss_B: 0.0297 | Loss_F: 0.3928\n",
      "NRMSE: 0.0269\n",
      "Epoch 300 | Loss_I: nan | Loss_B: 0.0198 | Loss_F: 0.2621\n",
      "NRMSE: 0.0275\n",
      "Epoch 400 | Loss_I: nan | Loss_B: 0.0149 | Loss_F: 0.1966\n",
      "NRMSE: 0.0280\n",
      "Epoch 500 | Loss_I: nan | Loss_B: 0.0119 | Loss_F: 0.1575\n",
      "NRMSE: 0.0194\n",
      "Epoch 600 | Loss_I: nan | Loss_B: 0.0099 | Loss_F: 0.1313\n",
      "NRMSE: 0.0284\n",
      "Epoch 700 | Loss_I: nan | Loss_B: 0.0085 | Loss_F: 0.1125\n",
      "NRMSE: 0.0283\n",
      "Epoch 800 | Loss_I: nan | Loss_B: 0.0075 | Loss_F: 0.0986\n",
      "NRMSE: 0.0281\n",
      "Epoch 900 | Loss_I: nan | Loss_B: 0.0067 | Loss_F: 0.0877\n",
      "NRMSE: 0.0284\n",
      "Epoch 1000 | Loss_I: nan | Loss_B: 0.0060 | Loss_F: 0.0789\n",
      "NRMSE: 0.0284\n",
      "Current device: cuda\n",
      "Data generation completed\n",
      "Epoch 100 | Loss_I: nan | Loss_B: 0.0430 | Loss_F: 1.3066\n",
      "NRMSE: 0.0177\n",
      "Epoch 200 | Loss_I: nan | Loss_B: 0.0215 | Loss_F: 0.6549\n",
      "NRMSE: 0.0230\n",
      "Epoch 300 | Loss_I: nan | Loss_B: 0.0144 | Loss_F: 0.4368\n",
      "NRMSE: 0.0189\n",
      "Epoch 400 | Loss_I: nan | Loss_B: 0.0108 | Loss_F: 0.3277\n",
      "NRMSE: 0.0037\n",
      "Epoch 500 | Loss_I: nan | Loss_B: 0.0087 | Loss_F: 0.2623\n",
      "NRMSE: 0.0123\n",
      "Epoch 600 | Loss_I: nan | Loss_B: 0.0073 | Loss_F: 0.2188\n",
      "NRMSE: 0.0212\n",
      "Epoch 700 | Loss_I: nan | Loss_B: 0.0063 | Loss_F: 0.1876\n",
      "NRMSE: 0.0128\n",
      "Epoch 800 | Loss_I: nan | Loss_B: 0.0055 | Loss_F: 0.1642\n",
      "NRMSE: 0.0129\n",
      "Epoch 900 | Loss_I: nan | Loss_B: 0.0049 | Loss_F: 0.1460\n",
      "NRMSE: 0.0118\n",
      "Epoch 1000 | Loss_I: nan | Loss_B: 0.0044 | Loss_F: 0.1314\n",
      "NRMSE: 0.0129\n",
      "Current device: cuda\n",
      "Data generation completed\n",
      "Epoch 100 | Loss_I: nan | Loss_B: 0.0411 | Loss_F: 0.7635\n",
      "NRMSE: 0.0209\n",
      "Epoch 200 | Loss_I: nan | Loss_B: 0.0206 | Loss_F: 0.3826\n",
      "NRMSE: 0.0272\n",
      "Epoch 300 | Loss_I: nan | Loss_B: 0.0137 | Loss_F: 0.2551\n",
      "NRMSE: 0.0262\n",
      "Epoch 400 | Loss_I: nan | Loss_B: 0.0104 | Loss_F: 0.1914\n",
      "NRMSE: 0.0235\n",
      "Epoch 500 | Loss_I: nan | Loss_B: 0.0083 | Loss_F: 0.1532\n",
      "NRMSE: 0.0274\n",
      "Epoch 600 | Loss_I: nan | Loss_B: 0.0070 | Loss_F: 0.1277\n",
      "NRMSE: 0.0248\n",
      "Epoch 700 | Loss_I: nan | Loss_B: 0.0060 | Loss_F: 0.1095\n",
      "NRMSE: 0.0276\n",
      "Epoch 800 | Loss_I: nan | Loss_B: 0.0052 | Loss_F: 0.0958\n",
      "NRMSE: 0.0276\n",
      "Epoch 900 | Loss_I: nan | Loss_B: 0.0047 | Loss_F: 0.0853\n",
      "NRMSE: 0.0477\n",
      "Epoch 1000 | Loss_I: nan | Loss_B: 0.0043 | Loss_F: 0.0768\n",
      "NRMSE: 0.0276\n"
     ]
    }
   ],
   "source": [
    "nrmse_test_zs = []\n",
    "nrmse_test_maml = []\n",
    "nrmse_test_maml_adapted = []\n",
    "nrmse_test_pinn = []\n",
    "\n",
    "alpha_val = np.hstack((np.random.uniform(low=-1.5, high=-1, size=5), np.random.uniform(low=1, high=1.5, size=5)))\n",
    "beta_val = np.hstack((np.random.uniform(low=-1.5, high=-1, size=5), np.random.uniform(low=1, high=1.5, size=5)))\n",
    "\n",
    "for alpha, beta in zip(alpha_val, beta_val):\n",
    "    loss_i, loss_b, loss_f, loss, model_, val_loss, val_ood_loss, nrmse, _, _ = train(epochs=1000, lr=0.01, i_size=0, b_size=2, f_size=100, zero_shot=False, alpha_list=alpha, beta_list=beta, low=-1, high=1, eqname='poisson')\n",
    "    test_x = np.linspace(-1, 1, num=100).reshape(-1, 1)\n",
    "    test_alpha = np.full((100, 1), alpha)\n",
    "    test_beta = np.full((100, 1), beta)\n",
    "    X = test_x\n",
    "    Y = np.sin(test_alpha * X) + np.cos(test_beta * X) + 0.1 * X\n",
    "    test_in = np.hstack((test_x, test_alpha, test_beta))\n",
    "    test_u_ = model_(torch.Tensor(test_x).to(device))\n",
    "    test_u = model3(torch.Tensor(test_in).to(device))\n",
    "    test_u_2 = model2(torch.Tensor(test_in).to(device))\n",
    "    test_u_3 = model_adapted(torch.Tensor(test_in).to(device))\n",
    "    C_ = test_u_.cpu().detach().numpy()\n",
    "    C = test_u.cpu().detach().numpy()\n",
    "    C2 = test_u_2.cpu().detach().numpy()\n",
    "    C3 = test_u_3.cpu().detach().numpy()\n",
    "    nrmse_test_pinn.append(compute_nrmse(C_, Y))\n",
    "    nrmse_test_zs.append(compute_nrmse(C, Y))\n",
    "    nrmse_test_maml.append(compute_nrmse(C2, Y))\n",
    "    nrmse_test_maml_adapted.append(compute_nrmse(C3, Y))\n",
    "   \n",
    "mean_nrmse_pinn = np.mean(np.array(nrmse_test_pinn))                    \n",
    "mean_nrmse_zs = np.mean(np.array(nrmse_test_zs))\n",
    "mean_nrmse_maml = np.mean(np.array(nrmse_test_maml))\n",
    "mean_nrmse_adapt_maml = np.mean(np.array(nrmse_test_maml_adapted))\n",
    "\n",
    "std_nrmse_pinn = np.std(np.array(nrmse_test_pinn))                    \n",
    "std_nrmse_zs = np.std(np.array(nrmse_test_zs))\n",
    "std_nrmse_maml = np.std(np.array(nrmse_test_maml))\n",
    "std_nrmse_adapt_maml = np.std(np.array(nrmse_test_maml_adapted))\n",
    "    \n",
    "high_nrmse_pinn = mean_nrmse_pinn + 1.96 * std_nrmse_pinn                    \n",
    "high_nrmse_zs = mean_nrmse_zs + 1.96 * std_nrmse_zs\n",
    "high_nrmse_maml = mean_nrmse_maml + 1.96 * std_nrmse_maml\n",
    "high_nrmse_adapt_maml = mean_nrmse_adapt_maml + 1.96 * std_nrmse_adapt_maml\n",
    "\n",
    "low_nrmse_pinn = mean_nrmse_pinn - 1.96 * std_nrmse_pinn                    \n",
    "low_nrmse_zs = mean_nrmse_zs - 1.96 * std_nrmse_zs\n",
    "low_nrmse_maml = mean_nrmse_maml - 1.96 * std_nrmse_maml\n",
    "low_nrmse_adapt_maml = mean_nrmse_adapt_maml - 1.96 * std_nrmse_adapt_maml\n",
    "    \n"
   ]
  },
  {
   "cell_type": "code",
   "execution_count": 56,
   "id": "527665ff-29e3-45fe-9166-e256b5f1ab15",
   "metadata": {},
   "outputs": [
    {
     "data": {
      "image/png": "[encoded data removed]",
      "text/plain": [
       "<Figure size 432x288 with 1 Axes>"
      ]
     },
     "metadata": {
      "needs_background": "light"
     },
     "output_type": "display_data"
    }
   ],
   "source": [
    "x = np.arange(4)\n",
    "methods = ['PINN', 'zero-shot', 'MAML', 'adapted MAML']\n",
    "values = [mean_nrmse_pinn, mean_nrmse_zs, mean_nrmse_maml, mean_nrmse_adapt_maml]\n",
    "yerr = [(high_nrmse_pinn - low_nrmse_pinn) / np.sqrt(10), (high_nrmse_zs - low_nrmse_zs) / np.sqrt(10), (high_nrmse_maml - low_nrmse_maml) / np.sqrt(10), (high_nrmse_adapt_maml - low_nrmse_adapt_maml)/ np.sqrt(10)] \n",
    "colors = ['r', 'b', 'g', 'y']\n",
    "\n",
    "plt.bar(x, values, color=colors, yerr=yerr, capsize=10)\n",
    "plt.xticks(x, methods)\n",
    "plt.yscale('log')\n",
    "plt.ylabel('NRMSE')\n",
    "plt.title('NRMSEs (out-of-distribution)')\n",
    "\n",
    "plt.show()"
   ]
  },
  {
   "cell_type": "code",
   "execution_count": 50,
   "id": "a0caea33-c6af-487f-bdfb-7f0f2b4b8895",
   "metadata": {},
   "outputs": [
    {
     "data": {
      "text/plain": [
       "[0.011851386923644139,\n",
       " 0.004255329990108116,\n",
       " 0.009447671177513897,\n",
       " 0.0021978769461780652,\n",
       " 0.057159317418351695,\n",
       " 0.029279449019558798,\n",
       " 0.002130938952578639,\n",
       " 0.017873199533253916,\n",
       " 0.01847369483084865,\n",
       " 0.005516524325457782]"
      ]
     },
     "execution_count": 50,
     "metadata": {},
     "output_type": "execute_result"
    }
   ],
   "source": [
    "nrmse_test_zs"
   ]
  },
  {
   "cell_type": "markdown",
   "id": "15b79638-40b2-43fc-92e8-1e8c35e481d1",
   "metadata": {
    "tags": []
   },
   "source": [
    "## Results - Case 2"
   ]
  },
  {
   "cell_type": "code",
   "execution_count": 76,
   "id": "0ec75fd1-49b0-4856-9fa5-a7da31d7542f",
   "metadata": {},
   "outputs": [
    {
     "data": {
      "text/plain": [
       "PINN(\n",
       "  (module1): Sequential(\n",
       "    (0): Linear(in_features=3, out_features=20, bias=True)\n",
       "    (1): Linear(in_features=20, out_features=20, bias=True)\n",
       "    (2): Linear(in_features=20, out_features=20, bias=True)\n",
       "    (3): Linear(in_features=20, out_features=20, bias=True)\n",
       "    (4): Linear(in_features=20, out_features=1, bias=True)\n",
       "  )\n",
       ")"
      ]
     },
     "execution_count": 76,
     "metadata": {},
     "output_type": "execute_result"
    }
   ],
   "source": [
    "model3 = PINN(20, 5, dim=1, param_num=2, zero_shot=True)\n",
    "model3.load_state_dict(torch.load('models/poisson_zs_1000_ref_case2.data'))\n",
    "model3.to(device)\n",
    "model2 = PINN(20, 5, dim=1, param_num=2, zero_shot=True)\n",
    "model2.load_state_dict(torch.load('models/model_used/maml_poisson_high10_5000.data'))\n",
    "model2.to(device)"
   ]
  },
  {
   "cell_type": "code",
   "execution_count": 77,
   "id": "b9568442-35ba-4095-8c5f-6f51fffdb09e",
   "metadata": {},
   "outputs": [],
   "source": [
    "from maml import *"
   ]
  },
  {
   "cell_type": "code",
   "execution_count": 98,
   "id": "4eb6bffd-3a49-46be-b3cf-fb8af55fd37d",
   "metadata": {},
   "outputs": [],
   "source": [
    "alpha = -0.752\n",
    "beta = 0.932\n",
    "alpha = -1.260\n",
    "beta = 1.480"
   ]
  },
  {
   "cell_type": "code",
   "execution_count": 99,
   "id": "17fb30ce-d89b-4f01-aaed-d145bbf76c5e",
   "metadata": {},
   "outputs": [
    {
     "name": "stdout",
     "output_type": "stream",
     "text": [
      "Initializing MAML-PINN model\n",
      "Current device:  cuda\n",
      "cuda\n",
      "Zero shot mode is True\n",
      "Finished initialization of MAML-PINN model\n",
      "Trained model will be saved by None\n"
     ]
    },
    {
     "data": {
      "text/plain": [
       "<All keys matched successfully>"
      ]
     },
     "execution_count": 99,
     "metadata": {},
     "output_type": "execute_result"
    }
   ],
   "source": [
    "task = alpha, beta\n",
    "maml = MAML(5, 0.01, 0.0005, 1,2,  1, -10, 10, eqname='poisson', zero_shot=True, load=False, modelpath='models/model_ref/burgers_zs_1000_ref.data')\n",
    "phi, _, _, _, _, _, _ = maml._inner_loop(model2.state_dict(), task, train=True)\n",
    "model_adapted = deepcopy(model2)\n",
    "model_adapted.load_state_dict(phi)"
   ]
  },
  {
   "cell_type": "code",
   "execution_count": 100,
   "id": "2bd95946-c244-492e-bc86-7795d70222b4",
   "metadata": {},
   "outputs": [
    {
     "name": "stdout",
     "output_type": "stream",
     "text": [
      "Current device: cuda\n",
      "Data generation completed\n"
     ]
    },
    {
     "name": "stderr",
     "output_type": "stream",
     "text": [
      "C:\\Users\\fembem\\anaconda3\\envs\\torch-1.10.1\\lib\\site-packages\\numpy\\core\\fromnumeric.py:3474: RuntimeWarning: Mean of empty slice.\n",
      "  return _methods._mean(a, axis=axis, dtype=dtype,\n",
      "C:\\Users\\fembem\\anaconda3\\envs\\torch-1.10.1\\lib\\site-packages\\numpy\\core\\_methods.py:189: RuntimeWarning: invalid value encountered in double_scalars\n",
      "  ret = ret.dtype.type(ret / rcount)\n"
     ]
    },
    {
     "name": "stdout",
     "output_type": "stream",
     "text": [
      "Epoch 100 | Loss_I: nan | Loss_B: 0.0305 | Loss_F: 3.6619\n",
      "NRMSE: 1.0812\n",
      "Epoch 200 | Loss_I: nan | Loss_B: 0.0175 | Loss_F: 3.1941\n",
      "NRMSE: 0.9466\n",
      "Epoch 300 | Loss_I: nan | Loss_B: 0.0141 | Loss_F: 2.9594\n",
      "NRMSE: 0.9354\n",
      "Epoch 400 | Loss_I: nan | Loss_B: 0.0121 | Loss_F: 2.7263\n",
      "NRMSE: 0.9507\n",
      "Epoch 500 | Loss_I: nan | Loss_B: 0.0097 | Loss_F: 2.5728\n",
      "NRMSE: 0.9543\n",
      "Epoch 600 | Loss_I: nan | Loss_B: 0.0088 | Loss_F: 2.4519\n",
      "NRMSE: 1.0054\n",
      "Epoch 700 | Loss_I: nan | Loss_B: 0.0090 | Loss_F: 2.3053\n",
      "NRMSE: 0.9821\n",
      "Epoch 800 | Loss_I: nan | Loss_B: 0.0079 | Loss_F: 2.1477\n",
      "NRMSE: 0.9997\n",
      "Epoch 900 | Loss_I: nan | Loss_B: 0.0075 | Loss_F: 1.9659\n",
      "NRMSE: 1.1045\n",
      "Epoch 1000 | Loss_I: nan | Loss_B: 0.0068 | Loss_F: 1.7945\n",
      "NRMSE: 1.0939\n"
     ]
    }
   ],
   "source": [
    "loss_i, loss_b, loss_f, loss, model, val_loss, val_ood_loss, nrmse, val_losses, val_ood_losses = train(epochs=1000, lr=0.01, i_size=0, b_size=2, f_size=100, zero_shot=False, alpha_list=alpha, beta_list=beta, low=-10, high=10, eqname='poisson')"
   ]
  },
  {
   "cell_type": "code",
   "execution_count": 101,
   "id": "06e6cbae-04af-4db9-b69c-32a2bd35900a",
   "metadata": {},
   "outputs": [],
   "source": [
    "test_x = np.linspace(-10, 10, num=100).reshape(-1, 1)\n",
    "# test_alpha = np.full((100, 1), alpha[2])\n",
    "# test_beta = np.full((100, 1), beta[2])\n",
    "alpha = -0.752\n",
    "beta = 0.932\n",
    "alpha = -1.260\n",
    "beta = 1.480\n",
    "test_alpha = np.full((100, 1), alpha)\n",
    "test_beta = np.full((100, 1), beta)\n",
    "test_in = np.hstack((test_x, test_alpha, test_beta))\n",
    "# test_in = test_x\n",
    "test_u_ = model(torch.Tensor(test_x).to(device))\n",
    "test_u = model3(torch.Tensor(test_in).to(device))\n",
    "X = test_x\n",
    "\n",
    "Y = np.sin(test_alpha * X) + np.cos(test_beta * X) + 0.1 * X\n"
   ]
  },
  {
   "cell_type": "code",
   "execution_count": 102,
   "id": "9bddd021-3c56-4258-9d77-5cc415236215",
   "metadata": {},
   "outputs": [],
   "source": [
    "test_x = np.linspace(-10, 10, num=100).reshape(-1, 1)\n",
    "test_in = np.hstack((test_x, test_alpha, test_beta))\n",
    "# test_in = test_x\n",
    "test_u = model3(torch.Tensor(test_in).to(device))\n",
    "test_u_2 = model2(torch.Tensor(test_in).to(device))\n",
    "test_u_3 = model_adapted(torch.Tensor(test_in).to(device))"
   ]
  },
  {
   "cell_type": "code",
   "execution_count": 104,
   "id": "fcae0f90-f48d-4c14-868a-2fca107b3959",
   "metadata": {},
   "outputs": [
    {
     "data": {
      "text/plain": [
       "Text(0.5, 1.0, 'Solutions (out-of-distribution)')"
      ]
     },
     "execution_count": 104,
     "metadata": {},
     "output_type": "execute_result"
    },
    {
     "data": {
      "image/png": "[encoded data removed]",
      "text/plain": [
       "<Figure size 720x576 with 1 Axes>"
      ]
     },
     "metadata": {
      "needs_background": "light"
     },
     "output_type": "display_data"
    }
   ],
   "source": [
    "C_ = test_u_.cpu().detach().numpy()\n",
    "C = test_u.cpu().detach().numpy()\n",
    "C2 = test_u_2.cpu().detach().numpy()\n",
    "C3 = test_u_3.cpu().detach().numpy()\n",
    "plt.figure(figsize=(10, 8))\n",
    "plt.plot(X, C_, 'r--', label='PINN')\n",
    "plt.plot(X, C, 'b--', label='zero-shot')\n",
    "plt.plot(X, Y, 'k', label='truth')\n",
    "plt.plot(X, C2, 'g--', label='MAML')\n",
    "plt.plot(X, C3, 'y--', label='adapted MAML')\n",
    "plt.legend()\n",
    "plt.title('Solutions (out-of-distribution)')\n",
    "# plt.colorbar()"
   ]
  },
  {
   "cell_type": "code",
   "execution_count": 105,
   "id": "e057f142-c08a-4831-8814-b051292814cf",
   "metadata": {},
   "outputs": [
    {
     "data": {
      "text/plain": [
       "1.1234542599049024"
      ]
     },
     "execution_count": 105,
     "metadata": {},
     "output_type": "execute_result"
    }
   ],
   "source": [
    "np.sqrt(np.sum( (Y-C) ** 2) / np.sum( C ** 2 ))"
   ]
  },
  {
   "cell_type": "code",
   "execution_count": 106,
   "id": "a791cd40-4efa-4de3-9642-c64ddc8a7885",
   "metadata": {},
   "outputs": [
    {
     "name": "stdout",
     "output_type": "stream",
     "text": [
      "Current device: cuda\n",
      "Data generation completed\n"
     ]
    },
    {
     "name": "stderr",
     "output_type": "stream",
     "text": [
      "C:\\Users\\fembem\\anaconda3\\envs\\torch-1.10.1\\lib\\site-packages\\numpy\\core\\fromnumeric.py:3474: RuntimeWarning: Mean of empty slice.\n",
      "  return _methods._mean(a, axis=axis, dtype=dtype,\n",
      "C:\\Users\\fembem\\anaconda3\\envs\\torch-1.10.1\\lib\\site-packages\\numpy\\core\\_methods.py:189: RuntimeWarning: invalid value encountered in double_scalars\n",
      "  ret = ret.dtype.type(ret / rcount)\n"
     ]
    },
    {
     "name": "stdout",
     "output_type": "stream",
     "text": [
      "Epoch 100 | Loss_I: nan | Loss_B: 0.0057 | Loss_F: 1.9241\n",
      "NRMSE: 1.4201\n",
      "Epoch 200 | Loss_I: nan | Loss_B: 0.0040 | Loss_F: 1.7294\n",
      "NRMSE: 1.3636\n",
      "Epoch 300 | Loss_I: nan | Loss_B: 0.0035 | Loss_F: 1.6539\n",
      "NRMSE: 1.3126\n",
      "Epoch 400 | Loss_I: nan | Loss_B: 0.0037 | Loss_F: 1.6101\n",
      "NRMSE: 1.3149\n",
      "Epoch 500 | Loss_I: nan | Loss_B: 0.0037 | Loss_F: 1.5683\n",
      "NRMSE: 1.3815\n",
      "Epoch 600 | Loss_I: nan | Loss_B: 0.0035 | Loss_F: 1.5085\n",
      "NRMSE: 0.9875\n",
      "Epoch 700 | Loss_I: nan | Loss_B: 0.0032 | Loss_F: 1.4198\n",
      "NRMSE: 0.9707\n",
      "Epoch 800 | Loss_I: nan | Loss_B: 0.0029 | Loss_F: 1.3489\n",
      "NRMSE: 1.0234\n",
      "Epoch 900 | Loss_I: nan | Loss_B: 0.0026 | Loss_F: 1.2762\n",
      "NRMSE: 1.0514\n",
      "Epoch 1000 | Loss_I: nan | Loss_B: 0.0024 | Loss_F: 1.2059\n",
      "NRMSE: 1.0595\n",
      "Current device: cuda\n",
      "Data generation completed\n",
      "Epoch 100 | Loss_I: nan | Loss_B: 0.1614 | Loss_F: 1.3298\n",
      "NRMSE: 0.8129\n",
      "Epoch 200 | Loss_I: nan | Loss_B: 0.0807 | Loss_F: 1.0070\n",
      "NRMSE: 0.8386\n",
      "Epoch 300 | Loss_I: nan | Loss_B: 0.0538 | Loss_F: 0.8747\n",
      "NRMSE: 0.8357\n",
      "Epoch 400 | Loss_I: nan | Loss_B: 0.0404 | Loss_F: 0.8032\n",
      "NRMSE: 0.8227\n",
      "Epoch 500 | Loss_I: nan | Loss_B: 0.0323 | Loss_F: 0.7554\n",
      "NRMSE: 0.7950\n",
      "Epoch 600 | Loss_I: nan | Loss_B: 0.0270 | Loss_F: 0.7092\n",
      "NRMSE: 0.7768\n",
      "Epoch 700 | Loss_I: nan | Loss_B: 0.0232 | Loss_F: 0.6546\n",
      "NRMSE: 0.8120\n",
      "Epoch 800 | Loss_I: nan | Loss_B: 0.0204 | Loss_F: 0.6059\n",
      "NRMSE: 0.8352\n",
      "Epoch 900 | Loss_I: nan | Loss_B: 0.0182 | Loss_F: 0.5589\n",
      "NRMSE: 0.8489\n",
      "Epoch 1000 | Loss_I: nan | Loss_B: 0.0165 | Loss_F: 0.5195\n",
      "NRMSE: 0.8305\n",
      "Current device: cuda\n",
      "Data generation completed\n",
      "Epoch 100 | Loss_I: nan | Loss_B: 0.0165 | Loss_F: 3.6807\n",
      "NRMSE: 1.1391\n",
      "Epoch 200 | Loss_I: nan | Loss_B: 0.0155 | Loss_F: 3.2420\n",
      "NRMSE: 1.1155\n",
      "Epoch 300 | Loss_I: nan | Loss_B: 0.0125 | Loss_F: 2.9674\n",
      "NRMSE: 0.9960\n",
      "Epoch 400 | Loss_I: nan | Loss_B: 0.0096 | Loss_F: 2.6525\n",
      "NRMSE: 0.9326\n",
      "Epoch 500 | Loss_I: nan | Loss_B: 0.0077 | Loss_F: 2.4180\n",
      "NRMSE: 0.9554\n",
      "Epoch 600 | Loss_I: nan | Loss_B: 0.0064 | Loss_F: 2.2486\n",
      "NRMSE: 0.9734\n",
      "Epoch 700 | Loss_I: nan | Loss_B: 0.0062 | Loss_F: 2.0982\n",
      "NRMSE: 1.0127\n",
      "Epoch 800 | Loss_I: nan | Loss_B: 0.0054 | Loss_F: 1.8912\n",
      "NRMSE: 1.0563\n",
      "Epoch 900 | Loss_I: nan | Loss_B: 0.0049 | Loss_F: 1.7053\n",
      "NRMSE: 1.0520\n",
      "Epoch 1000 | Loss_I: nan | Loss_B: 0.0044 | Loss_F: 1.5533\n",
      "NRMSE: 1.0482\n",
      "Current device: cuda\n",
      "Data generation completed\n",
      "Epoch 100 | Loss_I: nan | Loss_B: 0.0759 | Loss_F: 2.2358\n",
      "NRMSE: 1.0506\n",
      "Epoch 200 | Loss_I: nan | Loss_B: 0.0380 | Loss_F: 2.1227\n",
      "NRMSE: 1.0025\n",
      "Epoch 300 | Loss_I: nan | Loss_B: 0.0260 | Loss_F: 1.9983\n",
      "NRMSE: 0.9745\n",
      "Epoch 400 | Loss_I: nan | Loss_B: 0.0206 | Loss_F: 1.8372\n",
      "NRMSE: 0.8909\n",
      "Epoch 500 | Loss_I: nan | Loss_B: 0.0172 | Loss_F: 1.6874\n",
      "NRMSE: 0.8736\n",
      "Epoch 600 | Loss_I: nan | Loss_B: 0.0151 | Loss_F: 1.5717\n",
      "NRMSE: 0.8621\n",
      "Epoch 700 | Loss_I: nan | Loss_B: 0.0129 | Loss_F: 1.4637\n",
      "NRMSE: 0.8759\n",
      "Epoch 800 | Loss_I: nan | Loss_B: 0.0113 | Loss_F: 1.3622\n",
      "NRMSE: 0.8901\n",
      "Epoch 900 | Loss_I: nan | Loss_B: 0.0102 | Loss_F: 1.2756\n",
      "NRMSE: 0.8977\n",
      "Epoch 1000 | Loss_I: nan | Loss_B: 0.0092 | Loss_F: 1.2003\n",
      "NRMSE: 0.9079\n",
      "Current device: cuda\n",
      "Data generation completed\n",
      "Epoch 100 | Loss_I: nan | Loss_B: 0.0998 | Loss_F: 1.7680\n",
      "NRMSE: 0.9198\n",
      "Epoch 200 | Loss_I: nan | Loss_B: 0.0499 | Loss_F: 1.6053\n",
      "NRMSE: 0.9123\n",
      "Epoch 300 | Loss_I: nan | Loss_B: 0.0333 | Loss_F: 1.4631\n",
      "NRMSE: 0.7700\n",
      "Epoch 400 | Loss_I: nan | Loss_B: 0.0250 | Loss_F: 1.3323\n",
      "NRMSE: 0.7673\n",
      "Epoch 500 | Loss_I: nan | Loss_B: 0.0200 | Loss_F: 1.2192\n",
      "NRMSE: 0.7649\n",
      "Epoch 600 | Loss_I: nan | Loss_B: 0.0170 | Loss_F: 1.1270\n",
      "NRMSE: 0.7845\n",
      "Epoch 700 | Loss_I: nan | Loss_B: 0.0150 | Loss_F: 1.0388\n",
      "NRMSE: 0.7969\n",
      "Epoch 800 | Loss_I: nan | Loss_B: 0.0131 | Loss_F: 0.9617\n",
      "NRMSE: 0.8195\n",
      "Epoch 900 | Loss_I: nan | Loss_B: 0.0121 | Loss_F: 0.8980\n",
      "NRMSE: 0.8159\n",
      "Epoch 1000 | Loss_I: nan | Loss_B: 0.0109 | Loss_F: 0.8418\n",
      "NRMSE: 0.8290\n",
      "Current device: cuda\n",
      "Data generation completed\n",
      "Epoch 100 | Loss_I: nan | Loss_B: 0.0192 | Loss_F: 1.4429\n",
      "NRMSE: 1.1695\n",
      "Epoch 200 | Loss_I: nan | Loss_B: 0.0102 | Loss_F: 1.2780\n",
      "NRMSE: 0.9739\n",
      "Epoch 300 | Loss_I: nan | Loss_B: 0.0077 | Loss_F: 1.1954\n",
      "NRMSE: 0.9526\n",
      "Epoch 400 | Loss_I: nan | Loss_B: 0.0058 | Loss_F: 1.1437\n",
      "NRMSE: 0.9132\n",
      "Epoch 500 | Loss_I: nan | Loss_B: 0.0055 | Loss_F: 1.0823\n",
      "NRMSE: 0.9860\n",
      "Epoch 600 | Loss_I: nan | Loss_B: 0.0046 | Loss_F: 1.0164\n",
      "NRMSE: 0.9904\n",
      "Epoch 700 | Loss_I: nan | Loss_B: 0.0040 | Loss_F: 0.9640\n",
      "NRMSE: 0.9927\n",
      "Epoch 800 | Loss_I: nan | Loss_B: 0.0039 | Loss_F: 0.9163\n",
      "NRMSE: 0.9523\n",
      "Epoch 900 | Loss_I: nan | Loss_B: 0.0040 | Loss_F: 0.8603\n",
      "NRMSE: 0.7898\n",
      "Epoch 1000 | Loss_I: nan | Loss_B: 0.0043 | Loss_F: 0.8053\n",
      "NRMSE: 0.6336\n",
      "Current device: cuda\n",
      "Data generation completed\n",
      "Epoch 100 | Loss_I: nan | Loss_B: 0.0417 | Loss_F: 1.8273\n",
      "NRMSE: 1.0253\n",
      "Epoch 200 | Loss_I: nan | Loss_B: 0.0229 | Loss_F: 1.6476\n",
      "NRMSE: 0.9050\n",
      "Epoch 300 | Loss_I: nan | Loss_B: 0.0173 | Loss_F: 1.5239\n",
      "NRMSE: 0.8897\n",
      "Epoch 400 | Loss_I: nan | Loss_B: 0.0142 | Loss_F: 1.4116\n",
      "NRMSE: 0.8677\n",
      "Epoch 500 | Loss_I: nan | Loss_B: 0.0114 | Loss_F: 1.3020\n",
      "NRMSE: 0.9308\n",
      "Epoch 600 | Loss_I: nan | Loss_B: 0.0095 | Loss_F: 1.2146\n",
      "NRMSE: 0.9719\n",
      "Epoch 700 | Loss_I: nan | Loss_B: 0.0082 | Loss_F: 1.1423\n",
      "NRMSE: 0.9558\n",
      "Epoch 800 | Loss_I: nan | Loss_B: 0.0071 | Loss_F: 1.0861\n",
      "NRMSE: 0.9555\n",
      "Epoch 900 | Loss_I: nan | Loss_B: 0.0063 | Loss_F: 1.0398\n",
      "NRMSE: 0.9412\n",
      "Epoch 1000 | Loss_I: nan | Loss_B: 0.0060 | Loss_F: 0.9889\n",
      "NRMSE: 0.9065\n",
      "Current device: cuda\n",
      "Data generation completed\n",
      "Epoch 100 | Loss_I: nan | Loss_B: 0.1486 | Loss_F: 3.0822\n",
      "NRMSE: 0.8948\n",
      "Epoch 200 | Loss_I: nan | Loss_B: 0.0743 | Loss_F: 3.0256\n",
      "NRMSE: 0.8935\n",
      "Epoch 300 | Loss_I: nan | Loss_B: 0.0496 | Loss_F: 2.9732\n",
      "NRMSE: 0.8857\n",
      "Epoch 400 | Loss_I: nan | Loss_B: 0.0372 | Loss_F: 2.8792\n",
      "NRMSE: 0.8756\n",
      "Epoch 500 | Loss_I: nan | Loss_B: 0.0300 | Loss_F: 2.7701\n",
      "NRMSE: 0.8584\n",
      "Epoch 600 | Loss_I: nan | Loss_B: 0.0258 | Loss_F: 2.6530\n",
      "NRMSE: 0.8070\n",
      "Epoch 700 | Loss_I: nan | Loss_B: 0.0225 | Loss_F: 2.5492\n",
      "NRMSE: 0.7750\n",
      "Epoch 800 | Loss_I: nan | Loss_B: 0.0197 | Loss_F: 2.4517\n",
      "NRMSE: 0.7401\n",
      "Epoch 900 | Loss_I: nan | Loss_B: 0.0175 | Loss_F: 2.3539\n",
      "NRMSE: 0.8130\n",
      "Epoch 1000 | Loss_I: nan | Loss_B: 0.0158 | Loss_F: 2.2693\n",
      "NRMSE: 0.8978\n",
      "Current device: cuda\n",
      "Data generation completed\n",
      "Epoch 100 | Loss_I: nan | Loss_B: 0.0099 | Loss_F: 2.2619\n",
      "NRMSE: 1.0480\n",
      "Epoch 200 | Loss_I: nan | Loss_B: 0.0089 | Loss_F: 1.8684\n",
      "NRMSE: 1.0080\n",
      "Epoch 300 | Loss_I: nan | Loss_B: 0.0088 | Loss_F: 1.6729\n",
      "NRMSE: 0.9926\n",
      "Epoch 400 | Loss_I: nan | Loss_B: 0.0086 | Loss_F: 1.5136\n",
      "NRMSE: 1.0075\n",
      "Epoch 500 | Loss_I: nan | Loss_B: 0.0070 | Loss_F: 1.3950\n",
      "NRMSE: 1.0181\n",
      "Epoch 600 | Loss_I: nan | Loss_B: 0.0072 | Loss_F: 1.3110\n",
      "NRMSE: 1.0304\n",
      "Epoch 700 | Loss_I: nan | Loss_B: 0.0085 | Loss_F: 1.2407\n",
      "NRMSE: 1.0568\n",
      "Epoch 800 | Loss_I: nan | Loss_B: 0.0079 | Loss_F: 1.1632\n",
      "NRMSE: 1.0673\n",
      "Epoch 900 | Loss_I: nan | Loss_B: 0.0070 | Loss_F: 1.0999\n",
      "NRMSE: 1.0567\n",
      "Epoch 1000 | Loss_I: nan | Loss_B: 0.0076 | Loss_F: 1.0530\n",
      "NRMSE: 1.0745\n",
      "Current device: cuda\n",
      "Data generation completed\n",
      "Epoch 100 | Loss_I: nan | Loss_B: 0.0765 | Loss_F: 3.2792\n",
      "NRMSE: 0.9544\n",
      "Epoch 200 | Loss_I: nan | Loss_B: 0.0383 | Loss_F: 3.0709\n",
      "NRMSE: 0.9659\n",
      "Epoch 300 | Loss_I: nan | Loss_B: 0.0271 | Loss_F: 2.9289\n",
      "NRMSE: 0.9346\n",
      "Epoch 400 | Loss_I: nan | Loss_B: 0.0224 | Loss_F: 2.7814\n",
      "NRMSE: 0.9059\n",
      "Epoch 500 | Loss_I: nan | Loss_B: 0.0182 | Loss_F: 2.6410\n",
      "NRMSE: 0.8811\n",
      "Epoch 600 | Loss_I: nan | Loss_B: 0.0152 | Loss_F: 2.5274\n",
      "NRMSE: 0.8863\n",
      "Epoch 700 | Loss_I: nan | Loss_B: 0.0130 | Loss_F: 2.4409\n",
      "NRMSE: 0.8936\n",
      "Epoch 800 | Loss_I: nan | Loss_B: 0.0118 | Loss_F: 2.3749\n",
      "NRMSE: 0.8937\n",
      "Epoch 900 | Loss_I: nan | Loss_B: 0.0105 | Loss_F: 2.3181\n",
      "NRMSE: 0.9010\n",
      "Epoch 1000 | Loss_I: nan | Loss_B: 0.0095 | Loss_F: 2.2705\n",
      "NRMSE: 0.9047\n"
     ]
    }
   ],
   "source": [
    "nrmse_test_zs = []\n",
    "nrmse_test_maml = []\n",
    "nrmse_test_maml_adapted = []\n",
    "nrmse_test_pinn = []\n",
    "\n",
    "# alpha_val = np.random.uniform(low=-1, high=1, size=10)\n",
    "# beta_val = np.random.uniform(low=-1, high=1, size=10)\n",
    "alpha_val = np.hstack((np.random.uniform(low=-1.5, high=-1, size=5), np.random.uniform(low=1, high=1.5, size=5)))\n",
    "beta_val = np.hstack((np.random.uniform(low=-1.5, high=-1, size=5), np.random.uniform(low=1, high=1.5, size=5)))\n",
    "\n",
    "for alpha, beta in zip(alpha_val, beta_val):\n",
    "    loss_i, loss_b, loss_f, loss, model_, val_loss, val_ood_loss, nrmse, _, _ = train(epochs=1000, lr=0.01, i_size=0, b_size=2, f_size=100, zero_shot=False, alpha_list=alpha, beta_list=beta, low=-10, high=10, eqname='poisson')\n",
    "    test_x = np.linspace(-1, 1, num=100).reshape(-1, 1)\n",
    "    test_alpha = np.full((100, 1), alpha)\n",
    "    test_beta = np.full((100, 1), beta)\n",
    "    X = test_x\n",
    "    Y = np.sin(test_alpha * X) + np.cos(test_beta * X) + 0.1 * X\n",
    "    test_in = np.hstack((test_x, test_alpha, test_beta))\n",
    "    test_u_ = model_(torch.Tensor(test_x).to(device))\n",
    "    test_u = model3(torch.Tensor(test_in).to(device))\n",
    "    test_u_2 = model2(torch.Tensor(test_in).to(device))\n",
    "    test_u_3 = model_adapted(torch.Tensor(test_in).to(device))\n",
    "    C_ = test_u_.cpu().detach().numpy()\n",
    "    C = test_u.cpu().detach().numpy()\n",
    "    C2 = test_u_2.cpu().detach().numpy()\n",
    "    C3 = test_u_3.cpu().detach().numpy()\n",
    "    nrmse_test_pinn.append(compute_nrmse(C_, Y))\n",
    "    nrmse_test_zs.append(compute_nrmse(C, Y))\n",
    "    nrmse_test_maml.append(compute_nrmse(C2, Y))\n",
    "    nrmse_test_maml_adapted.append(compute_nrmse(C3, Y))\n",
    "    \n",
    "mean_nrmse_pinn = np.mean(np.array(nrmse_test_pinn))                    \n",
    "mean_nrmse_zs = np.mean(np.array(nrmse_test_zs))\n",
    "mean_nrmse_maml = np.mean(np.array(nrmse_test_maml))\n",
    "mean_nrmse_adapt_maml = np.mean(np.array(nrmse_test_maml_adapted))\n",
    "\n",
    "std_nrmse_pinn = np.std(np.array(nrmse_test_pinn))                    \n",
    "std_nrmse_zs = np.std(np.array(nrmse_test_zs))\n",
    "std_nrmse_maml = np.std(np.array(nrmse_test_maml))\n",
    "std_nrmse_adapt_maml = np.std(np.array(nrmse_test_maml_adapted))\n",
    "    \n",
    "high_nrmse_pinn = mean_nrmse_pinn + 1.96 * std_nrmse_pinn                    \n",
    "high_nrmse_zs = mean_nrmse_zs + 1.96 * std_nrmse_zs\n",
    "high_nrmse_maml = mean_nrmse_maml + 1.96 * std_nrmse_maml\n",
    "high_nrmse_adapt_maml = mean_nrmse_adapt_maml + 1.96 * std_nrmse_adapt_maml\n",
    "\n",
    "low_nrmse_pinn = mean_nrmse_pinn - 1.96 * std_nrmse_pinn                    \n",
    "low_nrmse_zs = mean_nrmse_zs - 1.96 * std_nrmse_zs\n",
    "low_nrmse_maml = mean_nrmse_maml - 1.96 * std_nrmse_maml\n",
    "low_nrmse_adapt_maml = mean_nrmse_adapt_maml - 1.96 * std_nrmse_adapt_maml"
   ]
  },
  {
   "cell_type": "code",
   "execution_count": 107,
   "id": "49821f0b-08d0-4abf-b416-e726adc53b5e",
   "metadata": {},
   "outputs": [
    {
     "data": {
      "image/png": "[encoded data removed]",
      "text/plain": [
       "<Figure size 432x288 with 1 Axes>"
      ]
     },
     "metadata": {
      "needs_background": "light"
     },
     "output_type": "display_data"
    }
   ],
   "source": [
    "x = np.arange(4)\n",
    "methods = ['PINN', 'zero-shot', 'MAML', 'adapted MAML']\n",
    "values = [mean_nrmse_pinn, mean_nrmse_zs, mean_nrmse_maml, mean_nrmse_adapt_maml]\n",
    "yerr = [(high_nrmse_pinn - low_nrmse_pinn) / np.sqrt(10), (high_nrmse_zs - low_nrmse_zs) / np.sqrt(10), (high_nrmse_maml - low_nrmse_maml) / np.sqrt(10), (high_nrmse_adapt_maml - low_nrmse_adapt_maml)/ np.sqrt(10)] \n",
    "colors = ['r', 'b', 'g', 'y']\n",
    "\n",
    "plt.bar(x, values, color=colors, yerr=yerr, capsize=10)\n",
    "plt.xticks(x, methods)\n",
    "plt.yscale('log')\n",
    "plt.ylabel('NRMSE')\n",
    "plt.title('NRMSEs (out-of-distribution)')\n",
    "\n",
    "plt.show()"
   ]
  },
  {
   "cell_type": "markdown",
   "id": "943b93f6-c802-451a-ac16-3a2275052927",
   "metadata": {
    "tags": []
   },
   "source": [
    "## Result - Case 3"
   ]
  },
  {
   "cell_type": "code",
   "execution_count": null,
   "id": "952106b4-8b30-46c4-bc2e-7db9c012e384",
   "metadata": {},
   "outputs": [],
   "source": [
    "from burgers import *"
   ]
  },
  {
   "cell_type": "code",
   "execution_count": null,
   "id": "6c361141-8b9a-49c3-aa03-a77ed3af653f",
   "metadata": {},
   "outputs": [],
   "source": []
  },
  {
   "cell_type": "code",
   "execution_count": null,
   "id": "54f42fd7-4d37-4ed6-8ea2-6666062e8a8f",
   "metadata": {},
   "outputs": [],
   "source": []
  },
  {
   "cell_type": "code",
   "execution_count": null,
   "id": "e2dfb049-4f98-4b53-97b5-4dc5c4bee6cb",
   "metadata": {},
   "outputs": [],
   "source": [
    "\n",
    "model = PINN(20, 8, dim=2, param_num=1, zero_shot=True)\n",
    "model.load_state_dict(torch.load('models/burgers_zs_4000.data'))\n",
    "model.to(device)\n"
   ]
  },
  {
   "cell_type": "code",
   "execution_count": null,
   "id": "d552d432-9676-4a9a-935a-c96871fa0952",
   "metadata": {},
   "outputs": [],
   "source": [
    "model_maml = PINN(20, 8, dim=2, param_num=1, zero_shot=True)\n",
    "model_maml.load_state_dict(torch.load('models/maml_burgers_from_scratch_4000.data'))\n",
    "model_maml.to(device)"
   ]
  },
  {
   "cell_type": "code",
   "execution_count": null,
   "id": "0a039147-fd69-46e3-b779-ffa86ccfc127",
   "metadata": {},
   "outputs": [],
   "source": [
    "vtn = 101\n",
    "vxn = 101\n",
    "nu = 0.01 / np.pi\n",
    "vx = np.linspace(-1, 1, vxn)\n",
    "vt = np.linspace(0, 1, vtn)\n",
    "x, t = np.meshgrid(vx, vt)\n",
    "x = x.reshape(-1, 1)\n",
    "t = t.reshape(-1, 1)\n",
    "alpha = np.full((x.shape), nu)\n",
    "pred = model(torch.Tensor(np.hstack((x, t, alpha))).to(device)).detach().cpu().numpy()\n",
    "# pred = model(torch.Tensor(np.hstack((x, t))).to(device)).detach().cpu().numpy()\n",
    "truth = burgers_viscous_time_exact1(nu, vxn, vx, vtn, vt).T"
   ]
  },
  {
   "cell_type": "code",
   "execution_count": null,
   "id": "f47181bf-91cb-4fb8-956b-380df8ca3e97",
   "metadata": {},
   "outputs": [],
   "source": []
  },
  {
   "cell_type": "code",
   "execution_count": null,
   "id": "43e04521-35f9-472e-adb5-efc058bb85d1",
   "metadata": {},
   "outputs": [],
   "source": [
    "plt.figure(figsize=(8, 6))\n",
    "plt.scatter(x, t, c=pred, cmap='seismic')\n",
    "plt.xlabel('x')\n",
    "plt.ylabel('t')\n",
    "plt.title('Zero-shot')\n",
    "plt.colorbar()"
   ]
  },
  {
   "cell_type": "code",
   "execution_count": null,
   "id": "6843c1c7-06e2-4f6b-8bdd-14b976e48366",
   "metadata": {},
   "outputs": [],
   "source": [
    "plt.figure(figsize=(8, 6))\n",
    "plt.scatter(x, t, c=truth, cmap='seismic')\n",
    "plt.xlabel('x')\n",
    "plt.ylabel('t')\n",
    "plt.title('Truth')\n",
    "plt.colorbar()"
   ]
  },
  {
   "cell_type": "code",
   "execution_count": null,
   "id": "3d22cfcc-13c6-44b2-b75d-9f2f76fb9ba3",
   "metadata": {},
   "outputs": [],
   "source": [
    "from maml import *"
   ]
  },
  {
   "cell_type": "code",
   "execution_count": null,
   "id": "6bf32307-c3c6-46f8-af99-620057683bfb",
   "metadata": {},
   "outputs": [],
   "source": [
    "maml = MAML(5, 0.01, 0.0005, 1,2, 1, -1, 1, eqname='burgers', zero_shot=True, load=False, modelpath='models/model_ref/burgers_zs_1000_ref.data')\n",
    "phi, _, inner_loss_i, inner_loss_b, inner_loss_f, inner_loss, nrmse_batch = maml._inner_loop(model_maml.state_dict(), nu, train=False)\n",
    "model_adapted = deepcopy(model)\n",
    "model_adapted.load_state_dict(phi)\n",
    "pred_maml = model_maml(torch.Tensor(np.hstack((x, t, alpha))).to(device)).detach().cpu().numpy()\n",
    "pred_maml_adapted = model_adapted(torch.Tensor(np.hstack((x, t, alpha))).to(device)).detach().cpu().numpy()"
   ]
  },
  {
   "cell_type": "code",
   "execution_count": null,
   "id": "838d3913-3427-410d-8c82-4bad6c82167c",
   "metadata": {},
   "outputs": [],
   "source": [
    "nrmse_batch"
   ]
  },
  {
   "cell_type": "code",
   "execution_count": null,
   "id": "9a0a6ed4-6b1f-4b6d-b3bf-1594bfa746aa",
   "metadata": {},
   "outputs": [],
   "source": [
    "plt.figure(figsize=(8, 6))\n",
    "plt.scatter(x, t, c=pred_maml, cmap='seismic')\n",
    "plt.xlabel('x')\n",
    "plt.ylabel('t')\n",
    "plt.title('MAML')\n",
    "plt.colorbar()"
   ]
  },
  {
   "cell_type": "code",
   "execution_count": null,
   "id": "44592b40-84c4-4c31-8099-edaa3f1bd640",
   "metadata": {},
   "outputs": [],
   "source": [
    "plt.figure(figsize=(8, 6))\n",
    "plt.scatter(x, t, c=pred_maml_adapted, cmap='seismic')\n",
    "plt.xlabel('x')\n",
    "plt.ylabel('t')\n",
    "plt.title('MAML-adapted')\n",
    "plt.colorbar()"
   ]
  },
  {
   "cell_type": "code",
   "execution_count": null,
   "id": "6c0ff30b-61b9-4df0-a3b7-735e6adcb0bf",
   "metadata": {},
   "outputs": [],
   "source": [
    "# loss_i, loss_b, loss_f, loss, model_pinn, val_loss, val_ood_loss, nrmse = train(epochs=2000, lr=lr, i_size=100, b_size=100, f_size=10000, zero_shot=False, alpha_list=0.01/np.pi, low=-1, high=1, eqname='burgers')"
   ]
  },
  {
   "cell_type": "code",
   "execution_count": null,
   "id": "e127f897-e6c7-4731-8dbc-982aabd2893b",
   "metadata": {},
   "outputs": [],
   "source": [
    "pred_pinn = model_pinn(torch.Tensor(np.hstack((x, t))).to(device)).detach().cpu().numpy()"
   ]
  },
  {
   "cell_type": "code",
   "execution_count": null,
   "id": "76a8eb2a-89a4-426c-9e97-f33a395c5efe",
   "metadata": {},
   "outputs": [],
   "source": [
    "plt.figure(figsize=(8, 6))\n",
    "plt.scatter(x, t, c=pred_pinn, cmap='seismic')\n",
    "plt.xlabel('x')\n",
    "plt.ylabel('t')\n",
    "plt.title('Single PINN')\n",
    "plt.colorbar()"
   ]
  },
  {
   "cell_type": "code",
   "execution_count": null,
   "id": "85618ac8-0486-4ef7-9214-91b98f3ac7b1",
   "metadata": {},
   "outputs": [],
   "source": [
    "idx = 75\n",
    "print(vt[idx])\n",
    "x_025 = np.linspace(-1, 1, 101).reshape(-1, 1)\n",
    "t_025 = np.full((x_025.shape), idx / 100)\n",
    "\n",
    "pred_ = model(torch.Tensor(np.hstack((x_025, t_025, np.full((x_025.shape), nu)))).to(device)).detach().cpu().numpy()\n",
    "pred_maml_ = model_maml(torch.Tensor(np.hstack((x_025, t_025, np.full((x_025.shape), nu)))).to(device)).detach().cpu().numpy()\n",
    "pred_pinn_ = model_pinn(torch.Tensor(np.hstack((x_025, t_025))).to(device)).detach().cpu().numpy()\n",
    "task = 0.01 / np.pi\n",
    "# test_in = np.hstack((x, t, alpha))\n",
    "test_in_t = np.hstack((x_025, t_025, np.full((x_025.shape), task)))\n",
    "\n",
    "model_adapted = deepcopy(model)\n",
    "model_adapted.load_state_dict(phi)\n",
    "# Y2 = model_adapted(torch.Tensor(test_in).to(device)).detach().cpu().numpy()\n",
    "Y2_t = model_adapted(torch.Tensor(test_in_t).to(device)).detach().cpu().numpy()"
   ]
  },
  {
   "cell_type": "code",
   "execution_count": null,
   "id": "9af929d9-0873-4fbf-be22-3a0d7961963a",
   "metadata": {},
   "outputs": [],
   "source": [
    "plt.plot(truth[idx, :], 'k', linewidth=3, label='truth')\n",
    "plt.plot(pred_, 'b--', linewidth=3, label='zero-shot')\n",
    "plt.plot(pred_maml_, 'g--', linewidth=3, label='MAML')\n",
    "plt.plot(pred_pinn_, 'r--', linewidth=3, label='PINN')\n",
    "plt.plot(Y2_t, 'y--', linewidth=3, label='MAML-adapted')\n",
    "plt.legend()\n",
    "plt.title('t={}'.format(vt[idx]))"
   ]
  },
  {
   "cell_type": "code",
   "execution_count": null,
   "id": "8dcec4e3-d254-439b-ab3d-d3626790e1ba",
   "metadata": {},
   "outputs": [],
   "source": [
    "np.sqrt(np.sum((pred-truth.reshape(-1, 1)) ** 2) / np.sum(pred ** 2))"
   ]
  },
  {
   "cell_type": "code",
   "execution_count": null,
   "id": "5178f12f-ba2e-4a17-b2a8-eebb462e5940",
   "metadata": {},
   "outputs": [],
   "source": [
    "np.mean(np.abs(pred-truth.reshape(-1, 1)))"
   ]
  },
  {
   "cell_type": "code",
   "execution_count": null,
   "id": "5f9034d9-7226-410b-898b-ee0be3ba6f4f",
   "metadata": {},
   "outputs": [],
   "source": [
    "plt.scatter(x, t, c=((pred.reshape(101, 101) - truth) ** 2).reshape(-1, 1), cmap='seismic')\n",
    "plt.colorbar()"
   ]
  }
 ],
 "metadata": {
  "kernelspec": {
   "display_name": "torch",
   "language": "python",
   "name": "torch-1.10.1"
  },
  "language_info": {
   "codemirror_mode": {
    "name": "ipython",
    "version": 3
   },
   "file_extension": ".py",
   "mimetype": "text/x-python",
   "name": "python",
   "nbconvert_exporter": "python",
   "pygments_lexer": "ipython3",
   "version": "3.9.12"
  }
 },
 "nbformat": 4,
 "nbformat_minor": 5
}

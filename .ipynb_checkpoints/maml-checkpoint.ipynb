{
 "cells": [
  {
   "cell_type": "code",
   "execution_count": 1,
   "id": "13fab8b6-cb38-4b19-aade-f0939939bc93",
   "metadata": {},
   "outputs": [],
   "source": [
    "from maml import *\n",
    "import matplotlib.pyplot as plt"
   ]
  },
  {
   "cell_type": "code",
   "execution_count": 2,
   "id": "d8e3a9ab-9d5b-49a7-9ad6-6ad5b4eab18f",
   "metadata": {},
   "outputs": [
    {
     "name": "stdout",
     "output_type": "stream",
     "text": [
      "Initializing MAML-PINN model\n",
      "Finished initialization of MAML-PINN model\n",
      "Start MAML training at iteration 0\n",
      "Validation (0.500, 0.500)| Inner_loss_B: 0.0014 | Inner_loss_F: 0.0658 | Inner_loss: 0.0799\n",
      "Validation OOD (1.300, 1.300) | Inner_loss_B: 0.0013 | Inner_loss_F: 1.1557 | Inner_loss: 1.1691\n",
      "Validation (0.500, 0.500)| Inner_loss_B: 0.0014 | Inner_loss_F: 0.0673 | Inner_loss: 0.0810\n",
      "Validation OOD (1.300, 1.300) | Inner_loss_B: 0.0021 | Inner_loss_F: 1.0170 | Inner_loss: 1.0382\n",
      "Validation (0.500, 0.500)| Inner_loss_B: 0.0015 | Inner_loss_F: 0.0731 | Inner_loss: 0.0881\n",
      "Validation OOD (1.300, 1.300) | Inner_loss_B: 0.0013 | Inner_loss_F: 1.3112 | Inner_loss: 1.3242\n",
      "Validation (0.500, 0.500)| Inner_loss_B: 0.0020 | Inner_loss_F: 0.1042 | Inner_loss: 0.1241\n",
      "Validation OOD (1.300, 1.300) | Inner_loss_B: 0.0017 | Inner_loss_F: 1.0564 | Inner_loss: 1.0731\n",
      "Validation (0.500, 0.500)| Inner_loss_B: 0.0019 | Inner_loss_F: 0.0978 | Inner_loss: 0.1165\n",
      "Validation OOD (1.300, 1.300) | Inner_loss_B: 0.0013 | Inner_loss_F: 1.2433 | Inner_loss: 1.2558\n",
      "Validation (0.500, 0.500)| Inner_loss_B: 0.0020 | Inner_loss_F: 0.1063 | Inner_loss: 0.1266\n",
      "Validation OOD (1.300, 1.300) | Inner_loss_B: 0.0017 | Inner_loss_F: 1.1969 | Inner_loss: 1.2135\n",
      "Validation (0.500, 0.500)| Inner_loss_B: 0.0018 | Inner_loss_F: 0.0961 | Inner_loss: 0.1144\n",
      "Validation OOD (1.300, 1.300) | Inner_loss_B: 0.0017 | Inner_loss_F: 1.0327 | Inner_loss: 1.0499\n",
      "Validation (0.500, 0.500)| Inner_loss_B: 0.0017 | Inner_loss_F: 0.0884 | Inner_loss: 0.1056\n",
      "Validation OOD (1.300, 1.300) | Inner_loss_B: 0.0015 | Inner_loss_F: 1.2168 | Inner_loss: 1.2319\n",
      "Validation (0.500, 0.500)| Inner_loss_B: 0.0018 | Inner_loss_F: 0.0909 | Inner_loss: 0.1087\n",
      "Validation OOD (1.300, 1.300) | Inner_loss_B: 0.0018 | Inner_loss_F: 1.0488 | Inner_loss: 1.0668\n",
      "Step 100 | Inner_loss_B: 0.0017 | Inner_loss_F: 0.1495\n",
      "Validation (0.500, 0.500)| Inner_loss_B: 0.0016 | Inner_loss_F: 0.0791 | Inner_loss: 0.0949\n",
      "Validation OOD (1.300, 1.300) | Inner_loss_B: 0.0011 | Inner_loss_F: 1.2176 | Inner_loss: 1.2287\n",
      "Validation (0.500, 0.500)| Inner_loss_B: 0.0017 | Inner_loss_F: 0.0840 | Inner_loss: 0.1006\n",
      "Validation OOD (1.300, 1.300) | Inner_loss_B: 0.0016 | Inner_loss_F: 1.1043 | Inner_loss: 1.1205\n",
      "Validation (0.500, 0.500)| Inner_loss_B: 0.0016 | Inner_loss_F: 0.0860 | Inner_loss: 0.1023\n",
      "Validation OOD (1.300, 1.300) | Inner_loss_B: 0.0020 | Inner_loss_F: 1.0276 | Inner_loss: 1.0474\n",
      "Validation (0.500, 0.500)| Inner_loss_B: 0.0017 | Inner_loss_F: 0.0871 | Inner_loss: 0.1042\n",
      "Validation OOD (1.300, 1.300) | Inner_loss_B: 0.0017 | Inner_loss_F: 1.1103 | Inner_loss: 1.1276\n",
      "Validation (0.500, 0.500)| Inner_loss_B: 0.0017 | Inner_loss_F: 0.0882 | Inner_loss: 0.1057\n",
      "Validation OOD (1.300, 1.300) | Inner_loss_B: 0.0018 | Inner_loss_F: 0.9930 | Inner_loss: 1.0111\n",
      "Validation (0.500, 0.500)| Inner_loss_B: 0.0014 | Inner_loss_F: 0.0709 | Inner_loss: 0.0851\n",
      "Validation OOD (1.300, 1.300) | Inner_loss_B: 0.0015 | Inner_loss_F: 1.3090 | Inner_loss: 1.3239\n",
      "Validation (0.500, 0.500)| Inner_loss_B: 0.0018 | Inner_loss_F: 0.0893 | Inner_loss: 0.1070\n",
      "Validation OOD (1.300, 1.300) | Inner_loss_B: 0.0013 | Inner_loss_F: 1.1744 | Inner_loss: 1.1874\n",
      "Validation (0.500, 0.500)| Inner_loss_B: 0.0017 | Inner_loss_F: 0.0869 | Inner_loss: 0.1043\n",
      "Validation OOD (1.300, 1.300) | Inner_loss_B: 0.0012 | Inner_loss_F: 1.0785 | Inner_loss: 1.0908\n",
      "Validation (0.500, 0.500)| Inner_loss_B: 0.0014 | Inner_loss_F: 0.0678 | Inner_loss: 0.0821\n",
      "Validation OOD (1.300, 1.300) | Inner_loss_B: 0.0017 | Inner_loss_F: 1.0048 | Inner_loss: 1.0222\n",
      "Validation (0.500, 0.500)| Inner_loss_B: 0.0015 | Inner_loss_F: 0.0781 | Inner_loss: 0.0936\n",
      "Validation OOD (1.300, 1.300) | Inner_loss_B: 0.0012 | Inner_loss_F: 1.1772 | Inner_loss: 1.1893\n",
      "Step 200 | Inner_loss_B: 0.0012 | Inner_loss_F: 0.5669\n",
      "Validation (0.500, 0.500)| Inner_loss_B: 0.0018 | Inner_loss_F: 0.0931 | Inner_loss: 0.1110\n",
      "Validation OOD (1.300, 1.300) | Inner_loss_B: 0.0013 | Inner_loss_F: 1.2245 | Inner_loss: 1.2372\n",
      "Validation (0.500, 0.500)| Inner_loss_B: 0.0016 | Inner_loss_F: 0.0836 | Inner_loss: 0.0998\n",
      "Validation OOD (1.300, 1.300) | Inner_loss_B: 0.0016 | Inner_loss_F: 1.2149 | Inner_loss: 1.2312\n",
      "Validation (0.500, 0.500)| Inner_loss_B: 0.0016 | Inner_loss_F: 0.0813 | Inner_loss: 0.0975\n",
      "Validation OOD (1.300, 1.300) | Inner_loss_B: 0.0012 | Inner_loss_F: 1.2728 | Inner_loss: 1.2844\n",
      "Validation (0.500, 0.500)| Inner_loss_B: 0.0015 | Inner_loss_F: 0.0741 | Inner_loss: 0.0890\n",
      "Validation OOD (1.300, 1.300) | Inner_loss_B: 0.0014 | Inner_loss_F: 1.1521 | Inner_loss: 1.1660\n",
      "Validation (0.500, 0.500)| Inner_loss_B: 0.0018 | Inner_loss_F: 0.0953 | Inner_loss: 0.1138\n",
      "Validation OOD (1.300, 1.300) | Inner_loss_B: 0.0013 | Inner_loss_F: 1.1464 | Inner_loss: 1.1595\n",
      "Validation (0.500, 0.500)| Inner_loss_B: 0.0018 | Inner_loss_F: 0.0901 | Inner_loss: 0.1078\n",
      "Validation OOD (1.300, 1.300) | Inner_loss_B: 0.0016 | Inner_loss_F: 1.0597 | Inner_loss: 1.0758\n",
      "Validation (0.500, 0.500)| Inner_loss_B: 0.0015 | Inner_loss_F: 0.0759 | Inner_loss: 0.0913\n",
      "Validation OOD (1.300, 1.300) | Inner_loss_B: 0.0019 | Inner_loss_F: 1.1636 | Inner_loss: 1.1824\n",
      "Validation (0.500, 0.500)| Inner_loss_B: 0.0016 | Inner_loss_F: 0.0815 | Inner_loss: 0.0977\n",
      "Validation OOD (1.300, 1.300) | Inner_loss_B: 0.0021 | Inner_loss_F: 1.0611 | Inner_loss: 1.0817\n"
     ]
    },
    {
     "ename": "KeyboardInterrupt",
     "evalue": "",
     "output_type": "error",
     "traceback": [
      "\u001b[1;31m---------------------------------------------------------------------------\u001b[0m",
      "\u001b[1;31mKeyboardInterrupt\u001b[0m                         Traceback (most recent call last)",
      "Input \u001b[1;32mIn [2]\u001b[0m, in \u001b[0;36m<cell line: 2>\u001b[1;34m()\u001b[0m\n\u001b[0;32m      1\u001b[0m maml \u001b[38;5;241m=\u001b[39m MAML(\u001b[38;5;241m10\u001b[39m, \u001b[38;5;241m0.01\u001b[39m, \u001b[38;5;241m0.001\u001b[39m, \u001b[38;5;241m2\u001b[39m, \u001b[38;5;241m100\u001b[39m)\n\u001b[1;32m----> 2\u001b[0m train_loss, val_loss, val_ood_loss, model \u001b[38;5;241m=\u001b[39m \u001b[43mmaml\u001b[49m\u001b[38;5;241;43m.\u001b[39;49m\u001b[43mtrain\u001b[49m\u001b[43m(\u001b[49m\u001b[38;5;241;43m1000\u001b[39;49m\u001b[43m,\u001b[49m\u001b[43m \u001b[49m\u001b[38;5;241;43m1\u001b[39;49m\u001b[43m)\u001b[49m\n",
      "File \u001b[1;32m~\\Documents\\GitHub\\pinn-maml-vs-zsl\\maml.py:249\u001b[0m, in \u001b[0;36mMAML.train\u001b[1;34m(self, train_steps, num_train_tasks)\u001b[0m\n\u001b[0;32m    247\u001b[0m \u001b[38;5;28mself\u001b[39m\u001b[38;5;241m.\u001b[39m_train_step \u001b[38;5;241m+\u001b[39m\u001b[38;5;241m=\u001b[39m \u001b[38;5;241m1\u001b[39m\n\u001b[0;32m    248\u001b[0m train_task \u001b[38;5;241m=\u001b[39m generate_task(num_train_tasks)\n\u001b[1;32m--> 249\u001b[0m inner_loss, inner_loss_b, inner_loss_f \u001b[38;5;241m=\u001b[39m \u001b[38;5;28;43mself\u001b[39;49m\u001b[38;5;241;43m.\u001b[39;49m\u001b[43m_outer_loop\u001b[49m\u001b[43m(\u001b[49m\u001b[43mtrain_task\u001b[49m\u001b[43m,\u001b[49m\u001b[43m \u001b[49m\u001b[43mtrain\u001b[49m\u001b[38;5;241;43m=\u001b[39;49m\u001b[38;5;28;43;01mTrue\u001b[39;49;00m\u001b[43m)\u001b[49m\n\u001b[0;32m    250\u001b[0m \u001b[38;5;66;03m# train_loss['outer_loss'].append(outer_loss)\u001b[39;00m\n\u001b[0;32m    251\u001b[0m \u001b[38;5;66;03m# train_loss['outer_loss_b'].append(outer_loss_b)\u001b[39;00m\n\u001b[0;32m    252\u001b[0m \u001b[38;5;66;03m# train_loss['outer_loss_f'].append(outer_loss_f)\u001b[39;00m\n\u001b[0;32m    253\u001b[0m train_loss[\u001b[38;5;124m'\u001b[39m\u001b[38;5;124minner_loss\u001b[39m\u001b[38;5;124m'\u001b[39m]\u001b[38;5;241m.\u001b[39mappend(inner_loss)\n",
      "File \u001b[1;32m~\\Documents\\GitHub\\pinn-maml-vs-zsl\\maml.py:169\u001b[0m, in \u001b[0;36mMAML._outer_loop\u001b[1;34m(self, task_batch, train)\u001b[0m\n\u001b[0;32m    167\u001b[0m \u001b[38;5;28;01mfor\u001b[39;00m task \u001b[38;5;129;01min\u001b[39;00m task_batch:\n\u001b[0;32m    168\u001b[0m     support \u001b[38;5;241m=\u001b[39m task\n\u001b[1;32m--> 169\u001b[0m     phi, grad, loss_sup_b, loss_sup_f, loss_sup \u001b[38;5;241m=\u001b[39m \u001b[38;5;28;43mself\u001b[39;49m\u001b[38;5;241;43m.\u001b[39;49m\u001b[43m_inner_loop\u001b[49m\u001b[43m(\u001b[49m\u001b[43mtheta\u001b[49m\u001b[43m,\u001b[49m\u001b[43m \u001b[49m\u001b[43msupport\u001b[49m\u001b[43m)\u001b[49m\n\u001b[0;32m    170\u001b[0m     inner_loss_b\u001b[38;5;241m.\u001b[39mappend(loss_sup_b[\u001b[38;5;241m-\u001b[39m\u001b[38;5;241m1\u001b[39m])\n\u001b[0;32m    171\u001b[0m     inner_loss_f\u001b[38;5;241m.\u001b[39mappend(loss_sup_f[\u001b[38;5;241m-\u001b[39m\u001b[38;5;241m1\u001b[39m])\n",
      "File \u001b[1;32m~\\Documents\\GitHub\\pinn-maml-vs-zsl\\maml.py:102\u001b[0m, in \u001b[0;36mMAML._inner_loop\u001b[1;34m(self, theta, support, train)\u001b[0m\n\u001b[0;32m     99\u001b[0m target_f \u001b[38;5;241m=\u001b[39m target_f\u001b[38;5;241m.\u001b[39mto(\u001b[38;5;28mself\u001b[39m\u001b[38;5;241m.\u001b[39mdevice)\n\u001b[0;32m    101\u001b[0m loss_b \u001b[38;5;241m=\u001b[39m loss_fn(model_phi(input_b), target_b)\n\u001b[1;32m--> 102\u001b[0m loss_f \u001b[38;5;241m=\u001b[39m \u001b[43mmodel_phi\u001b[49m\u001b[38;5;241;43m.\u001b[39;49m\u001b[43mcalc_loss_f\u001b[49m\u001b[43m(\u001b[49m\u001b[43minput_f\u001b[49m\u001b[43m,\u001b[49m\u001b[43m \u001b[49m\u001b[43mtarget_f\u001b[49m\u001b[43m,\u001b[49m\u001b[43m \u001b[49m\u001b[43malpha\u001b[49m\u001b[43m,\u001b[49m\u001b[43m \u001b[49m\u001b[43mbeta\u001b[49m\u001b[43m)\u001b[49m\n\u001b[0;32m    104\u001b[0m loss_b\u001b[38;5;241m.\u001b[39mto(\u001b[38;5;28mself\u001b[39m\u001b[38;5;241m.\u001b[39mdevice)\n\u001b[0;32m    105\u001b[0m loss_f\u001b[38;5;241m.\u001b[39mto(\u001b[38;5;28mself\u001b[39m\u001b[38;5;241m.\u001b[39mdevice)\n",
      "File \u001b[1;32m~\\Documents\\GitHub\\pinn-maml-vs-zsl\\model.py:70\u001b[0m, in \u001b[0;36mPINN.calc_loss_f\u001b[1;34m(self, input, target, alpha, beta)\u001b[0m\n\u001b[0;32m     68\u001b[0m u_hat_x \u001b[38;5;241m=\u001b[39m deriv_1[\u001b[38;5;241m0\u001b[39m][:, \u001b[38;5;241m0\u001b[39m]\u001b[38;5;241m.\u001b[39mreshape(\u001b[38;5;241m-\u001b[39m\u001b[38;5;241m1\u001b[39m, \u001b[38;5;241m1\u001b[39m)\n\u001b[0;32m     69\u001b[0m \u001b[38;5;66;03m# u_hat_t = deriv_1[0][:, 1].reshape(-1, 1)\u001b[39;00m\n\u001b[1;32m---> 70\u001b[0m deriv_2 \u001b[38;5;241m=\u001b[39m \u001b[43mautograd\u001b[49m\u001b[38;5;241;43m.\u001b[39;49m\u001b[43mgrad\u001b[49m\u001b[43m(\u001b[49m\u001b[43mu_hat_x\u001b[49m\u001b[38;5;241;43m.\u001b[39;49m\u001b[43msum\u001b[49m\u001b[43m(\u001b[49m\u001b[43m)\u001b[49m\u001b[43m,\u001b[49m\u001b[43m \u001b[49m\u001b[38;5;28;43minput\u001b[39;49m\u001b[43m,\u001b[49m\u001b[43m \u001b[49m\u001b[43mcreate_graph\u001b[49m\u001b[38;5;241;43m=\u001b[39;49m\u001b[38;5;28;43;01mTrue\u001b[39;49;00m\u001b[43m)\u001b[49m\n\u001b[0;32m     71\u001b[0m u_hat_x_x \u001b[38;5;241m=\u001b[39m deriv_2[\u001b[38;5;241m0\u001b[39m][:, \u001b[38;5;241m0\u001b[39m]\u001b[38;5;241m.\u001b[39mreshape(\u001b[38;5;241m-\u001b[39m\u001b[38;5;241m1\u001b[39m, \u001b[38;5;241m1\u001b[39m)\n\u001b[0;32m     73\u001b[0m \u001b[38;5;66;03m# to modify governing equation, modify here\u001b[39;00m\n\u001b[0;32m     74\u001b[0m \u001b[38;5;66;03m# f = u_hat_t + u_hat * u_hat_x - z * u_hat_x_x\u001b[39;00m\n",
      "File \u001b[1;32m~\\anaconda3\\envs\\torch-1.10.1\\lib\\site-packages\\torch\\autograd\\__init__.py:234\u001b[0m, in \u001b[0;36mgrad\u001b[1;34m(outputs, inputs, grad_outputs, retain_graph, create_graph, only_inputs, allow_unused)\u001b[0m\n\u001b[0;32m    231\u001b[0m \u001b[38;5;28;01mif\u001b[39;00m retain_graph \u001b[38;5;129;01mis\u001b[39;00m \u001b[38;5;28;01mNone\u001b[39;00m:\n\u001b[0;32m    232\u001b[0m     retain_graph \u001b[38;5;241m=\u001b[39m create_graph\n\u001b[1;32m--> 234\u001b[0m \u001b[38;5;28;01mreturn\u001b[39;00m \u001b[43mVariable\u001b[49m\u001b[38;5;241;43m.\u001b[39;49m\u001b[43m_execution_engine\u001b[49m\u001b[38;5;241;43m.\u001b[39;49m\u001b[43mrun_backward\u001b[49m\u001b[43m(\u001b[49m\n\u001b[0;32m    235\u001b[0m \u001b[43m    \u001b[49m\u001b[43moutputs\u001b[49m\u001b[43m,\u001b[49m\u001b[43m \u001b[49m\u001b[43mgrad_outputs_\u001b[49m\u001b[43m,\u001b[49m\u001b[43m \u001b[49m\u001b[43mretain_graph\u001b[49m\u001b[43m,\u001b[49m\u001b[43m \u001b[49m\u001b[43mcreate_graph\u001b[49m\u001b[43m,\u001b[49m\n\u001b[0;32m    236\u001b[0m \u001b[43m    \u001b[49m\u001b[43minputs\u001b[49m\u001b[43m,\u001b[49m\u001b[43m \u001b[49m\u001b[43mallow_unused\u001b[49m\u001b[43m,\u001b[49m\u001b[43m \u001b[49m\u001b[43maccumulate_grad\u001b[49m\u001b[38;5;241;43m=\u001b[39;49m\u001b[38;5;28;43;01mFalse\u001b[39;49;00m\u001b[43m)\u001b[49m\n",
      "\u001b[1;31mKeyboardInterrupt\u001b[0m: "
     ]
    }
   ],
   "source": [
    "maml = MAML(10, 0.01, 0.001, 2, 100)\n",
    "train_loss, val_loss, val_ood_loss, model = maml.train(1000, 5)"
   ]
  },
  {
   "cell_type": "code",
   "execution_count": null,
   "id": "195ae952-2dae-49cf-8066-5c8643128e13",
   "metadata": {},
   "outputs": [],
   "source": [
    "steps = [ 10000 / len(train_loss['outer_loss']) * i for i in range(len(train_loss['outer_loss']))]\n",
    "idx = [100 * i for i in range(100)]\n",
    "loss = train_loss['inner_loss_f'][::100]\n",
    "plt.plot(idx, loss)\n",
    "# plt.plot(train_loss['inner_loss'])"
   ]
  }
 ],
 "metadata": {
  "kernelspec": {
   "display_name": "torch",
   "language": "python",
   "name": "torch-1.10.1"
  },
  "language_info": {
   "codemirror_mode": {
    "name": "ipython",
    "version": 3
   },
   "file_extension": ".py",
   "mimetype": "text/x-python",
   "name": "python",
   "nbconvert_exporter": "python",
   "pygments_lexer": "ipython3",
   "version": "3.9.12"
  }
 },
 "nbformat": 4,
 "nbformat_minor": 5
}

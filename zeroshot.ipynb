{
 "cells": [
  {
   "cell_type": "code",
   "execution_count": 1,
   "id": "e2871da3-a673-4d26-9a0b-11bcd78a9b69",
   "metadata": {},
   "outputs": [],
   "source": [
    "from train import *"
   ]
  },
  {
   "cell_type": "code",
   "execution_count": 2,
   "id": "820fbbbb-ebc6-4702-90b1-56decde27494",
   "metadata": {},
   "outputs": [
    {
     "name": "stdout",
     "output_type": "stream",
     "text": [
      "Current device: cuda\n"
     ]
    }
   ],
   "source": [
    "device = torch.device('cuda' if torch.cuda.is_available() else 'cpu')\n",
    "print(\"Current device:\", device)"
   ]
  },
  {
   "cell_type": "code",
   "execution_count": 3,
   "id": "a6e33fe2-2fa3-4f8e-82e5-87720cc821e8",
   "metadata": {},
   "outputs": [],
   "source": [
    "def lhs(size, lb=-1, rb=1):\n",
    "    res = np.zeros(size)\n",
    "    length = (rb - lb) / size\n",
    "    for i in range(size):\n",
    "        sub_lb = lb + length * i\n",
    "        sub_rb = lb + length * (i + 1)\n",
    "        res[i] = np.random.rand() * length + sub_lb\n",
    "    return res\n",
    "        "
   ]
  },
  {
   "cell_type": "code",
   "execution_count": 4,
   "id": "b83f38ef-efc5-4bb9-9f10-d486996ea2dc",
   "metadata": {},
   "outputs": [
    {
     "name": "stdout",
     "output_type": "stream",
     "text": [
      "[-0.9384699  -0.56117178  0.1966049   0.57586897  0.85513018]\n",
      "[-0.98604779 -0.20626573  0.12107141  0.22055095  0.66613367]\n",
      "Current device: cuda\n",
      "alpha, beta: [-0.3184220962543287], [-0.3704143925170109] Val. MSE: 0.221 | alpha, beta: [1.4663987399919605], [1.0333723858270831] Val. OOD MSE: 2.039\n",
      "alpha, beta: [0.1744106445606941], [0.7780697195241137] Val. MSE: 0.187 | alpha, beta: [1.4444089404777567], [1.3613350359495189] Val. OOD MSE: 0.836\n",
      "Epoch 100 | Loss_I: nan | Loss_B: 0.6029 | Loss_F: 4.5794\n"
     ]
    },
    {
     "name": "stderr",
     "output_type": "stream",
     "text": [
      "C:\\Users\\fembem\\anaconda3\\envs\\torch-1.10.1\\lib\\site-packages\\numpy\\core\\fromnumeric.py:3474: RuntimeWarning: Mean of empty slice.\n",
      "  return _methods._mean(a, axis=axis, dtype=dtype,\n",
      "C:\\Users\\fembem\\anaconda3\\envs\\torch-1.10.1\\lib\\site-packages\\numpy\\core\\_methods.py:189: RuntimeWarning: invalid value encountered in double_scalars\n",
      "  ret = ret.dtype.type(ret / rcount)\n"
     ]
    },
    {
     "name": "stdout",
     "output_type": "stream",
     "text": [
      "alpha, beta: [-0.5471676480355505], [-0.773475931354392] Val. MSE: 0.111 | alpha, beta: [1.060430232716466], [1.4020196629949098] Val. OOD MSE: 0.521\n",
      "alpha, beta: [0.22420293073041742], [0.3481673470017794] Val. MSE: 0.151 | alpha, beta: [1.0773191960114965], [1.261456827575551] Val. OOD MSE: 0.388\n",
      "Epoch 200 | Loss_I: nan | Loss_B: 0.3566 | Loss_F: 3.6326\n",
      "alpha, beta: [0.3748435571751991], [-0.3270083454504238] Val. MSE: 0.072 | alpha, beta: [1.2200279143258759], [1.0114015814166986] Val. OOD MSE: 0.245\n",
      "alpha, beta: [0.9728894989925412], [0.6448668454036421] Val. MSE: 0.064 | alpha, beta: [1.1309311364120493], [1.2704203214547802] Val. OOD MSE: 0.387\n",
      "Epoch 300 | Loss_I: nan | Loss_B: 0.2537 | Loss_F: 3.0140\n",
      "alpha, beta: [0.24065467140758456], [0.9311959422853089] Val. MSE: 0.326 | alpha, beta: [1.0853040718845175], [1.157894459634201] Val. OOD MSE: 0.370\n",
      "alpha, beta: [-0.24238751563614236], [-0.554077645734476] Val. MSE: 0.015 | alpha, beta: [1.346169509431738], [1.2809165580702309] Val. OOD MSE: 0.397\n",
      "Epoch 400 | Loss_I: nan | Loss_B: 0.1968 | Loss_F: 2.4679\n",
      "alpha, beta: [0.9594632083506405], [0.3905440679378296] Val. MSE: 0.018 | alpha, beta: [1.0012791678279933], [1.0601904526157666] Val. OOD MSE: 0.219\n",
      "alpha, beta: [0.739073377722818], [0.30390590586692157] Val. MSE: 0.018 | alpha, beta: [1.3786508988597885], [1.422286407214043] Val. OOD MSE: 0.346\n",
      "Epoch 500 | Loss_I: nan | Loss_B: 0.1586 | Loss_F: 2.0439\n",
      "alpha, beta: [-0.05724586994033154], [0.8328533355205914] Val. MSE: 0.095 | alpha, beta: [1.0987128744917767], [1.0105832836131377] Val. OOD MSE: 0.139\n",
      "alpha, beta: [-0.47530121534691583], [0.3179017923790608] Val. MSE: 0.037 | alpha, beta: [1.0447795698025435], [1.4733139690779016] Val. OOD MSE: 0.351\n",
      "Epoch 600 | Loss_I: nan | Loss_B: 0.1326 | Loss_F: 1.7346\n",
      "alpha, beta: [-0.8127903748441319], [-0.4238215703417285] Val. MSE: 0.086 | alpha, beta: [1.4438010282905964], [1.486132701836144] Val. OOD MSE: 0.335\n",
      "alpha, beta: [0.06791946048786168], [-0.8492006274834993] Val. MSE: 0.048 | alpha, beta: [1.366141846784352], [1.1936906420399518] Val. OOD MSE: 0.189\n",
      "Epoch 700 | Loss_I: nan | Loss_B: 0.1138 | Loss_F: 1.5029\n",
      "alpha, beta: [-0.5832899781861234], [-0.414246784101018] Val. MSE: 0.043 | alpha, beta: [1.3692500782658792], [1.0062409465909679] Val. OOD MSE: 0.117\n",
      "alpha, beta: [0.2677930364970773], [-0.11297750013766272] Val. MSE: 0.014 | alpha, beta: [1.2072506474524294], [1.4206191543433868] Val. OOD MSE: 0.249\n",
      "Epoch 800 | Loss_I: nan | Loss_B: 0.0998 | Loss_F: 1.3232\n",
      "alpha, beta: [0.5026876069574995], [-0.8185672870066454] Val. MSE: 0.058 | alpha, beta: [1.2407839746041245], [1.2611181801272096] Val. OOD MSE: 0.162\n",
      "alpha, beta: [-0.8055227947094901], [0.6894470965461463] Val. MSE: 0.019 | alpha, beta: [1.3105564788603359], [1.329048291037765] Val. OOD MSE: 0.177\n",
      "Epoch 900 | Loss_I: nan | Loss_B: 0.0888 | Loss_F: 1.1810\n",
      "alpha, beta: [-0.912675943794228], [-0.38788696958] Val. MSE: 0.020 | alpha, beta: [1.0921432349086238], [1.2326649916296213] Val. OOD MSE: 0.138\n",
      "alpha, beta: [-0.5649490004946653], [0.6778292096222038] Val. MSE: 0.024 | alpha, beta: [1.3655753279745992], [1.1265912527601825] Val. OOD MSE: 0.100\n",
      "Epoch 1000 | Loss_I: nan | Loss_B: 0.0800 | Loss_F: 1.0662\n",
      "alpha, beta: [0.6730189644877071], [0.1366143844763641] Val. MSE: 0.018 | alpha, beta: [1.3967840419193767], [1.4221942302268311] Val. OOD MSE: 0.204\n",
      "alpha, beta: [0.9176030194989973], [0.4444336841941814] Val. MSE: 0.024 | alpha, beta: [1.1856832888612283], [1.1592237583129945] Val. OOD MSE: 0.107\n",
      "Epoch 1100 | Loss_I: nan | Loss_B: 0.0729 | Loss_F: 0.9718\n",
      "alpha, beta: [0.591887465777271], [-0.28780399387885747] Val. MSE: 0.019 | alpha, beta: [1.1203687486205214], [1.035191279540347] Val. OOD MSE: 0.073\n",
      "alpha, beta: [-0.8301021331235037], [0.3477280351937355] Val. MSE: 0.016 | alpha, beta: [1.354613858963545], [1.2918259141584083] Val. OOD MSE: 0.158\n",
      "Epoch 1200 | Loss_I: nan | Loss_B: 0.0669 | Loss_F: 0.8928\n",
      "alpha, beta: [-0.15345939558449584], [-0.04825748162113008] Val. MSE: 0.018 | alpha, beta: [1.3396221180424817], [1.498680073991868] Val. OOD MSE: 0.253\n",
      "alpha, beta: [-0.7091607543418201], [-0.8870340411903221] Val. MSE: 0.051 | alpha, beta: [1.3331194514315627], [1.244338404301714] Val. OOD MSE: 0.149\n",
      "Epoch 1300 | Loss_I: nan | Loss_B: 0.0618 | Loss_F: 0.8257\n",
      "alpha, beta: [-0.06376315964300927], [0.8331377443201349] Val. MSE: 0.021 | alpha, beta: [1.2093890352315655], [1.462900585636123] Val. OOD MSE: 0.254\n",
      "alpha, beta: [-0.8951432007514089], [-0.498157317177371] Val. MSE: 0.050 | alpha, beta: [1.055637470086159], [1.2691034420376845] Val. OOD MSE: 0.173\n",
      "Epoch 1400 | Loss_I: nan | Loss_B: 0.0574 | Loss_F: 0.7681\n",
      "alpha, beta: [0.7949242036093616], [0.40438963408924855] Val. MSE: 0.013 | alpha, beta: [1.240006315293326], [1.3051122470073022] Val. OOD MSE: 0.189\n",
      "alpha, beta: [-0.6107837710740962], [-0.41598851314037755] Val. MSE: 0.054 | alpha, beta: [1.1425731985133705], [1.465475440096082] Val. OOD MSE: 0.274\n",
      "Epoch 1500 | Loss_I: nan | Loss_B: 0.0537 | Loss_F: 0.7180\n",
      "alpha, beta: [0.5297601037277391], [-0.6134426956635259] Val. MSE: 0.099 | alpha, beta: [1.4791948220810995], [1.014785273251288] Val. OOD MSE: 0.112\n",
      "alpha, beta: [-0.9407560849984191], [0.6226984504188258] Val. MSE: 0.019 | alpha, beta: [1.012199929084421], [1.4434268172798865] Val. OOD MSE: 0.277\n",
      "Epoch 1600 | Loss_I: nan | Loss_B: 0.0504 | Loss_F: 0.6741\n",
      "alpha, beta: [-0.5105431567986567], [0.8686583103567351] Val. MSE: 0.041 | alpha, beta: [1.380539438861531], [1.1064612479548834] Val. OOD MSE: 0.136\n",
      "alpha, beta: [-0.2999496134786137], [0.5258524122667165] Val. MSE: 0.036 | alpha, beta: [1.188719062923461], [1.4000270705068787] Val. OOD MSE: 0.258\n",
      "Epoch 1700 | Loss_I: nan | Loss_B: 0.0474 | Loss_F: 0.6353\n",
      "alpha, beta: [0.9481262816276002], [0.016838819679095396] Val. MSE: 0.018 | alpha, beta: [1.0779763201181405], [1.0070137599137712] Val. OOD MSE: 0.098\n",
      "alpha, beta: [0.8127017464616357], [0.2996035940146764] Val. MSE: 0.010 | alpha, beta: [1.4022900785473114], [1.4385898383786238] Val. OOD MSE: 0.283\n",
      "Epoch 1800 | Loss_I: nan | Loss_B: 0.0448 | Loss_F: 0.6008\n",
      "alpha, beta: [0.05988471376469451], [-0.5038352107057005] Val. MSE: 0.060 | alpha, beta: [1.1445870398568236], [1.251334659665065] Val. OOD MSE: 0.199\n",
      "alpha, beta: [0.4373236055846095], [-0.08664989067180429] Val. MSE: 0.025 | alpha, beta: [1.2465908336198028], [1.2364842295006673] Val. OOD MSE: 0.196\n",
      "Epoch 1900 | Loss_I: nan | Loss_B: 0.0425 | Loss_F: 0.5698\n",
      "alpha, beta: [-0.3570275888395167], [0.9158243153789916] Val. MSE: 0.046 | alpha, beta: [1.3242762672129222], [1.420818910947006] Val. OOD MSE: 0.286\n",
      "alpha, beta: [-0.05823550553879353], [-0.2213331219411332] Val. MSE: 0.008 | alpha, beta: [1.2180256834449017], [1.0610989858478297] Val. OOD MSE: 0.129\n",
      "Epoch 2000 | Loss_I: nan | Loss_B: 0.0404 | Loss_F: 0.5419\n",
      "alpha, beta: [-0.7952113947853854], [-0.8352297697032371] Val. MSE: 0.056 | alpha, beta: [1.4932092945884015], [1.0577848664986802] Val. OOD MSE: 0.126\n",
      "alpha, beta: [-0.43947252176957163], [-0.39639874860205637] Val. MSE: 0.044 | alpha, beta: [1.4787375900173678], [1.2061976047479246] Val. OOD MSE: 0.187\n",
      "Epoch 2100 | Loss_I: nan | Loss_B: 0.0385 | Loss_F: 0.5165\n",
      "alpha, beta: [0.18077269297575937], [-0.6596615389853935] Val. MSE: 0.082 | alpha, beta: [1.118697394762672], [1.3790299858921984] Val. OOD MSE: 0.272\n",
      "alpha, beta: [-0.14649427789761282], [-0.3732816509258847] Val. MSE: 0.029 | alpha, beta: [1.3468214395337512], [1.4452539822199615] Val. OOD MSE: 0.307\n",
      "Epoch 2200 | Loss_I: nan | Loss_B: 0.0368 | Loss_F: 0.4935\n",
      "alpha, beta: [0.8026607141211546], [-0.5547567485511438] Val. MSE: 0.102 | alpha, beta: [1.3585866695900473], [1.3456974233378962] Val. OOD MSE: 0.247\n",
      "alpha, beta: [-0.9250849475222696], [-0.269306795691437] Val. MSE: 0.013 | alpha, beta: [1.2634295190389135], [1.0229089785405536] Val. OOD MSE: 0.114\n",
      "Epoch 2300 | Loss_I: nan | Loss_B: 0.0352 | Loss_F: 0.4724\n",
      "alpha, beta: [-0.4742912058194695], [0.5030623030213921] Val. MSE: 0.025 | alpha, beta: [1.4358333798752807], [1.3067266279068546] Val. OOD MSE: 0.233\n",
      "alpha, beta: [0.8511130067848072], [-0.9524476950634837] Val. MSE: 0.022 | alpha, beta: [1.022162550397069], [1.1101608592613725] Val. OOD MSE: 0.141\n",
      "Epoch 2400 | Loss_I: nan | Loss_B: 0.0337 | Loss_F: 0.4530\n",
      "alpha, beta: [-0.17042253460069667], [0.03888129829249731] Val. MSE: 0.007 | alpha, beta: [1.0357688745489728], [1.1709559069391784] Val. OOD MSE: 0.166\n",
      "alpha, beta: [0.45036688880806186], [0.9347731348942305] Val. MSE: 0.055 | alpha, beta: [1.0641634767063544], [1.2557467068240737] Val. OOD MSE: 0.210\n",
      "Epoch 2500 | Loss_I: nan | Loss_B: 0.0324 | Loss_F: 0.4352\n",
      "alpha, beta: [0.10633176821915646], [0.5673761818195406] Val. MSE: 0.026 | alpha, beta: [1.2401837885671037], [1.389661324134897] Val. OOD MSE: 0.281\n",
      "alpha, beta: [0.8755537192288232], [0.8444105940763003] Val. MSE: 0.044 | alpha, beta: [1.3921624497736993], [1.0297220940660243] Val. OOD MSE: 0.110\n",
      "Epoch 2600 | Loss_I: nan | Loss_B: 0.0311 | Loss_F: 0.4186\n",
      "alpha, beta: [0.6385403583610882], [0.5893140942057145] Val. MSE: 0.006 | alpha, beta: [1.1037095959026035], [1.2865179305249144] Val. OOD MSE: 0.226\n",
      "alpha, beta: [0.8078722522067971], [0.5243520223429974] Val. MSE: 0.008 | alpha, beta: [1.0723667434306798], [1.486496715695974] Val. OOD MSE: 0.339\n",
      "Epoch 2700 | Loss_I: nan | Loss_B: 0.0300 | Loss_F: 0.4033\n",
      "alpha, beta: [0.4270948850812635], [-0.48112406105039995] Val. MSE: 0.045 | alpha, beta: [1.0872196300091013], [1.2221194141166263] Val. OOD MSE: 0.191\n",
      "alpha, beta: [0.7860958849471684], [0.014482396395149255] Val. MSE: 0.005 | alpha, beta: [1.2705598866040893], [1.1991399912275598] Val. OOD MSE: 0.181\n",
      "Epoch 2800 | Loss_I: nan | Loss_B: 0.0289 | Loss_F: 0.3891\n",
      "alpha, beta: [-0.06267852187817624], [-0.943731126200607] Val. MSE: 0.013 | alpha, beta: [1.0856880161865616], [1.1452797067669729] Val. OOD MSE: 0.156\n",
      "alpha, beta: [0.4018086562262497], [0.36053419373569984] Val. MSE: 0.015 | alpha, beta: [1.3154105366733173], [1.4004901182922045] Val. OOD MSE: 0.284\n",
      "Epoch 2900 | Loss_I: nan | Loss_B: 0.0279 | Loss_F: 0.3758\n",
      "alpha, beta: [-0.9380291005096564], [0.9362951766232019] Val. MSE: 0.072 | alpha, beta: [1.3833228686017842], [1.0903493515418015] Val. OOD MSE: 0.130\n",
      "alpha, beta: [-0.6474321966153667], [0.1319302809980547] Val. MSE: 0.007 | alpha, beta: [1.2839375673475923], [1.4308939604492683] Val. OOD MSE: 0.303\n",
      "Epoch 3000 | Loss_I: nan | Loss_B: 0.0270 | Loss_F: 0.3634\n",
      "alpha, beta: [-0.8210120569350712], [-0.11120709554733943] Val. MSE: 0.006 | alpha, beta: [1.1059882037028541], [1.2933928545595743] Val. OOD MSE: 0.229\n",
      "alpha, beta: [0.9548282855174839], [0.4654039393882987] Val. MSE: 0.012 | alpha, beta: [1.4216536537500324], [1.1316751425840572] Val. OOD MSE: 0.144\n",
      "Epoch 3100 | Loss_I: nan | Loss_B: 0.0261 | Loss_F: 0.3517\n",
      "alpha, beta: [0.39463719379347517], [-0.789670344155323] Val. MSE: 0.063 | alpha, beta: [1.1639176898019525], [1.409219913268115] Val. OOD MSE: 0.290\n",
      "alpha, beta: [-0.8394719552465439], [0.9908974846210359] Val. MSE: 0.088 | alpha, beta: [1.3963837385743436], [1.130047527854746] Val. OOD MSE: 0.144\n",
      "Epoch 3200 | Loss_I: nan | Loss_B: 0.0253 | Loss_F: 0.3408\n",
      "alpha, beta: [-0.10598106640882343], [-0.790300948707372] Val. MSE: 0.065 | alpha, beta: [1.2091147760138232], [1.4900252841898574] Val. OOD MSE: 0.335\n",
      "alpha, beta: [-0.7067755485860236], [0.8793687506834829] Val. MSE: 0.050 | alpha, beta: [1.0771299613935401], [1.276374895238942] Val. OOD MSE: 0.216\n",
      "Epoch 3300 | Loss_I: nan | Loss_B: 0.0246 | Loss_F: 0.3306\n",
      "alpha, beta: [0.651244445474189], [-0.35545236140428504] Val. MSE: 0.027 | alpha, beta: [1.1359455630859345], [1.3389082392931306] Val. OOD MSE: 0.246\n",
      "alpha, beta: [-0.5339460733843919], [-0.5055580149806207] Val. MSE: 0.051 | alpha, beta: [1.330405176782278], [1.2983647973242811] Val. OOD MSE: 0.223\n",
      "Epoch 3400 | Loss_I: nan | Loss_B: 0.0238 | Loss_F: 0.3209\n",
      "alpha, beta: [-0.35755305313625874], [0.23950649745957664] Val. MSE: 0.011 | alpha, beta: [1.1313392111253713], [1.2132867965558771] Val. OOD MSE: 0.174\n",
      "alpha, beta: [0.8966073137928647], [-0.69693788744625] Val. MSE: 0.088 | alpha, beta: [1.419366874058581], [1.2214396440202693] Val. OOD MSE: 0.178\n",
      "Epoch 3500 | Loss_I: nan | Loss_B: 0.0232 | Loss_F: 0.3118\n",
      "alpha, beta: [0.3224126960603755], [-0.7306767238670828] Val. MSE: 0.067 | alpha, beta: [1.4266759063294594], [1.1430669798037112] Val. OOD MSE: 0.142\n",
      "alpha, beta: [0.6734523131254422], [-0.24083192372335427] Val. MSE: 0.010 | alpha, beta: [1.1737652759574164], [1.4201686251041614] Val. OOD MSE: 0.302\n",
      "Epoch 3600 | Loss_I: nan | Loss_B: 0.0225 | Loss_F: 0.3032\n",
      "alpha, beta: [-0.030160681245218868], [-0.25760172473855625] Val. MSE: 0.006 | alpha, beta: [1.0459673530288722], [1.480777513081594] Val. OOD MSE: 0.329\n",
      "alpha, beta: [-0.7419953578867922], [-0.4506737957713274] Val. MSE: 0.048 | alpha, beta: [1.0815956094358528], [1.0478806600555095] Val. OOD MSE: 0.103\n",
      "Epoch 3700 | Loss_I: nan | Loss_B: 0.0219 | Loss_F: 0.2950\n",
      "alpha, beta: [-0.6889691933641289], [0.7263732391041695] Val. MSE: 0.012 | alpha, beta: [1.0599452905466638], [1.2796885985510749] Val. OOD MSE: 0.211\n",
      "alpha, beta: [0.6054497654741695], [-0.7562506067585701] Val. MSE: 0.066 | alpha, beta: [1.001701766836554], [1.494404372915256] Val. OOD MSE: 0.337\n",
      "Epoch 3800 | Loss_I: nan | Loss_B: 0.0213 | Loss_F: 0.2873\n",
      "alpha, beta: [-0.31014161003800056], [0.8028201112588136] Val. MSE: 0.031 | alpha, beta: [1.0409569535862615], [1.0570324987191324] Val. OOD MSE: 0.109\n",
      "alpha, beta: [-0.3728922124883509], [-0.5299940162062284] Val. MSE: 0.052 | alpha, beta: [1.1975395829024214], [1.1498897888881048] Val. OOD MSE: 0.143\n",
      "Epoch 3900 | Loss_I: nan | Loss_B: 0.0208 | Loss_F: 0.2800\n",
      "alpha, beta: [-0.41004784578352305], [0.4553578476925382] Val. MSE: 0.014 | alpha, beta: [1.0419817387382038], [1.2791238351028054] Val. OOD MSE: 0.206\n",
      "alpha, beta: [0.5525933177982572], [0.4224463947997712] Val. MSE: 0.012 | alpha, beta: [1.1189720152224496], [1.344007622304546] Val. OOD MSE: 0.241\n",
      "Epoch 4000 | Loss_I: nan | Loss_B: 0.0203 | Loss_F: 0.2730\n",
      "alpha, beta: [0.3982253255255883], [0.3987357757038139] Val. MSE: 0.013 | alpha, beta: [1.078132493213187], [1.045459229182178] Val. OOD MSE: 0.099\n",
      "alpha, beta: [0.9802750564469782], [-0.557587465394205] Val. MSE: 0.069 | alpha, beta: [1.4145019749862415], [1.1981805393637108] Val. OOD MSE: 0.154\n",
      "Epoch 4100 | Loss_I: nan | Loss_B: 0.0198 | Loss_F: 0.2664\n",
      "alpha, beta: [-0.2529761715538168], [-0.14064150509916473] Val. MSE: 0.006 | alpha, beta: [1.0810558625051576], [1.0108199459532803] Val. OOD MSE: 0.084\n",
      "alpha, beta: [-0.10112462207629846], [0.33305798130567665] Val. MSE: 0.009 | alpha, beta: [1.3314196505770572], [1.469794090117436] Val. OOD MSE: 0.301\n",
      "Epoch 4200 | Loss_I: nan | Loss_B: 0.0193 | Loss_F: 0.2601\n",
      "alpha, beta: [-0.6075637750475431], [0.6696307649014783] Val. MSE: 0.006 | alpha, beta: [1.164890488119734], [1.3912786797837258] Val. OOD MSE: 0.263\n",
      "alpha, beta: [0.8257423565920334], [-0.5058040649365605] Val. MSE: 0.057 | alpha, beta: [1.3463788360833306], [1.3885607405060052] Val. OOD MSE: 0.245\n",
      "Epoch 4300 | Loss_I: nan | Loss_B: 0.0189 | Loss_F: 0.2540\n",
      "alpha, beta: [0.11457920902288676], [-0.5300514292659475] Val. MSE: 0.049 | alpha, beta: [1.0832291579577318], [1.219452577337376] Val. OOD MSE: 0.172\n",
      "alpha, beta: [-0.4526100087160807], [-0.7856581078906537] Val. MSE: 0.055 | alpha, beta: [1.3469105885369603], [1.020286705263024] Val. OOD MSE: 0.080\n",
      "Epoch 4400 | Loss_I: nan | Loss_B: 0.0184 | Loss_F: 0.2483\n",
      "alpha, beta: [-0.9399747762018917], [-0.9095993706511969] Val. MSE: 0.024 | alpha, beta: [1.2459753445248858], [1.405570602333773] Val. OOD MSE: 0.263\n",
      "alpha, beta: [-0.12757604926749289], [-0.2296930574399223] Val. MSE: 0.005 | alpha, beta: [1.2945143331540292], [1.1673973270393048] Val. OOD MSE: 0.141\n",
      "Epoch 4500 | Loss_I: nan | Loss_B: 0.0180 | Loss_F: 0.2428\n",
      "alpha, beta: [-0.5608493959880989], [0.4878301264166134] Val. MSE: 0.013 | alpha, beta: [1.4948373212159836], [1.3908959903303961] Val. OOD MSE: 0.232\n",
      "alpha, beta: [-0.3963952090464704], [0.8743099033463335] Val. MSE: 0.049 | alpha, beta: [1.423951365631494], [1.1078558466597535] Val. OOD MSE: 0.106\n",
      "Epoch 4600 | Loss_I: nan | Loss_B: 0.0176 | Loss_F: 0.2375\n",
      "alpha, beta: [0.7784313488169874], [0.14166611721854983] Val. MSE: 0.005 | alpha, beta: [1.1364431831228112], [1.377440695914645] Val. OOD MSE: 0.248\n",
      "alpha, beta: [0.6833559731038397], [0.1847264890763407] Val. MSE: 0.001 | alpha, beta: [1.3399294557880117], [1.25467823091839] Val. OOD MSE: 0.171\n",
      "Epoch 4700 | Loss_I: nan | Loss_B: 0.0173 | Loss_F: 0.2325\n",
      "alpha, beta: [-0.8332444422977419], [-0.1027474268245252] Val. MSE: 0.005 | alpha, beta: [1.1283430488927935], [1.0842682949858924] Val. OOD MSE: 0.104\n",
      "alpha, beta: [-0.2345187544708469], [-0.7266883194921099] Val. MSE: 0.064 | alpha, beta: [1.1905720145237852], [1.0016352814071756] Val. OOD MSE: 0.067\n",
      "Epoch 4800 | Loss_I: nan | Loss_B: 0.0169 | Loss_F: 0.2277\n",
      "alpha, beta: [0.42782612355566063], [0.5085976887598351] Val. MSE: 0.011 | alpha, beta: [1.1020704098207281], [1.316777205955493] Val. OOD MSE: 0.214\n",
      "alpha, beta: [0.11702956073409743], [-0.4244225401777697] Val. MSE: 0.030 | alpha, beta: [1.0341701316238727], [1.2745337721832861] Val. OOD MSE: 0.194\n",
      "Epoch 4900 | Loss_I: nan | Loss_B: 0.0166 | Loss_F: 0.2230\n",
      "alpha, beta: [-0.5101733504970865], [0.46291957681526985] Val. MSE: 0.011 | alpha, beta: [1.3915735785810392], [1.0821345992124582] Val. OOD MSE: 0.093\n",
      "alpha, beta: [-0.16773693289113112], [0.14100267071002914] Val. MSE: 0.003 | alpha, beta: [1.2097434417990198], [1.45217650520452] Val. OOD MSE: 0.285\n",
      "Epoch 5000 | Loss_I: nan | Loss_B: 0.0162 | Loss_F: 0.2186\n"
     ]
    },
    {
     "ename": "ValueError",
     "evalue": "too many values to unpack (expected 7)",
     "output_type": "error",
     "traceback": [
      "\u001b[1;31m---------------------------------------------------------------------------\u001b[0m",
      "\u001b[1;31mValueError\u001b[0m                                Traceback (most recent call last)",
      "Input \u001b[1;32mIn [4]\u001b[0m, in \u001b[0;36m<cell line: 9>\u001b[1;34m()\u001b[0m\n\u001b[0;32m      7\u001b[0m \u001b[38;5;28mprint\u001b[39m(alpha)\n\u001b[0;32m      8\u001b[0m \u001b[38;5;28mprint\u001b[39m(beta)\n\u001b[1;32m----> 9\u001b[0m loss_i, loss_b, loss_f, loss, model, val_loss, val_ood_loss \u001b[38;5;241m=\u001b[39m train(epochs\u001b[38;5;241m=\u001b[39mepochs, lr\u001b[38;5;241m=\u001b[39mlr, i_size\u001b[38;5;241m=\u001b[39m\u001b[38;5;241m0\u001b[39m, b_size\u001b[38;5;241m=\u001b[39m\u001b[38;5;241m2\u001b[39m, f_size\u001b[38;5;241m=\u001b[39m\u001b[38;5;241m100\u001b[39m, zero_shot\u001b[38;5;241m=\u001b[39m\u001b[38;5;28;01mTrue\u001b[39;00m, alpha_list\u001b[38;5;241m=\u001b[39malpha, beta_list\u001b[38;5;241m=\u001b[39mbeta)\n",
      "\u001b[1;31mValueError\u001b[0m: too many values to unpack (expected 7)"
     ]
    }
   ],
   "source": [
    "epochs = 5000\n",
    "lr = 0.001\n",
    "\n",
    "alpha = lhs(5)\n",
    "beta = lhs(5)\n",
    "# print(\"Alpha: {:.3f}, Beta: {:.3f}\".format(alpha, beta))\n",
    "print(alpha)\n",
    "print(beta)\n",
    "loss_i, loss_b, loss_f, loss, model, val_loss, val_ood_loss, nrmse = train(epochs=epochs, lr=lr, i_size=0, b_size=2, f_size=100, zero_shot=True, alpha_list=alpha, beta_list=beta)"
   ]
  },
  {
   "cell_type": "code",
   "execution_count": null,
   "id": "8a72cdbd-6c83-48d5-9e3e-14849f5ba909",
   "metadata": {},
   "outputs": [],
   "source": [
    "epochs = [50 * i for i in range(1, 101)]\n",
    "plt.plot(epochs, val_loss, label='Val.')\n",
    "plt.plot(epochs, val_ood_loss, label='Val. OOD')\n",
    "# plt.yscale('log')\n",
    "plt.legend()\n",
    "plt.show()"
   ]
  },
  {
   "cell_type": "code",
   "execution_count": null,
   "id": "06e6cbae-04af-4db9-b69c-32a2bd35900a",
   "metadata": {},
   "outputs": [],
   "source": [
    "test_x = np.linspace(-1, 1, num=100).reshape(-1, 1)\n",
    "# test_alpha = np.full((100, 1), alpha[2])\n",
    "# test_beta = np.full((100, 1), beta[2])\n",
    "test_alpha = np.full((100, 1), alpha[2])\n",
    "test_beta = np.full((100, 1), beta[2])\n",
    "test_in = np.hstack((test_x, test_alpha, test_beta))\n",
    "test_u = model(torch.Tensor(test_in).to(device))\n",
    "X = test_x\n",
    "\n",
    "Y = np.sin(test_alpha * X) + np.cos(test_beta * X) + 0.1 * X\n"
   ]
  },
  {
   "cell_type": "code",
   "execution_count": null,
   "id": "fcae0f90-f48d-4c14-868a-2fca107b3959",
   "metadata": {},
   "outputs": [],
   "source": [
    "C = test_u.cpu().detach().numpy()\n",
    "plt.figure(figsize=(10, 8))\n",
    "plt.scatter(X, C, label='PINN')\n",
    "plt.scatter(X, Y, label='Answer')\n",
    "plt.legend()\n",
    "plt.colorbar()"
   ]
  },
  {
   "cell_type": "code",
   "execution_count": null,
   "id": "e057f142-c08a-4831-8814-b051292814cf",
   "metadata": {},
   "outputs": [],
   "source": []
  }
 ],
 "metadata": {
  "kernelspec": {
   "display_name": "torch",
   "language": "python",
   "name": "torch-1.10.1"
  },
  "language_info": {
   "codemirror_mode": {
    "name": "ipython",
    "version": 3
   },
   "file_extension": ".py",
   "mimetype": "text/x-python",
   "name": "python",
   "nbconvert_exporter": "python",
   "pygments_lexer": "ipython3",
   "version": "3.9.12"
  }
 },
 "nbformat": 4,
 "nbformat_minor": 5
}

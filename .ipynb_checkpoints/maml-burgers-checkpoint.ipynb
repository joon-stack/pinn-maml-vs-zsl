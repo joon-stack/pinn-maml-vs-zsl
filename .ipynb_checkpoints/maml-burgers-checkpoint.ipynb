{
 "cells": [
  {
   "cell_type": "code",
   "execution_count": 1,
   "id": "13fab8b6-cb38-4b19-aade-f0939939bc93",
   "metadata": {},
   "outputs": [],
   "source": [
    "from maml import *\n",
    "import matplotlib.pyplot as plt\n",
    "import os"
   ]
  },
  {
   "cell_type": "code",
   "execution_count": 2,
   "id": "f938ae82-3227-4892-b1d9-5ec5b9df34c4",
   "metadata": {},
   "outputs": [],
   "source": [
    "os.environ[\"CUDA_DEVICE_ORDER\"]=\"PCI_BUS_ID\"\n",
    "os.environ[\"CUDA_VISIBLE_DEVICES\"]= \"1\""
   ]
  },
  {
   "cell_type": "code",
   "execution_count": 3,
   "id": "80274bf7-1db5-4590-a403-bfabd4e361fe",
   "metadata": {},
   "outputs": [
    {
     "name": "stdout",
     "output_type": "stream",
     "text": [
      "Current device: cuda\n"
     ]
    }
   ],
   "source": [
    "device = torch.device('cuda' if torch.cuda.is_available() else 'cpu')\n",
    "print(\"Current device:\", device)"
   ]
  },
  {
   "cell_type": "code",
   "execution_count": 14,
   "id": "d8e3a9ab-9d5b-49a7-9ad6-6ad5b4eab18f",
   "metadata": {},
   "outputs": [
    {
     "name": "stdout",
     "output_type": "stream",
     "text": [
      "Initializing MAML-PINN model\n",
      "Current device:  cuda\n",
      "Model loaded successfully from models/model_ref/burgers_zs_1000_ref.data\n",
      "cuda\n",
      "Zero shot mode is True\n",
      "Finished initialization of MAML-PINN model\n",
      "Start MAML training at iteration 0\n",
      "[(0.011632238461738463, 0.012352057658901575), (0.02815690856287606, 0.010610900104688025), (0.022865497662830993, 0.010010911059055771), (0.0288745109758119, 0.0286593228556471), (0.004445595938915796, 0.011544089439698969)]\n",
      "[(0.0012579279147339319, 0.0003186173511352243), (0.0008419972972614357, 0.0012794905489876157), (0.04123644132992449, 0.0602990962492741), (0.04614731836769669, 0.05843638999986692), (0.0013223733254910653, 0.001045101888083207)]\n",
      "Validation before training Pre-Adaptation (0.012)| Inner_loss_I: 0.0006 | Inner_loss_B: 0.0004 | Inner_loss_F: 48.3247 | Inner_loss: 48.3256 | NRMSE: 0.1460\n",
      "Validation before training (0.012)| Inner_loss_I: 0.5915 | Inner_loss_B: 0.1963 | Inner_loss_F: 0.0138 | Inner_loss: 0.8016 | NRMSE: 4.3917\n",
      "validation OOD before training Pre-Adaptation (0.000)| Inner_loss_I: 0.0006 |Inner_loss_B: 0.0004 | Inner_loss_F: 118.8522 | Inner_loss: 118.8532 | NRMSE: 0.1792\n",
      "validation OOD before training (0.000)| Inner_loss_I: 0.3854 |Inner_loss_B: 0.0197 | Inner_loss_F: 0.0337 | Inner_loss: 0.4388 | NRMSE: 15.3018\n"
     ]
    },
    {
     "name": "stderr",
     "output_type": "stream",
     "text": [
      "C:\\Users\\fembem\\anaconda3\\envs\\torch-1.10.1\\lib\\site-packages\\numpy\\core\\fromnumeric.py:3474: RuntimeWarning: Mean of empty slice.\n",
      "  return _methods._mean(a, axis=axis, dtype=dtype,\n",
      "C:\\Users\\fembem\\anaconda3\\envs\\torch-1.10.1\\lib\\site-packages\\numpy\\core\\_methods.py:189: RuntimeWarning: invalid value encountered in double_scalars\n",
      "  ret = ret.dtype.type(ret / rcount)\n"
     ]
    },
    {
     "name": "stdout",
     "output_type": "stream",
     "text": [
      "Step 20 Pre-Adapt | Inner_loss_I: 0.0077 | Inner_loss_B: 0.0018 | Inner_loss_F: 0.0198 | Inner_loss: 0.0293\n",
      "Step 20 Post-Adapt | Inner_loss_I: 0.0009 | Inner_loss_B: 0.0015 | Inner_loss_F: 0.0008 | Inner_loss: 0.0032\n",
      "Step 40 Pre-Adapt | Inner_loss_I: 0.0201 | Inner_loss_B: 0.0050 | Inner_loss_F: 13.1486 | Inner_loss: 13.1738\n",
      "Step 40 Post-Adapt | Inner_loss_I: 0.0124 | Inner_loss_B: 0.0041 | Inner_loss_F: 0.0014 | Inner_loss: 0.0180\n",
      "Step 60 Pre-Adapt | Inner_loss_I: 0.0334 | Inner_loss_B: 0.0082 | Inner_loss_F: 9.7537 | Inner_loss: 9.7952\n",
      "Step 60 Post-Adapt | Inner_loss_I: 0.0117 | Inner_loss_B: 0.0271 | Inner_loss_F: 0.0022 | Inner_loss: 0.0410\n",
      "Step 80 Pre-Adapt | Inner_loss_I: 0.0424 | Inner_loss_B: 0.0126 | Inner_loss_F: 6.4117 | Inner_loss: 6.4666\n",
      "Step 80 Post-Adapt | Inner_loss_I: 1.7162 | Inner_loss_B: 1.8735 | Inner_loss_F: 0.0024 | Inner_loss: 3.5922\n",
      "Model saved\n",
      "Step 100 Pre-Adapt | Inner_loss_I: 0.0480 | Inner_loss_B: 0.0118 | Inner_loss_F: 2.4730 | Inner_loss: 2.5329\n",
      "Step 100 Post-Adapt | Inner_loss_I: 0.0240 | Inner_loss_B: 0.0170 | Inner_loss_F: 0.0030 | Inner_loss: 0.0439\n",
      "Validation Pre-adaptation (0.012)| Inner_loss_I: 0.0465 |Inner_loss_B: 0.0118 | Inner_loss_F: 3.5806 | Inner_loss: 3.6389 | NRMSE: 0.5903\n",
      "Validation Post-adaptation (0.012)| Inner_loss_I: 0.2113 |Inner_loss_B: 0.0020 | Inner_loss_F: 0.1347 | Inner_loss: 0.3480 | NRMSE: 3.1467\n",
      "validation OOD Pre-Adaptation (0.000)| Inner_loss_I: 0.0433 |Inner_loss_B: 0.0116 | Inner_loss_F: 8.0716 | Inner_loss: 8.1266 | NRMSE: 0.6325\n",
      "validation OOD Post-Adaptation (0.000)| Inner_loss_I: 0.2397 |Inner_loss_B: 0.0174 | Inner_loss_F: 0.1066 | Inner_loss: 0.3637 | NRMSE: 2.1304\n",
      "Step 120 Pre-Adapt | Inner_loss_I: 0.0471 | Inner_loss_B: 0.0109 | Inner_loss_F: 4.8508 | Inner_loss: 4.9087\n",
      "Step 120 Post-Adapt | Inner_loss_I: 0.0094 | Inner_loss_B: 0.0066 | Inner_loss_F: 0.0039 | Inner_loss: 0.0199\n",
      "Step 140 Pre-Adapt | Inner_loss_I: 0.0443 | Inner_loss_B: 0.0101 | Inner_loss_F: 1.9353 | Inner_loss: 1.9897\n",
      "Step 140 Post-Adapt | Inner_loss_I: 0.0223 | Inner_loss_B: 0.0308 | Inner_loss_F: 0.0045 | Inner_loss: 0.0576\n",
      "Step 160 Pre-Adapt | Inner_loss_I: 0.0579 | Inner_loss_B: 0.0098 | Inner_loss_F: 0.3324 | Inner_loss: 0.4001\n",
      "Step 160 Post-Adapt | Inner_loss_I: 0.0254 | Inner_loss_B: 0.0073 | Inner_loss_F: 0.0036 | Inner_loss: 0.0363\n",
      "Step 180 Pre-Adapt | Inner_loss_I: 0.0606 | Inner_loss_B: 0.0087 | Inner_loss_F: 0.3402 | Inner_loss: 0.4095\n",
      "Step 180 Post-Adapt | Inner_loss_I: 0.0112 | Inner_loss_B: 0.0050 | Inner_loss_F: 0.0047 | Inner_loss: 0.0209\n",
      "Model saved\n",
      "Step 200 Pre-Adapt | Inner_loss_I: 0.0798 | Inner_loss_B: 0.0075 | Inner_loss_F: 0.3679 | Inner_loss: 0.4553\n",
      "Step 200 Post-Adapt | Inner_loss_I: 0.0117 | Inner_loss_B: 0.0065 | Inner_loss_F: 0.0073 | Inner_loss: 0.0255\n",
      "Validation Pre-adaptation (0.012)| Inner_loss_I: 0.0563 |Inner_loss_B: 0.0074 | Inner_loss_F: 2.2778 | Inner_loss: 2.3415 | NRMSE: 0.6663\n",
      "Validation Post-adaptation (0.012)| Inner_loss_I: 0.1809 |Inner_loss_B: 0.0012 | Inner_loss_F: 0.1843 | Inner_loss: 0.3665 | NRMSE: 2.5632\n",
      "validation OOD Pre-Adaptation (0.000)| Inner_loss_I: 0.0593 |Inner_loss_B: 0.0074 | Inner_loss_F: 4.4668 | Inner_loss: 4.5335 | NRMSE: 0.7097\n",
      "validation OOD Post-Adaptation (0.000)| Inner_loss_I: 0.2387 |Inner_loss_B: 0.0005 | Inner_loss_F: 0.1322 | Inner_loss: 0.3714 | NRMSE: 7.5827\n",
      "Step 220 Pre-Adapt | Inner_loss_I: 0.0711 | Inner_loss_B: 0.0070 | Inner_loss_F: 0.9843 | Inner_loss: 1.0624\n",
      "Step 220 Post-Adapt | Inner_loss_I: 0.0190 | Inner_loss_B: 0.0350 | Inner_loss_F: 0.0069 | Inner_loss: 0.0609\n",
      "Step 240 Pre-Adapt | Inner_loss_I: 0.0712 | Inner_loss_B: 0.0057 | Inner_loss_F: 0.7605 | Inner_loss: 0.8374\n",
      "Step 240 Post-Adapt | Inner_loss_I: 0.0213 | Inner_loss_B: 0.0128 | Inner_loss_F: 0.0072 | Inner_loss: 0.0414\n",
      "Step 260 Pre-Adapt | Inner_loss_I: 0.0564 | Inner_loss_B: 0.0047 | Inner_loss_F: 5.9458 | Inner_loss: 6.0068\n",
      "Step 260 Post-Adapt | Inner_loss_I: 0.0159 | Inner_loss_B: 0.0116 | Inner_loss_F: 0.0081 | Inner_loss: 0.0356\n",
      "Step 280 Pre-Adapt | Inner_loss_I: 0.0795 | Inner_loss_B: 0.0040 | Inner_loss_F: 1.7479 | Inner_loss: 1.8314\n",
      "Step 280 Post-Adapt | Inner_loss_I: 0.0161 | Inner_loss_B: 0.0080 | Inner_loss_F: 0.0096 | Inner_loss: 0.0337\n",
      "Model saved\n",
      "Step 300 Pre-Adapt | Inner_loss_I: 0.0609 | Inner_loss_B: 0.0034 | Inner_loss_F: 1.1926 | Inner_loss: 1.2569\n",
      "Step 300 Post-Adapt | Inner_loss_I: 0.0133 | Inner_loss_B: 0.0128 | Inner_loss_F: 0.0069 | Inner_loss: 0.0330\n",
      "Validation Pre-adaptation (0.012)| Inner_loss_I: 0.0650 |Inner_loss_B: 0.0032 | Inner_loss_F: 1.3029 | Inner_loss: 1.3711 | NRMSE: 0.7451\n",
      "Validation Post-adaptation (0.012)| Inner_loss_I: 0.1469 |Inner_loss_B: 0.0029 | Inner_loss_F: 0.2284 | Inner_loss: 0.3783 | NRMSE: 1.6305\n",
      "validation OOD Pre-Adaptation (0.000)| Inner_loss_I: 0.0740 |Inner_loss_B: 0.0034 | Inner_loss_F: 2.5861 | Inner_loss: 2.6635 | NRMSE: 0.7880\n",
      "validation OOD Post-Adaptation (0.000)| Inner_loss_I: 0.2498 |Inner_loss_B: 0.0020 | Inner_loss_F: 0.1528 | Inner_loss: 0.4045 | NRMSE: 4.5256\n",
      "Step 320 Pre-Adapt | Inner_loss_I: 0.0719 | Inner_loss_B: 0.0028 | Inner_loss_F: 0.2737 | Inner_loss: 0.3484\n",
      "Step 320 Post-Adapt | Inner_loss_I: 0.0176 | Inner_loss_B: 0.0088 | Inner_loss_F: 0.0113 | Inner_loss: 0.0377\n",
      "Step 340 Pre-Adapt | Inner_loss_I: 0.0746 | Inner_loss_B: 0.0024 | Inner_loss_F: 0.2032 | Inner_loss: 0.2802\n",
      "Step 340 Post-Adapt | Inner_loss_I: 0.0273 | Inner_loss_B: 0.0095 | Inner_loss_F: 0.0081 | Inner_loss: 0.0450\n",
      "Step 360 Pre-Adapt | Inner_loss_I: 0.0735 | Inner_loss_B: 0.0020 | Inner_loss_F: 0.2142 | Inner_loss: 0.2897\n",
      "Step 360 Post-Adapt | Inner_loss_I: 0.0124 | Inner_loss_B: 0.0078 | Inner_loss_F: 0.0125 | Inner_loss: 0.0327\n",
      "Step 380 Pre-Adapt | Inner_loss_I: 0.0645 | Inner_loss_B: 0.0013 | Inner_loss_F: 1.2624 | Inner_loss: 1.3282\n",
      "Step 380 Post-Adapt | Inner_loss_I: 0.0204 | Inner_loss_B: 0.0139 | Inner_loss_F: 0.0118 | Inner_loss: 0.0461\n",
      "Model saved\n",
      "Step 400 Pre-Adapt | Inner_loss_I: 0.0849 | Inner_loss_B: 0.0006 | Inner_loss_F: 1.7676 | Inner_loss: 1.8531\n",
      "Step 400 Post-Adapt | Inner_loss_I: 0.1221 | Inner_loss_B: 0.1497 | Inner_loss_F: 0.0147 | Inner_loss: 0.2865\n",
      "Validation Pre-adaptation (0.012)| Inner_loss_I: 0.0735 |Inner_loss_B: 0.0007 | Inner_loss_F: 0.8093 | Inner_loss: 0.8835 | NRMSE: 0.7837\n",
      "Validation Post-adaptation (0.012)| Inner_loss_I: 0.1275 |Inner_loss_B: 0.0015 | Inner_loss_F: 0.2338 | Inner_loss: 0.3628 | NRMSE: 1.3923\n",
      "validation OOD Pre-Adaptation (0.000)| Inner_loss_I: 0.0669 |Inner_loss_B: 0.0006 | Inner_loss_F: 1.2108 | Inner_loss: 1.2783 | NRMSE: 0.8273\n",
      "validation OOD Post-Adaptation (0.000)| Inner_loss_I: 0.2220 |Inner_loss_B: 0.0010 | Inner_loss_F: 0.1691 | Inner_loss: 0.3920 | NRMSE: 4.3029\n",
      "Step 420 Pre-Adapt | Inner_loss_I: 0.0712 | Inner_loss_B: 0.0005 | Inner_loss_F: 0.2197 | Inner_loss: 0.2914\n",
      "Step 420 Post-Adapt | Inner_loss_I: 0.0204 | Inner_loss_B: 0.0112 | Inner_loss_F: 0.0107 | Inner_loss: 0.0423\n",
      "Step 440 Pre-Adapt | Inner_loss_I: 0.0727 | Inner_loss_B: 0.0003 | Inner_loss_F: 0.4480 | Inner_loss: 0.5210\n",
      "Step 440 Post-Adapt | Inner_loss_I: 0.0167 | Inner_loss_B: 0.0071 | Inner_loss_F: 0.0139 | Inner_loss: 0.0377\n",
      "Step 460 Pre-Adapt | Inner_loss_I: 0.0878 | Inner_loss_B: 0.0003 | Inner_loss_F: 0.1931 | Inner_loss: 0.2813\n",
      "Step 460 Post-Adapt | Inner_loss_I: 0.0169 | Inner_loss_B: 0.0085 | Inner_loss_F: 0.0114 | Inner_loss: 0.0368\n",
      "Step 480 Pre-Adapt | Inner_loss_I: 0.0865 | Inner_loss_B: 0.0003 | Inner_loss_F: 0.3683 | Inner_loss: 0.4552\n",
      "Step 480 Post-Adapt | Inner_loss_I: 0.0249 | Inner_loss_B: 0.0097 | Inner_loss_F: 0.0130 | Inner_loss: 0.0476\n",
      "Model saved\n",
      "Step 500 Pre-Adapt | Inner_loss_I: 0.0848 | Inner_loss_B: 0.0004 | Inner_loss_F: 0.5489 | Inner_loss: 0.6340\n",
      "Step 500 Post-Adapt | Inner_loss_I: 0.0204 | Inner_loss_B: 0.0184 | Inner_loss_F: 0.0124 | Inner_loss: 0.0512\n",
      "Validation Pre-adaptation (0.012)| Inner_loss_I: 0.0900 |Inner_loss_B: 0.0004 | Inner_loss_F: 0.5320 | Inner_loss: 0.6224 | NRMSE: 0.8600\n",
      "Validation Post-adaptation (0.012)| Inner_loss_I: 0.1004 |Inner_loss_B: 0.0015 | Inner_loss_F: 0.2476 | Inner_loss: 0.3495 | NRMSE: 1.0814\n",
      "validation OOD Pre-Adaptation (0.000)| Inner_loss_I: 0.0829 |Inner_loss_B: 0.0004 | Inner_loss_F: 1.4356 | Inner_loss: 1.5189 | NRMSE: 0.9050\n",
      "validation OOD Post-Adaptation (0.000)| Inner_loss_I: 0.1900 |Inner_loss_B: 0.0015 | Inner_loss_F: 0.1693 | Inner_loss: 0.3607 | NRMSE: 2.7917\n",
      "Step 520 Pre-Adapt | Inner_loss_I: 0.0756 | Inner_loss_B: 0.0003 | Inner_loss_F: 0.3944 | Inner_loss: 0.4703\n",
      "Step 520 Post-Adapt | Inner_loss_I: 0.0389 | Inner_loss_B: 0.0180 | Inner_loss_F: 0.0137 | Inner_loss: 0.0706\n",
      "Step 540 Pre-Adapt | Inner_loss_I: 0.0807 | Inner_loss_B: 0.0004 | Inner_loss_F: 0.7824 | Inner_loss: 0.8635\n",
      "Step 540 Post-Adapt | Inner_loss_I: 0.0251 | Inner_loss_B: 0.0184 | Inner_loss_F: 0.0114 | Inner_loss: 0.0549\n",
      "Step 560 Pre-Adapt | Inner_loss_I: 0.0832 | Inner_loss_B: 0.0005 | Inner_loss_F: 0.4289 | Inner_loss: 0.5126\n",
      "Step 560 Post-Adapt | Inner_loss_I: 0.0205 | Inner_loss_B: 0.0133 | Inner_loss_F: 0.0145 | Inner_loss: 0.0483\n",
      "Step 580 Pre-Adapt | Inner_loss_I: 0.0882 | Inner_loss_B: 0.0008 | Inner_loss_F: 0.4188 | Inner_loss: 0.5078\n",
      "Step 580 Post-Adapt | Inner_loss_I: 0.0243 | Inner_loss_B: 0.0120 | Inner_loss_F: 0.0175 | Inner_loss: 0.0538\n",
      "Model saved\n",
      "Step 600 Pre-Adapt | Inner_loss_I: 0.0931 | Inner_loss_B: 0.0014 | Inner_loss_F: 0.3335 | Inner_loss: 0.4280\n",
      "Step 600 Post-Adapt | Inner_loss_I: 0.0247 | Inner_loss_B: 0.0133 | Inner_loss_F: 0.0118 | Inner_loss: 0.0499\n",
      "Validation Pre-adaptation (0.012)| Inner_loss_I: 0.0945 |Inner_loss_B: 0.0011 | Inner_loss_F: 0.4947 | Inner_loss: 0.5903 | NRMSE: 0.9353\n",
      "Validation Post-adaptation (0.012)| Inner_loss_I: 0.1134 |Inner_loss_B: 0.0017 | Inner_loss_F: 0.2091 | Inner_loss: 0.3242 | NRMSE: 1.2095\n",
      "validation OOD Pre-Adaptation (0.000)| Inner_loss_I: 0.1003 |Inner_loss_B: 0.0012 | Inner_loss_F: 0.8596 | Inner_loss: 0.9611 | NRMSE: 0.9809\n",
      "validation OOD Post-Adaptation (0.000)| Inner_loss_I: 0.1844 |Inner_loss_B: 0.0010 | Inner_loss_F: 0.1839 | Inner_loss: 0.3693 | NRMSE: 2.2499\n",
      "Step 620 Pre-Adapt | Inner_loss_I: 0.0960 | Inner_loss_B: 0.0016 | Inner_loss_F: 0.2148 | Inner_loss: 0.3124\n",
      "Step 620 Post-Adapt | Inner_loss_I: 0.0198 | Inner_loss_B: 0.0051 | Inner_loss_F: 0.0145 | Inner_loss: 0.0394\n",
      "Step 640 Pre-Adapt | Inner_loss_I: 0.0971 | Inner_loss_B: 0.0025 | Inner_loss_F: 0.3864 | Inner_loss: 0.4861\n",
      "Step 640 Post-Adapt | Inner_loss_I: 0.0225 | Inner_loss_B: 0.0095 | Inner_loss_F: 0.0182 | Inner_loss: 0.0503\n"
     ]
    },
    {
     "name": "stderr",
     "output_type": "stream",
     "text": [
      "\n",
      "KeyboardInterrupt\n",
      "\n"
     ]
    }
   ],
   "source": [
    "# maml = MAML(5, 0.01, 0.0005, 0, 2, 1, -1, 1, eqname='poisson', zero_shot=True, load=False, modelpath='models/poisson_zs_2000_ref.data')\n",
    "maml = MAML(5, 0.01, 0.0005, 1, 2, 1, -1, 1, eqname='burgers', zero_shot=True, load=False, modelpath='models/model_ref/burgers_zs_1000_ref.data')\n",
    "# maml = MAML(5, 0.01, 0.0001, 0, 2, 1, low=-1, high=1, eqname='poisson')\n",
    "\n",
    "train_loss, val_loss, val_ood_loss, nrmse, model = maml.train(5000, 1000, 5)"
   ]
  },
  {
   "cell_type": "code",
   "execution_count": null,
   "id": "ef6b17ff-4153-43ae-b136-75fc9500cb93",
   "metadata": {},
   "outputs": [],
   "source": []
  },
  {
   "cell_type": "code",
   "execution_count": null,
   "id": "38dedd77-a5f0-47ad-b8e3-61370295503a",
   "metadata": {},
   "outputs": [],
   "source": [
    "# import pandas as pd\n",
    "\n",
    "# nrmse_df = pd.DataFrame(nrmse)\n",
    "# val_loss_df = pd.DataFrame(val_loss)\n",
    "# val_ood_loss_df = pd.DataFrame(val_ood_loss)\n",
    "# train_loss_df = pd.DataFrame(train_loss)\n",
    "\n",
    "# nrmse_df.to_csv('data/nrmse_burgers_zs_maml.csv')\n",
    "# val_loss_df.to_csv('data/val_loss_burgers_zs_maml.csv')\n",
    "# val_ood_loss_df.to_csv('data/val_ood_loss_burgers_zs_maml.csv')\n",
    "# train_loss_df.to_csv('data/train_loss_burgers_zs_maml.csv')"
   ]
  },
  {
   "cell_type": "code",
   "execution_count": 6,
   "id": "cf79e09e-8dc9-4f29-8c21-69b31244539b",
   "metadata": {},
   "outputs": [],
   "source": [
    "import pandas as pd\n",
    "nrmse_df = pd.read_csv('data/nrmse_burgers_zs_maml.csv')\n",
    "val_loss_df = pd.read_csv('data/val_loss_burgers_zs_maml.csv')\n",
    "val_ood_loss_df = pd.read_csv('data/val_ood_loss_burgers_zs_maml.csv')\n",
    "train_loss_df = pd.read_csv('data/train_loss_burgers_zs_maml.csv')"
   ]
  },
  {
   "cell_type": "code",
   "execution_count": 13,
   "id": "c5b68833-3eab-4460-b70c-37ea58cdbe20",
   "metadata": {},
   "outputs": [
    {
     "data": {
      "text/plain": [
       "Text(0.5, 1.0, 'Post-adapt validation losses')"
      ]
     },
     "execution_count": 13,
     "metadata": {},
     "output_type": "execute_result"
    },
    {
     "data": {
      "image/png": "[encoded data removed]",
      "text/plain": [
       "<Figure size 432x288 with 1 Axes>"
      ]
     },
     "metadata": {
      "needs_background": "light"
     },
     "output_type": "display_data"
    }
   ],
   "source": [
    "data_len = len(val_loss_df['inner_loss'])\n",
    "x = np.array([i * 5000 / data_len for i in range(data_len)])\n",
    "plt.plot(x, np.array(val_loss_df['inner_loss']), label='loss')\n",
    "plt.plot(x, np.array(val_loss_df['inner_loss_f']), label='loss_f')\n",
    "plt.plot(x, np.array(val_loss_df['inner_loss_b']) * 10, label='loss_b')\n",
    "plt.xlabel('Epochs')\n",
    "plt.ylabel('Loss')\n",
    "plt.legend()\n",
    "plt.title('Post-adapt validation losses')"
   ]
  },
  {
   "cell_type": "code",
   "execution_count": 12,
   "id": "6f6c73ef-0575-44ed-86ce-9cee9500955d",
   "metadata": {},
   "outputs": [
    {
     "data": {
      "text/plain": [
       "Text(0.5, 1.0, 'Pre-adapt validation losses')"
      ]
     },
     "execution_count": 12,
     "metadata": {},
     "output_type": "execute_result"
    },
    {
     "data": {
      "image/png": "[encoded data removed]",
      "text/plain": [
       "<Figure size 432x288 with 1 Axes>"
      ]
     },
     "metadata": {
      "needs_background": "light"
     },
     "output_type": "display_data"
    }
   ],
   "source": [
    "data_len = len(val_loss_df['inner_loss'])\n",
    "x = np.array([i * 5000 / data_len for i in range(data_len)])\n",
    "plt.plot(x, np.array(val_loss_df['inner_loss_pre_adapt']), label='loss')\n",
    "plt.plot(x, np.array(val_loss_df['inner_loss_f_pre_adapt']), label='loss_f')\n",
    "plt.plot(x, np.array(val_loss_df['inner_loss_b_pre_adapt']) * 10, label='loss_b')\n",
    "plt.xlabel('Epochs')\n",
    "plt.ylabel('Loss')\n",
    "plt.legend()\n",
    "plt.title('Pre-adapt validation losses')"
   ]
  },
  {
   "cell_type": "code",
   "execution_count": 11,
   "id": "5b1bf0c8-b45a-49a9-98c8-98c4edb302f3",
   "metadata": {},
   "outputs": [
    {
     "data": {
      "text/plain": [
       "Text(0.5, 1.0, 'Validation metrics')"
      ]
     },
     "execution_count": 11,
     "metadata": {},
     "output_type": "execute_result"
    },
    {
     "data": {
      "image/png": "[encoded data removed]",
      "text/plain": [
       "<Figure size 432x288 with 1 Axes>"
      ]
     },
     "metadata": {
      "needs_background": "light"
     },
     "output_type": "display_data"
    }
   ],
   "source": [
    "data_len = len(nrmse_df['nrmse_val'])\n",
    "x = np.array([i * 5000 / data_len for i in range(data_len)])\n",
    "plt.plot(x, np.array(nrmse_df['nrmse_val_pre_adapt']), label='pre-adapt')\n",
    "plt.plot(x, np.array(nrmse_df['nrmse_val']), label='post-adapt')\n",
    "plt.yscale('log')\n",
    "plt.xlabel('Epochs')\n",
    "plt.ylabel('NRMSE')\n",
    "plt.legend()\n",
    "plt.title('Validation metrics')"
   ]
  },
  {
   "cell_type": "code",
   "execution_count": null,
   "id": "5b1537b2-402f-433b-8aaa-01bd59700369",
   "metadata": {},
   "outputs": [],
   "source": [
    "plt.plot(np.array(nrmse['nrmse_val_pre_adapt']))\n",
    "plt.plot(np.array(nrmse['nrmse_val']))\n",
    "plt.yscale('log')\n",
    "# plt.plot(np.array(val_loss['inner_loss'])[:, -1])"
   ]
  },
  {
   "cell_type": "code",
   "execution_count": null,
   "id": "69e7cd63-5b8b-482b-bbcb-a762bf08554b",
   "metadata": {},
   "outputs": [],
   "source": [
    "model = PINN(20, 5, dim=1, param_num=2, zero_shot=True)\n",
    "model.load_state_dict(torch.load('models/poisson_zs_5000_ref.data'))\n",
    "model.to(device)"
   ]
  },
  {
   "cell_type": "code",
   "execution_count": null,
   "id": "8aa6594e-31f3-4c13-a92f-c6842bab8fff",
   "metadata": {},
   "outputs": [],
   "source": [
    "device = torch.device('cuda' if torch.cuda.is_available() else 'cpu')\n",
    "print(\"Current device:\", device)\n",
    "test_x = np.linspace(-10, 10, num=100).reshape(-1, 1)\n",
    "# test_alpha = np.full((100, 1), alpha[2])\n",
    "# test_beta = np.full((100, 1), beta[2])\n",
    "test_alpha = np.full((100, 1), -0.830)\n",
    "test_beta = np.full((100, 1), -0.617)\n",
    "test_in = np.hstack((test_x, test_alpha, test_beta))\n",
    "test_u = model(torch.Tensor(test_in).to(device))\n",
    "X = test_x\n",
    "\n",
    "Y = np.sin(test_alpha * X) + np.cos(test_beta * X) + 0.1 * X\n",
    "\n"
   ]
  },
  {
   "cell_type": "code",
   "execution_count": null,
   "id": "373331d9-26d3-45e5-9fac-431dbdb93e46",
   "metadata": {},
   "outputs": [],
   "source": [
    "C = test_u.cpu().detach().numpy()\n",
    "plt.figure(figsize=(10, 8))\n",
    "plt.scatter(X, C, label='PINN')\n",
    "plt.scatter(X, Y, label='Answer')\n",
    "plt.legend()\n",
    "plt.colorbar()"
   ]
  },
  {
   "cell_type": "code",
   "execution_count": null,
   "id": "edc39cc7-4862-4ddb-bfe7-6b128059c634",
   "metadata": {},
   "outputs": [],
   "source": [
    "np.sqrt( np.sum((C-Y)**2) / np.sum(C**2) )"
   ]
  },
  {
   "cell_type": "code",
   "execution_count": null,
   "id": "195ae952-2dae-49cf-8066-5c8643128e13",
   "metadata": {},
   "outputs": [],
   "source": [
    "# steps = [ 1000 / len(val_loss['inner_loss']) * i for i in range(len(val_loss['inner_loss']))]\n",
    "# idx = [100 * i for i in range(10)]\n",
    "# loss = train_loss['inner_loss_f'][::100]\n",
    "# plt.plot(val_loss['inner_loss'], label='loss')\n",
    "plt.plot(np.mean(nrmse['nrmse_val'], axis=1), label='Val.')\n",
    "plt.plot(np.mean(nrmse['nrmse_val_ood'], axis=1), label='Val. OOD')\n",
    "plt.legend()\n",
    "plt.title('FO-MAML Val. Poisson')\n",
    "# plt.plot( loss)\n",
    "# plt.plot(nrmse['nrmse_val'])\n",
    "# plt.plot(nrmse['nrmse_val_ood'])\n",
    "# plt.plot(train_loss['inner_loss'])"
   ]
  },
  {
   "cell_type": "code",
   "execution_count": null,
   "id": "beaf51e6-34c1-46d0-a622-424e88f6f24c",
   "metadata": {},
   "outputs": [],
   "source": [
    "from train import *"
   ]
  },
  {
   "cell_type": "code",
   "execution_count": null,
   "id": "05a4919f-b3c5-43b2-9405-44497c91636e",
   "metadata": {},
   "outputs": [],
   "source": [
    "epochs = 500\n",
    "lr = 0.001"
   ]
  },
  {
   "cell_type": "code",
   "execution_count": null,
   "id": "76a42cee-eac9-4394-9421-a89e1effb1a6",
   "metadata": {},
   "outputs": [],
   "source": [
    "# loss_i, loss_b, loss_f, loss, model, val_loss, val_ood_loss, nrmse_set = train(epochs=epochs, lr=lr, i_size=100, b_size=100, f_size=1000, zero_shot=False, load=True, load_data='models/maml_burgers_5000.data', alpha_list=0.01 / np.pi, eqname='burgers')\n",
    "loss_i, loss_b, loss_f, loss, model, val_loss, val_ood_loss, nrmse_set = train(epochs=epochs, lr=lr, i_size=0, b_size=2, f_size=10, zero_shot=False, load=True, load_data='maml.data', alpha_list=0.7, beta_list=-0.9, eqname='poisson')"
   ]
  },
  {
   "cell_type": "code",
   "execution_count": null,
   "id": "bb393f14-2ead-48bf-ac7c-eaac00cacd2d",
   "metadata": {},
   "outputs": [],
   "source": [
    "# loss_i_2, loss_b_2, loss_f_2, loss_2, model_2, val_loss_2, val_ood_loss_2, nrmse_set_2 = train(epochs=epochs, lr=lr, i_size=100, b_size=100, f_size=1000, zero_shot=False, load=False, load_data='maml.data', alpha_list=0.01 / np.pi, eqname='burgers')\n",
    "loss_i_2, loss_b_2, loss_f_2, loss_2, model_2, val_loss_2, val_ood_loss_2, nrmse_set_2 = train(epochs=epochs, lr=lr, i_size=0, b_size=2, f_size=10, zero_shot=False, load=False, load_data='maml.data', alpha_list=0.7, beta_list=-0.9, eqname='poisson')"
   ]
  },
  {
   "cell_type": "code",
   "execution_count": null,
   "id": "4677c68e-510c-43ba-9ea9-e0d051fb34ca",
   "metadata": {},
   "outputs": [],
   "source": [
    "plt.title('Loss Few shot')\n",
    "plt.yscale('log')\n",
    "plt.plot(loss, label='MAML')\n",
    "plt.plot(loss_2, label='Random')\n",
    "plt.legend()"
   ]
  },
  {
   "cell_type": "code",
   "execution_count": null,
   "id": "00358e94-f90e-40b0-8bac-1c25ab060bb0",
   "metadata": {},
   "outputs": [],
   "source": [
    "plt.title('Relative error Few shot')\n",
    "plt.yscale('log')\n",
    "plt.plot(nrmse_set, label='MAML')\n",
    "plt.plot(nrmse_set_2, label='Random')\n",
    "plt.legend()"
   ]
  },
  {
   "cell_type": "code",
   "execution_count": null,
   "id": "ec1be12f-7744-49cb-8731-5242744665c5",
   "metadata": {},
   "outputs": [],
   "source": [
    "device = torch.device('cuda' if torch.cuda.is_available() else 'cpu')\n",
    "print(\"Current device:\", device)\n",
    "test_x = np.linspace(-1, 1, num=100).reshape(-1, 1)\n",
    "# test_alpha = np.full((100, 1), alpha[2])\n",
    "# test_beta = np.full((100, 1), beta[2])\n",
    "test_alpha = np.full((100, 1), 0.7)\n",
    "test_beta = np.full((100, 1), 0.7)\n",
    "# test_in = np.hstack((test_x, test_alpha, test_beta))\n",
    "test_u = model_2(torch.Tensor(test_x).to(device))\n",
    "X = test_x\n",
    "\n",
    "Y = np.sin(test_alpha * X) + np.cos(test_beta * X) + 0.1 * X\n"
   ]
  },
  {
   "cell_type": "code",
   "execution_count": null,
   "id": "8998c3ae-9cc2-4f95-a092-1c66c2689387",
   "metadata": {},
   "outputs": [],
   "source": [
    "C = test_u.cpu().detach().numpy()\n",
    "plt.figure(figsize=(10, 8))\n",
    "plt.scatter(X, C, label='PINN')\n",
    "plt.scatter(X, Y, label='Answer')\n",
    "plt.legend()\n",
    "plt.colorbar()"
   ]
  },
  {
   "cell_type": "code",
   "execution_count": null,
   "id": "fd364c44-e281-468c-b9e9-c1a08a75d236",
   "metadata": {},
   "outputs": [],
   "source": [
    "plt.plot(loss)\n",
    "plt.plot(loss_2)"
   ]
  },
  {
   "cell_type": "code",
   "execution_count": null,
   "id": "c5e5be5d-e097-4cb6-9e0a-c7e2dea80d1a",
   "metadata": {},
   "outputs": [],
   "source": [
    "from burgers import *"
   ]
  },
  {
   "cell_type": "code",
   "execution_count": null,
   "id": "db0e993d-d356-4fb6-9af8-a7b90becfdc3",
   "metadata": {},
   "outputs": [],
   "source": [
    "vtn = 101\n",
    "vxn = 101\n",
    "nu = 0.01 / np.pi\n",
    "vx = np.linspace(-1, 1, vxn)\n",
    "vt = np.linspace(0, 1, vtn)\n",
    "\n",
    "vu = burgers_viscous_time_exact1(nu, vxn, vx, vtn, vt)\n",
    "\n",
    "x, t = np.meshgrid(vx, vt)\n",
    "x = x.reshape(-1, 1)\n",
    "t = t.reshape(-1, 1)\n",
    "\n",
    "plt.scatter(x, t, c=vu, cmap='seismic')\n",
    "plt.colorbar()"
   ]
  },
  {
   "cell_type": "code",
   "execution_count": null,
   "id": "cb422fcf-83c4-422c-be16-fa44fa167b6c",
   "metadata": {},
   "outputs": [],
   "source": [
    "device = torch.device('cuda' if torch.cuda.is_available() else 'cpu')\n",
    "print(\"Current device:\", device)"
   ]
  },
  {
   "cell_type": "code",
   "execution_count": null,
   "id": "a71300da-7d02-45bc-b01c-e1d59586a7df",
   "metadata": {},
   "outputs": [],
   "source": [
    "vtn = 101\n",
    "vxn = 101\n",
    "nu = 0.01 / np.pi\n",
    "vx = np.linspace(-1, 1, vxn)\n",
    "vt = np.linspace(0, 1, vtn)\n",
    "x, t = np.meshgrid(vx, vt)\n",
    "x = x.reshape(-1, 1)\n",
    "t = t.reshape(-1, 1)\n",
    "alpha = np.full((x.shape), nu)\n",
    "# pred = model_2(torch.Tensor(np.hstack((x, t))).to(device)).detach().cpu().numpy()\n",
    "pred = model(torch.Tensor(np.hstack((x, t, alpha))).to(device)).detach().cpu().numpy()\n",
    "truth = burgers_viscous_time_exact1(nu, vxn, vx, vtn, vt).T.reshape(-1, 1)"
   ]
  },
  {
   "cell_type": "code",
   "execution_count": null,
   "id": "57dfb350-8e61-4d63-bca7-b45f48dd4ce8",
   "metadata": {},
   "outputs": [],
   "source": [
    "task = 0.01 / np.pi\n",
    "test_in = np.hstack((x, t, alpha))\n",
    "test_in_t = np.hstack((x_t, t_t, np.full((x_t.shape), task)))\n",
    "phi, _, _, _, _, _, _ = model_adapted=maml._inner_loop(model.state_dict(), task, train=True)\n",
    "model_adapted = deepcopy(model)\n",
    "model_adapted.load_state_dict(phi)\n",
    "Y2 = model_adapted(torch.Tensor(test_in).to(device)).detach().cpu().numpy()\n",
    "Y2_t = model_adapted(torch.Tensor(test_in_t).to(device)).detach().cpu().numpy()"
   ]
  },
  {
   "cell_type": "code",
   "execution_count": null,
   "id": "a46bb28f-a220-41f1-b63b-1d226483920c",
   "metadata": {},
   "outputs": [],
   "source": [
    "plt.scatter(x, t, c=Y2, cmap='seismic')\n",
    "plt.colorbar()"
   ]
  },
  {
   "cell_type": "code",
   "execution_count": null,
   "id": "604419bf-42e5-47b5-81b2-1f22d32eeb4e",
   "metadata": {},
   "outputs": [],
   "source": [
    "plt.scatter(x, t, c=pred, cmap='seismic')\n",
    "plt.colorbar()"
   ]
  },
  {
   "cell_type": "code",
   "execution_count": null,
   "id": "84e57157-de00-457e-8766-698d7506f0f4",
   "metadata": {},
   "outputs": [],
   "source": [
    "plt.scatter(x, t, c=truth, cmap='seismic')\n",
    "plt.colorbar()"
   ]
  },
  {
   "cell_type": "code",
   "execution_count": null,
   "id": "f8d2c34f-a8b5-4104-9b86-3ca29e33af45",
   "metadata": {},
   "outputs": [],
   "source": [
    "idx = 100\n",
    "truth_t = burgers_viscous_time_exact1(nu, vxn, vx, vtn, vt).T[idx, :]\n",
    "x_t = np.linspace(-1, 1, 101).reshape(-1, 1)\n",
    "t_t = np.full((x_t.shape), idx / 100)\n",
    "pred_t = model(torch.Tensor(np.hstack((x_t, t_t, np.full((x_t.shape), nu)))).to(device)).detach().cpu().numpy()\n",
    "Y2_t = model_adapted(torch.Tensor(np.hstack((x_t, t_t, np.full((x_t.shape), nu)))).to(device)).detach().cpu().numpy()\n",
    "plt.plot(x_t, truth_t, 'r--', label='truth')\n",
    "plt.plot(x_t, pred_t, 'b-', label='PINN')\n",
    "plt.plot(x_t, Y2_t, 'g--', label='adapted')\n",
    "plt.legend()"
   ]
  },
  {
   "cell_type": "code",
   "execution_count": null,
   "id": "65d49f34-90e9-4be4-8d51-a2b87671d1c2",
   "metadata": {},
   "outputs": [],
   "source": []
  }
 ],
 "metadata": {
  "kernelspec": {
   "display_name": "torch",
   "language": "python",
   "name": "torch-1.10.1"
  },
  "language_info": {
   "codemirror_mode": {
    "name": "ipython",
    "version": 3
   },
   "file_extension": ".py",
   "mimetype": "text/x-python",
   "name": "python",
   "nbconvert_exporter": "python",
   "pygments_lexer": "ipython3",
   "version": "3.9.12"
  }
 },
 "nbformat": 4,
 "nbformat_minor": 5
}

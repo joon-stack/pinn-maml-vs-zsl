{
 "cells": [
  {
   "cell_type": "code",
   "execution_count": 1,
   "id": "13fab8b6-cb38-4b19-aade-f0939939bc93",
   "metadata": {},
   "outputs": [],
   "source": [
    "from maml import *\n",
    "import matplotlib.pyplot as plt"
   ]
  },
  {
   "cell_type": "code",
   "execution_count": 2,
   "id": "80274bf7-1db5-4590-a403-bfabd4e361fe",
   "metadata": {},
   "outputs": [
    {
     "name": "stdout",
     "output_type": "stream",
     "text": [
      "Current device: cuda\n"
     ]
    }
   ],
   "source": [
    "device = torch.device('cuda' if torch.cuda.is_available() else 'cpu')\n",
    "print(\"Current device:\", device)"
   ]
  },
  {
   "cell_type": "code",
   "execution_count": 4,
   "id": "d8e3a9ab-9d5b-49a7-9ad6-6ad5b4eab18f",
   "metadata": {},
   "outputs": [
    {
     "name": "stdout",
     "output_type": "stream",
     "text": [
      "Initializing MAML-PINN model\n",
      "Current device:  cuda\n",
      "Model loaded successfully from models/burgers_zs_2000_ref.data\n",
      "cuda\n",
      "Zero shot mode is True\n",
      "Finished initialization of MAML-PINN model\n",
      "Start MAML training at iteration 0\n",
      "[0.003183098861837907]\n",
      "[0.06366197723675814]\n",
      "Validation before training Pre-Adaptation (0.003)| Inner_loss_I: 0.0000 | Inner_loss_B: 0.0003 | Inner_loss_F: 0.0000 | Inner_loss: 0.0004 | NRMSE: 0.1478\n",
      "Validation before training (0.003)| Inner_loss_I: 0.0000 | Inner_loss_B: 0.0003 | Inner_loss_F: 0.0000 | Inner_loss: 0.0004 | NRMSE: 0.1478\n",
      "validation OOD before training Pre-Adaptation (0.064)| Inner_loss_I: 0.0000 |Inner_loss_B: 0.0002 | Inner_loss_F: 0.0003 | Inner_loss: 0.0006 | NRMSE: 0.2332\n",
      "validation OOD before training (0.064)| Inner_loss_I: 0.0000 |Inner_loss_B: 0.0002 | Inner_loss_F: 0.0003 | Inner_loss: 0.0005 | NRMSE: 0.2331\n",
      "Step 20 Pre-Adapt | Inner_loss_I: 0.0006 | Inner_loss_B: 0.0001 | Inner_loss_F: 0.0925 | Inner_loss: 0.0932\n",
      "Step 20 Post-Adapt | Inner_loss_I: 0.0009 | Inner_loss_B: 0.0002 | Inner_loss_F: 0.0150 | Inner_loss: 0.0161\n",
      "Validation Pre-adaptation (0.003)| Inner_loss_I: 0.0013 |Inner_loss_B: 0.0001 | Inner_loss_F: 0.0010 | Inner_loss: 0.0024 | NRMSE: 0.1875\n",
      "Validation Post-adaptation (0.003)| Inner_loss_I: 0.0013 |Inner_loss_B: 0.0001 | Inner_loss_F: 0.0009 | Inner_loss: 0.0023 | NRMSE: 0.1871\n",
      "validation OOD Pre-Adaptation (0.064)| Inner_loss_I: 0.0015 |Inner_loss_B: 0.0002 | Inner_loss_F: 0.0000 | Inner_loss: 0.0017 | NRMSE: 0.2231\n",
      "validation OOD Post-Adaptation (0.064)| Inner_loss_I: 0.0015 |Inner_loss_B: 0.0010 | Inner_loss_F: 0.0001 | Inner_loss: 0.0025 | NRMSE: 0.2232\n",
      "Step 40 Pre-Adapt | Inner_loss_I: 0.0011 | Inner_loss_B: 0.0001 | Inner_loss_F: 0.1137 | Inner_loss: 0.1149\n",
      "Step 40 Post-Adapt | Inner_loss_I: 0.0011 | Inner_loss_B: 0.0001 | Inner_loss_F: 0.0220 | Inner_loss: 0.0233\n",
      "Validation Pre-adaptation (0.003)| Inner_loss_I: 0.0009 |Inner_loss_B: 0.0002 | Inner_loss_F: 0.0001 | Inner_loss: 0.0011 | NRMSE: 0.1925\n",
      "Validation Post-adaptation (0.003)| Inner_loss_I: 0.0009 |Inner_loss_B: 0.0002 | Inner_loss_F: 0.0000 | Inner_loss: 0.0011 | NRMSE: 0.1923\n",
      "validation OOD Pre-Adaptation (0.064)| Inner_loss_I: 0.0001 |Inner_loss_B: 0.0001 | Inner_loss_F: 0.2080 | Inner_loss: 0.2082 | NRMSE: 0.2213\n",
      "validation OOD Post-Adaptation (0.064)| Inner_loss_I: 0.0024 |Inner_loss_B: 0.0001 | Inner_loss_F: 0.0002 | Inner_loss: 0.0027 | NRMSE: 0.2214\n",
      "Step 60 Pre-Adapt | Inner_loss_I: 0.0014 | Inner_loss_B: 0.0001 | Inner_loss_F: 0.4631 | Inner_loss: 0.4645\n",
      "Step 60 Post-Adapt | Inner_loss_I: 0.0146 | Inner_loss_B: 0.0023 | Inner_loss_F: 0.0214 | Inner_loss: 0.0382\n",
      "Validation Pre-adaptation (0.003)| Inner_loss_I: 0.0016 |Inner_loss_B: 0.0001 | Inner_loss_F: 0.0018 | Inner_loss: 0.0034 | NRMSE: 0.2172\n",
      "Validation Post-adaptation (0.003)| Inner_loss_I: 0.0015 |Inner_loss_B: 0.0001 | Inner_loss_F: 0.0017 | Inner_loss: 0.0033 | NRMSE: 0.2167\n",
      "validation OOD Pre-Adaptation (0.064)| Inner_loss_I: 0.0000 |Inner_loss_B: 0.0001 | Inner_loss_F: 0.0991 | Inner_loss: 0.0992 | NRMSE: 0.2259\n",
      "validation OOD Post-Adaptation (0.064)| Inner_loss_I: 0.0012 |Inner_loss_B: 0.0001 | Inner_loss_F: 0.1343 | Inner_loss: 0.1356 | NRMSE: 0.2273\n",
      "Step 80 Pre-Adapt | Inner_loss_I: 0.0011 | Inner_loss_B: 0.0000 | Inner_loss_F: 0.3105 | Inner_loss: 0.3117\n",
      "Step 80 Post-Adapt | Inner_loss_I: 0.0011 | Inner_loss_B: 0.0003 | Inner_loss_F: 0.0059 | Inner_loss: 0.0072\n",
      "Validation Pre-adaptation (0.003)| Inner_loss_I: 0.0000 |Inner_loss_B: 0.0000 | Inner_loss_F: 0.0001 | Inner_loss: 0.0002 | NRMSE: 0.2128\n",
      "Validation Post-adaptation (0.003)| Inner_loss_I: 0.0000 |Inner_loss_B: 0.0000 | Inner_loss_F: 0.0001 | Inner_loss: 0.0001 | NRMSE: 0.2129\n",
      "validation OOD Pre-Adaptation (0.064)| Inner_loss_I: 0.0014 |Inner_loss_B: 0.0001 | Inner_loss_F: 0.0024 | Inner_loss: 0.0039 | NRMSE: 0.2261\n",
      "validation OOD Post-Adaptation (0.064)| Inner_loss_I: 0.0001 |Inner_loss_B: 0.0001 | Inner_loss_F: 0.0005 | Inner_loss: 0.0007 | NRMSE: 0.2261\n",
      "Model saved\n",
      "Step 100 Pre-Adapt | Inner_loss_I: 0.0014 | Inner_loss_B: 0.0000 | Inner_loss_F: 0.0671 | Inner_loss: 0.0685\n",
      "Step 100 Post-Adapt | Inner_loss_I: 0.0014 | Inner_loss_B: 0.0000 | Inner_loss_F: 0.0122 | Inner_loss: 0.0137\n",
      "Validation Pre-adaptation (0.003)| Inner_loss_I: 0.0014 |Inner_loss_B: 0.0000 | Inner_loss_F: 0.0029 | Inner_loss: 0.0043 | NRMSE: 0.2005\n",
      "Validation Post-adaptation (0.003)| Inner_loss_I: 0.0013 |Inner_loss_B: 0.0000 | Inner_loss_F: 0.0028 | Inner_loss: 0.0042 | NRMSE: 0.2001\n",
      "validation OOD Pre-Adaptation (0.064)| Inner_loss_I: 0.0002 |Inner_loss_B: 0.0001 | Inner_loss_F: 0.9477 | Inner_loss: 0.9480 | NRMSE: 0.2225\n",
      "validation OOD Post-Adaptation (0.064)| Inner_loss_I: 0.0047 |Inner_loss_B: 0.0001 | Inner_loss_F: 0.0019 | Inner_loss: 0.0067 | NRMSE: 0.2226\n",
      "Step 120 Pre-Adapt | Inner_loss_I: 0.0023 | Inner_loss_B: 0.0000 | Inner_loss_F: 0.2560 | Inner_loss: 0.2583\n",
      "Step 120 Post-Adapt | Inner_loss_I: 0.0026 | Inner_loss_B: 0.0001 | Inner_loss_F: 0.0095 | Inner_loss: 0.0122\n",
      "Validation Pre-adaptation (0.003)| Inner_loss_I: 0.0000 |Inner_loss_B: 0.0000 | Inner_loss_F: 0.1886 | Inner_loss: 0.1887 | NRMSE: 0.1846\n",
      "Validation Post-adaptation (0.003)| Inner_loss_I: 0.0000 |Inner_loss_B: 0.0000 | Inner_loss_F: 0.1352 | Inner_loss: 0.1352 | NRMSE: 0.1963\n",
      "validation OOD Pre-Adaptation (0.064)| Inner_loss_I: 0.0065 |Inner_loss_B: 0.0000 | Inner_loss_F: 0.3422 | Inner_loss: 0.3487 | NRMSE: 0.2194\n",
      "validation OOD Post-Adaptation (0.064)| Inner_loss_I: 0.0012 |Inner_loss_B: 0.0001 | Inner_loss_F: 1.1720 | Inner_loss: 1.1732 | NRMSE: 0.2305\n",
      "Step 140 Pre-Adapt | Inner_loss_I: 0.0023 | Inner_loss_B: 0.0000 | Inner_loss_F: 0.3816 | Inner_loss: 0.3839\n",
      "Step 140 Post-Adapt | Inner_loss_I: 0.0029 | Inner_loss_B: 0.0001 | Inner_loss_F: 0.0114 | Inner_loss: 0.0144\n",
      "Validation Pre-adaptation (0.003)| Inner_loss_I: 0.0059 |Inner_loss_B: 0.0000 | Inner_loss_F: 0.0006 | Inner_loss: 0.0065 | NRMSE: 0.1820\n",
      "Validation Post-adaptation (0.003)| Inner_loss_I: 0.0059 |Inner_loss_B: 0.0000 | Inner_loss_F: 0.0006 | Inner_loss: 0.0064 | NRMSE: 0.1815\n",
      "validation OOD Pre-Adaptation (0.064)| Inner_loss_I: 0.0002 |Inner_loss_B: 0.0001 | Inner_loss_F: 0.0002 | Inner_loss: 0.0005 | NRMSE: 0.2206\n",
      "validation OOD Post-Adaptation (0.064)| Inner_loss_I: 0.0001 |Inner_loss_B: 0.0000 | Inner_loss_F: 0.0007 | Inner_loss: 0.0009 | NRMSE: 0.2205\n",
      "Step 160 Pre-Adapt | Inner_loss_I: 0.0018 | Inner_loss_B: 0.0000 | Inner_loss_F: 0.0450 | Inner_loss: 0.0469\n",
      "Step 160 Post-Adapt | Inner_loss_I: 0.0018 | Inner_loss_B: 0.0001 | Inner_loss_F: 0.0144 | Inner_loss: 0.0162\n",
      "Validation Pre-adaptation (0.003)| Inner_loss_I: 0.0019 |Inner_loss_B: 0.0000 | Inner_loss_F: 0.0001 | Inner_loss: 0.0020 | NRMSE: 0.1845\n",
      "Validation Post-adaptation (0.003)| Inner_loss_I: 0.0019 |Inner_loss_B: 0.0000 | Inner_loss_F: 0.0001 | Inner_loss: 0.0020 | NRMSE: 0.1843\n",
      "validation OOD Pre-Adaptation (0.064)| Inner_loss_I: 0.0095 |Inner_loss_B: 0.0001 | Inner_loss_F: 0.0000 | Inner_loss: 0.0096 | NRMSE: 0.2222\n",
      "validation OOD Post-Adaptation (0.064)| Inner_loss_I: 0.0008 |Inner_loss_B: 0.0001 | Inner_loss_F: 0.0335 | Inner_loss: 0.0344 | NRMSE: 0.2219\n",
      "Step 180 Pre-Adapt | Inner_loss_I: 0.0018 | Inner_loss_B: 0.0000 | Inner_loss_F: 0.3128 | Inner_loss: 0.3146\n",
      "Step 180 Post-Adapt | Inner_loss_I: 0.0028 | Inner_loss_B: 0.0001 | Inner_loss_F: 0.0055 | Inner_loss: 0.0084\n",
      "Validation Pre-adaptation (0.003)| Inner_loss_I: 0.0005 |Inner_loss_B: 0.0000 | Inner_loss_F: 0.0000 | Inner_loss: 0.0005 | NRMSE: 0.1826\n",
      "Validation Post-adaptation (0.003)| Inner_loss_I: 0.0005 |Inner_loss_B: 0.0000 | Inner_loss_F: 0.0000 | Inner_loss: 0.0005 | NRMSE: 0.1824\n",
      "validation OOD Pre-Adaptation (0.064)| Inner_loss_I: 0.0000 |Inner_loss_B: 0.0000 | Inner_loss_F: 0.0024 | Inner_loss: 0.0025 | NRMSE: 0.2234\n",
      "validation OOD Post-Adaptation (0.064)| Inner_loss_I: 0.0052 |Inner_loss_B: 0.0000 | Inner_loss_F: 0.0057 | Inner_loss: 0.0109 | NRMSE: 0.2233\n",
      "Model saved\n",
      "Step 200 Pre-Adapt | Inner_loss_I: 0.0020 | Inner_loss_B: 0.0000 | Inner_loss_F: 0.6686 | Inner_loss: 0.6706\n",
      "Step 200 Post-Adapt | Inner_loss_I: 0.0047 | Inner_loss_B: 0.0030 | Inner_loss_F: 0.0235 | Inner_loss: 0.0313\n",
      "Validation Pre-adaptation (0.003)| Inner_loss_I: 0.0060 |Inner_loss_B: 0.0000 | Inner_loss_F: 0.0000 | Inner_loss: 0.0060 | NRMSE: 0.1839\n",
      "Validation Post-adaptation (0.003)| Inner_loss_I: 0.0059 |Inner_loss_B: 0.0000 | Inner_loss_F: 0.0000 | Inner_loss: 0.0059 | NRMSE: 0.1838\n",
      "validation OOD Pre-Adaptation (0.064)| Inner_loss_I: 0.0031 |Inner_loss_B: 0.0000 | Inner_loss_F: 0.0206 | Inner_loss: 0.0237 | NRMSE: 0.2260\n",
      "validation OOD Post-Adaptation (0.064)| Inner_loss_I: 0.0135 |Inner_loss_B: 0.0002 | Inner_loss_F: 0.0997 | Inner_loss: 0.1134 | NRMSE: 0.2319\n",
      "Step 220 Pre-Adapt | Inner_loss_I: 0.0022 | Inner_loss_B: 0.0000 | Inner_loss_F: 0.0976 | Inner_loss: 0.0998\n",
      "Step 220 Post-Adapt | Inner_loss_I: 0.0022 | Inner_loss_B: 0.0000 | Inner_loss_F: 0.0098 | Inner_loss: 0.0121\n",
      "Validation Pre-adaptation (0.003)| Inner_loss_I: 0.0000 |Inner_loss_B: 0.0000 | Inner_loss_F: 0.0070 | Inner_loss: 0.0070 | NRMSE: 0.1916\n",
      "Validation Post-adaptation (0.003)| Inner_loss_I: 0.0000 |Inner_loss_B: 0.0000 | Inner_loss_F: 0.0064 | Inner_loss: 0.0065 | NRMSE: 0.1909\n",
      "validation OOD Pre-Adaptation (0.064)| Inner_loss_I: 0.0000 |Inner_loss_B: 0.0002 | Inner_loss_F: 0.0021 | Inner_loss: 0.0023 | NRMSE: 0.2226\n",
      "validation OOD Post-Adaptation (0.064)| Inner_loss_I: 0.0055 |Inner_loss_B: 0.0001 | Inner_loss_F: 0.0000 | Inner_loss: 0.0056 | NRMSE: 0.2228\n",
      "Step 240 Pre-Adapt | Inner_loss_I: 0.0024 | Inner_loss_B: 0.0000 | Inner_loss_F: 0.1896 | Inner_loss: 0.1920\n",
      "Step 240 Post-Adapt | Inner_loss_I: 0.0024 | Inner_loss_B: 0.0001 | Inner_loss_F: 0.0251 | Inner_loss: 0.0276\n",
      "Validation Pre-adaptation (0.003)| Inner_loss_I: 0.0000 |Inner_loss_B: 0.0000 | Inner_loss_F: 0.0271 | Inner_loss: 0.0272 | NRMSE: 0.1907\n",
      "Validation Post-adaptation (0.003)| Inner_loss_I: 0.0000 |Inner_loss_B: 0.0000 | Inner_loss_F: 0.0185 | Inner_loss: 0.0186 | NRMSE: 0.1923\n",
      "validation OOD Pre-Adaptation (0.064)| Inner_loss_I: 0.0007 |Inner_loss_B: 0.0001 | Inner_loss_F: 0.0098 | Inner_loss: 0.0105 | NRMSE: 0.2226\n",
      "validation OOD Post-Adaptation (0.064)| Inner_loss_I: 0.0113 |Inner_loss_B: 0.0007 | Inner_loss_F: 0.2592 | Inner_loss: 0.2712 | NRMSE: 0.2275\n",
      "Step 260 Pre-Adapt | Inner_loss_I: 0.0020 | Inner_loss_B: 0.0000 | Inner_loss_F: 0.5801 | Inner_loss: 0.5822\n",
      "Step 260 Post-Adapt | Inner_loss_I: 0.0021 | Inner_loss_B: 0.0002 | Inner_loss_F: 0.0072 | Inner_loss: 0.0095\n",
      "Validation Pre-adaptation (0.003)| Inner_loss_I: 0.0004 |Inner_loss_B: 0.0000 | Inner_loss_F: 0.0000 | Inner_loss: 0.0005 | NRMSE: 0.1783\n",
      "Validation Post-adaptation (0.003)| Inner_loss_I: 0.0004 |Inner_loss_B: 0.0000 | Inner_loss_F: 0.0000 | Inner_loss: 0.0004 | NRMSE: 0.1784\n",
      "validation OOD Pre-Adaptation (0.064)| Inner_loss_I: 0.0036 |Inner_loss_B: 0.0000 | Inner_loss_F: 2.6461 | Inner_loss: 2.6498 | NRMSE: 0.2271\n",
      "validation OOD Post-Adaptation (0.064)| Inner_loss_I: 0.0000 |Inner_loss_B: 0.0001 | Inner_loss_F: 0.0000 | Inner_loss: 0.0001 | NRMSE: 0.2271\n",
      "Step 280 Pre-Adapt | Inner_loss_I: 0.0017 | Inner_loss_B: 0.0000 | Inner_loss_F: 0.1173 | Inner_loss: 0.1191\n",
      "Step 280 Post-Adapt | Inner_loss_I: 0.0017 | Inner_loss_B: 0.0001 | Inner_loss_F: 0.0131 | Inner_loss: 0.0148\n",
      "Validation Pre-adaptation (0.003)| Inner_loss_I: 0.0001 |Inner_loss_B: 0.0000 | Inner_loss_F: 0.0000 | Inner_loss: 0.0001 | NRMSE: 0.1715\n",
      "Validation Post-adaptation (0.003)| Inner_loss_I: 0.0001 |Inner_loss_B: 0.0000 | Inner_loss_F: 0.0000 | Inner_loss: 0.0001 | NRMSE: 0.1715\n",
      "validation OOD Pre-Adaptation (0.064)| Inner_loss_I: 0.0064 |Inner_loss_B: 0.0001 | Inner_loss_F: 3.3521 | Inner_loss: 3.3586 | NRMSE: 0.2294\n",
      "validation OOD Post-Adaptation (0.064)| Inner_loss_I: 0.0000 |Inner_loss_B: 0.0001 | Inner_loss_F: 0.0000 | Inner_loss: 0.0001 | NRMSE: 0.2294\n",
      "Model saved\n",
      "Step 300 Pre-Adapt | Inner_loss_I: 0.0019 | Inner_loss_B: 0.0000 | Inner_loss_F: 0.0531 | Inner_loss: 0.0550\n",
      "Step 300 Post-Adapt | Inner_loss_I: 0.0018 | Inner_loss_B: 0.0000 | Inner_loss_F: 0.0138 | Inner_loss: 0.0156\n",
      "Validation Pre-adaptation (0.003)| Inner_loss_I: 0.0006 |Inner_loss_B: 0.0000 | Inner_loss_F: 0.0000 | Inner_loss: 0.0006 | NRMSE: 0.1688\n",
      "Validation Post-adaptation (0.003)| Inner_loss_I: 0.0006 |Inner_loss_B: 0.0000 | Inner_loss_F: 0.0000 | Inner_loss: 0.0006 | NRMSE: 0.1687\n",
      "validation OOD Pre-Adaptation (0.064)| Inner_loss_I: 0.0008 |Inner_loss_B: 0.0000 | Inner_loss_F: 0.0003 | Inner_loss: 0.0012 | NRMSE: 0.2312\n",
      "validation OOD Post-Adaptation (0.064)| Inner_loss_I: 0.0006 |Inner_loss_B: 0.0002 | Inner_loss_F: 0.4816 | Inner_loss: 0.4824 | NRMSE: 0.2365\n",
      "Step 320 Pre-Adapt | Inner_loss_I: 0.0015 | Inner_loss_B: 0.0001 | Inner_loss_F: 0.5681 | Inner_loss: 0.5696\n",
      "Step 320 Post-Adapt | Inner_loss_I: 0.0016 | Inner_loss_B: 0.0003 | Inner_loss_F: 0.0038 | Inner_loss: 0.0057\n",
      "Validation Pre-adaptation (0.003)| Inner_loss_I: 0.0011 |Inner_loss_B: 0.0002 | Inner_loss_F: 0.0054 | Inner_loss: 0.0066 | NRMSE: 0.1728\n",
      "Validation Post-adaptation (0.003)| Inner_loss_I: 0.0010 |Inner_loss_B: 0.0002 | Inner_loss_F: 0.0053 | Inner_loss: 0.0065 | NRMSE: 0.1723\n",
      "validation OOD Pre-Adaptation (0.064)| Inner_loss_I: 0.0001 |Inner_loss_B: 0.0001 | Inner_loss_F: 0.0005 | Inner_loss: 0.0006 | NRMSE: 0.2269\n",
      "validation OOD Post-Adaptation (0.064)| Inner_loss_I: 0.0038 |Inner_loss_B: 0.0001 | Inner_loss_F: 0.0018 | Inner_loss: 0.0057 | NRMSE: 0.2269\n",
      "Step 340 Pre-Adapt | Inner_loss_I: 0.0017 | Inner_loss_B: 0.0001 | Inner_loss_F: 0.2389 | Inner_loss: 0.2407\n",
      "Step 340 Post-Adapt | Inner_loss_I: 0.0018 | Inner_loss_B: 0.0001 | Inner_loss_F: 0.0147 | Inner_loss: 0.0166\n",
      "Validation Pre-adaptation (0.003)| Inner_loss_I: 0.0000 |Inner_loss_B: 0.0000 | Inner_loss_F: 0.0000 | Inner_loss: 0.0001 | NRMSE: 0.1715\n",
      "Validation Post-adaptation (0.003)| Inner_loss_I: 0.0000 |Inner_loss_B: 0.0000 | Inner_loss_F: 0.0000 | Inner_loss: 0.0001 | NRMSE: 0.1716\n",
      "validation OOD Pre-Adaptation (0.064)| Inner_loss_I: 0.0024 |Inner_loss_B: 0.0001 | Inner_loss_F: 0.1519 | Inner_loss: 0.1544 | NRMSE: 0.2287\n",
      "validation OOD Post-Adaptation (0.064)| Inner_loss_I: 2.9939 |Inner_loss_B: 0.3741 | Inner_loss_F: 0.2499 | Inner_loss: 3.6179 | NRMSE: 1.9135\n",
      "Step 360 Pre-Adapt | Inner_loss_I: 0.0017 | Inner_loss_B: 0.0000 | Inner_loss_F: 0.1324 | Inner_loss: 0.1342\n",
      "Step 360 Post-Adapt | Inner_loss_I: 0.0021 | Inner_loss_B: 0.0001 | Inner_loss_F: 0.0084 | Inner_loss: 0.0105\n",
      "Validation Pre-adaptation (0.003)| Inner_loss_I: 0.0050 |Inner_loss_B: 0.0000 | Inner_loss_F: 0.0000 | Inner_loss: 0.0050 | NRMSE: 0.1773\n",
      "Validation Post-adaptation (0.003)| Inner_loss_I: 0.0049 |Inner_loss_B: 0.0000 | Inner_loss_F: 0.0000 | Inner_loss: 0.0049 | NRMSE: 0.1769\n",
      "validation OOD Pre-Adaptation (0.064)| Inner_loss_I: 0.0035 |Inner_loss_B: 0.0003 | Inner_loss_F: 0.0005 | Inner_loss: 0.0043 | NRMSE: 0.2271\n",
      "validation OOD Post-Adaptation (0.064)| Inner_loss_I: 0.0007 |Inner_loss_B: 0.0000 | Inner_loss_F: 0.0001 | Inner_loss: 0.0008 | NRMSE: 0.2272\n",
      "Step 380 Pre-Adapt | Inner_loss_I: 0.0019 | Inner_loss_B: 0.0001 | Inner_loss_F: 0.4246 | Inner_loss: 0.4267\n",
      "Step 380 Post-Adapt | Inner_loss_I: 0.0035 | Inner_loss_B: 0.0002 | Inner_loss_F: 0.0226 | Inner_loss: 0.0263\n",
      "Validation Pre-adaptation (0.003)| Inner_loss_I: 0.0002 |Inner_loss_B: 0.0000 | Inner_loss_F: 0.0000 | Inner_loss: 0.0002 | NRMSE: 0.1942\n",
      "Validation Post-adaptation (0.003)| Inner_loss_I: 0.0002 |Inner_loss_B: 0.0000 | Inner_loss_F: 0.0000 | Inner_loss: 0.0002 | NRMSE: 0.1943\n",
      "validation OOD Pre-Adaptation (0.064)| Inner_loss_I: 0.0002 |Inner_loss_B: 0.0007 | Inner_loss_F: 0.0001 | Inner_loss: 0.0010 | NRMSE: 0.2270\n",
      "validation OOD Post-Adaptation (0.064)| Inner_loss_I: 0.0003 |Inner_loss_B: 0.0001 | Inner_loss_F: 0.0002 | Inner_loss: 0.0006 | NRMSE: 0.2270\n",
      "Model saved\n",
      "Step 400 Pre-Adapt | Inner_loss_I: 0.0020 | Inner_loss_B: 0.0000 | Inner_loss_F: 0.1670 | Inner_loss: 0.1690\n",
      "Step 400 Post-Adapt | Inner_loss_I: 0.0024 | Inner_loss_B: 0.0001 | Inner_loss_F: 0.0157 | Inner_loss: 0.0182\n",
      "Validation Pre-adaptation (0.003)| Inner_loss_I: 0.0039 |Inner_loss_B: 0.0003 | Inner_loss_F: 0.0001 | Inner_loss: 0.0043 | NRMSE: 0.2024\n",
      "Validation Post-adaptation (0.003)| Inner_loss_I: 0.0038 |Inner_loss_B: 0.0003 | Inner_loss_F: 0.0001 | Inner_loss: 0.0042 | NRMSE: 0.2022\n",
      "validation OOD Pre-Adaptation (0.064)| Inner_loss_I: 0.0033 |Inner_loss_B: 0.0000 | Inner_loss_F: 0.0003 | Inner_loss: 0.0035 | NRMSE: 0.2285\n",
      "validation OOD Post-Adaptation (0.064)| Inner_loss_I: 0.0063 |Inner_loss_B: 0.0000 | Inner_loss_F: 0.0000 | Inner_loss: 0.0064 | NRMSE: 0.2286\n",
      "Step 420 Pre-Adapt | Inner_loss_I: 0.0020 | Inner_loss_B: 0.0000 | Inner_loss_F: 0.4247 | Inner_loss: 0.4267\n",
      "Step 420 Post-Adapt | Inner_loss_I: 0.0041 | Inner_loss_B: 0.0010 | Inner_loss_F: 0.0094 | Inner_loss: 0.0145\n",
      "Validation Pre-adaptation (0.003)| Inner_loss_I: 0.0002 |Inner_loss_B: 0.0000 | Inner_loss_F: 0.0004 | Inner_loss: 0.0006 | NRMSE: 0.1927\n",
      "Validation Post-adaptation (0.003)| Inner_loss_I: 0.0002 |Inner_loss_B: 0.0000 | Inner_loss_F: 0.0004 | Inner_loss: 0.0006 | NRMSE: 0.1926\n",
      "validation OOD Pre-Adaptation (0.064)| Inner_loss_I: 0.0001 |Inner_loss_B: 0.0000 | Inner_loss_F: 0.0000 | Inner_loss: 0.0002 | NRMSE: 0.2322\n",
      "validation OOD Post-Adaptation (0.064)| Inner_loss_I: 0.0021 |Inner_loss_B: 0.0003 | Inner_loss_F: 0.0003 | Inner_loss: 0.0027 | NRMSE: 0.2323\n",
      "Step 440 Pre-Adapt | Inner_loss_I: 0.0018 | Inner_loss_B: 0.0000 | Inner_loss_F: 0.1915 | Inner_loss: 0.1933\n",
      "Step 440 Post-Adapt | Inner_loss_I: 0.0019 | Inner_loss_B: 0.0002 | Inner_loss_F: 0.0093 | Inner_loss: 0.0114\n",
      "Validation Pre-adaptation (0.003)| Inner_loss_I: 0.0003 |Inner_loss_B: 0.0000 | Inner_loss_F: 4.9882 | Inner_loss: 4.9885 | NRMSE: 0.1932\n",
      "Validation Post-adaptation (0.003)| Inner_loss_I: 0.0013 |Inner_loss_B: 0.0009 | Inner_loss_F: 0.0359 | Inner_loss: 0.0381 | NRMSE: 0.2316\n",
      "validation OOD Pre-Adaptation (0.064)| Inner_loss_I: 0.0061 |Inner_loss_B: 0.0002 | Inner_loss_F: 0.1047 | Inner_loss: 0.1109 | NRMSE: 0.2299\n",
      "validation OOD Post-Adaptation (0.064)| Inner_loss_I: 0.0016 |Inner_loss_B: 0.0000 | Inner_loss_F: 0.0287 | Inner_loss: 0.0304 | NRMSE: 0.2286\n",
      "Step 460 Pre-Adapt | Inner_loss_I: 0.0022 | Inner_loss_B: 0.0001 | Inner_loss_F: 0.5020 | Inner_loss: 0.5043\n",
      "Step 460 Post-Adapt | Inner_loss_I: 0.0088 | Inner_loss_B: 0.0035 | Inner_loss_F: 0.0204 | Inner_loss: 0.0327\n",
      "Validation Pre-adaptation (0.003)| Inner_loss_I: 0.0037 |Inner_loss_B: 0.0000 | Inner_loss_F: 0.0001 | Inner_loss: 0.0038 | NRMSE: 0.2014\n",
      "Validation Post-adaptation (0.003)| Inner_loss_I: 0.0036 |Inner_loss_B: 0.0000 | Inner_loss_F: 0.0001 | Inner_loss: 0.0038 | NRMSE: 0.2010\n",
      "validation OOD Pre-Adaptation (0.064)| Inner_loss_I: 0.0052 |Inner_loss_B: 0.0001 | Inner_loss_F: 0.0002 | Inner_loss: 0.0054 | NRMSE: 0.2253\n",
      "validation OOD Post-Adaptation (0.064)| Inner_loss_I: 0.0062 |Inner_loss_B: 0.0001 | Inner_loss_F: 0.0027 | Inner_loss: 0.0090 | NRMSE: 0.2253\n",
      "Step 480 Pre-Adapt | Inner_loss_I: 0.0024 | Inner_loss_B: 0.0000 | Inner_loss_F: 0.2351 | Inner_loss: 0.2375\n",
      "Step 480 Post-Adapt | Inner_loss_I: 0.0024 | Inner_loss_B: 0.0001 | Inner_loss_F: 0.0082 | Inner_loss: 0.0107\n",
      "Validation Pre-adaptation (0.003)| Inner_loss_I: 0.0043 |Inner_loss_B: 0.0000 | Inner_loss_F: 0.0069 | Inner_loss: 0.0111 | NRMSE: 0.2227\n",
      "Validation Post-adaptation (0.003)| Inner_loss_I: 0.0042 |Inner_loss_B: 0.0000 | Inner_loss_F: 0.0068 | Inner_loss: 0.0110 | NRMSE: 0.2221\n",
      "validation OOD Pre-Adaptation (0.064)| Inner_loss_I: 0.0001 |Inner_loss_B: 0.0000 | Inner_loss_F: 59.4127 | Inner_loss: 59.4127 | NRMSE: 0.2279\n",
      "validation OOD Post-Adaptation (0.064)| Inner_loss_I: 0.0001 |Inner_loss_B: 0.0000 | Inner_loss_F: 0.1232 | Inner_loss: 0.1233 | NRMSE: 0.2287\n",
      "Model saved\n",
      "Step 500 Pre-Adapt | Inner_loss_I: 0.0024 | Inner_loss_B: 0.0001 | Inner_loss_F: 0.1155 | Inner_loss: 0.1180\n",
      "Step 500 Post-Adapt | Inner_loss_I: 0.0050 | Inner_loss_B: 0.0007 | Inner_loss_F: 0.0174 | Inner_loss: 0.0231\n",
      "Validation Pre-adaptation (0.003)| Inner_loss_I: 0.0040 |Inner_loss_B: 0.0000 | Inner_loss_F: 0.0018 | Inner_loss: 0.0059 | NRMSE: 0.2150\n",
      "Validation Post-adaptation (0.003)| Inner_loss_I: 0.0039 |Inner_loss_B: 0.0000 | Inner_loss_F: 0.0018 | Inner_loss: 0.0057 | NRMSE: 0.2145\n",
      "validation OOD Pre-Adaptation (0.064)| Inner_loss_I: 0.0000 |Inner_loss_B: 0.0001 | Inner_loss_F: 0.3033 | Inner_loss: 0.3034 | NRMSE: 0.2275\n",
      "validation OOD Post-Adaptation (0.064)| Inner_loss_I: 0.0001 |Inner_loss_B: 0.0001 | Inner_loss_F: 0.0000 | Inner_loss: 0.0002 | NRMSE: 0.2275\n",
      "Step 520 Pre-Adapt | Inner_loss_I: 0.0025 | Inner_loss_B: 0.0000 | Inner_loss_F: 0.9361 | Inner_loss: 0.9387\n",
      "Step 520 Post-Adapt | Inner_loss_I: 0.0054 | Inner_loss_B: 0.0017 | Inner_loss_F: 0.0124 | Inner_loss: 0.0194\n",
      "Validation Pre-adaptation (0.003)| Inner_loss_I: 0.0031 |Inner_loss_B: 0.0000 | Inner_loss_F: 0.0113 | Inner_loss: 0.0144 | NRMSE: 0.2182\n",
      "Validation Post-adaptation (0.003)| Inner_loss_I: 0.0029 |Inner_loss_B: 0.0000 | Inner_loss_F: 0.0102 | Inner_loss: 0.0132 | NRMSE: 0.2170\n",
      "validation OOD Pre-Adaptation (0.064)| Inner_loss_I: 0.0113 |Inner_loss_B: 0.0000 | Inner_loss_F: 0.0001 | Inner_loss: 0.0114 | NRMSE: 0.2274\n",
      "validation OOD Post-Adaptation (0.064)| Inner_loss_I: 1.0717 |Inner_loss_B: 0.0651 | Inner_loss_F: 0.0465 | Inner_loss: 1.1833 | NRMSE: 1.7201\n",
      "Step 540 Pre-Adapt | Inner_loss_I: 0.0027 | Inner_loss_B: 0.0000 | Inner_loss_F: 1.3767 | Inner_loss: 1.3795\n",
      "Step 540 Post-Adapt | Inner_loss_I: 0.0026 | Inner_loss_B: 0.0005 | Inner_loss_F: 0.0196 | Inner_loss: 0.0227\n",
      "Validation Pre-adaptation (0.003)| Inner_loss_I: 0.0003 |Inner_loss_B: 0.0000 | Inner_loss_F: 0.0000 | Inner_loss: 0.0003 | NRMSE: 0.2242\n",
      "Validation Post-adaptation (0.003)| Inner_loss_I: 0.0003 |Inner_loss_B: 0.0000 | Inner_loss_F: 0.0000 | Inner_loss: 0.0003 | NRMSE: 0.2241\n",
      "validation OOD Pre-Adaptation (0.064)| Inner_loss_I: 0.0057 |Inner_loss_B: 0.0001 | Inner_loss_F: 0.1570 | Inner_loss: 0.1627 | NRMSE: 0.2292\n",
      "validation OOD Post-Adaptation (0.064)| Inner_loss_I: 0.0008 |Inner_loss_B: 0.0001 | Inner_loss_F: 0.0510 | Inner_loss: 0.0519 | NRMSE: 0.2286\n",
      "Step 560 Pre-Adapt | Inner_loss_I: 0.0024 | Inner_loss_B: 0.0001 | Inner_loss_F: 0.7566 | Inner_loss: 0.7591\n",
      "Step 560 Post-Adapt | Inner_loss_I: 0.0028 | Inner_loss_B: 0.0004 | Inner_loss_F: 0.0198 | Inner_loss: 0.0231\n",
      "Validation Pre-adaptation (0.003)| Inner_loss_I: 0.0035 |Inner_loss_B: 0.0000 | Inner_loss_F: 14.6622 | Inner_loss: 14.6657 | NRMSE: 0.2257\n",
      "Validation Post-adaptation (0.003)| Inner_loss_I: 0.0136 |Inner_loss_B: 0.0022 | Inner_loss_F: 0.1893 | Inner_loss: 0.2051 | NRMSE: 0.4928\n",
      "validation OOD Pre-Adaptation (0.064)| Inner_loss_I: 0.0000 |Inner_loss_B: 0.0000 | Inner_loss_F: 0.0000 | Inner_loss: 0.0001 | NRMSE: 0.2287\n",
      "validation OOD Post-Adaptation (0.064)| Inner_loss_I: 0.0008 |Inner_loss_B: 0.0002 | Inner_loss_F: 0.0185 | Inner_loss: 0.0195 | NRMSE: 0.2281\n",
      "Step 580 Pre-Adapt | Inner_loss_I: 0.0016 | Inner_loss_B: 0.0001 | Inner_loss_F: 0.3591 | Inner_loss: 0.3608\n",
      "Step 580 Post-Adapt | Inner_loss_I: 0.0020 | Inner_loss_B: 0.0003 | Inner_loss_F: 0.0095 | Inner_loss: 0.0119\n",
      "Validation Pre-adaptation (0.003)| Inner_loss_I: 0.0091 |Inner_loss_B: 0.0000 | Inner_loss_F: 0.0264 | Inner_loss: 0.0355 | NRMSE: 0.2301\n",
      "Validation Post-adaptation (0.003)| Inner_loss_I: 0.0098 |Inner_loss_B: 0.0000 | Inner_loss_F: 0.0204 | Inner_loss: 0.0302 | NRMSE: 0.2306\n",
      "validation OOD Pre-Adaptation (0.064)| Inner_loss_I: 0.0018 |Inner_loss_B: 0.0001 | Inner_loss_F: 0.0120 | Inner_loss: 0.0139 | NRMSE: 0.2320\n",
      "validation OOD Post-Adaptation (0.064)| Inner_loss_I: 0.0001 |Inner_loss_B: 0.0001 | Inner_loss_F: 0.0235 | Inner_loss: 0.0237 | NRMSE: 0.2313\n",
      "Model saved\n",
      "Step 600 Pre-Adapt | Inner_loss_I: 0.0024 | Inner_loss_B: 0.0000 | Inner_loss_F: 0.0124 | Inner_loss: 0.0149\n",
      "Step 600 Post-Adapt | Inner_loss_I: 0.0023 | Inner_loss_B: 0.0001 | Inner_loss_F: 0.0054 | Inner_loss: 0.0079\n",
      "Validation Pre-adaptation (0.003)| Inner_loss_I: 0.0025 |Inner_loss_B: 0.0000 | Inner_loss_F: 0.3647 | Inner_loss: 0.3672 | NRMSE: 0.2387\n",
      "Validation Post-adaptation (0.003)| Inner_loss_I: 0.0037 |Inner_loss_B: 0.0000 | Inner_loss_F: 0.2826 | Inner_loss: 0.2864 | NRMSE: 0.2303\n",
      "validation OOD Pre-Adaptation (0.064)| Inner_loss_I: 0.0003 |Inner_loss_B: 0.0001 | Inner_loss_F: 0.0000 | Inner_loss: 0.0004 | NRMSE: 0.2301\n",
      "validation OOD Post-Adaptation (0.064)| Inner_loss_I: 0.0043 |Inner_loss_B: 0.0002 | Inner_loss_F: 0.0035 | Inner_loss: 0.0080 | NRMSE: 0.2302\n",
      "Step 620 Pre-Adapt | Inner_loss_I: 0.0019 | Inner_loss_B: 0.0000 | Inner_loss_F: 0.2319 | Inner_loss: 0.2338\n",
      "Step 620 Post-Adapt | Inner_loss_I: 0.0048 | Inner_loss_B: 0.0028 | Inner_loss_F: 0.0131 | Inner_loss: 0.0207\n",
      "Validation Pre-adaptation (0.003)| Inner_loss_I: 0.0065 |Inner_loss_B: 0.0000 | Inner_loss_F: 0.0162 | Inner_loss: 0.0228 | NRMSE: 0.2457\n",
      "Validation Post-adaptation (0.003)| Inner_loss_I: 0.0063 |Inner_loss_B: 0.0000 | Inner_loss_F: 0.0159 | Inner_loss: 0.0223 | NRMSE: 0.2446\n",
      "validation OOD Pre-Adaptation (0.064)| Inner_loss_I: 0.0007 |Inner_loss_B: 0.0001 | Inner_loss_F: 395.6600 | Inner_loss: 395.6608 | NRMSE: 0.2366\n",
      "validation OOD Post-Adaptation (0.064)| Inner_loss_I: 0.0006 |Inner_loss_B: 0.0001 | Inner_loss_F: 0.0190 | Inner_loss: 0.0197 | NRMSE: 0.2365\n",
      "Step 640 Pre-Adapt | Inner_loss_I: 0.0023 | Inner_loss_B: 0.0000 | Inner_loss_F: 1.4878 | Inner_loss: 1.4901\n",
      "Step 640 Post-Adapt | Inner_loss_I: 0.0089 | Inner_loss_B: 0.0044 | Inner_loss_F: 0.0169 | Inner_loss: 0.0303\n",
      "Validation Pre-adaptation (0.003)| Inner_loss_I: 0.0009 |Inner_loss_B: 0.0000 | Inner_loss_F: 0.5090 | Inner_loss: 0.5099 | NRMSE: 0.2449\n",
      "Validation Post-adaptation (0.003)| Inner_loss_I: 0.0010 |Inner_loss_B: 0.0001 | Inner_loss_F: 0.1644 | Inner_loss: 0.1655 | NRMSE: 0.2360\n",
      "validation OOD Pre-Adaptation (0.064)| Inner_loss_I: 0.0026 |Inner_loss_B: 0.0000 | Inner_loss_F: 0.0001 | Inner_loss: 0.0027 | NRMSE: 0.2350\n",
      "validation OOD Post-Adaptation (0.064)| Inner_loss_I: 0.0039 |Inner_loss_B: 0.0000 | Inner_loss_F: 0.0045 | Inner_loss: 0.0085 | NRMSE: 0.2350\n",
      "Step 660 Pre-Adapt | Inner_loss_I: 0.0021 | Inner_loss_B: 0.0001 | Inner_loss_F: 0.6911 | Inner_loss: 0.6933\n",
      "Step 660 Post-Adapt | Inner_loss_I: 0.0037 | Inner_loss_B: 0.0002 | Inner_loss_F: 0.0238 | Inner_loss: 0.0277\n",
      "Validation Pre-adaptation (0.003)| Inner_loss_I: 0.0025 |Inner_loss_B: 0.0001 | Inner_loss_F: 0.0177 | Inner_loss: 0.0204 | NRMSE: 0.2410\n",
      "Validation Post-adaptation (0.003)| Inner_loss_I: 0.0027 |Inner_loss_B: 0.0001 | Inner_loss_F: 0.0159 | Inner_loss: 0.0188 | NRMSE: 0.2419\n",
      "validation OOD Pre-Adaptation (0.064)| Inner_loss_I: 0.0030 |Inner_loss_B: 0.0003 | Inner_loss_F: 0.0000 | Inner_loss: 0.0033 | NRMSE: 0.2332\n",
      "validation OOD Post-Adaptation (0.064)| Inner_loss_I: 0.0004 |Inner_loss_B: 0.0009 | Inner_loss_F: 0.0005 | Inner_loss: 0.0018 | NRMSE: 0.2332\n",
      "Step 680 Pre-Adapt | Inner_loss_I: 0.0021 | Inner_loss_B: 0.0000 | Inner_loss_F: 0.0671 | Inner_loss: 0.0692\n",
      "Step 680 Post-Adapt | Inner_loss_I: 0.0021 | Inner_loss_B: 0.0000 | Inner_loss_F: 0.0090 | Inner_loss: 0.0111\n",
      "Validation Pre-adaptation (0.003)| Inner_loss_I: 0.0007 |Inner_loss_B: 0.0000 | Inner_loss_F: 0.0026 | Inner_loss: 0.0033 | NRMSE: 0.2291\n",
      "Validation Post-adaptation (0.003)| Inner_loss_I: 0.0007 |Inner_loss_B: 0.0000 | Inner_loss_F: 0.0025 | Inner_loss: 0.0032 | NRMSE: 0.2287\n",
      "validation OOD Pre-Adaptation (0.064)| Inner_loss_I: 0.0051 |Inner_loss_B: 0.0000 | Inner_loss_F: 0.0007 | Inner_loss: 0.0058 | NRMSE: 0.2362\n",
      "validation OOD Post-Adaptation (0.064)| Inner_loss_I: 0.0000 |Inner_loss_B: 0.0000 | Inner_loss_F: 0.0000 | Inner_loss: 0.0001 | NRMSE: 0.2362\n",
      "Model saved\n",
      "Step 700 Pre-Adapt | Inner_loss_I: 0.0020 | Inner_loss_B: 0.0000 | Inner_loss_F: 0.0515 | Inner_loss: 0.0535\n",
      "Step 700 Post-Adapt | Inner_loss_I: 0.0020 | Inner_loss_B: 0.0000 | Inner_loss_F: 0.0132 | Inner_loss: 0.0152\n",
      "Validation Pre-adaptation (0.003)| Inner_loss_I: 0.0000 |Inner_loss_B: 0.0000 | Inner_loss_F: 0.0004 | Inner_loss: 0.0004 | NRMSE: 0.2268\n",
      "Validation Post-adaptation (0.003)| Inner_loss_I: 0.0000 |Inner_loss_B: 0.0000 | Inner_loss_F: 0.0004 | Inner_loss: 0.0004 | NRMSE: 0.2266\n",
      "validation OOD Pre-Adaptation (0.064)| Inner_loss_I: 0.0044 |Inner_loss_B: 0.0000 | Inner_loss_F: 0.0006 | Inner_loss: 0.0050 | NRMSE: 0.2340\n",
      "validation OOD Post-Adaptation (0.064)| Inner_loss_I: 0.0002 |Inner_loss_B: 0.0000 | Inner_loss_F: 0.0213 | Inner_loss: 0.0215 | NRMSE: 0.2336\n"
     ]
    },
    {
     "name": "stderr",
     "output_type": "stream",
     "text": [
      "\n",
      "KeyboardInterrupt\n",
      "\n"
     ]
    }
   ],
   "source": [
    "# maml = MAML(5, 0.0001, 0.00001, 0, 2, 1, -1, 1, eqname='poisson', zero_shot=True, load=True, modelpath='models/poisson_zs_2000_ref.data')\n",
    "maml = MAML(5, 0.0001, 0.0001, 1, 2, 1, -1, 1, eqname='burgers', zero_shot=True, load=True, modelpath='models/burgers_zs_2000_ref.data')\n",
    "# maml = MAML(5, 0.01, 0.0001, 0, 2, 1, low=-1, high=1, eqname='poisson')\n",
    "\n",
    "train_loss, val_loss, val_ood_loss, nrmse, model = maml.train(2000, 10, 1)"
   ]
  },
  {
   "cell_type": "code",
   "execution_count": null,
   "id": "38dedd77-a5f0-47ad-b8e3-61370295503a",
   "metadata": {},
   "outputs": [],
   "source": [
    "import pandas as pd\n",
    "\n",
    "nrmse_df = pd.DataFrame(nrmse)\n",
    "val_loss_df = pd.DataFrame(val_loss)\n",
    "val_ood_loss_df = pd.DataFrame(val_ood_loss)\n",
    "train_loss_df = pd.DataFrame(train_loss)\n",
    "\n",
    "nrmse_df.to_csv('data/nrmse_poisson_zs_maml.csv')\n",
    "val_loss_df.to_csv('data/val_loss_poisson_zs_maml.csv')\n",
    "val_ood_loss_df.to_csv('data/val_ood_loss_poisson_zs_maml.csv')\n",
    "train_loss_df.to_csv('data/train_loss_zs_maml.csv')"
   ]
  },
  {
   "cell_type": "code",
   "execution_count": null,
   "id": "5b1537b2-402f-433b-8aaa-01bd59700369",
   "metadata": {},
   "outputs": [],
   "source": [
    "plt.plot(np.array(nrmse['nrmse_val_pre_adapt']))\n",
    "plt.plot(np.array(nrmse['nrmse_val']))\n",
    "# plt.plot(np.array(val_loss['inner_loss'])[:, -1])"
   ]
  },
  {
   "cell_type": "code",
   "execution_count": null,
   "id": "69e7cd63-5b8b-482b-bbcb-a762bf08554b",
   "metadata": {},
   "outputs": [],
   "source": [
    "model = PINN(20, 5, dim=1, param_num=2, zero_shot=True)\n",
    "model.load_state_dict(torch.load('models/poisson_zs_5000_ref.data'))\n",
    "model.to(device)"
   ]
  },
  {
   "cell_type": "code",
   "execution_count": null,
   "id": "8aa6594e-31f3-4c13-a92f-c6842bab8fff",
   "metadata": {},
   "outputs": [],
   "source": [
    "device = torch.device('cuda' if torch.cuda.is_available() else 'cpu')\n",
    "print(\"Current device:\", device)\n",
    "test_x = np.linspace(-10, 10, num=100).reshape(-1, 1)\n",
    "# test_alpha = np.full((100, 1), alpha[2])\n",
    "# test_beta = np.full((100, 1), beta[2])\n",
    "test_alpha = np.full((100, 1), -0.830)\n",
    "test_beta = np.full((100, 1), -0.617)\n",
    "test_in = np.hstack((test_x, test_alpha, test_beta))\n",
    "test_u = model(torch.Tensor(test_in).to(device))\n",
    "X = test_x\n",
    "\n",
    "Y = np.sin(test_alpha * X) + np.cos(test_beta * X) + 0.1 * X\n",
    "\n"
   ]
  },
  {
   "cell_type": "code",
   "execution_count": null,
   "id": "373331d9-26d3-45e5-9fac-431dbdb93e46",
   "metadata": {},
   "outputs": [],
   "source": [
    "C = test_u.cpu().detach().numpy()\n",
    "plt.figure(figsize=(10, 8))\n",
    "plt.scatter(X, C, label='PINN')\n",
    "plt.scatter(X, Y, label='Answer')\n",
    "plt.legend()\n",
    "plt.colorbar()"
   ]
  },
  {
   "cell_type": "code",
   "execution_count": null,
   "id": "edc39cc7-4862-4ddb-bfe7-6b128059c634",
   "metadata": {},
   "outputs": [],
   "source": [
    "np.sqrt( np.sum((C-Y)**2) / np.sum(C**2) )"
   ]
  },
  {
   "cell_type": "code",
   "execution_count": null,
   "id": "195ae952-2dae-49cf-8066-5c8643128e13",
   "metadata": {},
   "outputs": [],
   "source": [
    "# steps = [ 1000 / len(val_loss['inner_loss']) * i for i in range(len(val_loss['inner_loss']))]\n",
    "# idx = [100 * i for i in range(10)]\n",
    "# loss = train_loss['inner_loss_f'][::100]\n",
    "# plt.plot(val_loss['inner_loss'], label='loss')\n",
    "plt.plot(np.mean(nrmse['nrmse_val'], axis=1), label='Val.')\n",
    "plt.plot(np.mean(nrmse['nrmse_val_ood'], axis=1), label='Val. OOD')\n",
    "plt.legend()\n",
    "plt.title('FO-MAML Val. Poisson')\n",
    "# plt.plot( loss)\n",
    "# plt.plot(nrmse['nrmse_val'])\n",
    "# plt.plot(nrmse['nrmse_val_ood'])\n",
    "# plt.plot(train_loss['inner_loss'])"
   ]
  },
  {
   "cell_type": "code",
   "execution_count": null,
   "id": "beaf51e6-34c1-46d0-a622-424e88f6f24c",
   "metadata": {},
   "outputs": [],
   "source": [
    "from train import *"
   ]
  },
  {
   "cell_type": "code",
   "execution_count": null,
   "id": "05a4919f-b3c5-43b2-9405-44497c91636e",
   "metadata": {},
   "outputs": [],
   "source": [
    "epochs = 500\n",
    "lr = 0.001"
   ]
  },
  {
   "cell_type": "code",
   "execution_count": null,
   "id": "76a42cee-eac9-4394-9421-a89e1effb1a6",
   "metadata": {},
   "outputs": [],
   "source": [
    "# loss_i, loss_b, loss_f, loss, model, val_loss, val_ood_loss, nrmse_set = train(epochs=epochs, lr=lr, i_size=100, b_size=100, f_size=1000, zero_shot=False, load=True, load_data='models/maml_burgers_5000.data', alpha_list=0.01 / np.pi, eqname='burgers')\n",
    "loss_i, loss_b, loss_f, loss, model, val_loss, val_ood_loss, nrmse_set = train(epochs=epochs, lr=lr, i_size=0, b_size=2, f_size=10, zero_shot=False, load=True, load_data='maml.data', alpha_list=0.7, beta_list=-0.9, eqname='poisson')"
   ]
  },
  {
   "cell_type": "code",
   "execution_count": null,
   "id": "bb393f14-2ead-48bf-ac7c-eaac00cacd2d",
   "metadata": {},
   "outputs": [],
   "source": [
    "# loss_i_2, loss_b_2, loss_f_2, loss_2, model_2, val_loss_2, val_ood_loss_2, nrmse_set_2 = train(epochs=epochs, lr=lr, i_size=100, b_size=100, f_size=1000, zero_shot=False, load=False, load_data='maml.data', alpha_list=0.01 / np.pi, eqname='burgers')\n",
    "loss_i_2, loss_b_2, loss_f_2, loss_2, model_2, val_loss_2, val_ood_loss_2, nrmse_set_2 = train(epochs=epochs, lr=lr, i_size=0, b_size=2, f_size=10, zero_shot=False, load=False, load_data='maml.data', alpha_list=0.7, beta_list=-0.9, eqname='poisson')"
   ]
  },
  {
   "cell_type": "code",
   "execution_count": null,
   "id": "4677c68e-510c-43ba-9ea9-e0d051fb34ca",
   "metadata": {},
   "outputs": [],
   "source": [
    "plt.title('Loss Few shot')\n",
    "plt.yscale('log')\n",
    "plt.plot(loss, label='MAML')\n",
    "plt.plot(loss_2, label='Random')\n",
    "plt.legend()"
   ]
  },
  {
   "cell_type": "code",
   "execution_count": null,
   "id": "00358e94-f90e-40b0-8bac-1c25ab060bb0",
   "metadata": {},
   "outputs": [],
   "source": [
    "plt.title('Relative error Few shot')\n",
    "plt.yscale('log')\n",
    "plt.plot(nrmse_set, label='MAML')\n",
    "plt.plot(nrmse_set_2, label='Random')\n",
    "plt.legend()"
   ]
  },
  {
   "cell_type": "code",
   "execution_count": null,
   "id": "ec1be12f-7744-49cb-8731-5242744665c5",
   "metadata": {},
   "outputs": [],
   "source": [
    "device = torch.device('cuda' if torch.cuda.is_available() else 'cpu')\n",
    "print(\"Current device:\", device)\n",
    "test_x = np.linspace(-1, 1, num=100).reshape(-1, 1)\n",
    "# test_alpha = np.full((100, 1), alpha[2])\n",
    "# test_beta = np.full((100, 1), beta[2])\n",
    "test_alpha = np.full((100, 1), 0.7)\n",
    "test_beta = np.full((100, 1), 0.7)\n",
    "# test_in = np.hstack((test_x, test_alpha, test_beta))\n",
    "test_u = model_2(torch.Tensor(test_x).to(device))\n",
    "X = test_x\n",
    "\n",
    "Y = np.sin(test_alpha * X) + np.cos(test_beta * X) + 0.1 * X\n"
   ]
  },
  {
   "cell_type": "code",
   "execution_count": null,
   "id": "8998c3ae-9cc2-4f95-a092-1c66c2689387",
   "metadata": {},
   "outputs": [],
   "source": [
    "C = test_u.cpu().detach().numpy()\n",
    "plt.figure(figsize=(10, 8))\n",
    "plt.scatter(X, C, label='PINN')\n",
    "plt.scatter(X, Y, label='Answer')\n",
    "plt.legend()\n",
    "plt.colorbar()"
   ]
  },
  {
   "cell_type": "code",
   "execution_count": null,
   "id": "fd364c44-e281-468c-b9e9-c1a08a75d236",
   "metadata": {},
   "outputs": [],
   "source": [
    "plt.plot(loss)\n",
    "plt.plot(loss_2)"
   ]
  },
  {
   "cell_type": "code",
   "execution_count": null,
   "id": "c5e5be5d-e097-4cb6-9e0a-c7e2dea80d1a",
   "metadata": {},
   "outputs": [],
   "source": [
    "from burgers import *"
   ]
  },
  {
   "cell_type": "code",
   "execution_count": null,
   "id": "db0e993d-d356-4fb6-9af8-a7b90becfdc3",
   "metadata": {},
   "outputs": [],
   "source": [
    "vtn = 101\n",
    "vxn = 101\n",
    "nu = 0.01 / np.pi\n",
    "vx = np.linspace(-1, 1, vxn)\n",
    "vt = np.linspace(0, 1, vtn)\n",
    "\n",
    "vu = burgers_viscous_time_exact1(nu, vxn, vx, vtn, vt)\n",
    "\n",
    "x, t = np.meshgrid(vx, vt)\n",
    "x = x.reshape(-1, 1)\n",
    "t = t.reshape(-1, 1)\n",
    "\n",
    "plt.scatter(x, t, c=vu, cmap='seismic')\n",
    "plt.colorbar()"
   ]
  },
  {
   "cell_type": "code",
   "execution_count": null,
   "id": "cb422fcf-83c4-422c-be16-fa44fa167b6c",
   "metadata": {},
   "outputs": [],
   "source": [
    "device = torch.device('cuda' if torch.cuda.is_available() else 'cpu')\n",
    "print(\"Current device:\", device)"
   ]
  },
  {
   "cell_type": "code",
   "execution_count": null,
   "id": "a71300da-7d02-45bc-b01c-e1d59586a7df",
   "metadata": {},
   "outputs": [],
   "source": [
    "vtn = 101\n",
    "vxn = 101\n",
    "nu = 0.01 / np.pi\n",
    "vx = np.linspace(-1, 1, vxn)\n",
    "vt = np.linspace(0, 1, vtn)\n",
    "x, t = np.meshgrid(vx, vt)\n",
    "x = x.reshape(-1, 1)\n",
    "t = t.reshape(-1, 1)\n",
    "alpha = np.full((x.shape), nu)\n",
    "pred = model_2(torch.Tensor(np.hstack((x, t))).to(device)).detach().cpu().numpy()\n",
    "# pred = model(torch.Tensor(np.hstack((x, t))).to(device)).detach().cpu().numpy()\n",
    "truth = burgers_viscous_time_exact1(nu, vxn, vx, vtn, vt).T.reshape(-1, 1)"
   ]
  },
  {
   "cell_type": "code",
   "execution_count": null,
   "id": "604419bf-42e5-47b5-81b2-1f22d32eeb4e",
   "metadata": {},
   "outputs": [],
   "source": [
    "plt.scatter(x, t, c=pred, cmap='seismic')\n",
    "plt.colorbar()"
   ]
  },
  {
   "cell_type": "code",
   "execution_count": null,
   "id": "84e57157-de00-457e-8766-698d7506f0f4",
   "metadata": {},
   "outputs": [],
   "source": []
  },
  {
   "cell_type": "code",
   "execution_count": null,
   "id": "f8d2c34f-a8b5-4104-9b86-3ca29e33af45",
   "metadata": {},
   "outputs": [],
   "source": []
  }
 ],
 "metadata": {
  "kernelspec": {
   "display_name": "torch",
   "language": "python",
   "name": "torch-1.10.1"
  },
  "language_info": {
   "codemirror_mode": {
    "name": "ipython",
    "version": 3
   },
   "file_extension": ".py",
   "mimetype": "text/x-python",
   "name": "python",
   "nbconvert_exporter": "python",
   "pygments_lexer": "ipython3",
   "version": "3.9.12"
  }
 },
 "nbformat": 4,
 "nbformat_minor": 5
}

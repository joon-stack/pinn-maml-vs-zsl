{
 "cells": [
  {
   "cell_type": "code",
   "execution_count": 1,
   "id": "e2871da3-a673-4d26-9a0b-11bcd78a9b69",
   "metadata": {},
   "outputs": [],
   "source": [
    "from train import *"
   ]
  },
  {
   "cell_type": "code",
   "execution_count": 2,
   "id": "820fbbbb-ebc6-4702-90b1-56decde27494",
   "metadata": {},
   "outputs": [
    {
     "name": "stdout",
     "output_type": "stream",
     "text": [
      "Current device: cuda\n"
     ]
    }
   ],
   "source": [
    "device = torch.device('cuda' if torch.cuda.is_available() else 'cpu')\n",
    "print(\"Current device:\", device)"
   ]
  },
  {
   "cell_type": "code",
   "execution_count": 3,
   "id": "a6e33fe2-2fa3-4f8e-82e5-87720cc821e8",
   "metadata": {},
   "outputs": [],
   "source": [
    "def lhs(size, lb=-1, rb=1):\n",
    "    res = np.zeros(size)\n",
    "    length = (rb - lb) / size\n",
    "    for i in range(size):\n",
    "        sub_lb = lb + length * i\n",
    "        sub_rb = lb + length * (i + 1)\n",
    "        res[i] = np.random.rand() * length + sub_lb\n",
    "    return res\n",
    "        "
   ]
  },
  {
   "cell_type": "code",
   "execution_count": 33,
   "id": "b83f38ef-efc5-4bb9-9f10-d486996ea2dc",
   "metadata": {},
   "outputs": [
    {
     "name": "stdout",
     "output_type": "stream",
     "text": [
      "Alpha: -0.689, Beta: -0.680\n",
      "-0.689\n",
      "-0.68\n",
      "Current device: cuda\n",
      "Data generation completed\n",
      "Epoch 100 | Loss_I: nan | Loss_B: 0.0284 | Loss_F: 0.0443\n",
      "NRMSE: 0.0154\n",
      "Epoch 200 | Loss_I: nan | Loss_B: 0.0142 | Loss_F: 0.0257\n",
      "NRMSE: 0.0031\n",
      "Epoch 300 | Loss_I: nan | Loss_B: 0.0095 | Loss_F: 0.0173\n",
      "NRMSE: 0.0008\n",
      "Epoch 400 | Loss_I: nan | Loss_B: 0.0071 | Loss_F: 0.0130\n",
      "NRMSE: 0.0006\n",
      "Epoch 500 | Loss_I: nan | Loss_B: 0.0057 | Loss_F: 0.0104\n",
      "NRMSE: 0.0005\n",
      "Epoch 600 | Loss_I: nan | Loss_B: 0.0047 | Loss_F: 0.0087\n",
      "NRMSE: 0.0004\n",
      "Epoch 700 | Loss_I: nan | Loss_B: 0.0041 | Loss_F: 0.0075\n",
      "NRMSE: 0.0003\n",
      "Epoch 800 | Loss_I: nan | Loss_B: 0.0035 | Loss_F: 0.0065\n",
      "NRMSE: 0.0003\n",
      "Epoch 900 | Loss_I: nan | Loss_B: 0.0032 | Loss_F: 0.0058\n",
      "NRMSE: 0.0002\n",
      "Epoch 1000 | Loss_I: nan | Loss_B: 0.0028 | Loss_F: 0.0052\n",
      "NRMSE: 0.0002\n",
      "Epoch 1100 | Loss_I: nan | Loss_B: 0.0026 | Loss_F: 0.0048\n",
      "NRMSE: 0.0002\n",
      "Epoch 1200 | Loss_I: nan | Loss_B: 0.0024 | Loss_F: 0.0044\n",
      "NRMSE: 0.0002\n",
      "Epoch 1300 | Loss_I: nan | Loss_B: 0.0022 | Loss_F: 0.0040\n",
      "NRMSE: 0.0045\n",
      "Epoch 1400 | Loss_I: nan | Loss_B: 0.0020 | Loss_F: 0.0037\n",
      "NRMSE: 0.0002\n",
      "Epoch 1500 | Loss_I: nan | Loss_B: 0.0019 | Loss_F: 0.0035\n",
      "NRMSE: 0.0002\n",
      "Epoch 1600 | Loss_I: nan | Loss_B: 0.0018 | Loss_F: 0.0033\n",
      "NRMSE: 0.0002\n",
      "Epoch 1700 | Loss_I: nan | Loss_B: 0.0017 | Loss_F: 0.0031\n",
      "NRMSE: 0.0008\n",
      "Epoch 1800 | Loss_I: nan | Loss_B: 0.0016 | Loss_F: 0.0029\n",
      "NRMSE: 0.0002\n",
      "Epoch 1900 | Loss_I: nan | Loss_B: 0.0015 | Loss_F: 0.0028\n",
      "NRMSE: 0.0002\n",
      "Epoch 2000 | Loss_I: nan | Loss_B: 0.0014 | Loss_F: 0.0026\n",
      "NRMSE: 0.0002\n"
     ]
    }
   ],
   "source": [
    "epochs = 2000\n",
    "lr = 0.01\n",
    "\n",
    "# alpha = np.random.uniform(low=0.005/np.pi, high=0.1/np.pi, size=1000)\n",
    "# alpha = np.random.uniform(low=-1, high=1, size=1)[0]\n",
    "# beta = np.random.uniform(low=-1, high=1, size=1)[0]\n",
    "alpha = -0.689\n",
    "beta = -0.680\n",
    "print(\"Alpha: {:.3f}, Beta: {:.3f}\".format(alpha, beta))\n",
    "print(alpha)\n",
    "print(beta)\n",
    "# loss_i, loss_b, loss_f, loss, model, val_loss, val_ood_loss, nrmse = train(epochs=epochs, lr=lr, i_size=0, b_size=2, f_size=1000, zero_shot=False, alpha_list=-0.689, beta_list=-0.680, low=-1, high=1, eqname='poisson')\n",
    "loss_i, loss_b, loss_f, loss, model, val_loss, val_ood_loss, nrmse = train(epochs=epochs, lr=lr, i_size=0, b_size=2, f_size=1, zero_shot=True, alpha_list=alpha, beta_list=beta, low=-1, high=1, eqname='poisson', load=False, load_data='models/poisson_zs_8000.data')\n",
    "# loss_i, loss_b, loss_f, loss, model, val_loss, val_ood_loss, nrmse = train(epochs=epochs, lr=lr, i_size=1, b_size=2, f_size=1, zero_shot=True, alpha_list=alpha, low=-1, high=1, eqname='burgers')\n",
    "# loss_i, loss_b, loss_f, loss, model, val_loss, val_ood_loss, nrmse = train(epochs=epochs, lr=lr, i_size=100, b_size=100, f_size=10000, zero_shot=False, alpha_list=(0.01 / np.pi), low=-1, high=1, eqname='burgers')"
   ]
  },
  {
   "cell_type": "code",
   "execution_count": 8,
   "id": "8a72cdbd-6c83-48d5-9e3e-14849f5ba909",
   "metadata": {},
   "outputs": [
    {
     "data": {
      "image/png": "[encoded data removed]",
      "text/plain": [
       "<Figure size 432x288 with 1 Axes>"
      ]
     },
     "metadata": {
      "needs_background": "light"
     },
     "output_type": "display_data"
    }
   ],
   "source": [
    "# epochs = [50 * i for i in range(1, 21)]\n",
    "plt.plot(val_loss, label='Val.')\n",
    "plt.plot(val_ood_loss, label='Val. OOD')\n",
    "# plt.yscale('log')\n",
    "plt.title(\"Zero-shot Poisson\")\n",
    "plt.legend()\n",
    "plt.show()"
   ]
  },
  {
   "cell_type": "code",
   "execution_count": null,
   "id": "c635b6db-a150-4991-9bc8-da19c507a791",
   "metadata": {},
   "outputs": [],
   "source": [
    "import pandas as pd"
   ]
  },
  {
   "cell_type": "code",
   "execution_count": null,
   "id": "8273514a-827c-434d-8b32-260a9125c973",
   "metadata": {},
   "outputs": [],
   "source": [
    "val_loss_lst = []\n",
    "val_ood_loss_lst = []\n",
    "for v in val_loss:\n",
    "    val_loss_lst.append(v.item())\n",
    "for v in val_ood_loss:\n",
    "    val_ood_loss_lst.append(v.item())\n",
    "len(loss_f)\n",
    "dic = {\"loss_b\": loss_b, \"loss_f\": loss_f, \"loss\": loss}\n",
    "df = pd.DataFrame(dic)\n",
    "df.to_csv(\"poisson_zs_loss.csv\")\n",
    "dic = {\"val_loss\": val_loss_lst, \"val_ood_loss\": val_ood_loss_lst}\n",
    "df = pd.DataFrame(dic)\n",
    "df.to_csv(\"poisson_zs_val.csv\")"
   ]
  },
  {
   "cell_type": "code",
   "execution_count": null,
   "id": "454222a3-3570-4136-b2af-857fb1dcd268",
   "metadata": {},
   "outputs": [],
   "source": [
    "np.savez('zs_burgers', loss_i=np.array(loss_i), loss_b=np.array(loss_b), loss_f=np.array(loss_f), loss=np.array(loss), val_loss=np.array(val_loss), val_ood_loss=np.array(val_ood_loss), nrmse=np.array(nrmse))\n",
    "aa=np.load('zs_burgers.npz')\n",
    "# plt.plot(aa['loss_i'])\n",
    "# plt.plot(aa['loss_b'])\n",
    "# plt.plot(aa['loss_f'])\n",
    "plt.plot(aa['val_loss'])\n",
    "plt.plot(aa['val_ood_loss'], label='xx')\n",
    "plt.yscale('log')\n",
    "plt.legend()"
   ]
  },
  {
   "cell_type": "code",
   "execution_count": 12,
   "id": "0ec75fd1-49b0-4856-9fa5-a7da31d7542f",
   "metadata": {},
   "outputs": [
    {
     "data": {
      "text/plain": [
       "PINN(\n",
       "  (module1): Sequential(\n",
       "    (0): Linear(in_features=3, out_features=20, bias=True)\n",
       "    (1): Linear(in_features=20, out_features=20, bias=True)\n",
       "    (2): Linear(in_features=20, out_features=20, bias=True)\n",
       "    (3): Linear(in_features=20, out_features=20, bias=True)\n",
       "    (4): Linear(in_features=20, out_features=1, bias=True)\n",
       "  )\n",
       ")"
      ]
     },
     "execution_count": 12,
     "metadata": {},
     "output_type": "execute_result"
    }
   ],
   "source": [
    "\n",
    "model2 = PINN(20, 5, dim=1, param_num=2, zero_shot=True)\n",
    "model2.load_state_dict(torch.load('models/poisson_zs/poisson_zs_10000_ref.data'))\n",
    "model2.to(device)"
   ]
  },
  {
   "cell_type": "code",
   "execution_count": 26,
   "id": "06e6cbae-04af-4db9-b69c-32a2bd35900a",
   "metadata": {},
   "outputs": [],
   "source": [
    "test_x = np.linspace(-10, 10, num=100).reshape(-1, 1)\n",
    "# test_alpha = np.full((100, 1), alpha[2])\n",
    "# test_beta = np.full((100, 1), beta[2])\n",
    "test_alpha = np.full((100, 1), alpha)\n",
    "test_beta = np.full((100, 1), beta)\n",
    "# test_in = np.hstack((test_x, test_alpha, test_beta))\n",
    "test_in = test_x\n",
    "test_u = model(torch.Tensor(test_in).to(device))\n",
    "X = test_x\n",
    "\n",
    "Y = np.sin(test_alpha * X) + np.cos(test_beta * X) + 0.1 * X\n"
   ]
  },
  {
   "cell_type": "code",
   "execution_count": 27,
   "id": "9bddd021-3c56-4258-9d77-5cc415236215",
   "metadata": {},
   "outputs": [],
   "source": [
    "test_x = np.linspace(-10, 10, num=100).reshape(-1, 1)\n",
    "test_in = np.hstack((test_x, test_alpha, test_beta))\n",
    "# test_in = test_x\n",
    "test_u_2 = model2(torch.Tensor(test_in).to(device))"
   ]
  },
  {
   "cell_type": "code",
   "execution_count": 28,
   "id": "fcae0f90-f48d-4c14-868a-2fca107b3959",
   "metadata": {},
   "outputs": [
    {
     "data": {
      "text/plain": [
       "<matplotlib.legend.Legend at 0x23d36a10370>"
      ]
     },
     "execution_count": 28,
     "metadata": {},
     "output_type": "execute_result"
    },
    {
     "data": {
      "image/png": "[encoded data removed]",
      "text/plain": [
       "<Figure size 720x576 with 1 Axes>"
      ]
     },
     "metadata": {
      "needs_background": "light"
     },
     "output_type": "display_data"
    }
   ],
   "source": [
    "C = test_u.cpu().detach().numpy()\n",
    "C2 = test_u_2.cpu().detach().numpy()\n",
    "plt.figure(figsize=(10, 8))\n",
    "plt.plot(X, C, 'b', label='PINN')\n",
    "plt.plot(X, Y, 'r--', label='Answer')\n",
    "plt.plot(X, C2, 'g', label='Zero-shot')\n",
    "plt.legend()\n",
    "# plt.colorbar()"
   ]
  },
  {
   "cell_type": "code",
   "execution_count": 30,
   "id": "e057f142-c08a-4831-8814-b051292814cf",
   "metadata": {},
   "outputs": [
    {
     "data": {
      "text/plain": [
       "1.0783379985238248"
      ]
     },
     "execution_count": 30,
     "metadata": {},
     "output_type": "execute_result"
    }
   ],
   "source": [
    "np.sqrt(np.sum( (Y-C) ** 2) / np.sum( C ** 2 ))"
   ]
  },
  {
   "cell_type": "code",
   "execution_count": null,
   "id": "27d5116f-d243-4369-bdb3-846d42b4baaf",
   "metadata": {},
   "outputs": [],
   "source": []
  },
  {
   "cell_type": "code",
   "execution_count": null,
   "id": "952106b4-8b30-46c4-bc2e-7db9c012e384",
   "metadata": {},
   "outputs": [],
   "source": [
    "from burgers import *"
   ]
  },
  {
   "cell_type": "code",
   "execution_count": null,
   "id": "e2dfb049-4f98-4b53-97b5-4dc5c4bee6cb",
   "metadata": {},
   "outputs": [],
   "source": [
    "\n",
    "model = PINN(20, 8, dim=2, param_num=1, zero_shot=True)\n",
    "model.load_state_dict(torch.load('models/burgers_zs_10000.data'))\n",
    "model.to(device)\n"
   ]
  },
  {
   "cell_type": "code",
   "execution_count": null,
   "id": "0a039147-fd69-46e3-b779-ffa86ccfc127",
   "metadata": {},
   "outputs": [],
   "source": [
    "vtn = 101\n",
    "vxn = 101\n",
    "nu = 0.1 / np.pi\n",
    "vx = np.linspace(-1, 1, vxn)\n",
    "vt = np.linspace(0, 1, vtn)\n",
    "x, t = np.meshgrid(vx, vt)\n",
    "x = x.reshape(-1, 1)\n",
    "t = t.reshape(-1, 1)\n",
    "alpha = np.full((x.shape), nu)\n",
    "pred = model(torch.Tensor(np.hstack((x, t, alpha))).to(device)).detach().cpu().numpy()\n",
    "# pred = model(torch.Tensor(np.hstack((x, t))).to(device)).detach().cpu().numpy()\n",
    "truth = burgers_viscous_time_exact1(nu, vxn, vx, vtn, vt).T"
   ]
  },
  {
   "cell_type": "code",
   "execution_count": null,
   "id": "f47181bf-91cb-4fb8-956b-380df8ca3e97",
   "metadata": {},
   "outputs": [],
   "source": []
  },
  {
   "cell_type": "code",
   "execution_count": null,
   "id": "43e04521-35f9-472e-adb5-efc058bb85d1",
   "metadata": {},
   "outputs": [],
   "source": [
    "plt.scatter(x, t, c=pred, cmap='seismic')\n",
    "plt.colorbar()"
   ]
  },
  {
   "cell_type": "code",
   "execution_count": null,
   "id": "6843c1c7-06e2-4f6b-8bdd-14b976e48366",
   "metadata": {},
   "outputs": [],
   "source": [
    "plt.scatter(x, t, c=truth, cmap='seismic')\n",
    "plt.colorbar()"
   ]
  },
  {
   "cell_type": "code",
   "execution_count": null,
   "id": "00476bff-9526-45f8-a811-b7bf0eb4f2a9",
   "metadata": {},
   "outputs": [],
   "source": [
    "idx = 50\n",
    "print(vt[idx])\n",
    "plt.plot(truth[idx, :], 'b', linewidth=3, label='truth')\n",
    "x_025 = np.linspace(-1, 1, 101).reshape(-1, 1)\n",
    "t_025 = np.full((x_025.shape), idx / 100)\n",
    "pred = model(torch.Tensor(np.hstack((x_025, t_025, np.full((x_025.shape), nu)))).to(device)).detach().cpu().numpy()\n",
    "plt.plot(pred, 'r--', linewidth=3, label='pred' )\n",
    "plt.legend()"
   ]
  },
  {
   "cell_type": "code",
   "execution_count": null,
   "id": "8dcec4e3-d254-439b-ab3d-d3626790e1ba",
   "metadata": {},
   "outputs": [],
   "source": [
    "np.sqrt(np.sum((pred-truth.reshape(-1, 1)) ** 2) / np.sum(pred ** 2))"
   ]
  },
  {
   "cell_type": "code",
   "execution_count": null,
   "id": "5178f12f-ba2e-4a17-b2a8-eebb462e5940",
   "metadata": {},
   "outputs": [],
   "source": [
    "np.mean(np.abs(pred-truth.reshape(-1, 1)))"
   ]
  },
  {
   "cell_type": "code",
   "execution_count": null,
   "id": "5f9034d9-7226-410b-898b-ee0be3ba6f4f",
   "metadata": {},
   "outputs": [],
   "source": [
    "plt.scatter(x, t, c=((pred.reshape(101, 101) - truth) ** 2).reshape(-1, 1), cmap='seismic')\n",
    "plt.colorbar()"
   ]
  },
  {
   "cell_type": "code",
   "execution_count": null,
   "id": "25ece8cd-275a-421a-a5d2-7ad6b917fe8e",
   "metadata": {},
   "outputs": [],
   "source": []
  }
 ],
 "metadata": {
  "kernelspec": {
   "display_name": "torch",
   "language": "python",
   "name": "torch-1.10.1"
  },
  "language_info": {
   "codemirror_mode": {
    "name": "ipython",
    "version": 3
   },
   "file_extension": ".py",
   "mimetype": "text/x-python",
   "name": "python",
   "nbconvert_exporter": "python",
   "pygments_lexer": "ipython3",
   "version": "3.9.12"
  }
 },
 "nbformat": 4,
 "nbformat_minor": 5
}

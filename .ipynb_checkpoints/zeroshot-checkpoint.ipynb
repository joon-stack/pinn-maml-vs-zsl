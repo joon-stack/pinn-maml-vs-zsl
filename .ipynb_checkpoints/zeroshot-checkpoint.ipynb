{
 "cells": [
  {
   "cell_type": "code",
   "execution_count": 1,
   "id": "e2871da3-a673-4d26-9a0b-11bcd78a9b69",
   "metadata": {},
   "outputs": [],
   "source": [
    "from train import *"
   ]
  },
  {
   "cell_type": "code",
   "execution_count": 2,
   "id": "820fbbbb-ebc6-4702-90b1-56decde27494",
   "metadata": {},
   "outputs": [
    {
     "name": "stdout",
     "output_type": "stream",
     "text": [
      "Current device: cuda\n"
     ]
    }
   ],
   "source": [
    "device = torch.device('cuda' if torch.cuda.is_available() else 'cpu')\n",
    "print(\"Current device:\", device)"
   ]
  },
  {
   "cell_type": "code",
   "execution_count": 3,
   "id": "a6e33fe2-2fa3-4f8e-82e5-87720cc821e8",
   "metadata": {},
   "outputs": [],
   "source": [
    "def lhs(size, lb=-1, rb=1):\n",
    "    res = np.zeros(size)\n",
    "    length = (rb - lb) / size\n",
    "    for i in range(size):\n",
    "        sub_lb = lb + length * i\n",
    "        sub_rb = lb + length * (i + 1)\n",
    "        res[i] = np.random.rand() * length + sub_lb\n",
    "    return res\n",
    "        "
   ]
  },
  {
   "cell_type": "code",
   "execution_count": 4,
   "id": "b83f38ef-efc5-4bb9-9f10-d486996ea2dc",
   "metadata": {},
   "outputs": [
    {
     "name": "stdout",
     "output_type": "stream",
     "text": [
      "Current device: cuda\n"
     ]
    },
    {
     "ename": "NameError",
     "evalue": "name 'zero_shot_num' is not defined",
     "output_type": "error",
     "traceback": [
      "\u001b[1;31m---------------------------------------------------------------------------\u001b[0m",
      "\u001b[1;31mNameError\u001b[0m                                 Traceback (most recent call last)",
      "Input \u001b[1;32mIn [4]\u001b[0m, in \u001b[0;36m<cell line: 14>\u001b[1;34m()\u001b[0m\n\u001b[0;32m      7\u001b[0m beta \u001b[38;5;241m=\u001b[39m np\u001b[38;5;241m.\u001b[39mrandom\u001b[38;5;241m.\u001b[39muniform(low\u001b[38;5;241m=\u001b[39m\u001b[38;5;241m-\u001b[39m\u001b[38;5;241m1\u001b[39m, high\u001b[38;5;241m=\u001b[39m\u001b[38;5;241m1\u001b[39m, size\u001b[38;5;241m=\u001b[39m\u001b[38;5;241m1\u001b[39m)\n\u001b[0;32m      8\u001b[0m \u001b[38;5;66;03m# alpha = -0.752\u001b[39;00m\n\u001b[0;32m      9\u001b[0m \u001b[38;5;66;03m# beta = 0.932\u001b[39;00m\n\u001b[0;32m     10\u001b[0m \u001b[38;5;66;03m# print(\"Alpha: {:.3f}, Beta: {:.3f}\".format(alpha, beta))\u001b[39;00m\n\u001b[0;32m     11\u001b[0m \u001b[38;5;66;03m# print(alpha)\u001b[39;00m\n\u001b[0;32m     12\u001b[0m \u001b[38;5;66;03m# print(beta)\u001b[39;00m\n\u001b[0;32m     13\u001b[0m \u001b[38;5;66;03m# loss_i, loss_b, loss_f, loss, model, val_loss, val_ood_loss, nrmse = train(epochs=epochs, lr=lr, i_size=0, b_size=2, f_size=100, zero_shot=False, alpha_list=alpha, beta_list=beta, low=-1, high=1, eqname='poisson')\u001b[39;00m\n\u001b[1;32m---> 14\u001b[0m loss_i, loss_b, loss_f, loss, model, val_loss, val_ood_loss, nrmse, val_losses, val_ood_losses \u001b[38;5;241m=\u001b[39m \u001b[43mtrain\u001b[49m\u001b[43m(\u001b[49m\u001b[43mepochs\u001b[49m\u001b[38;5;241;43m=\u001b[39;49m\u001b[43mepochs\u001b[49m\u001b[43m,\u001b[49m\u001b[43m \u001b[49m\u001b[43mlr\u001b[49m\u001b[38;5;241;43m=\u001b[39;49m\u001b[43mlr\u001b[49m\u001b[43m,\u001b[49m\u001b[43m \u001b[49m\u001b[43mi_size\u001b[49m\u001b[38;5;241;43m=\u001b[39;49m\u001b[38;5;241;43m0\u001b[39;49m\u001b[43m,\u001b[49m\u001b[43m \u001b[49m\u001b[43mb_size\u001b[49m\u001b[38;5;241;43m=\u001b[39;49m\u001b[38;5;241;43m2\u001b[39;49m\u001b[43m,\u001b[49m\u001b[43m \u001b[49m\u001b[43mf_size\u001b[49m\u001b[38;5;241;43m=\u001b[39;49m\u001b[38;5;241;43m1\u001b[39;49m\u001b[43m,\u001b[49m\u001b[43m \u001b[49m\u001b[43mzero_shot\u001b[49m\u001b[38;5;241;43m=\u001b[39;49m\u001b[38;5;28;43;01mTrue\u001b[39;49;00m\u001b[43m,\u001b[49m\u001b[43m \u001b[49m\u001b[43malpha_list\u001b[49m\u001b[38;5;241;43m=\u001b[39;49m\u001b[43malpha\u001b[49m\u001b[43m,\u001b[49m\u001b[43m \u001b[49m\u001b[43mbeta_list\u001b[49m\u001b[38;5;241;43m=\u001b[39;49m\u001b[43mbeta\u001b[49m\u001b[43m,\u001b[49m\u001b[43m \u001b[49m\u001b[43mlow\u001b[49m\u001b[38;5;241;43m=\u001b[39;49m\u001b[38;5;241;43m-\u001b[39;49m\u001b[38;5;241;43m1\u001b[39;49m\u001b[43m,\u001b[49m\u001b[43m \u001b[49m\u001b[43mhigh\u001b[49m\u001b[38;5;241;43m=\u001b[39;49m\u001b[38;5;241;43m1\u001b[39;49m\u001b[43m,\u001b[49m\u001b[43m \u001b[49m\u001b[43meqname\u001b[49m\u001b[38;5;241;43m=\u001b[39;49m\u001b[38;5;124;43m'\u001b[39;49m\u001b[38;5;124;43mpoisson\u001b[39;49m\u001b[38;5;124;43m'\u001b[39;49m\u001b[43m,\u001b[49m\u001b[43m \u001b[49m\u001b[43mload\u001b[49m\u001b[38;5;241;43m=\u001b[39;49m\u001b[38;5;28;43;01mFalse\u001b[39;49;00m\u001b[43m,\u001b[49m\u001b[43m \u001b[49m\u001b[43mload_data\u001b[49m\u001b[38;5;241;43m=\u001b[39;49m\u001b[38;5;124;43m'\u001b[39;49m\u001b[38;5;124;43mmodels/poisson_zs_8000.data\u001b[39;49m\u001b[38;5;124;43m'\u001b[39;49m\u001b[43m)\u001b[49m\n",
      "File \u001b[1;32m~\\Documents\\GitHub\\pinn-maml-vs-zsl\\train.py:120\u001b[0m, in \u001b[0;36mtrain\u001b[1;34m(epochs, lr, i_size, b_size, f_size, load, zero_shot, alpha_list, beta_list, load_data, low, high, eqname)\u001b[0m\n\u001b[0;32m    116\u001b[0m model \u001b[38;5;241m=\u001b[39m model\u001b[38;5;241m.\u001b[39mto(device)\n\u001b[0;32m    118\u001b[0m optim \u001b[38;5;241m=\u001b[39m torch\u001b[38;5;241m.\u001b[39moptim\u001b[38;5;241m.\u001b[39mAdam(model\u001b[38;5;241m.\u001b[39mparameters(), lr\u001b[38;5;241m=\u001b[39mlr) \n\u001b[1;32m--> 120\u001b[0m loader_train_initial, loader_train_boundary, loader_train_domain, zero_shot_num \u001b[38;5;241m=\u001b[39m \u001b[43mprocess_data\u001b[49m\u001b[43m(\u001b[49m\u001b[43meqname\u001b[49m\u001b[43m,\u001b[49m\u001b[43m \u001b[49m\u001b[43mzero_shot\u001b[49m\u001b[43m,\u001b[49m\u001b[43m \u001b[49m\u001b[43malpha_list\u001b[49m\u001b[43m,\u001b[49m\u001b[43m \u001b[49m\u001b[43mbeta_list\u001b[49m\u001b[43m,\u001b[49m\u001b[43m \u001b[49m\u001b[43mi_size\u001b[49m\u001b[43m,\u001b[49m\u001b[43m \u001b[49m\u001b[43mb_size\u001b[49m\u001b[43m,\u001b[49m\u001b[43m \u001b[49m\u001b[43mf_size\u001b[49m\u001b[43m,\u001b[49m\u001b[43m \u001b[49m\u001b[43mlow\u001b[49m\u001b[43m,\u001b[49m\u001b[43m \u001b[49m\u001b[43mhigh\u001b[49m\u001b[43m,\u001b[49m\u001b[43m \u001b[49m\u001b[43mbatch_count\u001b[49m\u001b[43m)\u001b[49m\n\u001b[0;32m    121\u001b[0m \u001b[38;5;28mprint\u001b[39m(\u001b[38;5;124m\"\u001b[39m\u001b[38;5;124mData generation completed\u001b[39m\u001b[38;5;124m\"\u001b[39m)\n\u001b[0;32m    123\u001b[0m loss_func \u001b[38;5;241m=\u001b[39m nn\u001b[38;5;241m.\u001b[39mMSELoss()\n",
      "File \u001b[1;32m~\\Documents\\GitHub\\pinn-maml-vs-zsl\\train.py:95\u001b[0m, in \u001b[0;36mprocess_data\u001b[1;34m(eqname, zero_shot, alpha_list, beta_list, i_size, b_size, f_size, low, high, batch_count)\u001b[0m\n\u001b[0;32m     92\u001b[0m dataset_train_boundary \u001b[38;5;241m=\u001b[39m CustomDataset(\u001b[38;5;241m*\u001b[39mb_set)\n\u001b[0;32m     93\u001b[0m dataset_train_domain   \u001b[38;5;241m=\u001b[39m CustomDataset(\u001b[38;5;241m*\u001b[39mf_set)\n\u001b[1;32m---> 95\u001b[0m loader_train_boundary  \u001b[38;5;241m=\u001b[39m DataLoader(dataset_train_boundary, num_workers\u001b[38;5;241m=\u001b[39m\u001b[38;5;241m0\u001b[39m, batch_size\u001b[38;5;241m=\u001b[39mb_size \u001b[38;5;241m/\u001b[39m\u001b[38;5;241m/\u001b[39m batch_count \u001b[38;5;241m*\u001b[39m \u001b[43mzero_shot_num\u001b[49m)\n\u001b[0;32m     96\u001b[0m loader_train_domain    \u001b[38;5;241m=\u001b[39m DataLoader(dataset_train_domain,   num_workers\u001b[38;5;241m=\u001b[39m\u001b[38;5;241m0\u001b[39m, batch_size\u001b[38;5;241m=\u001b[39mf_size \u001b[38;5;241m/\u001b[39m\u001b[38;5;241m/\u001b[39m batch_count \u001b[38;5;241m*\u001b[39m zero_shot_num)     \n\u001b[0;32m     98\u001b[0m \u001b[38;5;28;01mreturn\u001b[39;00m loader_train_initial, loader_train_boundary, loader_train_domain, zero_shot_num\n",
      "\u001b[1;31mNameError\u001b[0m: name 'zero_shot_num' is not defined"
     ]
    }
   ],
   "source": [
    "epochs = 5000\n",
    "lr = 0.01\n",
    "\n",
    "# alpha = np.random.uniform(low=0.005/np.pi, high=0.1/np.pi, size=1000)\n",
    "# print(alpha)\n",
    "alpha = np.random.uniform(low=-1, high=1, size=5)\n",
    "beta = np.random.uniform(low=-1, high=1, size=5)\n",
    "# alpha = -0.752\n",
    "# beta = 0.932\n",
    "# print(\"Alpha: {:.3f}, Beta: {:.3f}\".format(alpha, beta))\n",
    "# print(alpha)\n",
    "# print(beta)\n",
    "# loss_i, loss_b, loss_f, loss, model, val_loss, val_ood_loss, nrmse = train(epochs=epochs, lr=lr, i_size=0, b_size=2, f_size=100, zero_shot=False, alpha_list=alpha, beta_list=beta, low=-1, high=1, eqname='poisson')\n",
    "loss_i, loss_b, loss_f, loss, model, val_loss, val_ood_loss, nrmse, val_losses, val_ood_losses = train(epochs=epochs, lr=lr, i_size=0, b_size=2, f_size=1, zero_shot=True, alpha_list=alpha, beta_list=beta, low=-1, high=1, eqname='poisson', load=False, load_data='models/poisson_zs_8000.data')\n",
    "# loss_i, loss_b, loss_f, loss, model, val_loss, val_ood_loss, nrmse, val_losses, val_ood_losses= train(epochs=epochs, lr=lr, i_size=1, b_size=2, f_size=1, zero_shot=True, alpha_list=alpha, low=-1, high=1, eqname='burgers')\n",
    "# loss_i, loss_b, loss_f, loss, model, val_loss, val_ood_loss, nrmse = train(epochs=epochs, lr=lr, i_size=100, b_size=100, f_size=10000, zero_shot=False, alpha_list=(0.01 / np.pi), low=-1, high=1, eqname='burgers')"
   ]
  },
  {
   "cell_type": "code",
   "execution_count": null,
   "id": "e272eaec-0dbd-4e3a-b67c-a23b97f14842",
   "metadata": {},
   "outputs": [],
   "source": [
    "plt.plot(loss_i, label='loss_i')\n",
    "plt.plot(loss_b, label='loss_b')\n",
    "plt.plot(loss_f, label='loss_f')\n",
    "plt.plot(loss, label='loss')\n",
    "plt.yscale('log')\n",
    "plt.legend()\n",
    "plt.title('Training zero-shot')\n",
    "plt.xlabel('Epochs')\n",
    "plt.ylabel('Loss')"
   ]
  },
  {
   "cell_type": "code",
   "execution_count": null,
   "id": "7f634610-3c6f-4b0f-aa5a-2b680d7f4908",
   "metadata": {},
   "outputs": [],
   "source": [
    "\n",
    "plt.plot(loss_i, label='loss_i')\n",
    "plt.plot(loss_b, label='loss_b')\n",
    "plt.plot(loss_f, label='loss_f')\n",
    "plt.plot(loss, label='loss')\n",
    "plt.yscale('log')\n",
    "plt.legend()\n",
    "plt.title('Training zero-shot')\n",
    "plt.xlabel('Epochs')\n",
    "plt.ylabel('Loss')"
   ]
  },
  {
   "cell_type": "code",
   "execution_count": null,
   "id": "8a72cdbd-6c83-48d5-9e3e-14849f5ba909",
   "metadata": {},
   "outputs": [],
   "source": [
    "epochs = [5000 / len(val_loss) * i for i in range(1, len(val_loss) + 1)]\n",
    "plt.plot(epochs, val_loss, label='Val.')\n",
    "plt.plot(epochs, val_ood_loss, label='Val. OOD')\n",
    "plt.yscale('log')\n",
    "plt.title(\"Validation metrics\")\n",
    "plt.xlabel('Epochs')\n",
    "plt.ylabel('Loss')\n",
    "plt.legend()\n",
    "plt.show()"
   ]
  },
  {
   "cell_type": "code",
   "execution_count": null,
   "id": "fde0ebd0-87cf-4fe0-8b93-47f0fd513eb9",
   "metadata": {},
   "outputs": [],
   "source": [
    "import pandas as pd\n",
    "\n",
    "nrmse_df = pd.DataFrame(nrmse)\n",
    "val_loss_df = pd.DataFrame(val_loss)\n",
    "val_ood_loss_df = pd.DataFrame(val_ood_loss)\n",
    "train_loss_df = pd.DataFrame({'loss_b': loss_b, 'loss_f': loss_f, 'loss': loss})\n",
    "\n",
    "nrmse_df.to_csv('data/nrmse_burgers_zs.csv')\n",
    "val_loss_df.to_csv('data/val_loss_burgers_zs.csv')\n",
    "val_ood_loss_df.to_csv('data/val_ood_loss_burgers_zs.csv')\n",
    "train_loss_df.to_csv('data/train_loss_burgers_zs.csv')"
   ]
  },
  {
   "cell_type": "markdown",
   "id": "0dc1ee82-1098-42d4-9aac-0bef9c3484ea",
   "metadata": {
    "jp-MarkdownHeadingCollapsed": true,
    "tags": []
   },
   "source": [
    "## Results - Case 1"
   ]
  },
  {
   "cell_type": "code",
   "execution_count": null,
   "id": "d25bd3ce-7b1a-446c-92a7-bb45e9daf034",
   "metadata": {},
   "outputs": [],
   "source": [
    "model = PINN(20, 5, dim=1, param_num=2, zero_shot=True)\n",
    "model.load_state_dict(torch.load('models/poisson_zs_2000_ref.data'))\n",
    "model.to(device)\n",
    "model2 = PINN(20, 5, dim=1, param_num=2, zero_shot=True)\n",
    "model2.load_state_dict(torch.load('models/maml_poisson_high1_5000.data'))\n",
    "model2.to(device)"
   ]
  },
  {
   "cell_type": "code",
   "execution_count": null,
   "id": "023056ae-29e0-439c-af1d-071e39eaafd4",
   "metadata": {},
   "outputs": [],
   "source": [
    "from maml import *"
   ]
  },
  {
   "cell_type": "code",
   "execution_count": null,
   "id": "94de8083-e1c4-4e05-8115-78880dab39a6",
   "metadata": {},
   "outputs": [],
   "source": [
    "alpha = -0.752\n",
    "beta = 0.932"
   ]
  },
  {
   "cell_type": "code",
   "execution_count": null,
   "id": "ef0f6257-9ceb-4755-9a69-552614785fcf",
   "metadata": {},
   "outputs": [],
   "source": [
    "model3 = PINN(20, 5, dim=1, param_num=2, zero_shot=True)\n",
    "model3.load_state_dict(torch.load('models/poisson_zs_2000_ref.data'))\n",
    "model3.to(device)\n",
    "model2 = PINN(20, 5, dim=1, param_num=2, zero_shot=True)\n",
    "model2.load_state_dict(torch.load('models/maml_poisson_high1_5000.data'))\n",
    "model2.to(device)"
   ]
  },
  {
   "cell_type": "code",
   "execution_count": null,
   "id": "7a687946-c076-4ed3-bba2-d018c6f0d9ec",
   "metadata": {},
   "outputs": [],
   "source": [
    "task = alpha, beta\n",
    "maml = MAML(5, 0.01, 0.0005, 1,2,  1, -1, 1, eqname='poisson', zero_shot=True, load=False, modelpath='models/model_ref/burgers_zs_1000_ref.data')\n",
    "phi, _, _, _, _, _, _ = maml._inner_loop(model2.state_dict(), task, train=True)\n",
    "model_adapted = deepcopy(model2)\n",
    "model_adapted.load_state_dict(phi)"
   ]
  },
  {
   "cell_type": "code",
   "execution_count": null,
   "id": "3c59d853-2f13-4a40-bd6e-35f19df25451",
   "metadata": {},
   "outputs": [],
   "source": [
    "test_x = np.linspace(-1, 1, num=100).reshape(-1, 1)\n",
    "test_alpha = np.full((100, 1), alpha)\n",
    "test_beta = np.full((100, 1), beta)\n",
    "\n",
    "X = test_x\n",
    "\n",
    "Y = np.sin(test_alpha * X) + np.cos(test_beta * X) + 0.1 * X\n",
    "test_in = np.hstack((test_x, test_alpha, test_beta))\n",
    "test_in_ = test_x\n",
    "test_u_ = model(torch.Tensor(test_in_).to(device))\n",
    "test_u = model3(torch.Tensor(test_in).to(device))\n",
    "# test_in = test_x\n",
    "test_u_2 = model2(torch.Tensor(test_in).to(device))\n",
    "test_u_3 = model_adapted(torch.Tensor(test_in).to(device))"
   ]
  },
  {
   "cell_type": "code",
   "execution_count": null,
   "id": "9afb1f67-2c32-4c2e-abcd-b241da7dc70d",
   "metadata": {},
   "outputs": [],
   "source": [
    "C_ = test_u_.cpu().detach().numpy()\n",
    "C = test_u.cpu().detach().numpy()\n",
    "C2 = test_u_2.cpu().detach().numpy()\n",
    "C3 = test_u_3.cpu().detach().numpy()\n",
    "plt.figure(figsize=(10, 8))\n",
    "plt.plot(X, Y, 'r', label='truth')\n",
    "plt.plot(X, C_, 'k--', label='PINN')\n",
    "plt.plot(X, C, 'b--', label='zero-shot')\n",
    "plt.plot(X, C2, 'g--', label='MAML')\n",
    "plt.plot(X, C3, 'y--', label='adapted MAML')\n",
    "plt.xlabel('x')\n",
    "plt.ylabel('u')\n",
    "plt.title('Case 1')\n",
    "plt.legend()"
   ]
  },
  {
   "cell_type": "code",
   "execution_count": null,
   "id": "6a2c7028-78fd-445d-8665-e2599236cc9c",
   "metadata": {},
   "outputs": [],
   "source": [
    "def compute_nrmse(C, Y):\n",
    "    return np.sqrt(np.sum((C-Y)**2)/np.sum(C**2))"
   ]
  },
  {
   "cell_type": "code",
   "execution_count": null,
   "id": "4d17abca-e0a2-44bd-806e-ae8457aac676",
   "metadata": {},
   "outputs": [],
   "source": [
    "compute_nrmse(C_, Y)"
   ]
  },
  {
   "cell_type": "code",
   "execution_count": null,
   "id": "45949b13-4915-4014-8732-17f7f032b942",
   "metadata": {},
   "outputs": [],
   "source": [
    "nrmse_test_zs = []\n",
    "nrmse_test_maml = []\n",
    "nrmse_test_maml_adapted = []\n",
    "nrmse_test_pinn = []\n",
    "\n",
    "alpha_val = np.random.uniform(low=-1, high=1, size=10)\n",
    "beta_val = np.random.uniform(low=-1, high=1, size=10)\n",
    "\n",
    "for alpha, beta in zip(alpha_val, beta_val):\n",
    "    loss_i, loss_b, loss_f, loss, model_, val_loss, val_ood_loss, nrmse = train(epochs=2000, lr=lr, i_size=0, b_size=2, f_size=100, zero_shot=False, alpha_list=alpha, beta_list=beta, low=-1, high=1, eqname='poisson')\n",
    "    test_x = np.linspace(-1, 1, num=100).reshape(-1, 1)\n",
    "    test_alpha = np.full((100, 1), alpha)\n",
    "    test_beta = np.full((100, 1), beta)\n",
    "    X = test_x\n",
    "    Y = np.sin(test_alpha * X) + np.cos(test_beta * X) + 0.1 * X\n",
    "    test_in = np.hstack((test_x, test_alpha, test_beta))\n",
    "    test_u_ = model_(torch.Tensor(test_x).to(device))\n",
    "    test_u = model3(torch.Tensor(test_in).to(device))\n",
    "    test_u_2 = model2(torch.Tensor(test_in).to(device))\n",
    "    test_u_3 = model_adapted(torch.Tensor(test_in).to(device))\n",
    "    C_ = test_u_.cpu().detach().numpy()\n",
    "    C = test_u.cpu().detach().numpy()\n",
    "    C2 = test_u_2.cpu().detach().numpy()\n",
    "    C3 = test_u_3.cpu().detach().numpy()\n",
    "    nrmse_test_pinn.append(compute_nrmse(C_, Y))\n",
    "    nrmse_test_zs.append(compute_nrmse(C, Y))\n",
    "    nrmse_test_maml.append(compute_nrmse(C2, Y))\n",
    "    nrmse_test_maml_adapted.append(compute_nrmse(C3, Y))\n",
    "   \n",
    "print(np.mean(np.array(nrmse_test_pinn)))                        \n",
    "print(np.mean(np.array(nrmse_test_zs)))\n",
    "print(np.mean(np.array(nrmse_test_maml)))\n",
    "print(np.mean(np.array(nrmse_test_maml_adapted)))\n",
    "    \n",
    "    \n"
   ]
  },
  {
   "cell_type": "markdown",
   "id": "15b79638-40b2-43fc-92e8-1e8c35e481d1",
   "metadata": {
    "tags": []
   },
   "source": [
    "## Results - Case 2"
   ]
  },
  {
   "cell_type": "code",
   "execution_count": null,
   "id": "0ec75fd1-49b0-4856-9fa5-a7da31d7542f",
   "metadata": {},
   "outputs": [],
   "source": [
    "model3 = PINN(20, 5, dim=1, param_num=2, zero_shot=True)\n",
    "model3.load_state_dict(torch.load('models/poisson_zs_1000_ref_case2.data'))\n",
    "model3.to(device)\n",
    "model2 = PINN(20, 5, dim=1, param_num=2, zero_shot=True)\n",
    "model2.load_state_dict(torch.load('models/maml_poisson_high10_5000.data'))\n",
    "model2.to(device)"
   ]
  },
  {
   "cell_type": "code",
   "execution_count": null,
   "id": "b9568442-35ba-4095-8c5f-6f51fffdb09e",
   "metadata": {},
   "outputs": [],
   "source": [
    "from maml import *"
   ]
  },
  {
   "cell_type": "code",
   "execution_count": null,
   "id": "17fb30ce-d89b-4f01-aaed-d145bbf76c5e",
   "metadata": {},
   "outputs": [],
   "source": [
    "task = alpha, beta\n",
    "maml = MAML(5, 0.01, 0.0005, 1,2,  1, -10, 10, eqname='poisson', zero_shot=True, load=False, modelpath='models/model_ref/burgers_zs_1000_ref.data')\n",
    "phi, _, _, _, _, _, _ = maml._inner_loop(model2.state_dict(), task, train=True)\n",
    "model_adapted = deepcopy(model2)\n",
    "model_adapted.load_state_dict(phi)"
   ]
  },
  {
   "cell_type": "code",
   "execution_count": null,
   "id": "2bd95946-c244-492e-bc86-7795d70222b4",
   "metadata": {},
   "outputs": [],
   "source": [
    "loss_i, loss_b, loss_f, loss, model, val_loss, val_ood_loss, nrmse = train(epochs=5000, lr=lr, i_size=0, b_size=2, f_size=100, zero_shot=False, alpha_list=alpha, beta_list=beta, low=-10, high=10, eqname='poisson')"
   ]
  },
  {
   "cell_type": "code",
   "execution_count": null,
   "id": "06e6cbae-04af-4db9-b69c-32a2bd35900a",
   "metadata": {},
   "outputs": [],
   "source": [
    "test_x = np.linspace(-10, 10, num=100).reshape(-1, 1)\n",
    "# test_alpha = np.full((100, 1), alpha[2])\n",
    "# test_beta = np.full((100, 1), beta[2])\n",
    "alpha = -0.752\n",
    "beta = 0.932\n",
    "test_alpha = np.full((100, 1), alpha)\n",
    "test_beta = np.full((100, 1), beta)\n",
    "test_in = np.hstack((test_x, test_alpha, test_beta))\n",
    "# test_in = test_x\n",
    "test_u_ = model(torch.Tensor(test_x).to(device))\n",
    "test_u = model3(torch.Tensor(test_in).to(device))\n",
    "X = test_x\n",
    "\n",
    "Y = np.sin(test_alpha * X) + np.cos(test_beta * X) + 0.1 * X\n"
   ]
  },
  {
   "cell_type": "code",
   "execution_count": null,
   "id": "9bddd021-3c56-4258-9d77-5cc415236215",
   "metadata": {},
   "outputs": [],
   "source": [
    "test_x = np.linspace(-10, 10, num=100).reshape(-1, 1)\n",
    "test_in = np.hstack((test_x, test_alpha, test_beta))\n",
    "# test_in = test_x\n",
    "test_u = model3(torch.Tensor(test_in).to(device))\n",
    "test_u_2 = model2(torch.Tensor(test_in).to(device))\n",
    "test_u_3 = model_adapted(torch.Tensor(test_in).to(device))"
   ]
  },
  {
   "cell_type": "code",
   "execution_count": null,
   "id": "fcae0f90-f48d-4c14-868a-2fca107b3959",
   "metadata": {},
   "outputs": [],
   "source": [
    "C_ = test_u_.cpu().detach().numpy()\n",
    "C = test_u.cpu().detach().numpy()\n",
    "C2 = test_u_2.cpu().detach().numpy()\n",
    "C3 = test_u_3.cpu().detach().numpy()\n",
    "plt.figure(figsize=(10, 8))\n",
    "plt.plot(X, C_, 'k--', label='PINN')\n",
    "plt.plot(X, C, 'b--', label='zero-shot')\n",
    "plt.plot(X, Y, 'r', label='truth')\n",
    "plt.plot(X, C2, 'g--', label='MAML')\n",
    "plt.plot(X, C3, 'y--', label='adapted MAML')\n",
    "plt.legend()\n",
    "# plt.colorbar()"
   ]
  },
  {
   "cell_type": "code",
   "execution_count": null,
   "id": "e057f142-c08a-4831-8814-b051292814cf",
   "metadata": {},
   "outputs": [],
   "source": [
    "np.sqrt(np.sum( (Y-C) ** 2) / np.sum( C ** 2 ))"
   ]
  },
  {
   "cell_type": "code",
   "execution_count": null,
   "id": "a791cd40-4efa-4de3-9642-c64ddc8a7885",
   "metadata": {},
   "outputs": [],
   "source": [
    "nrmse_test_zs = []\n",
    "nrmse_test_maml = []\n",
    "nrmse_test_maml_adapted = []\n",
    "nrmse_test_pinn = []\n",
    "\n",
    "alpha_val = np.random.uniform(low=-1, high=1, size=10)\n",
    "beta_val = np.random.uniform(low=-1, high=1, size=10)\n",
    "\n",
    "for alpha, beta in zip(alpha_val, beta_val):\n",
    "    loss_i, loss_b, loss_f, loss, model_, val_loss, val_ood_loss, nrmse = train(epochs=2000, lr=lr, i_size=0, b_size=2, f_size=100, zero_shot=False, alpha_list=alpha, beta_list=beta, low=-10, high=10, eqname='poisson')\n",
    "    test_x = np.linspace(-1, 1, num=100).reshape(-1, 1)\n",
    "    test_alpha = np.full((100, 1), alpha)\n",
    "    test_beta = np.full((100, 1), beta)\n",
    "    X = test_x\n",
    "    Y = np.sin(test_alpha * X) + np.cos(test_beta * X) + 0.1 * X\n",
    "    test_in = np.hstack((test_x, test_alpha, test_beta))\n",
    "    test_u_ = model_(torch.Tensor(test_x).to(device))\n",
    "    test_u = model3(torch.Tensor(test_in).to(device))\n",
    "    test_u_2 = model2(torch.Tensor(test_in).to(device))\n",
    "    test_u_3 = model_adapted(torch.Tensor(test_in).to(device))\n",
    "    C_ = test_u_.cpu().detach().numpy()\n",
    "    C = test_u.cpu().detach().numpy()\n",
    "    C2 = test_u_2.cpu().detach().numpy()\n",
    "    C3 = test_u_3.cpu().detach().numpy()\n",
    "    nrmse_test_pinn.append(compute_nrmse(C_, Y))\n",
    "    nrmse_test_zs.append(compute_nrmse(C, Y))\n",
    "    nrmse_test_maml.append(compute_nrmse(C2, Y))\n",
    "    nrmse_test_maml_adapted.append(compute_nrmse(C3, Y))\n",
    "   \n",
    "print(np.mean(np.array(nrmse_test_pinn)))                        \n",
    "print(np.mean(np.array(nrmse_test_zs)))\n",
    "print(np.mean(np.array(nrmse_test_maml)))\n",
    "print(np.mean(np.array(nrmse_test_maml_adapted)))"
   ]
  },
  {
   "cell_type": "markdown",
   "id": "943b93f6-c802-451a-ac16-3a2275052927",
   "metadata": {
    "tags": []
   },
   "source": [
    "## Result - Case 3"
   ]
  },
  {
   "cell_type": "code",
   "execution_count": null,
   "id": "952106b4-8b30-46c4-bc2e-7db9c012e384",
   "metadata": {},
   "outputs": [],
   "source": [
    "from burgers import *"
   ]
  },
  {
   "cell_type": "code",
   "execution_count": null,
   "id": "6c361141-8b9a-49c3-aa03-a77ed3af653f",
   "metadata": {},
   "outputs": [],
   "source": []
  },
  {
   "cell_type": "code",
   "execution_count": null,
   "id": "54f42fd7-4d37-4ed6-8ea2-6666062e8a8f",
   "metadata": {},
   "outputs": [],
   "source": []
  },
  {
   "cell_type": "code",
   "execution_count": null,
   "id": "e2dfb049-4f98-4b53-97b5-4dc5c4bee6cb",
   "metadata": {},
   "outputs": [],
   "source": [
    "\n",
    "model = PINN(20, 8, dim=2, param_num=1, zero_shot=True)\n",
    "model.load_state_dict(torch.load('models/burgers_zs_4000.data'))\n",
    "model.to(device)\n"
   ]
  },
  {
   "cell_type": "code",
   "execution_count": null,
   "id": "d552d432-9676-4a9a-935a-c96871fa0952",
   "metadata": {},
   "outputs": [],
   "source": [
    "model_maml = PINN(20, 8, dim=2, param_num=1, zero_shot=True)\n",
    "model_maml.load_state_dict(torch.load('models/maml_burgers_from_scratch_4000.data'))\n",
    "model_maml.to(device)"
   ]
  },
  {
   "cell_type": "code",
   "execution_count": null,
   "id": "0a039147-fd69-46e3-b779-ffa86ccfc127",
   "metadata": {},
   "outputs": [],
   "source": [
    "vtn = 101\n",
    "vxn = 101\n",
    "nu = 0.01 / np.pi\n",
    "vx = np.linspace(-1, 1, vxn)\n",
    "vt = np.linspace(0, 1, vtn)\n",
    "x, t = np.meshgrid(vx, vt)\n",
    "x = x.reshape(-1, 1)\n",
    "t = t.reshape(-1, 1)\n",
    "alpha = np.full((x.shape), nu)\n",
    "pred = model(torch.Tensor(np.hstack((x, t, alpha))).to(device)).detach().cpu().numpy()\n",
    "# pred = model(torch.Tensor(np.hstack((x, t))).to(device)).detach().cpu().numpy()\n",
    "truth = burgers_viscous_time_exact1(nu, vxn, vx, vtn, vt).T"
   ]
  },
  {
   "cell_type": "code",
   "execution_count": null,
   "id": "f47181bf-91cb-4fb8-956b-380df8ca3e97",
   "metadata": {},
   "outputs": [],
   "source": []
  },
  {
   "cell_type": "code",
   "execution_count": null,
   "id": "43e04521-35f9-472e-adb5-efc058bb85d1",
   "metadata": {},
   "outputs": [],
   "source": [
    "plt.figure(figsize=(8, 6))\n",
    "plt.scatter(x, t, c=pred, cmap='seismic')\n",
    "plt.xlabel('x')\n",
    "plt.ylabel('t')\n",
    "plt.title('Zero-shot')\n",
    "plt.colorbar()"
   ]
  },
  {
   "cell_type": "code",
   "execution_count": null,
   "id": "6843c1c7-06e2-4f6b-8bdd-14b976e48366",
   "metadata": {},
   "outputs": [],
   "source": [
    "plt.figure(figsize=(8, 6))\n",
    "plt.scatter(x, t, c=truth, cmap='seismic')\n",
    "plt.xlabel('x')\n",
    "plt.ylabel('t')\n",
    "plt.title('Truth')\n",
    "plt.colorbar()"
   ]
  },
  {
   "cell_type": "code",
   "execution_count": null,
   "id": "3d22cfcc-13c6-44b2-b75d-9f2f76fb9ba3",
   "metadata": {},
   "outputs": [],
   "source": [
    "from maml import *"
   ]
  },
  {
   "cell_type": "code",
   "execution_count": null,
   "id": "6bf32307-c3c6-46f8-af99-620057683bfb",
   "metadata": {},
   "outputs": [],
   "source": [
    "maml = MAML(5, 0.01, 0.0005, 1,2, 1, -1, 1, eqname='burgers', zero_shot=True, load=False, modelpath='models/model_ref/burgers_zs_1000_ref.data')\n",
    "phi, _, inner_loss_i, inner_loss_b, inner_loss_f, inner_loss, nrmse_batch = maml._inner_loop(model_maml.state_dict(), nu, train=False)\n",
    "model_adapted = deepcopy(model)\n",
    "model_adapted.load_state_dict(phi)\n",
    "pred_maml = model_maml(torch.Tensor(np.hstack((x, t, alpha))).to(device)).detach().cpu().numpy()\n",
    "pred_maml_adapted = model_adapted(torch.Tensor(np.hstack((x, t, alpha))).to(device)).detach().cpu().numpy()"
   ]
  },
  {
   "cell_type": "code",
   "execution_count": null,
   "id": "838d3913-3427-410d-8c82-4bad6c82167c",
   "metadata": {},
   "outputs": [],
   "source": [
    "nrmse_batch"
   ]
  },
  {
   "cell_type": "code",
   "execution_count": null,
   "id": "9a0a6ed4-6b1f-4b6d-b3bf-1594bfa746aa",
   "metadata": {},
   "outputs": [],
   "source": [
    "plt.figure(figsize=(8, 6))\n",
    "plt.scatter(x, t, c=pred_maml, cmap='seismic')\n",
    "plt.xlabel('x')\n",
    "plt.ylabel('t')\n",
    "plt.title('MAML')\n",
    "plt.colorbar()"
   ]
  },
  {
   "cell_type": "code",
   "execution_count": null,
   "id": "44592b40-84c4-4c31-8099-edaa3f1bd640",
   "metadata": {},
   "outputs": [],
   "source": [
    "plt.figure(figsize=(8, 6))\n",
    "plt.scatter(x, t, c=pred_maml_adapted, cmap='seismic')\n",
    "plt.xlabel('x')\n",
    "plt.ylabel('t')\n",
    "plt.title('MAML-adapted')\n",
    "plt.colorbar()"
   ]
  },
  {
   "cell_type": "code",
   "execution_count": null,
   "id": "6c0ff30b-61b9-4df0-a3b7-735e6adcb0bf",
   "metadata": {},
   "outputs": [],
   "source": [
    "# loss_i, loss_b, loss_f, loss, model_pinn, val_loss, val_ood_loss, nrmse = train(epochs=2000, lr=lr, i_size=100, b_size=100, f_size=10000, zero_shot=False, alpha_list=0.01/np.pi, low=-1, high=1, eqname='burgers')"
   ]
  },
  {
   "cell_type": "code",
   "execution_count": null,
   "id": "e127f897-e6c7-4731-8dbc-982aabd2893b",
   "metadata": {},
   "outputs": [],
   "source": [
    "pred_pinn = model_pinn(torch.Tensor(np.hstack((x, t))).to(device)).detach().cpu().numpy()"
   ]
  },
  {
   "cell_type": "code",
   "execution_count": null,
   "id": "76a8eb2a-89a4-426c-9e97-f33a395c5efe",
   "metadata": {},
   "outputs": [],
   "source": [
    "plt.figure(figsize=(8, 6))\n",
    "plt.scatter(x, t, c=pred_pinn, cmap='seismic')\n",
    "plt.xlabel('x')\n",
    "plt.ylabel('t')\n",
    "plt.title('Single PINN')\n",
    "plt.colorbar()"
   ]
  },
  {
   "cell_type": "code",
   "execution_count": null,
   "id": "85618ac8-0486-4ef7-9214-91b98f3ac7b1",
   "metadata": {},
   "outputs": [],
   "source": [
    "idx = 75\n",
    "print(vt[idx])\n",
    "x_025 = np.linspace(-1, 1, 101).reshape(-1, 1)\n",
    "t_025 = np.full((x_025.shape), idx / 100)\n",
    "\n",
    "pred_ = model(torch.Tensor(np.hstack((x_025, t_025, np.full((x_025.shape), nu)))).to(device)).detach().cpu().numpy()\n",
    "pred_maml_ = model_maml(torch.Tensor(np.hstack((x_025, t_025, np.full((x_025.shape), nu)))).to(device)).detach().cpu().numpy()\n",
    "pred_pinn_ = model_pinn(torch.Tensor(np.hstack((x_025, t_025))).to(device)).detach().cpu().numpy()\n",
    "task = 0.01 / np.pi\n",
    "# test_in = np.hstack((x, t, alpha))\n",
    "test_in_t = np.hstack((x_025, t_025, np.full((x_025.shape), task)))\n",
    "\n",
    "model_adapted = deepcopy(model)\n",
    "model_adapted.load_state_dict(phi)\n",
    "# Y2 = model_adapted(torch.Tensor(test_in).to(device)).detach().cpu().numpy()\n",
    "Y2_t = model_adapted(torch.Tensor(test_in_t).to(device)).detach().cpu().numpy()"
   ]
  },
  {
   "cell_type": "code",
   "execution_count": null,
   "id": "9af929d9-0873-4fbf-be22-3a0d7961963a",
   "metadata": {},
   "outputs": [],
   "source": [
    "plt.plot(truth[idx, :], 'k', linewidth=3, label='truth')\n",
    "plt.plot(pred_, 'b--', linewidth=3, label='zero-shot')\n",
    "plt.plot(pred_maml_, 'g--', linewidth=3, label='MAML')\n",
    "plt.plot(pred_pinn_, 'r--', linewidth=3, label='PINN')\n",
    "plt.plot(Y2_t, 'y--', linewidth=3, label='MAML-adapted')\n",
    "plt.legend()\n",
    "plt.title('t={}'.format(vt[idx]))"
   ]
  },
  {
   "cell_type": "code",
   "execution_count": null,
   "id": "8dcec4e3-d254-439b-ab3d-d3626790e1ba",
   "metadata": {},
   "outputs": [],
   "source": [
    "np.sqrt(np.sum((pred-truth.reshape(-1, 1)) ** 2) / np.sum(pred ** 2))"
   ]
  },
  {
   "cell_type": "code",
   "execution_count": null,
   "id": "5178f12f-ba2e-4a17-b2a8-eebb462e5940",
   "metadata": {},
   "outputs": [],
   "source": [
    "np.mean(np.abs(pred-truth.reshape(-1, 1)))"
   ]
  },
  {
   "cell_type": "code",
   "execution_count": null,
   "id": "5f9034d9-7226-410b-898b-ee0be3ba6f4f",
   "metadata": {},
   "outputs": [],
   "source": [
    "plt.scatter(x, t, c=((pred.reshape(101, 101) - truth) ** 2).reshape(-1, 1), cmap='seismic')\n",
    "plt.colorbar()"
   ]
  }
 ],
 "metadata": {
  "kernelspec": {
   "display_name": "torch",
   "language": "python",
   "name": "torch-1.10.1"
  },
  "language_info": {
   "codemirror_mode": {
    "name": "ipython",
    "version": 3
   },
   "file_extension": ".py",
   "mimetype": "text/x-python",
   "name": "python",
   "nbconvert_exporter": "python",
   "pygments_lexer": "ipython3",
   "version": "3.9.12"
  }
 },
 "nbformat": 4,
 "nbformat_minor": 5
}

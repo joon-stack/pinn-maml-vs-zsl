{
 "cells": [
  {
   "cell_type": "code",
   "execution_count": 1,
   "id": "13fab8b6-cb38-4b19-aade-f0939939bc93",
   "metadata": {},
   "outputs": [],
   "source": [
    "from maml import *\n",
    "import matplotlib.pyplot as plt"
   ]
  },
  {
   "cell_type": "code",
   "execution_count": 2,
   "id": "d8e3a9ab-9d5b-49a7-9ad6-6ad5b4eab18f",
   "metadata": {},
   "outputs": [
    {
     "name": "stdout",
     "output_type": "stream",
     "text": [
      "Initializing MAML-PINN model\n",
      "Current device:  cuda\n",
      "cuda\n",
      "Finished initialization of MAML-PINN model\n",
      "Start MAML training at iteration 0\n",
      "[(0.2975355517357048, 0.6426448025595837), (-0.8677860529831849, -0.6510361708488535), (-0.43674561612997853, -0.20402468451939448), (0.7276316633336144, -0.6201224083093537), (-0.6448942280226355, -0.7012474400156419)]\n",
      "[(1.163039302360969, -1.1654005652846529), (-1.1201188168188188, -1.1697721199875153), (-1.084434113566251, 1.3381620805489272), (1.0369430368497172, -1.4469926215438227), (1.3343718558930102, 1.069508922705026)]\n",
      "Validation before training (0.298, 0.643)| Inner_loss_B: 0.0716 | Inner_loss_F: 0.0734 | Inner_loss: 0.7897 | NRMSE: 0.3265\n",
      "Validation OOD before training (1.163, -1.165) | Inner_loss_B: 0.0997 | Inner_loss_F: 1.0728 | Inner_loss: 2.0699 | NRMSE: 0.8720\n",
      "Step 1 | Inner_loss_B: 0.0645 | Inner_loss_F: 0.1506\n",
      "Step 2 | Inner_loss_B: 0.0634 | Inner_loss_F: 0.1390\n",
      "Step 3 | Inner_loss_B: 0.0624 | Inner_loss_F: 0.1320\n",
      "Step 4 | Inner_loss_B: 0.0618 | Inner_loss_F: 0.1488\n",
      "Step 5 | Inner_loss_B: 0.0625 | Inner_loss_F: 0.1588\n",
      "Step 6 | Inner_loss_B: 0.0604 | Inner_loss_F: 0.1510\n",
      "Step 7 | Inner_loss_B: 0.0593 | Inner_loss_F: 0.1440\n",
      "Step 8 | Inner_loss_B: 0.0589 | Inner_loss_F: 0.1526\n",
      "Step 9 | Inner_loss_B: 0.0567 | Inner_loss_F: 0.1383\n",
      "Step 10 | Inner_loss_B: 0.0555 | Inner_loss_F: 0.1520\n",
      "Step 11 | Inner_loss_B: 0.0540 | Inner_loss_F: 0.1470\n",
      "Step 12 | Inner_loss_B: 0.0554 | Inner_loss_F: 0.1426\n",
      "Step 13 | Inner_loss_B: 0.0543 | Inner_loss_F: 0.1419\n",
      "Step 14 | Inner_loss_B: 0.0480 | Inner_loss_F: 0.1496\n",
      "Step 15 | Inner_loss_B: 0.0485 | Inner_loss_F: 0.1467\n",
      "Step 16 | Inner_loss_B: 0.0498 | Inner_loss_F: 0.1506\n",
      "Step 17 | Inner_loss_B: 0.0486 | Inner_loss_F: 0.1534\n",
      "Step 18 | Inner_loss_B: 0.0466 | Inner_loss_F: 0.1515\n",
      "Step 19 | Inner_loss_B: 0.0451 | Inner_loss_F: 0.1457\n",
      "Step 20 | Inner_loss_B: 0.0449 | Inner_loss_F: 0.1454\n",
      "Step 21 | Inner_loss_B: 0.0454 | Inner_loss_F: 0.1355\n",
      "Step 22 | Inner_loss_B: 0.0425 | Inner_loss_F: 0.1467\n"
     ]
    },
    {
     "name": "stderr",
     "output_type": "stream",
     "text": [
      "\n",
      "KeyboardInterrupt\n",
      "\n"
     ]
    }
   ],
   "source": [
    "# maml = MAML(5, 0.01, 0.0001, 100, 100, 1000, -1, 1, eqname='burgers')\n",
    "maml = MAML(5, 0.01, 0.0001, 0, 2, 1, low=-1, high=1, eqname='poisson')\n",
    "\n",
    "train_loss, val_loss, val_ood_loss, nrmse, model = maml.train(1000, 1000, 5)"
   ]
  },
  {
   "cell_type": "code",
   "execution_count": null,
   "id": "195ae952-2dae-49cf-8066-5c8643128e13",
   "metadata": {},
   "outputs": [],
   "source": [
    "# steps = [ 1000 / len(val_loss['inner_loss']) * i for i in range(len(val_loss['inner_loss']))]\n",
    "# idx = [100 * i for i in range(10)]\n",
    "# loss = train_loss['inner_loss_f'][::100]\n",
    "# plt.plot(val_loss['inner_loss'], label='loss')\n",
    "plt.plot(np.mean(nrmse['nrmse_val'], axis=1), label='Val.')\n",
    "plt.plot(np.mean(nrmse['nrmse_val_ood'], axis=1), label='Val. OOD')\n",
    "plt.legend()\n",
    "plt.title('FO-MAML Val. Poisson')\n",
    "# plt.plot( loss)\n",
    "# plt.plot(nrmse['nrmse_val'])\n",
    "# plt.plot(nrmse['nrmse_val_ood'])\n",
    "# plt.plot(train_loss['inner_loss'])"
   ]
  },
  {
   "cell_type": "code",
   "execution_count": null,
   "id": "beaf51e6-34c1-46d0-a622-424e88f6f24c",
   "metadata": {},
   "outputs": [],
   "source": [
    "from train import *"
   ]
  },
  {
   "cell_type": "code",
   "execution_count": null,
   "id": "05a4919f-b3c5-43b2-9405-44497c91636e",
   "metadata": {},
   "outputs": [],
   "source": [
    "epochs = 500\n",
    "lr = 0.001"
   ]
  },
  {
   "cell_type": "code",
   "execution_count": null,
   "id": "76a42cee-eac9-4394-9421-a89e1effb1a6",
   "metadata": {},
   "outputs": [],
   "source": [
    "# loss_i, loss_b, loss_f, loss, model, val_loss, val_ood_loss, nrmse_set = train(epochs=epochs, lr=lr, i_size=100, b_size=100, f_size=1000, zero_shot=False, load=True, load_data='models/maml_burgers_5000.data', alpha_list=0.01 / np.pi, eqname='burgers')\n",
    "loss_i, loss_b, loss_f, loss, model, val_loss, val_ood_loss, nrmse_set = train(epochs=epochs, lr=lr, i_size=0, b_size=2, f_size=10, zero_shot=False, load=True, load_data='maml.data', alpha_list=0.7, beta_list=-0.9, eqname='poisson')"
   ]
  },
  {
   "cell_type": "code",
   "execution_count": null,
   "id": "bb393f14-2ead-48bf-ac7c-eaac00cacd2d",
   "metadata": {},
   "outputs": [],
   "source": [
    "# loss_i_2, loss_b_2, loss_f_2, loss_2, model_2, val_loss_2, val_ood_loss_2, nrmse_set_2 = train(epochs=epochs, lr=lr, i_size=100, b_size=100, f_size=1000, zero_shot=False, load=False, load_data='maml.data', alpha_list=0.01 / np.pi, eqname='burgers')\n",
    "loss_i_2, loss_b_2, loss_f_2, loss_2, model_2, val_loss_2, val_ood_loss_2, nrmse_set_2 = train(epochs=epochs, lr=lr, i_size=0, b_size=2, f_size=10, zero_shot=False, load=False, load_data='maml.data', alpha_list=0.7, beta_list=-0.9, eqname='poisson')"
   ]
  },
  {
   "cell_type": "code",
   "execution_count": null,
   "id": "4677c68e-510c-43ba-9ea9-e0d051fb34ca",
   "metadata": {},
   "outputs": [],
   "source": [
    "plt.title('Loss Few shot')\n",
    "plt.yscale('log')\n",
    "plt.plot(loss, label='MAML')\n",
    "plt.plot(loss_2, label='Random')\n",
    "plt.legend()"
   ]
  },
  {
   "cell_type": "code",
   "execution_count": null,
   "id": "00358e94-f90e-40b0-8bac-1c25ab060bb0",
   "metadata": {},
   "outputs": [],
   "source": [
    "plt.title('Relative error Few shot')\n",
    "plt.yscale('log')\n",
    "plt.plot(nrmse_set, label='MAML')\n",
    "plt.plot(nrmse_set_2, label='Random')\n",
    "plt.legend()"
   ]
  },
  {
   "cell_type": "code",
   "execution_count": null,
   "id": "ec1be12f-7744-49cb-8731-5242744665c5",
   "metadata": {},
   "outputs": [],
   "source": [
    "device = torch.device('cuda' if torch.cuda.is_available() else 'cpu')\n",
    "print(\"Current device:\", device)\n",
    "test_x = np.linspace(-1, 1, num=100).reshape(-1, 1)\n",
    "# test_alpha = np.full((100, 1), alpha[2])\n",
    "# test_beta = np.full((100, 1), beta[2])\n",
    "test_alpha = np.full((100, 1), 0.7)\n",
    "test_beta = np.full((100, 1), 0.7)\n",
    "# test_in = np.hstack((test_x, test_alpha, test_beta))\n",
    "test_u = model_2(torch.Tensor(test_x).to(device))\n",
    "X = test_x\n",
    "\n",
    "Y = np.sin(test_alpha * X) + np.cos(test_beta * X) + 0.1 * X\n"
   ]
  },
  {
   "cell_type": "code",
   "execution_count": null,
   "id": "8998c3ae-9cc2-4f95-a092-1c66c2689387",
   "metadata": {},
   "outputs": [],
   "source": [
    "C = test_u.cpu().detach().numpy()\n",
    "plt.figure(figsize=(10, 8))\n",
    "plt.scatter(X, C, label='PINN')\n",
    "plt.scatter(X, Y, label='Answer')\n",
    "plt.legend()\n",
    "plt.colorbar()"
   ]
  },
  {
   "cell_type": "code",
   "execution_count": null,
   "id": "fd364c44-e281-468c-b9e9-c1a08a75d236",
   "metadata": {},
   "outputs": [],
   "source": [
    "plt.plot(loss)\n",
    "plt.plot(loss_2)"
   ]
  },
  {
   "cell_type": "code",
   "execution_count": null,
   "id": "c5e5be5d-e097-4cb6-9e0a-c7e2dea80d1a",
   "metadata": {},
   "outputs": [],
   "source": [
    "from burgers import *"
   ]
  },
  {
   "cell_type": "code",
   "execution_count": null,
   "id": "db0e993d-d356-4fb6-9af8-a7b90becfdc3",
   "metadata": {},
   "outputs": [],
   "source": [
    "vtn = 101\n",
    "vxn = 101\n",
    "nu = 0.01 / np.pi\n",
    "vx = np.linspace(-1, 1, vxn)\n",
    "vt = np.linspace(0, 1, vtn)\n",
    "\n",
    "vu = burgers_viscous_time_exact1(nu, vxn, vx, vtn, vt)\n",
    "\n",
    "x, t = np.meshgrid(vx, vt)\n",
    "x = x.reshape(-1, 1)\n",
    "t = t.reshape(-1, 1)\n",
    "\n",
    "plt.scatter(x, t, c=vu, cmap='seismic')\n",
    "plt.colorbar()"
   ]
  },
  {
   "cell_type": "code",
   "execution_count": null,
   "id": "cb422fcf-83c4-422c-be16-fa44fa167b6c",
   "metadata": {},
   "outputs": [],
   "source": [
    "device = torch.device('cuda' if torch.cuda.is_available() else 'cpu')\n",
    "print(\"Current device:\", device)"
   ]
  },
  {
   "cell_type": "code",
   "execution_count": null,
   "id": "a71300da-7d02-45bc-b01c-e1d59586a7df",
   "metadata": {},
   "outputs": [],
   "source": [
    "vtn = 101\n",
    "vxn = 101\n",
    "nu = 0.01 / np.pi\n",
    "vx = np.linspace(-1, 1, vxn)\n",
    "vt = np.linspace(0, 1, vtn)\n",
    "x, t = np.meshgrid(vx, vt)\n",
    "x = x.reshape(-1, 1)\n",
    "t = t.reshape(-1, 1)\n",
    "alpha = np.full((x.shape), nu)\n",
    "pred = model_2(torch.Tensor(np.hstack((x, t))).to(device)).detach().cpu().numpy()\n",
    "# pred = model(torch.Tensor(np.hstack((x, t))).to(device)).detach().cpu().numpy()\n",
    "truth = burgers_viscous_time_exact1(nu, vxn, vx, vtn, vt).T.reshape(-1, 1)"
   ]
  },
  {
   "cell_type": "code",
   "execution_count": null,
   "id": "604419bf-42e5-47b5-81b2-1f22d32eeb4e",
   "metadata": {},
   "outputs": [],
   "source": [
    "plt.scatter(x, t, c=pred, cmap='seismic')\n",
    "plt.colorbar()"
   ]
  },
  {
   "cell_type": "code",
   "execution_count": null,
   "id": "84e57157-de00-457e-8766-698d7506f0f4",
   "metadata": {},
   "outputs": [],
   "source": []
  }
 ],
 "metadata": {
  "kernelspec": {
   "display_name": "torch",
   "language": "python",
   "name": "torch-1.10.1"
  },
  "language_info": {
   "codemirror_mode": {
    "name": "ipython",
    "version": 3
   },
   "file_extension": ".py",
   "mimetype": "text/x-python",
   "name": "python",
   "nbconvert_exporter": "python",
   "pygments_lexer": "ipython3",
   "version": "3.9.12"
  }
 },
 "nbformat": 4,
 "nbformat_minor": 5
}

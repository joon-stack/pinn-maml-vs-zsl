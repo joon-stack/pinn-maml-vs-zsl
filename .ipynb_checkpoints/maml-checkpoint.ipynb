{
 "cells": [
  {
   "cell_type": "code",
   "execution_count": 1,
   "id": "13fab8b6-cb38-4b19-aade-f0939939bc93",
   "metadata": {},
   "outputs": [],
   "source": [
    "from maml import *\n",
    "import matplotlib.pyplot as plt"
   ]
  },
  {
   "cell_type": "code",
   "execution_count": 2,
   "id": "d8e3a9ab-9d5b-49a7-9ad6-6ad5b4eab18f",
   "metadata": {},
   "outputs": [
    {
     "name": "stdout",
     "output_type": "stream",
     "text": [
      "Initializing MAML-PINN model\n",
      "Finished initialization of MAML-PINN model\n",
      "Start MAML training at iteration 0\n",
      "Validation (0.500, 0.500)| Inner_loss_B: 0.0005 | Inner_loss_F: 0.0634 | Inner_loss: 0.0688 | NRMSE: 0.0385\n",
      "Validation OOD (1.300, 1.300) | Inner_loss_B: 0.0025 | Inner_loss_F: 1.0967 | Inner_loss: 1.1222 | NRMSE: 0.5748\n",
      "Step 100 | Inner_loss_B: 0.0009 | Inner_loss_F: 0.2818\n",
      "Validation (0.500, 0.500)| Inner_loss_B: 0.0005 | Inner_loss_F: 0.0603 | Inner_loss: 0.0650 | NRMSE: 0.0329\n",
      "Validation OOD (1.300, 1.300) | Inner_loss_B: 0.0026 | Inner_loss_F: 1.2035 | Inner_loss: 1.2292 | NRMSE: 0.5879\n",
      "Validation (0.500, 0.500)| Inner_loss_B: 0.0002 | Inner_loss_F: 0.0340 | Inner_loss: 0.0364 | NRMSE: 0.0330\n",
      "Validation OOD (1.300, 1.300) | Inner_loss_B: 0.0026 | Inner_loss_F: 1.1956 | Inner_loss: 1.2218 | NRMSE: 0.5759\n",
      "Step 200 | Inner_loss_B: 0.0008 | Inner_loss_F: 0.1891\n",
      "Validation (0.500, 0.500)| Inner_loss_B: 0.0003 | Inner_loss_F: 0.0460 | Inner_loss: 0.0490 | NRMSE: 0.0182\n",
      "Validation OOD (1.300, 1.300) | Inner_loss_B: 0.0023 | Inner_loss_F: 1.1579 | Inner_loss: 1.1808 | NRMSE: 0.5709\n",
      "Validation (0.500, 0.500)| Inner_loss_B: 0.0002 | Inner_loss_F: 0.0385 | Inner_loss: 0.0408 | NRMSE: 0.0166\n",
      "Validation OOD (1.300, 1.300) | Inner_loss_B: 0.0025 | Inner_loss_F: 1.0269 | Inner_loss: 1.0520 | NRMSE: 0.5513\n",
      "Step 300 | Inner_loss_B: 0.0003 | Inner_loss_F: 0.0491\n",
      "Validation (0.500, 0.500)| Inner_loss_B: 0.0002 | Inner_loss_F: 0.0424 | Inner_loss: 0.0446 | NRMSE: 0.0170\n",
      "Validation OOD (1.300, 1.300) | Inner_loss_B: 0.0023 | Inner_loss_F: 1.0443 | Inner_loss: 1.0676 | NRMSE: 0.5299\n",
      "Validation (0.500, 0.500)| Inner_loss_B: 0.0002 | Inner_loss_F: 0.0347 | Inner_loss: 0.0365 | NRMSE: 0.0222\n",
      "Validation OOD (1.300, 1.300) | Inner_loss_B: 0.0027 | Inner_loss_F: 1.0724 | Inner_loss: 1.0993 | NRMSE: 0.5251\n",
      "Step 400 | Inner_loss_B: 0.0003 | Inner_loss_F: 0.1385\n",
      "Validation (0.500, 0.500)| Inner_loss_B: 0.0001 | Inner_loss_F: 0.0268 | Inner_loss: 0.0281 | NRMSE: 0.0296\n",
      "Validation OOD (1.300, 1.300) | Inner_loss_B: 0.0025 | Inner_loss_F: 0.9519 | Inner_loss: 0.9770 | NRMSE: 0.4926\n",
      "Validation (0.500, 0.500)| Inner_loss_B: 0.0002 | Inner_loss_F: 0.0299 | Inner_loss: 0.0315 | NRMSE: 0.0343\n",
      "Validation OOD (1.300, 1.300) | Inner_loss_B: 0.0026 | Inner_loss_F: 0.9958 | Inner_loss: 1.0214 | NRMSE: 0.5013\n"
     ]
    },
    {
     "ename": "KeyboardInterrupt",
     "evalue": "",
     "output_type": "error",
     "traceback": [
      "\u001b[1;31m---------------------------------------------------------------------------\u001b[0m",
      "\u001b[1;31mKeyboardInterrupt\u001b[0m                         Traceback (most recent call last)",
      "Input \u001b[1;32mIn [2]\u001b[0m, in \u001b[0;36m<cell line: 2>\u001b[1;34m()\u001b[0m\n\u001b[0;32m      1\u001b[0m maml \u001b[38;5;241m=\u001b[39m MAML(\u001b[38;5;241m10\u001b[39m, \u001b[38;5;241m0.01\u001b[39m, \u001b[38;5;241m0.0001\u001b[39m, \u001b[38;5;241m2\u001b[39m, \u001b[38;5;241m100\u001b[39m)\n\u001b[1;32m----> 2\u001b[0m train_loss, val_loss, val_ood_loss, nrmse, model \u001b[38;5;241m=\u001b[39m \u001b[43mmaml\u001b[49m\u001b[38;5;241;43m.\u001b[39;49m\u001b[43mtrain\u001b[49m\u001b[43m(\u001b[49m\u001b[38;5;241;43m10000\u001b[39;49m\u001b[43m,\u001b[49m\u001b[43m \u001b[49m\u001b[38;5;241;43m5\u001b[39;49m\u001b[43m)\u001b[49m\n",
      "File \u001b[1;32m~\\Documents\\GitHub\\pinn-maml-vs-zsl\\maml.py:221\u001b[0m, in \u001b[0;36mMAML.train\u001b[1;34m(self, train_steps, num_train_tasks)\u001b[0m\n\u001b[0;32m    219\u001b[0m \u001b[38;5;28mself\u001b[39m\u001b[38;5;241m.\u001b[39m_train_step \u001b[38;5;241m+\u001b[39m\u001b[38;5;241m=\u001b[39m \u001b[38;5;241m1\u001b[39m\n\u001b[0;32m    220\u001b[0m train_task \u001b[38;5;241m=\u001b[39m generate_task(num_train_tasks)\n\u001b[1;32m--> 221\u001b[0m inner_loss, inner_loss_b, inner_loss_f, _ \u001b[38;5;241m=\u001b[39m \u001b[38;5;28;43mself\u001b[39;49m\u001b[38;5;241;43m.\u001b[39;49m\u001b[43m_outer_loop\u001b[49m\u001b[43m(\u001b[49m\u001b[43mtrain_task\u001b[49m\u001b[43m,\u001b[49m\u001b[43m \u001b[49m\u001b[43mtrain\u001b[49m\u001b[38;5;241;43m=\u001b[39;49m\u001b[38;5;28;43;01mTrue\u001b[39;49;00m\u001b[43m)\u001b[49m\n\u001b[0;32m    223\u001b[0m train_loss[\u001b[38;5;124m'\u001b[39m\u001b[38;5;124minner_loss\u001b[39m\u001b[38;5;124m'\u001b[39m]\u001b[38;5;241m.\u001b[39mappend(inner_loss)\n\u001b[0;32m    224\u001b[0m train_loss[\u001b[38;5;124m'\u001b[39m\u001b[38;5;124minner_loss_b\u001b[39m\u001b[38;5;124m'\u001b[39m]\u001b[38;5;241m.\u001b[39mappend(inner_loss_b)\n",
      "File \u001b[1;32m~\\Documents\\GitHub\\pinn-maml-vs-zsl\\maml.py:164\u001b[0m, in \u001b[0;36mMAML._outer_loop\u001b[1;34m(self, task_batch, train)\u001b[0m\n\u001b[0;32m    162\u001b[0m \u001b[38;5;28;01mfor\u001b[39;00m task \u001b[38;5;129;01min\u001b[39;00m task_batch:\n\u001b[0;32m    163\u001b[0m     support \u001b[38;5;241m=\u001b[39m task\n\u001b[1;32m--> 164\u001b[0m     phi, grad, loss_sup_b, loss_sup_f, loss_sup, nrmse \u001b[38;5;241m=\u001b[39m \u001b[38;5;28;43mself\u001b[39;49m\u001b[38;5;241;43m.\u001b[39;49m\u001b[43m_inner_loop\u001b[49m\u001b[43m(\u001b[49m\u001b[43mtheta\u001b[49m\u001b[43m,\u001b[49m\u001b[43m \u001b[49m\u001b[43msupport\u001b[49m\u001b[43m,\u001b[49m\u001b[43m \u001b[49m\u001b[43mtrain\u001b[49m\u001b[43m)\u001b[49m\n\u001b[0;32m    165\u001b[0m     inner_loss_b\u001b[38;5;241m.\u001b[39mappend(loss_sup_b[\u001b[38;5;241m-\u001b[39m\u001b[38;5;241m1\u001b[39m])\n\u001b[0;32m    166\u001b[0m     inner_loss_f\u001b[38;5;241m.\u001b[39mappend(loss_sup_f[\u001b[38;5;241m-\u001b[39m\u001b[38;5;241m1\u001b[39m])\n",
      "File \u001b[1;32m~\\Documents\\GitHub\\pinn-maml-vs-zsl\\maml.py:106\u001b[0m, in \u001b[0;36mMAML._inner_loop\u001b[1;34m(self, theta, support, train)\u001b[0m\n\u001b[0;32m    102\u001b[0m loss_f\u001b[38;5;241m.\u001b[39mto(\u001b[38;5;28mself\u001b[39m\u001b[38;5;241m.\u001b[39mdevice)\n\u001b[0;32m    104\u001b[0m loss \u001b[38;5;241m=\u001b[39m loss_b \u001b[38;5;241m*\u001b[39m \u001b[38;5;241m10\u001b[39m \u001b[38;5;241m+\u001b[39m loss_f\n\u001b[1;32m--> 106\u001b[0m \u001b[43mloss\u001b[49m\u001b[38;5;241;43m.\u001b[39;49m\u001b[43mbackward\u001b[49m\u001b[43m(\u001b[49m\u001b[43m)\u001b[49m\n\u001b[0;32m    108\u001b[0m opt_fn\u001b[38;5;241m.\u001b[39mstep()\n\u001b[0;32m    110\u001b[0m inner_loss_b \u001b[38;5;241m+\u001b[39m\u001b[38;5;241m=\u001b[39m [loss_b\u001b[38;5;241m.\u001b[39mitem()]\n",
      "File \u001b[1;32m~\\anaconda3\\envs\\torch-1.10.1\\lib\\site-packages\\torch\\_tensor.py:307\u001b[0m, in \u001b[0;36mTensor.backward\u001b[1;34m(self, gradient, retain_graph, create_graph, inputs)\u001b[0m\n\u001b[0;32m    298\u001b[0m \u001b[38;5;28;01mif\u001b[39;00m has_torch_function_unary(\u001b[38;5;28mself\u001b[39m):\n\u001b[0;32m    299\u001b[0m     \u001b[38;5;28;01mreturn\u001b[39;00m handle_torch_function(\n\u001b[0;32m    300\u001b[0m         Tensor\u001b[38;5;241m.\u001b[39mbackward,\n\u001b[0;32m    301\u001b[0m         (\u001b[38;5;28mself\u001b[39m,),\n\u001b[1;32m   (...)\u001b[0m\n\u001b[0;32m    305\u001b[0m         create_graph\u001b[38;5;241m=\u001b[39mcreate_graph,\n\u001b[0;32m    306\u001b[0m         inputs\u001b[38;5;241m=\u001b[39minputs)\n\u001b[1;32m--> 307\u001b[0m \u001b[43mtorch\u001b[49m\u001b[38;5;241;43m.\u001b[39;49m\u001b[43mautograd\u001b[49m\u001b[38;5;241;43m.\u001b[39;49m\u001b[43mbackward\u001b[49m\u001b[43m(\u001b[49m\u001b[38;5;28;43mself\u001b[39;49m\u001b[43m,\u001b[49m\u001b[43m \u001b[49m\u001b[43mgradient\u001b[49m\u001b[43m,\u001b[49m\u001b[43m \u001b[49m\u001b[43mretain_graph\u001b[49m\u001b[43m,\u001b[49m\u001b[43m \u001b[49m\u001b[43mcreate_graph\u001b[49m\u001b[43m,\u001b[49m\u001b[43m \u001b[49m\u001b[43minputs\u001b[49m\u001b[38;5;241;43m=\u001b[39;49m\u001b[43minputs\u001b[49m\u001b[43m)\u001b[49m\n",
      "File \u001b[1;32m~\\anaconda3\\envs\\torch-1.10.1\\lib\\site-packages\\torch\\autograd\\__init__.py:154\u001b[0m, in \u001b[0;36mbackward\u001b[1;34m(tensors, grad_tensors, retain_graph, create_graph, grad_variables, inputs)\u001b[0m\n\u001b[0;32m    151\u001b[0m \u001b[38;5;28;01mif\u001b[39;00m retain_graph \u001b[38;5;129;01mis\u001b[39;00m \u001b[38;5;28;01mNone\u001b[39;00m:\n\u001b[0;32m    152\u001b[0m     retain_graph \u001b[38;5;241m=\u001b[39m create_graph\n\u001b[1;32m--> 154\u001b[0m \u001b[43mVariable\u001b[49m\u001b[38;5;241;43m.\u001b[39;49m\u001b[43m_execution_engine\u001b[49m\u001b[38;5;241;43m.\u001b[39;49m\u001b[43mrun_backward\u001b[49m\u001b[43m(\u001b[49m\n\u001b[0;32m    155\u001b[0m \u001b[43m    \u001b[49m\u001b[43mtensors\u001b[49m\u001b[43m,\u001b[49m\u001b[43m \u001b[49m\u001b[43mgrad_tensors_\u001b[49m\u001b[43m,\u001b[49m\u001b[43m \u001b[49m\u001b[43mretain_graph\u001b[49m\u001b[43m,\u001b[49m\u001b[43m \u001b[49m\u001b[43mcreate_graph\u001b[49m\u001b[43m,\u001b[49m\u001b[43m \u001b[49m\u001b[43minputs\u001b[49m\u001b[43m,\u001b[49m\n\u001b[0;32m    156\u001b[0m \u001b[43m    \u001b[49m\u001b[43mallow_unreachable\u001b[49m\u001b[38;5;241;43m=\u001b[39;49m\u001b[38;5;28;43;01mTrue\u001b[39;49;00m\u001b[43m,\u001b[49m\u001b[43m \u001b[49m\u001b[43maccumulate_grad\u001b[49m\u001b[38;5;241;43m=\u001b[39;49m\u001b[38;5;28;43;01mTrue\u001b[39;49;00m\u001b[43m)\u001b[49m\n",
      "\u001b[1;31mKeyboardInterrupt\u001b[0m: "
     ]
    }
   ],
   "source": [
    "maml = MAML(5, 0.01, 0.0001, 2, 100)\n",
    "train_loss, val_loss, val_ood_loss, nrmse, model = maml.train(2000, 5)"
   ]
  },
  {
   "cell_type": "code",
   "execution_count": null,
   "id": "195ae952-2dae-49cf-8066-5c8643128e13",
   "metadata": {},
   "outputs": [],
   "source": [
    "# steps = [ 1000 / len(val_loss['inner_loss']) * i for i in range(len(val_loss['inner_loss']))]\n",
    "# idx = [100 * i for i in range(10)]\n",
    "# loss = train_loss['inner_loss_f'][::100]\n",
    "loss = val_loss['inner_loss']\n",
    "plt.plot( loss)\n",
    "# plt.plot(train_loss['inner_loss'])"
   ]
  },
  {
   "cell_type": "code",
   "execution_count": null,
   "id": "99debfbf-abad-4e27-850b-0acf695fa604",
   "metadata": {},
   "outputs": [],
   "source": [
    "X = torch.tensor(np.arange(5), dtype=torch.float32)\n",
    "Y = torch.tensor(np.arange(1, 6), dtype=torch.float32)\n",
    "loss_fn = torch.nn.MSELoss(reduction='sum')\n",
    "loss = loss_fn(X, Y) / torch.sum(X ** 2)\n",
    "torch.sqrt(loss) ** 2"
   ]
  },
  {
   "cell_type": "code",
   "execution_count": null,
   "id": "cffa40ca-9a33-4c56-85e8-fcb6e83cf8d3",
   "metadata": {},
   "outputs": [],
   "source": []
  }
 ],
 "metadata": {
  "kernelspec": {
   "display_name": "torch",
   "language": "python",
   "name": "torch-1.10.1"
  },
  "language_info": {
   "codemirror_mode": {
    "name": "ipython",
    "version": 3
   },
   "file_extension": ".py",
   "mimetype": "text/x-python",
   "name": "python",
   "nbconvert_exporter": "python",
   "pygments_lexer": "ipython3",
   "version": "3.9.12"
  }
 },
 "nbformat": 4,
 "nbformat_minor": 5
}

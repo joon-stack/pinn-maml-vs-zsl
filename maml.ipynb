{
 "cells": [
  {
   "cell_type": "code",
   "execution_count": 3,
   "id": "13fab8b6-cb38-4b19-aade-f0939939bc93",
   "metadata": {},
   "outputs": [],
   "source": [
    "from maml import *\n",
    "import matplotlib.pyplot as plt"
   ]
  },
  {
   "cell_type": "code",
   "execution_count": null,
   "id": "d8e3a9ab-9d5b-49a7-9ad6-6ad5b4eab18f",
   "metadata": {},
   "outputs": [
    {
     "name": "stdout",
     "output_type": "stream",
     "text": [
      "Initializing MAML-PINN model\n",
      "Finished initialization of MAML-PINN model\n",
      "Start MAML training at iteration 0\n",
      "Validation (0.500, 0.500)| Inner_loss_B: 0.0723 | Inner_loss_F: 0.0170 | Inner_loss: 0.7400 | NRMSE: 0.2750\n",
      "Validation OOD (1.300, 1.300) | Inner_loss_B: 0.0547 | Inner_loss_F: 1.7414 | Inner_loss: 2.2885 | NRMSE: 0.7903\n",
      "Step 100 | Inner_loss_B: 0.0366 | Inner_loss_F: 0.0820\n",
      "Validation (0.500, 0.500)| Inner_loss_B: 0.0417 | Inner_loss_F: 0.0144 | Inner_loss: 0.4315 | NRMSE: 0.2067\n",
      "Validation OOD (1.300, 1.300) | Inner_loss_B: 0.0046 | Inner_loss_F: 1.4063 | Inner_loss: 1.4525 | NRMSE: 0.7033\n",
      "Validation (0.500, 0.500)| Inner_loss_B: 0.0246 | Inner_loss_F: 0.0141 | Inner_loss: 0.2596 | NRMSE: 0.1558\n",
      "Validation OOD (1.300, 1.300) | Inner_loss_B: 0.0024 | Inner_loss_F: 1.3226 | Inner_loss: 1.3471 | NRMSE: 0.6354\n",
      "Step 200 | Inner_loss_B: 0.0217 | Inner_loss_F: 0.0474\n",
      "Validation (0.500, 0.500)| Inner_loss_B: 0.0160 | Inner_loss_F: 0.0217 | Inner_loss: 0.1815 | NRMSE: 0.1228\n",
      "Validation OOD (1.300, 1.300) | Inner_loss_B: 0.0024 | Inner_loss_F: 1.3242 | Inner_loss: 1.3483 | NRMSE: 0.6666\n",
      "Validation (0.500, 0.500)| Inner_loss_B: 0.0112 | Inner_loss_F: 0.0150 | Inner_loss: 0.1269 | NRMSE: 0.1000\n",
      "Validation OOD (1.300, 1.300) | Inner_loss_B: 0.0041 | Inner_loss_F: 1.3614 | Inner_loss: 1.4025 | NRMSE: 0.6347\n",
      "Step 300 | Inner_loss_B: 0.0093 | Inner_loss_F: 0.1301\n",
      "Validation (0.500, 0.500)| Inner_loss_B: 0.0068 | Inner_loss_F: 0.0216 | Inner_loss: 0.0897 | NRMSE: 0.0742\n",
      "Validation OOD (1.300, 1.300) | Inner_loss_B: 0.0046 | Inner_loss_F: 1.2246 | Inner_loss: 1.2707 | NRMSE: 0.5985\n",
      "Validation (0.500, 0.500)| Inner_loss_B: 0.0045 | Inner_loss_F: 0.0172 | Inner_loss: 0.0626 | NRMSE: 0.0577\n",
      "Validation OOD (1.300, 1.300) | Inner_loss_B: 0.0074 | Inner_loss_F: 1.1469 | Inner_loss: 1.2205 | NRMSE: 0.5261\n",
      "Step 400 | Inner_loss_B: 0.0033 | Inner_loss_F: 0.1447\n",
      "Validation (0.500, 0.500)| Inner_loss_B: 0.0035 | Inner_loss_F: 0.0204 | Inner_loss: 0.0553 | NRMSE: 0.0488\n",
      "Validation OOD (1.300, 1.300) | Inner_loss_B: 0.0040 | Inner_loss_F: 1.0345 | Inner_loss: 1.0744 | NRMSE: 0.5864\n",
      "Validation (0.500, 0.500)| Inner_loss_B: 0.0025 | Inner_loss_F: 0.0233 | Inner_loss: 0.0482 | NRMSE: 0.0397\n",
      "Validation OOD (1.300, 1.300) | Inner_loss_B: 0.0033 | Inner_loss_F: 1.1814 | Inner_loss: 1.2140 | NRMSE: 0.6340\n",
      "Step 500 | Inner_loss_B: 0.0013 | Inner_loss_F: 0.0678\n",
      "Validation (0.500, 0.500)| Inner_loss_B: 0.0017 | Inner_loss_F: 0.0207 | Inner_loss: 0.0381 | NRMSE: 0.0327\n",
      "Validation OOD (1.300, 1.300) | Inner_loss_B: 0.0048 | Inner_loss_F: 1.0837 | Inner_loss: 1.1320 | NRMSE: 0.5474\n",
      "Validation (0.500, 0.500)| Inner_loss_B: 0.0014 | Inner_loss_F: 0.0203 | Inner_loss: 0.0341 | NRMSE: 0.0307\n",
      "Validation OOD (1.300, 1.300) | Inner_loss_B: 0.0054 | Inner_loss_F: 1.1125 | Inner_loss: 1.1670 | NRMSE: 0.5418\n",
      "Step 600 | Inner_loss_B: 0.0006 | Inner_loss_F: 0.1423\n",
      "Validation (0.500, 0.500)| Inner_loss_B: 0.0011 | Inner_loss_F: 0.0202 | Inner_loss: 0.0314 | NRMSE: 0.0297\n",
      "Validation OOD (1.300, 1.300) | Inner_loss_B: 0.0053 | Inner_loss_F: 1.1889 | Inner_loss: 1.2421 | NRMSE: 0.5377\n",
      "Validation (0.500, 0.500)| Inner_loss_B: 0.0009 | Inner_loss_F: 0.0241 | Inner_loss: 0.0331 | NRMSE: 0.0330\n",
      "Validation OOD (1.300, 1.300) | Inner_loss_B: 0.0043 | Inner_loss_F: 1.1359 | Inner_loss: 1.1787 | NRMSE: 0.5568\n",
      "Step 700 | Inner_loss_B: 0.0007 | Inner_loss_F: 0.0605\n",
      "Validation (0.500, 0.500)| Inner_loss_B: 0.0008 | Inner_loss_F: 0.0261 | Inner_loss: 0.0340 | NRMSE: 0.0333\n",
      "Validation OOD (1.300, 1.300) | Inner_loss_B: 0.0060 | Inner_loss_F: 1.1140 | Inner_loss: 1.1744 | NRMSE: 0.5200\n",
      "Validation (0.500, 0.500)| Inner_loss_B: 0.0005 | Inner_loss_F: 0.0190 | Inner_loss: 0.0242 | NRMSE: 0.0349\n",
      "Validation OOD (1.300, 1.300) | Inner_loss_B: 0.0051 | Inner_loss_F: 1.1507 | Inner_loss: 1.2013 | NRMSE: 0.5424\n",
      "Step 800 | Inner_loss_B: 0.0005 | Inner_loss_F: 0.0574\n",
      "Validation (0.500, 0.500)| Inner_loss_B: 0.0005 | Inner_loss_F: 0.0193 | Inner_loss: 0.0239 | NRMSE: 0.0363\n",
      "Validation OOD (1.300, 1.300) | Inner_loss_B: 0.0060 | Inner_loss_F: 1.0967 | Inner_loss: 1.1566 | NRMSE: 0.5286\n",
      "Validation (0.500, 0.500)| Inner_loss_B: 0.0004 | Inner_loss_F: 0.0206 | Inner_loss: 0.0245 | NRMSE: 0.0398\n",
      "Validation OOD (1.300, 1.300) | Inner_loss_B: 0.0037 | Inner_loss_F: 1.1484 | Inner_loss: 1.1851 | NRMSE: 0.5790\n",
      "Step 900 | Inner_loss_B: 0.0004 | Inner_loss_F: 0.0618\n",
      "Validation (0.500, 0.500)| Inner_loss_B: 0.0004 | Inner_loss_F: 0.0190 | Inner_loss: 0.0225 | NRMSE: 0.0432\n",
      "Validation OOD (1.300, 1.300) | Inner_loss_B: 0.0039 | Inner_loss_F: 1.0754 | Inner_loss: 1.1139 | NRMSE: 0.5516\n",
      "Validation (0.500, 0.500)| Inner_loss_B: 0.0003 | Inner_loss_F: 0.0196 | Inner_loss: 0.0229 | NRMSE: 0.0472\n",
      "Validation OOD (1.300, 1.300) | Inner_loss_B: 0.0047 | Inner_loss_F: 1.0945 | Inner_loss: 1.1414 | NRMSE: 0.5437\n",
      "Model saved\n",
      "Step 1000 | Inner_loss_B: 0.0003 | Inner_loss_F: 0.0457\n",
      "Validation (0.500, 0.500)| Inner_loss_B: 0.0003 | Inner_loss_F: 0.0171 | Inner_loss: 0.0198 | NRMSE: 0.0473\n",
      "Validation OOD (1.300, 1.300) | Inner_loss_B: 0.0046 | Inner_loss_F: 1.2139 | Inner_loss: 1.2596 | NRMSE: 0.5625\n",
      "Validation (0.500, 0.500)| Inner_loss_B: 0.0003 | Inner_loss_F: 0.0184 | Inner_loss: 0.0210 | NRMSE: 0.0506\n",
      "Validation OOD (1.300, 1.300) | Inner_loss_B: 0.0041 | Inner_loss_F: 1.0107 | Inner_loss: 1.0517 | NRMSE: 0.5430\n",
      "Step 1100 | Inner_loss_B: 0.0002 | Inner_loss_F: 0.0433\n",
      "Validation (0.500, 0.500)| Inner_loss_B: 0.0002 | Inner_loss_F: 0.0149 | Inner_loss: 0.0170 | NRMSE: 0.0493\n",
      "Validation OOD (1.300, 1.300) | Inner_loss_B: 0.0055 | Inner_loss_F: 1.1512 | Inner_loss: 1.2066 | NRMSE: 0.5424\n",
      "Validation (0.500, 0.500)| Inner_loss_B: 0.0002 | Inner_loss_F: 0.0176 | Inner_loss: 0.0196 | NRMSE: 0.0525\n",
      "Validation OOD (1.300, 1.300) | Inner_loss_B: 0.0055 | Inner_loss_F: 1.0184 | Inner_loss: 1.0734 | NRMSE: 0.5290\n",
      "Step 1200 | Inner_loss_B: 0.0003 | Inner_loss_F: 0.1396\n",
      "Validation (0.500, 0.500)| Inner_loss_B: 0.0002 | Inner_loss_F: 0.0158 | Inner_loss: 0.0177 | NRMSE: 0.0543\n",
      "Validation OOD (1.300, 1.300) | Inner_loss_B: 0.0057 | Inner_loss_F: 1.2066 | Inner_loss: 1.2631 | NRMSE: 0.5546\n",
      "Validation (0.500, 0.500)| Inner_loss_B: 0.0002 | Inner_loss_F: 0.0153 | Inner_loss: 0.0171 | NRMSE: 0.0512\n",
      "Validation OOD (1.300, 1.300) | Inner_loss_B: 0.0056 | Inner_loss_F: 1.1498 | Inner_loss: 1.2054 | NRMSE: 0.5406\n",
      "Step 1300 | Inner_loss_B: 0.0002 | Inner_loss_F: 0.0972\n",
      "Validation (0.500, 0.500)| Inner_loss_B: 0.0002 | Inner_loss_F: 0.0157 | Inner_loss: 0.0172 | NRMSE: 0.0541\n",
      "Validation OOD (1.300, 1.300) | Inner_loss_B: 0.0058 | Inner_loss_F: 1.1053 | Inner_loss: 1.1632 | NRMSE: 0.5308\n",
      "Validation (0.500, 0.500)| Inner_loss_B: 0.0001 | Inner_loss_F: 0.0161 | Inner_loss: 0.0176 | NRMSE: 0.0573\n",
      "Validation OOD (1.300, 1.300) | Inner_loss_B: 0.0045 | Inner_loss_F: 1.1596 | Inner_loss: 1.2044 | NRMSE: 0.5652\n",
      "Step 1400 | Inner_loss_B: 0.0003 | Inner_loss_F: 0.1151\n",
      "Validation (0.500, 0.500)| Inner_loss_B: 0.0001 | Inner_loss_F: 0.0142 | Inner_loss: 0.0155 | NRMSE: 0.0547\n",
      "Validation OOD (1.300, 1.300) | Inner_loss_B: 0.0037 | Inner_loss_F: 1.1020 | Inner_loss: 1.1391 | NRMSE: 0.5694\n",
      "Validation (0.500, 0.500)| Inner_loss_B: 0.0001 | Inner_loss_F: 0.0132 | Inner_loss: 0.0146 | NRMSE: 0.0510\n",
      "Validation OOD (1.300, 1.300) | Inner_loss_B: 0.0068 | Inner_loss_F: 1.0763 | Inner_loss: 1.1447 | NRMSE: 0.5294\n"
     ]
    }
   ],
   "source": [
    "maml = MAML(5, 0.01, 0.0001, 2, 100)\n",
    "train_loss, val_loss, val_ood_loss, nrmse, model = maml.train(2000, 10)"
   ]
  },
  {
   "cell_type": "code",
   "execution_count": null,
   "id": "195ae952-2dae-49cf-8066-5c8643128e13",
   "metadata": {},
   "outputs": [],
   "source": [
    "# steps = [ 1000 / len(val_loss['inner_loss']) * i for i in range(len(val_loss['inner_loss']))]\n",
    "# idx = [100 * i for i in range(10)]\n",
    "# loss = train_loss['inner_loss_f'][::100]\n",
    "loss = val_loss['inner_loss']\n",
    "plt.plot( loss)\n",
    "# plt.plot(train_loss['inner_loss'])"
   ]
  },
  {
   "cell_type": "code",
   "execution_count": null,
   "id": "99debfbf-abad-4e27-850b-0acf695fa604",
   "metadata": {},
   "outputs": [],
   "source": [
    "X = torch.tensor(np.arange(5), dtype=torch.float32)\n",
    "Y = torch.tensor(np.arange(1, 6), dtype=torch.float32)\n",
    "loss_fn = torch.nn.MSELoss(reduction='sum')\n",
    "loss = loss_fn(X, Y) / torch.sum(X ** 2)\n",
    "torch.sqrt(loss) ** 2"
   ]
  },
  {
   "cell_type": "code",
   "execution_count": null,
   "id": "cffa40ca-9a33-4c56-85e8-fcb6e83cf8d3",
   "metadata": {},
   "outputs": [],
   "source": []
  }
 ],
 "metadata": {
  "kernelspec": {
   "display_name": "torch",
   "language": "python",
   "name": "torch-1.10.1"
  },
  "language_info": {
   "codemirror_mode": {
    "name": "ipython",
    "version": 3
   },
   "file_extension": ".py",
   "mimetype": "text/x-python",
   "name": "python",
   "nbconvert_exporter": "python",
   "pygments_lexer": "ipython3",
   "version": "3.9.12"
  }
 },
 "nbformat": 4,
 "nbformat_minor": 5
}

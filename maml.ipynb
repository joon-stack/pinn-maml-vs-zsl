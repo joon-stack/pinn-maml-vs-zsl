{
 "cells": [
  {
   "cell_type": "code",
   "execution_count": 1,
   "id": "13fab8b6-cb38-4b19-aade-f0939939bc93",
   "metadata": {},
   "outputs": [],
   "source": [
    "from maml import *\n",
    "import matplotlib.pyplot as plt"
   ]
  },
  {
   "cell_type": "code",
   "execution_count": 2,
   "id": "80274bf7-1db5-4590-a403-bfabd4e361fe",
   "metadata": {},
   "outputs": [
    {
     "name": "stdout",
     "output_type": "stream",
     "text": [
      "Current device: cuda\n"
     ]
    }
   ],
   "source": [
    "device = torch.device('cuda' if torch.cuda.is_available() else 'cpu')\n",
    "print(\"Current device:\", device)"
   ]
  },
  {
   "cell_type": "code",
   "execution_count": null,
   "id": "d8e3a9ab-9d5b-49a7-9ad6-6ad5b4eab18f",
   "metadata": {},
   "outputs": [
    {
     "name": "stdout",
     "output_type": "stream",
     "text": [
      "Initializing MAML-PINN model\n",
      "Current device:  cuda\n",
      "Model loaded successfully from models/burgers_zs_1000_ref.data\n",
      "cuda\n",
      "Zero shot mode is True\n",
      "Finished initialization of MAML-PINN model\n",
      "Start MAML training at iteration 0\n",
      "[0.003183098861837907]\n",
      "[0.06366197723675814]\n",
      "Validation before training Pre-Adaptation (0.003)| Inner_loss_I: 0.0008 | Inner_loss_B: 0.0004 | Inner_loss_F: 0.9546 | Inner_loss: 0.9558 | NRMSE: 0.1140\n",
      "Validation before training (0.003)| Inner_loss_I: 0.1122 | Inner_loss_B: 0.0136 | Inner_loss_F: 0.0983 | Inner_loss: 0.2241 | NRMSE: 0.9288\n",
      "validation OOD before training Pre-Adaptation (0.064)| Inner_loss_I: 0.0004 |Inner_loss_B: 0.0003 | Inner_loss_F: 270.4771 | Inner_loss: 270.4778 | NRMSE: 0.3075\n",
      "validation OOD before training (0.064)| Inner_loss_I: 74.4940 |Inner_loss_B: 61.9307 | Inner_loss_F: 332.2917 | Inner_loss: 468.7164 | NRMSE: 1.0013\n"
     ]
    }
   ],
   "source": [
    "# maml = MAML(5, 0.0001, 0.00001, 0, 2, 1, -1, 1, eqname='poisson', zero_shot=True, load=True, modelpath='models/poisson_zs_2000_ref.data')\n",
    "maml = MAML(1, 0.01, 0.0001, 1, 2, 1, -1, 1, eqname='burgers', zero_shot=True, load=True, modelpath='models/burgers_zs_1000_ref.data')\n",
    "# maml = MAML(5, 0.01, 0.0001, 0, 2, 1, low=-1, high=1, eqname='poisson')\n",
    "\n",
    "train_loss, val_loss, val_ood_loss, nrmse, model = maml.train(1000, 10000, 1)"
   ]
  },
  {
   "cell_type": "code",
   "execution_count": null,
   "id": "38dedd77-a5f0-47ad-b8e3-61370295503a",
   "metadata": {},
   "outputs": [],
   "source": [
    "import pandas as pd\n",
    "\n",
    "nrmse_df = pd.DataFrame(nrmse)\n",
    "val_loss_df = pd.DataFrame(val_loss)\n",
    "val_ood_loss_df = pd.DataFrame(val_ood_loss)\n",
    "train_loss_df = pd.DataFrame(train_loss)\n",
    "\n",
    "nrmse_df.to_csv('data/nrmse_poisson_zs_maml.csv')\n",
    "val_loss_df.to_csv('data/val_loss_poisson_zs_maml.csv')\n",
    "val_ood_loss_df.to_csv('data/val_ood_loss_poisson_zs_maml.csv')\n",
    "train_loss_df.to_csv('data/train_loss_zs_maml.csv')"
   ]
  },
  {
   "cell_type": "code",
   "execution_count": null,
   "id": "5b1537b2-402f-433b-8aaa-01bd59700369",
   "metadata": {},
   "outputs": [],
   "source": [
    "plt.plot(np.array(nrmse['nrmse_val_pre_adapt']))\n",
    "plt.plot(np.array(nrmse['nrmse_val']))\n",
    "# plt.plot(np.array(val_loss['inner_loss'])[:, -1])"
   ]
  },
  {
   "cell_type": "code",
   "execution_count": null,
   "id": "69e7cd63-5b8b-482b-bbcb-a762bf08554b",
   "metadata": {},
   "outputs": [],
   "source": [
    "model = PINN(20, 5, dim=1, param_num=2, zero_shot=True)\n",
    "model.load_state_dict(torch.load('models/poisson_zs_5000_ref.data'))\n",
    "model.to(device)"
   ]
  },
  {
   "cell_type": "code",
   "execution_count": null,
   "id": "8aa6594e-31f3-4c13-a92f-c6842bab8fff",
   "metadata": {},
   "outputs": [],
   "source": [
    "device = torch.device('cuda' if torch.cuda.is_available() else 'cpu')\n",
    "print(\"Current device:\", device)\n",
    "test_x = np.linspace(-10, 10, num=100).reshape(-1, 1)\n",
    "# test_alpha = np.full((100, 1), alpha[2])\n",
    "# test_beta = np.full((100, 1), beta[2])\n",
    "test_alpha = np.full((100, 1), -0.830)\n",
    "test_beta = np.full((100, 1), -0.617)\n",
    "test_in = np.hstack((test_x, test_alpha, test_beta))\n",
    "test_u = model(torch.Tensor(test_in).to(device))\n",
    "X = test_x\n",
    "\n",
    "Y = np.sin(test_alpha * X) + np.cos(test_beta * X) + 0.1 * X\n",
    "\n"
   ]
  },
  {
   "cell_type": "code",
   "execution_count": null,
   "id": "373331d9-26d3-45e5-9fac-431dbdb93e46",
   "metadata": {},
   "outputs": [],
   "source": [
    "C = test_u.cpu().detach().numpy()\n",
    "plt.figure(figsize=(10, 8))\n",
    "plt.scatter(X, C, label='PINN')\n",
    "plt.scatter(X, Y, label='Answer')\n",
    "plt.legend()\n",
    "plt.colorbar()"
   ]
  },
  {
   "cell_type": "code",
   "execution_count": null,
   "id": "edc39cc7-4862-4ddb-bfe7-6b128059c634",
   "metadata": {},
   "outputs": [],
   "source": [
    "np.sqrt( np.sum((C-Y)**2) / np.sum(C**2) )"
   ]
  },
  {
   "cell_type": "code",
   "execution_count": null,
   "id": "195ae952-2dae-49cf-8066-5c8643128e13",
   "metadata": {},
   "outputs": [],
   "source": [
    "# steps = [ 1000 / len(val_loss['inner_loss']) * i for i in range(len(val_loss['inner_loss']))]\n",
    "# idx = [100 * i for i in range(10)]\n",
    "# loss = train_loss['inner_loss_f'][::100]\n",
    "# plt.plot(val_loss['inner_loss'], label='loss')\n",
    "plt.plot(np.mean(nrmse['nrmse_val'], axis=1), label='Val.')\n",
    "plt.plot(np.mean(nrmse['nrmse_val_ood'], axis=1), label='Val. OOD')\n",
    "plt.legend()\n",
    "plt.title('FO-MAML Val. Poisson')\n",
    "# plt.plot( loss)\n",
    "# plt.plot(nrmse['nrmse_val'])\n",
    "# plt.plot(nrmse['nrmse_val_ood'])\n",
    "# plt.plot(train_loss['inner_loss'])"
   ]
  },
  {
   "cell_type": "code",
   "execution_count": null,
   "id": "beaf51e6-34c1-46d0-a622-424e88f6f24c",
   "metadata": {},
   "outputs": [],
   "source": [
    "from train import *"
   ]
  },
  {
   "cell_type": "code",
   "execution_count": null,
   "id": "05a4919f-b3c5-43b2-9405-44497c91636e",
   "metadata": {},
   "outputs": [],
   "source": [
    "epochs = 500\n",
    "lr = 0.001"
   ]
  },
  {
   "cell_type": "code",
   "execution_count": null,
   "id": "76a42cee-eac9-4394-9421-a89e1effb1a6",
   "metadata": {},
   "outputs": [],
   "source": [
    "# loss_i, loss_b, loss_f, loss, model, val_loss, val_ood_loss, nrmse_set = train(epochs=epochs, lr=lr, i_size=100, b_size=100, f_size=1000, zero_shot=False, load=True, load_data='models/maml_burgers_5000.data', alpha_list=0.01 / np.pi, eqname='burgers')\n",
    "loss_i, loss_b, loss_f, loss, model, val_loss, val_ood_loss, nrmse_set = train(epochs=epochs, lr=lr, i_size=0, b_size=2, f_size=10, zero_shot=False, load=True, load_data='maml.data', alpha_list=0.7, beta_list=-0.9, eqname='poisson')"
   ]
  },
  {
   "cell_type": "code",
   "execution_count": null,
   "id": "bb393f14-2ead-48bf-ac7c-eaac00cacd2d",
   "metadata": {},
   "outputs": [],
   "source": [
    "# loss_i_2, loss_b_2, loss_f_2, loss_2, model_2, val_loss_2, val_ood_loss_2, nrmse_set_2 = train(epochs=epochs, lr=lr, i_size=100, b_size=100, f_size=1000, zero_shot=False, load=False, load_data='maml.data', alpha_list=0.01 / np.pi, eqname='burgers')\n",
    "loss_i_2, loss_b_2, loss_f_2, loss_2, model_2, val_loss_2, val_ood_loss_2, nrmse_set_2 = train(epochs=epochs, lr=lr, i_size=0, b_size=2, f_size=10, zero_shot=False, load=False, load_data='maml.data', alpha_list=0.7, beta_list=-0.9, eqname='poisson')"
   ]
  },
  {
   "cell_type": "code",
   "execution_count": null,
   "id": "4677c68e-510c-43ba-9ea9-e0d051fb34ca",
   "metadata": {},
   "outputs": [],
   "source": [
    "plt.title('Loss Few shot')\n",
    "plt.yscale('log')\n",
    "plt.plot(loss, label='MAML')\n",
    "plt.plot(loss_2, label='Random')\n",
    "plt.legend()"
   ]
  },
  {
   "cell_type": "code",
   "execution_count": null,
   "id": "00358e94-f90e-40b0-8bac-1c25ab060bb0",
   "metadata": {},
   "outputs": [],
   "source": [
    "plt.title('Relative error Few shot')\n",
    "plt.yscale('log')\n",
    "plt.plot(nrmse_set, label='MAML')\n",
    "plt.plot(nrmse_set_2, label='Random')\n",
    "plt.legend()"
   ]
  },
  {
   "cell_type": "code",
   "execution_count": null,
   "id": "ec1be12f-7744-49cb-8731-5242744665c5",
   "metadata": {},
   "outputs": [],
   "source": [
    "device = torch.device('cuda' if torch.cuda.is_available() else 'cpu')\n",
    "print(\"Current device:\", device)\n",
    "test_x = np.linspace(-1, 1, num=100).reshape(-1, 1)\n",
    "# test_alpha = np.full((100, 1), alpha[2])\n",
    "# test_beta = np.full((100, 1), beta[2])\n",
    "test_alpha = np.full((100, 1), 0.7)\n",
    "test_beta = np.full((100, 1), 0.7)\n",
    "# test_in = np.hstack((test_x, test_alpha, test_beta))\n",
    "test_u = model_2(torch.Tensor(test_x).to(device))\n",
    "X = test_x\n",
    "\n",
    "Y = np.sin(test_alpha * X) + np.cos(test_beta * X) + 0.1 * X\n"
   ]
  },
  {
   "cell_type": "code",
   "execution_count": null,
   "id": "8998c3ae-9cc2-4f95-a092-1c66c2689387",
   "metadata": {},
   "outputs": [],
   "source": [
    "C = test_u.cpu().detach().numpy()\n",
    "plt.figure(figsize=(10, 8))\n",
    "plt.scatter(X, C, label='PINN')\n",
    "plt.scatter(X, Y, label='Answer')\n",
    "plt.legend()\n",
    "plt.colorbar()"
   ]
  },
  {
   "cell_type": "code",
   "execution_count": null,
   "id": "fd364c44-e281-468c-b9e9-c1a08a75d236",
   "metadata": {},
   "outputs": [],
   "source": [
    "plt.plot(loss)\n",
    "plt.plot(loss_2)"
   ]
  },
  {
   "cell_type": "code",
   "execution_count": null,
   "id": "c5e5be5d-e097-4cb6-9e0a-c7e2dea80d1a",
   "metadata": {},
   "outputs": [],
   "source": [
    "from burgers import *"
   ]
  },
  {
   "cell_type": "code",
   "execution_count": null,
   "id": "db0e993d-d356-4fb6-9af8-a7b90becfdc3",
   "metadata": {},
   "outputs": [],
   "source": [
    "vtn = 101\n",
    "vxn = 101\n",
    "nu = 0.01 / np.pi\n",
    "vx = np.linspace(-1, 1, vxn)\n",
    "vt = np.linspace(0, 1, vtn)\n",
    "\n",
    "vu = burgers_viscous_time_exact1(nu, vxn, vx, vtn, vt)\n",
    "\n",
    "x, t = np.meshgrid(vx, vt)\n",
    "x = x.reshape(-1, 1)\n",
    "t = t.reshape(-1, 1)\n",
    "\n",
    "plt.scatter(x, t, c=vu, cmap='seismic')\n",
    "plt.colorbar()"
   ]
  },
  {
   "cell_type": "code",
   "execution_count": null,
   "id": "cb422fcf-83c4-422c-be16-fa44fa167b6c",
   "metadata": {},
   "outputs": [],
   "source": [
    "device = torch.device('cuda' if torch.cuda.is_available() else 'cpu')\n",
    "print(\"Current device:\", device)"
   ]
  },
  {
   "cell_type": "code",
   "execution_count": null,
   "id": "a71300da-7d02-45bc-b01c-e1d59586a7df",
   "metadata": {},
   "outputs": [],
   "source": [
    "vtn = 101\n",
    "vxn = 101\n",
    "nu = 0.01 / np.pi\n",
    "vx = np.linspace(-1, 1, vxn)\n",
    "vt = np.linspace(0, 1, vtn)\n",
    "x, t = np.meshgrid(vx, vt)\n",
    "x = x.reshape(-1, 1)\n",
    "t = t.reshape(-1, 1)\n",
    "alpha = np.full((x.shape), nu)\n",
    "pred = model_2(torch.Tensor(np.hstack((x, t))).to(device)).detach().cpu().numpy()\n",
    "# pred = model(torch.Tensor(np.hstack((x, t))).to(device)).detach().cpu().numpy()\n",
    "truth = burgers_viscous_time_exact1(nu, vxn, vx, vtn, vt).T.reshape(-1, 1)"
   ]
  },
  {
   "cell_type": "code",
   "execution_count": null,
   "id": "604419bf-42e5-47b5-81b2-1f22d32eeb4e",
   "metadata": {},
   "outputs": [],
   "source": [
    "plt.scatter(x, t, c=pred, cmap='seismic')\n",
    "plt.colorbar()"
   ]
  },
  {
   "cell_type": "code",
   "execution_count": null,
   "id": "84e57157-de00-457e-8766-698d7506f0f4",
   "metadata": {},
   "outputs": [],
   "source": []
  },
  {
   "cell_type": "code",
   "execution_count": null,
   "id": "f8d2c34f-a8b5-4104-9b86-3ca29e33af45",
   "metadata": {},
   "outputs": [],
   "source": []
  }
 ],
 "metadata": {
  "kernelspec": {
   "display_name": "torch",
   "language": "python",
   "name": "torch-1.10.1"
  },
  "language_info": {
   "codemirror_mode": {
    "name": "ipython",
    "version": 3
   },
   "file_extension": ".py",
   "mimetype": "text/x-python",
   "name": "python",
   "nbconvert_exporter": "python",
   "pygments_lexer": "ipython3",
   "version": "3.9.12"
  }
 },
 "nbformat": 4,
 "nbformat_minor": 5
}

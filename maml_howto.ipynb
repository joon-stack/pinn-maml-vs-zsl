{
 "cells": [
  {
   "cell_type": "markdown",
   "id": "59a16149-f283-409a-af11-113a670fec7c",
   "metadata": {
    "tags": []
   },
   "source": [
    "# MAML"
   ]
  },
  {
   "cell_type": "code",
   "execution_count": null,
   "id": "9476badc-6e6b-47f7-b7a1-fc598e447b66",
   "metadata": {},
   "outputs": [],
   "source": [
    "from maml import *\n",
    "import matplotlib.pyplot as plt"
   ]
  },
  {
   "cell_type": "code",
   "execution_count": null,
   "id": "80274bf7-1db5-4590-a403-bfabd4e361fe",
   "metadata": {},
   "outputs": [
    {
     "name": "stdout",
     "output_type": "stream",
     "text": [
      "Current device: cuda\n"
     ]
    }
   ],
   "source": [
    "device = torch.device('cuda' if torch.cuda.is_available() else 'cpu')\n",
    "print(\"Current device:\", device)"
   ]
  },
  {
   "cell_type": "markdown",
   "id": "55c6b61b-0d63-4330-bfa7-08665e40f3e2",
   "metadata": {},
   "source": [
    "`MAML(num_inner_steps, inner_lr, outer_lr, num_data_i, num_data_b, num_data_f, low, high, eqname='burgers', zero_shot=False, load=False, modelpath=None, savename=None)`\n",
    "\n",
    "Initializes First-Order Model-Agnostic Meta-Learning to train Physics-Informed Neural Networks.\n",
    "\n",
    "        Args:\n",
    "            num_inner_steps (int): number of inner-loop optimization steps\n",
    "            inner_lr (float): learning rate for inner-loop optimization\n",
    "            outer_lr (float): learning rate for outer-loop optimization\n",
    "            num_data_i (int): number of initial data\n",
    "            num_data_b (int): number of boundary data\n",
    "            num_data_f (int): number of domain data\n",
    "            low (float): low boundary of x\n",
    "            high (float): high boundary of x\n",
    "            eqname (String): type of equation, available options: 'burgers', 'poisson'\n",
    "            zero_shot (boolean): whether to train zero_shot model or not\n",
    "            load (boolean): whether to load pre-trained model weights from modelpath\n",
    "            modelpath (String): model path to load\n",
    "            savename (String): model path to save\n",
    "            \n",
    "After initializing MAML instances, use train() method to train FO-MAML model.\n",
    "\n",
    "`train(self, train_steps, num_train_tasks, num_val_tasks):`\n",
    "\n",
    "Train the MAML. Optimizes MAML meta-parameters.\n",
    "\n",
    "        Args:\n",
    "            train_steps (int): the number of steps this model should train for\n",
    "            num_train_tasks (int): the number of train tasks\n",
    "            num_val_tasks (int): the number of validation tasks\n",
    "        \n",
    "        Returns:\n",
    "            train_loss (dict) contains inner_loss, inner_loss_i (if exists), inner_loss_b, inner_loss_f during training\n",
    "            val_loss (dict) contains inner_loss_pre_adapt, inner_loss_i_pre_adapt (if exists), inner_loss_b_pre_adapt, inner_loss_f_pre_adapt, inner_loss, inner_loss_i (if exists), inner_loss_b, inner_loss_f during validation with ID tasks\n",
    "            val_ood_loss (dict) contains inner_loss_pre_adapt, inner_loss_i_pre_adapt (if exists), inner_loss_b_pre_adapt, inner_loss_f_pre_adapt, inner_loss, inner_loss_i (if exists), inner_loss_b, inner_loss_f during validation with ID tasks during validation with OOD tasks \n",
    "            nrmse (dict) contains nrmse_val, nrmse_val_ood, nrmse_val_pre_adapt, nrsme_val_post_adapt\n",
    "            \n"
   ]
  },
  {
   "cell_type": "code",
   "execution_count": null,
   "id": "d8e3a9ab-9d5b-49a7-9ad6-6ad5b4eab18f",
   "metadata": {},
   "outputs": [],
   "source": [
    "maml = MAML(5, 0.01, 0.0005, 0, 2, 1, -10, 10, eqname='poisson', zero_shot=True, load=False, modelpath='models/poisson_zs_2000_ref.data')\n",
    "# maml = MAML(1, 0.01, 0.0001, 1, 2, 1, -1, 1, eqname='burgers', zero_shot=True, load=True, modelpath='models/model_ref/burgers_zs_1000_ref.data')\n",
    "# maml = MAML(5, 0.01, 0.0001, 0, 2, 1, low=-1, high=1, eqname='poisson')\n",
    "\n",
    "train_loss, val_loss, val_ood_loss, nrmse, model = maml.train(5000, 100, 100)"
   ]
  },
  {
   "cell_type": "markdown",
   "id": "997b3835-b401-43ca-93b5-3f0272068ea5",
   "metadata": {
    "jp-MarkdownHeadingCollapsed": true,
    "tags": []
   },
   "source": [
    "## Plot losses and metrics"
   ]
  },
  {
   "cell_type": "markdown",
   "id": "d5fe9452-0f0c-4478-9f58-156567f28b26",
   "metadata": {},
   "source": [
    "### Post-adapt validation losses (in-distribution)"
   ]
  },
  {
   "cell_type": "code",
   "execution_count": null,
   "id": "b01a3238-9eb9-4c7b-8b34-c56b651d8f9b",
   "metadata": {},
   "outputs": [],
   "source": [
    "data_len = len(val_loss_df['inner_loss'])\n",
    "x = np.array([i * 5000 / data_len for i in range(data_len)])\n",
    "plt.plot(x, np.array(val_loss_df['inner_loss']), label='loss')\n",
    "plt.plot(x, np.array(val_loss_df['inner_loss_f']), label='loss_f')\n",
    "plt.plot(x, np.array(val_loss_df['inner_loss_b']) * 10, label='loss_b')\n",
    "plt.xlabel('Epochs')\n",
    "plt.ylabel('Loss')\n",
    "plt.legend()\n",
    "plt.title('Post-adapt validation losses (in-distribution)')"
   ]
  },
  {
   "cell_type": "markdown",
   "id": "37f9e4d7-60e6-47e7-ace4-e2519bc0019c",
   "metadata": {},
   "source": [
    "### Pre-adapt validation losses (in-distribution)"
   ]
  },
  {
   "cell_type": "code",
   "execution_count": null,
   "id": "cc13578c-5f2e-4c9e-8e9a-cc124d3e814a",
   "metadata": {},
   "outputs": [],
   "source": [
    "data_len = len(val_loss_df['inner_loss'])\n",
    "x = np.array([i * 5000 / data_len for i in range(data_len)])\n",
    "plt.plot(x, np.array(val_loss_df['inner_loss_pre_adapt']), label='loss')\n",
    "plt.plot(x, np.array(val_loss_df['inner_loss_f_pre_adapt']), label='loss_f')\n",
    "plt.plot(x, np.array(val_loss_df['inner_loss_b_pre_adapt']) * 10, label='loss_b')\n",
    "plt.xlabel('Epochs')\n",
    "plt.ylabel('Loss')\n",
    "plt.legend()\n",
    "plt.title('Pre-adapt validation losses (in-distribution)')"
   ]
  },
  {
   "cell_type": "markdown",
   "id": "4de95271-c810-4257-b088-5a93a3686fdc",
   "metadata": {},
   "source": [
    "### Validation metrics (in-distribution)"
   ]
  },
  {
   "cell_type": "code",
   "execution_count": null,
   "id": "5b1537b2-402f-433b-8aaa-01bd59700369",
   "metadata": {},
   "outputs": [],
   "source": [
    "data_len = len(nrmse['nrmse_val'])\n",
    "x = np.array([i * 5000 / data_len for i in range(data_len)])\n",
    "plt.plot(x, np.array(nrmse['nrmse_val_pre_adapt']), label='pre-adapt')\n",
    "plt.plot(x, np.array(nrmse['nrmse_val']), label='post-adapt')\n",
    "plt.yscale('log')\n",
    "plt.xlabel('Epochs')\n",
    "plt.ylabel('NRMSE')\n",
    "plt.legend()\n",
    "plt.title('Validation metrics (in-distribution)')\n",
    "# plt.plot(np.array(val_loss['inner_loss'])[:, -1])"
   ]
  },
  {
   "cell_type": "markdown",
   "id": "15a559e0-9662-4146-b106-77f0e687edec",
   "metadata": {},
   "source": [
    "### Post-adapt validation losses (out-of-distribution)"
   ]
  },
  {
   "cell_type": "code",
   "execution_count": null,
   "id": "2df13691-b08d-4653-a5c7-78f6e709a959",
   "metadata": {},
   "outputs": [],
   "source": [
    "data_len = len(val_loss_df['inner_loss'])\n",
    "x = np.array([i * 5000 / data_len for i in range(data_len)])\n",
    "plt.plot(x, np.array(val_ood_loss_df['inner_loss']), label='loss')\n",
    "plt.plot(x, np.array(val_ood_loss_df['inner_loss_f']), label='loss_f')\n",
    "plt.plot(x, np.array(val_ood_loss_df['inner_loss_b']) * 10, label='loss_b')\n",
    "plt.xlabel('Epochs')\n",
    "plt.ylabel('Loss')\n",
    "plt.legend()\n",
    "plt.title('Post-adapt validation losses (out-of-distribution)')"
   ]
  },
  {
   "cell_type": "markdown",
   "id": "ff7a725c-6689-4ef7-ae10-715a2a61c9f0",
   "metadata": {},
   "source": [
    "### Pre-adapt validation losses (out-of-distribution)"
   ]
  },
  {
   "cell_type": "code",
   "execution_count": null,
   "id": "afb38c9f-9b2c-49ef-ba7e-4c6a029df17d",
   "metadata": {},
   "outputs": [],
   "source": [
    "data_len = len(val_loss_df['inner_loss'])\n",
    "x = np.array([i * 5000 / data_len for i in range(data_len)])\n",
    "plt.plot(x, np.array(val_ood_loss_df['inner_loss_pre_adapt']), label='loss')\n",
    "plt.plot(x, np.array(val_ood_loss_df['inner_loss_f_pre_adapt']), label='loss_f')\n",
    "plt.plot(x, np.array(val_ood_loss_df['inner_loss_b_pre_adapt']) * 10, label='loss_b')\n",
    "plt.xlabel('Epochs')\n",
    "plt.ylabel('Loss')\n",
    "plt.legend()\n",
    "plt.title('Pre-adapt validation losses (out-of-distribution)')"
   ]
  },
  {
   "cell_type": "markdown",
   "id": "808439fb-844c-4c66-8b6a-373a05f7215e",
   "metadata": {},
   "source": [
    "### Validation metrics (out-of-distribution)"
   ]
  },
  {
   "cell_type": "code",
   "execution_count": null,
   "id": "7addee55-9d31-4ad6-9fa3-08eaaf4b277c",
   "metadata": {},
   "outputs": [],
   "source": [
    "data_len = len(nrmse['nrmse_val'])\n",
    "x = np.array([i * 5000 / data_len for i in range(data_len)])\n",
    "plt.plot(x, np.array(nrmse['nrmse_val_ood_pre_adapt']), label='pre-adapt')\n",
    "plt.plot(x, np.array(nrmse['nrmse_val_ood']), label='post-adapt')\n",
    "plt.yscale('log')\n",
    "plt.xlabel('Epochs')\n",
    "plt.ylabel('NRMSE')\n",
    "plt.legend()\n",
    "plt.title('Validation metrics (out-of-distribution)')\n",
    "# plt.plot(np.array(val_loss['inner_loss'])[:, -1])"
   ]
  },
  {
   "cell_type": "markdown",
   "id": "8c5dc107-13a0-447a-8d0a-42dced259ddf",
   "metadata": {},
   "source": [
    "### Pre-adapt vs. Post-adapt val. losses (in-distribution)"
   ]
  },
  {
   "cell_type": "code",
   "execution_count": null,
   "id": "990917e4-3cb7-4e23-9f37-04485b5f1d8e",
   "metadata": {},
   "outputs": [],
   "source": [
    "data_len = len(val_loss_df['inner_loss'])\n",
    "x = np.array([i * 5000 / data_len for i in range(data_len)])\n",
    "plt.plot(x, np.array(val_loss_df['inner_loss_pre_adapt']), label='pre-adapt')\n",
    "plt.plot(x, np.array(val_loss_df['inner_loss']), label='post-adapt')\n",
    "\n",
    "plt.xlabel('Epochs')\n",
    "plt.ylabel('Loss')\n",
    "plt.legend()\n",
    "plt.title('Pre-adapt vs post-adapt validation losses (in-distribution)')"
   ]
  },
  {
   "cell_type": "markdown",
   "id": "ff77a526-c34e-4aea-9aed-d5a3b1ebb99e",
   "metadata": {},
   "source": [
    "### Pre-adapt vs. Post-adapt val. losses (out-of-distribution)"
   ]
  },
  {
   "cell_type": "code",
   "execution_count": null,
   "id": "cb7c347e-cf34-4779-a352-0e9f94fd0d17",
   "metadata": {},
   "outputs": [],
   "source": [
    "data_len = len(val_loss_df['inner_loss'])\n",
    "x = np.array([i * 5000 / data_len for i in range(data_len)])\n",
    "plt.plot(x, np.array(val_ood_loss_df['inner_loss_pre_adapt']), label='pre-adapt')\n",
    "plt.plot(x, np.array(val_ood_loss_df['inner_loss']), label='post-adapt')\n",
    "\n",
    "plt.xlabel('Epochs')\n",
    "plt.ylabel('Loss')\n",
    "plt.legend()\n",
    "plt.yscale('log')\n",
    "plt.title('Pre-adapt vs post-adapt validation losses (out-of-distribution)')"
   ]
  },
  {
   "cell_type": "markdown",
   "id": "00b4b140-1531-4eb3-9d06-b070e70c72c5",
   "metadata": {
    "jp-MarkdownHeadingCollapsed": true,
    "tags": []
   },
   "source": [
    "## Plot solutions - Poisson"
   ]
  },
  {
   "cell_type": "code",
   "execution_count": 26,
   "id": "4e35abb1-369e-4755-8bdf-8e940c4b8b23",
   "metadata": {},
   "outputs": [],
   "source": [
    "from copy import deepcopy"
   ]
  },
  {
   "cell_type": "code",
   "execution_count": null,
   "id": "39008e44-9c98-4e37-9eb8-6ce2f83adfe1",
   "metadata": {},
   "outputs": [],
   "source": [
    "task = -0.830, -0.617"
   ]
  },
  {
   "cell_type": "code",
   "execution_count": null,
   "id": "d6d32cf4-663a-41ba-b933-6c2022354ce5",
   "metadata": {},
   "outputs": [],
   "source": [
    "test_x = np.linspace(-10, 10, num=100).reshape(-1, 1)\n",
    "# test_alpha = np.full((100, 1), alpha[2])\n",
    "# test_beta = np.full((100, 1), beta[2])\n",
    "test_alpha = np.full((100, 1), task[0])\n",
    "test_beta = np.full((100, 1), task[1])\n",
    "test_in = np.hstack((test_x, test_alpha, test_beta))\n",
    "test_u = model(torch.Tensor(test_in).to(device))\n",
    "X = test_x\n",
    "\n",
    "# Exact solution\n",
    "Y = np.sin(test_alpha * X) + np.cos(test_beta * X) + 0.1 * X\n"
   ]
  },
  {
   "cell_type": "markdown",
   "id": "2b12e090-6980-4450-a628-2f0ed358db4d",
   "metadata": {},
   "source": [
    "MAML adaptation to task"
   ]
  },
  {
   "cell_type": "code",
   "execution_count": null,
   "id": "066a49a3-a6e0-4c0b-98fc-f250bf66a0a1",
   "metadata": {},
   "outputs": [],
   "source": [
    "\n",
    "phi, _, _, _, _, _, _ = model_adapted=maml._inner_loop(model.state_dict(), task, train=True)\n",
    "model_adapted = deepcopy(model)\n",
    "model_adapted.load_state_dict(phi)\n",
    "Y2 = model_adapted(torch.Tensor(test_in).to(device)).detach().cpu().numpy()"
   ]
  },
  {
   "cell_type": "code",
   "execution_count": null,
   "id": "373331d9-26d3-45e5-9fac-431dbdb93e46",
   "metadata": {},
   "outputs": [],
   "source": [
    "C = test_u.cpu().detach().numpy()\n",
    "plt.figure(figsize=(10, 8))\n",
    "plt.plot(X, C, 'b-', label='MAML')\n",
    "plt.plot(X, Y, 'r--', label='Answer')\n",
    "plt.plot(X, Y2, 'g--', label='MAML adapted')\n",
    "plt.legend()"
   ]
  },
  {
   "cell_type": "markdown",
   "id": "21e20e20-4ee1-477f-ac59-2a40b8db8d2a",
   "metadata": {
    "tags": []
   },
   "source": [
    "### Print NRMSE"
   ]
  },
  {
   "cell_type": "code",
   "execution_count": null,
   "id": "edc39cc7-4862-4ddb-bfe7-6b128059c634",
   "metadata": {},
   "outputs": [
    {
     "data": {
      "text/plain": [
       "0.92754614"
      ]
     },
     "execution_count": 35,
     "metadata": {},
     "output_type": "execute_result"
    }
   ],
   "source": [
    "# np.sqrt( np.sum((C-Y)**2) / np.sum(C**2) )\n",
    "np.sqrt( np.sum((C-Y2)**2) / np.sum(C**2) )"
   ]
  },
  {
   "cell_type": "markdown",
   "id": "7de77997-85c1-4ca3-b19e-732630815925",
   "metadata": {
    "jp-MarkdownHeadingCollapsed": true,
    "tags": []
   },
   "source": [
    "## Plot solutions - Burgers"
   ]
  },
  {
   "cell_type": "code",
   "execution_count": null,
   "id": "c5e5be5d-e097-4cb6-9e0a-c7e2dea80d1a",
   "metadata": {},
   "outputs": [],
   "source": [
    "from burgers import *"
   ]
  },
  {
   "cell_type": "code",
   "execution_count": null,
   "id": "db0e993d-d356-4fb6-9af8-a7b90becfdc3",
   "metadata": {},
   "outputs": [],
   "source": [
    "vtn = 101\n",
    "vxn = 101\n",
    "nu = 0.01 / np.pi\n",
    "vx = np.linspace(-1, 1, vxn)\n",
    "vt = np.linspace(0, 1, vtn)\n",
    "\n",
    "vu = burgers_viscous_time_exact1(nu, vxn, vx, vtn, vt)\n",
    "\n",
    "x, t = np.meshgrid(vx, vt)\n",
    "x = x.reshape(-1, 1)\n",
    "t = t.reshape(-1, 1)\n",
    "\n",
    "plt.scatter(x, t, c=vu, cmap='seismic')\n",
    "plt.colorbar()"
   ]
  },
  {
   "cell_type": "code",
   "execution_count": null,
   "id": "cb422fcf-83c4-422c-be16-fa44fa167b6c",
   "metadata": {},
   "outputs": [],
   "source": [
    "device = torch.device('cuda' if torch.cuda.is_available() else 'cpu')\n",
    "print(\"Current device:\", device)"
   ]
  },
  {
   "cell_type": "code",
   "execution_count": null,
   "id": "a71300da-7d02-45bc-b01c-e1d59586a7df",
   "metadata": {},
   "outputs": [],
   "source": [
    "vtn = 101\n",
    "vxn = 101\n",
    "nu = 0.01 / np.pi\n",
    "vx = np.linspace(-1, 1, vxn)\n",
    "vt = np.linspace(0, 1, vtn)\n",
    "x, t = np.meshgrid(vx, vt)\n",
    "x = x.reshape(-1, 1)\n",
    "t = t.reshape(-1, 1)\n",
    "alpha = np.full((x.shape), nu)\n",
    "pred = model_2(torch.Tensor(np.hstack((x, t))).to(device)).detach().cpu().numpy()\n",
    "# pred = model(torch.Tensor(np.hstack((x, t))).to(device)).detach().cpu().numpy()\n",
    "truth = burgers_viscous_time_exact1(nu, vxn, vx, vtn, vt).T.reshape(-1, 1)"
   ]
  },
  {
   "cell_type": "code",
   "execution_count": null,
   "id": "604419bf-42e5-47b5-81b2-1f22d32eeb4e",
   "metadata": {},
   "outputs": [],
   "source": [
    "plt.scatter(x, t, c=pred, cmap='seismic')\n",
    "plt.colorbar()"
   ]
  },
  {
   "cell_type": "code",
   "execution_count": null,
   "id": "84e57157-de00-457e-8766-698d7506f0f4",
   "metadata": {},
   "outputs": [],
   "source": []
  }
 ],
 "metadata": {
  "kernelspec": {
   "display_name": "torch",
   "language": "python",
   "name": "torch-1.10.1"
  },
  "language_info": {
   "codemirror_mode": {
    "name": "ipython",
    "version": 3
   },
   "file_extension": ".py",
   "mimetype": "text/x-python",
   "name": "python",
   "nbconvert_exporter": "python",
   "pygments_lexer": "ipython3",
   "version": "3.9.12"
  }
 },
 "nbformat": 4,
 "nbformat_minor": 5
}

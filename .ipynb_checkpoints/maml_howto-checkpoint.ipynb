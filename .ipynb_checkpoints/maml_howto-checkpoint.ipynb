{
 "cells": [
  {
   "cell_type": "markdown",
   "id": "59a16149-f283-409a-af11-113a670fec7c",
   "metadata": {},
   "source": [
    "# MAML"
   ]
  },
  {
   "cell_type": "code",
   "execution_count": null,
   "id": "9476badc-6e6b-47f7-b7a1-fc598e447b66",
   "metadata": {},
   "outputs": [],
   "source": [
    "from maml import *\n",
    "import matplotlib.pyplot as plt"
   ]
  },
  {
   "cell_type": "code",
   "execution_count": null,
   "id": "80274bf7-1db5-4590-a403-bfabd4e361fe",
   "metadata": {},
   "outputs": [
    {
     "name": "stdout",
     "output_type": "stream",
     "text": [
      "Current device: cuda\n"
     ]
    }
   ],
   "source": [
    "device = torch.device('cuda' if torch.cuda.is_available() else 'cpu')\n",
    "print(\"Current device:\", device)"
   ]
  },
  {
   "cell_type": "code",
   "execution_count": null,
   "id": "d8e3a9ab-9d5b-49a7-9ad6-6ad5b4eab18f",
   "metadata": {},
   "outputs": [],
   "source": [
    "maml = MAML(5, 0.01, 0.0005, 0, 2, 1, -10, 10, eqname='poisson', zero_shot=True, load=False, modelpath='models/poisson_zs_2000_ref.data')\n",
    "# maml = MAML(1, 0.01, 0.0001, 1, 2, 1, -1, 1, eqname='burgers', zero_shot=True, load=True, modelpath='models/model_ref/burgers_zs_1000_ref.data')\n",
    "# maml = MAML(5, 0.01, 0.0001, 0, 2, 1, low=-1, high=1, eqname='poisson')\n",
    "\n",
    "train_loss, val_loss, val_ood_loss, nrmse, model = maml.train(5000, 100, 100)"
   ]
  },
  {
   "cell_type": "markdown",
   "id": "997b3835-b401-43ca-93b5-3f0272068ea5",
   "metadata": {},
   "source": [
    "## Plot losses and metrics"
   ]
  },
  {
   "cell_type": "code",
   "execution_count": null,
   "id": "b01a3238-9eb9-4c7b-8b34-c56b651d8f9b",
   "metadata": {},
   "outputs": [],
   "source": [
    "data_len = len(val_loss_df['inner_loss'])\n",
    "x = np.array([i * 5000 / data_len for i in range(data_len)])\n",
    "plt.plot(x, np.array(val_loss_df['inner_loss']), label='loss')\n",
    "plt.plot(x, np.array(val_loss_df['inner_loss_f']), label='loss_f')\n",
    "plt.plot(x, np.array(val_loss_df['inner_loss_b']) * 10, label='loss_b')\n",
    "plt.xlabel('Epochs')\n",
    "plt.ylabel('Loss')\n",
    "plt.legend()\n",
    "plt.title('Post-adapt validation losses (in-distribution)')"
   ]
  },
  {
   "cell_type": "code",
   "execution_count": null,
   "id": "cc13578c-5f2e-4c9e-8e9a-cc124d3e814a",
   "metadata": {},
   "outputs": [],
   "source": [
    "data_len = len(val_loss_df['inner_loss'])\n",
    "x = np.array([i * 5000 / data_len for i in range(data_len)])\n",
    "plt.plot(x, np.array(val_loss_df['inner_loss_pre_adapt']), label='loss')\n",
    "plt.plot(x, np.array(val_loss_df['inner_loss_f_pre_adapt']), label='loss_f')\n",
    "plt.plot(x, np.array(val_loss_df['inner_loss_b_pre_adapt']) * 10, label='loss_b')\n",
    "plt.xlabel('Epochs')\n",
    "plt.ylabel('Loss')\n",
    "plt.legend()\n",
    "plt.title('Pre-adapt validation losses (in-distribution)')"
   ]
  },
  {
   "cell_type": "code",
   "execution_count": null,
   "id": "5b1537b2-402f-433b-8aaa-01bd59700369",
   "metadata": {},
   "outputs": [],
   "source": [
    "data_len = len(nrmse['nrmse_val'])\n",
    "x = np.array([i * 5000 / data_len for i in range(data_len)])\n",
    "plt.plot(x, np.array(nrmse['nrmse_val_pre_adapt']), label='pre-adapt')\n",
    "plt.plot(x, np.array(nrmse['nrmse_val']), label='post-adapt')\n",
    "plt.yscale('log')\n",
    "plt.xlabel('Epochs')\n",
    "plt.ylabel('NRMSE')\n",
    "plt.legend()\n",
    "plt.title('Validation metrics (in-distribution)')\n",
    "# plt.plot(np.array(val_loss['inner_loss'])[:, -1])"
   ]
  },
  {
   "cell_type": "code",
   "execution_count": null,
   "id": "2df13691-b08d-4653-a5c7-78f6e709a959",
   "metadata": {},
   "outputs": [],
   "source": [
    "data_len = len(val_loss_df['inner_loss'])\n",
    "x = np.array([i * 5000 / data_len for i in range(data_len)])\n",
    "plt.plot(x, np.array(val_ood_loss_df['inner_loss']), label='loss')\n",
    "plt.plot(x, np.array(val_ood_loss_df['inner_loss_f']), label='loss_f')\n",
    "plt.plot(x, np.array(val_ood_loss_df['inner_loss_b']) * 10, label='loss_b')\n",
    "plt.xlabel('Epochs')\n",
    "plt.ylabel('Loss')\n",
    "plt.legend()\n",
    "plt.title('Post-adapt validation losses (out-of-distribution)')"
   ]
  },
  {
   "cell_type": "code",
   "execution_count": null,
   "id": "afb38c9f-9b2c-49ef-ba7e-4c6a029df17d",
   "metadata": {},
   "outputs": [],
   "source": [
    "data_len = len(val_loss_df['inner_loss'])\n",
    "x = np.array([i * 5000 / data_len for i in range(data_len)])\n",
    "plt.plot(x, np.array(val_ood_loss_df['inner_loss_pre_adapt']), label='loss')\n",
    "plt.plot(x, np.array(val_ood_loss_df['inner_loss_f_pre_adapt']), label='loss_f')\n",
    "plt.plot(x, np.array(val_ood_loss_df['inner_loss_b_pre_adapt']) * 10, label='loss_b')\n",
    "plt.xlabel('Epochs')\n",
    "plt.ylabel('Loss')\n",
    "plt.legend()\n",
    "plt.title('Pre-adapt validation losses (out-of-distribution)')"
   ]
  },
  {
   "cell_type": "code",
   "execution_count": null,
   "id": "7addee55-9d31-4ad6-9fa3-08eaaf4b277c",
   "metadata": {},
   "outputs": [],
   "source": [
    "data_len = len(nrmse['nrmse_val'])\n",
    "x = np.array([i * 5000 / data_len for i in range(data_len)])\n",
    "plt.plot(x, np.array(nrmse['nrmse_val_ood_pre_adapt']), label='pre-adapt')\n",
    "plt.plot(x, np.array(nrmse['nrmse_val_ood']), label='post-adapt')\n",
    "plt.yscale('log')\n",
    "plt.xlabel('Epochs')\n",
    "plt.ylabel('NRMSE')\n",
    "plt.legend()\n",
    "plt.title('Validation metrics (out-of-distribution)')\n",
    "# plt.plot(np.array(val_loss['inner_loss'])[:, -1])"
   ]
  },
  {
   "cell_type": "code",
   "execution_count": null,
   "id": "990917e4-3cb7-4e23-9f37-04485b5f1d8e",
   "metadata": {},
   "outputs": [],
   "source": [
    "data_len = len(val_loss_df['inner_loss'])\n",
    "x = np.array([i * 5000 / data_len for i in range(data_len)])\n",
    "plt.plot(x, np.array(val_loss_df['inner_loss_pre_adapt']), label='pre-adapt')\n",
    "plt.plot(x, np.array(val_loss_df['inner_loss']), label='post-adapt')\n",
    "\n",
    "plt.xlabel('Epochs')\n",
    "plt.ylabel('Loss')\n",
    "plt.legend()\n",
    "plt.title('Pre-adapt vs post-adapt validation losses (in-distribution)')"
   ]
  },
  {
   "cell_type": "code",
   "execution_count": null,
   "id": "cb7c347e-cf34-4779-a352-0e9f94fd0d17",
   "metadata": {},
   "outputs": [],
   "source": [
    "data_len = len(val_loss_df['inner_loss'])\n",
    "x = np.array([i * 5000 / data_len for i in range(data_len)])\n",
    "plt.plot(x, np.array(val_ood_loss_df['inner_loss_pre_adapt']), label='pre-adapt')\n",
    "plt.plot(x, np.array(val_ood_loss_df['inner_loss']), label='post-adapt')\n",
    "\n",
    "plt.xlabel('Epochs')\n",
    "plt.ylabel('Loss')\n",
    "plt.legend()\n",
    "plt.yscale('log')\n",
    "plt.title('Pre-adapt vs post-adapt validation losses (out-of-distribution)')"
   ]
  },
  {
   "cell_type": "code",
   "execution_count": 26,
   "id": "4e35abb1-369e-4755-8bdf-8e940c4b8b23",
   "metadata": {},
   "outputs": [],
   "source": [
    "from copy import deepcopy"
   ]
  },
  {
   "cell_type": "code",
   "execution_count": null,
   "id": "39008e44-9c98-4e37-9eb8-6ce2f83adfe1",
   "metadata": {},
   "outputs": [],
   "source": [
    "task = -0.830, -0.617"
   ]
  },
  {
   "cell_type": "code",
   "execution_count": null,
   "id": "d6d32cf4-663a-41ba-b933-6c2022354ce5",
   "metadata": {},
   "outputs": [],
   "source": [
    "test_x = np.linspace(-10, 10, num=100).reshape(-1, 1)\n",
    "# test_alpha = np.full((100, 1), alpha[2])\n",
    "# test_beta = np.full((100, 1), beta[2])\n",
    "test_alpha = np.full((100, 1), task[0])\n",
    "test_beta = np.full((100, 1), task[1])\n",
    "test_in = np.hstack((test_x, test_alpha, test_beta))\n",
    "test_u = model(torch.Tensor(test_in).to(device))\n",
    "X = test_x\n",
    "\n",
    "Y = np.sin(test_alpha * X) + np.cos(test_beta * X) + 0.1 * X\n"
   ]
  },
  {
   "cell_type": "code",
   "execution_count": null,
   "id": "066a49a3-a6e0-4c0b-98fc-f250bf66a0a1",
   "metadata": {},
   "outputs": [],
   "source": [
    "\n",
    "phi, _, _, _, _, _, _ = model_adapted=maml._inner_loop(model.state_dict(), task, train=True)\n",
    "model_adapted = deepcopy(model)\n",
    "model_adapted.load_state_dict(phi)\n",
    "Y2 = model_adapted(torch.Tensor(test_in).to(device)).detach().cpu().numpy()"
   ]
  },
  {
   "cell_type": "code",
   "execution_count": 33,
   "id": "373331d9-26d3-45e5-9fac-431dbdb93e46",
   "metadata": {},
   "outputs": [
    {
     "data": {
      "text/plain": [
       "<matplotlib.legend.Legend at 0x20134cb7490>"
      ]
     },
     "execution_count": 33,
     "metadata": {},
     "output_type": "execute_result"
    },
    {
     "data": {
      "image/png": "[encoded data removed]",
      "text/plain": [
       "<Figure size 720x576 with 1 Axes>"
      ]
     },
     "metadata": {
      "needs_background": "light"
     },
     "output_type": "display_data"
    }
   ],
   "source": [
    "C = test_u.cpu().detach().numpy()\n",
    "plt.figure(figsize=(10, 8))\n",
    "plt.plot(X, C, 'b-', label='PINN')\n",
    "plt.plot(X, Y, 'r--', label='Answer')\n",
    "plt.plot(X, Y2, 'g--', label='MAML')\n",
    "plt.legend()"
   ]
  },
  {
   "cell_type": "code",
   "execution_count": null,
   "id": "edc39cc7-4862-4ddb-bfe7-6b128059c634",
   "metadata": {},
   "outputs": [
    {
     "data": {
      "text/plain": [
       "0.92754614"
      ]
     },
     "execution_count": 35,
     "metadata": {},
     "output_type": "execute_result"
    }
   ],
   "source": [
    "# np.sqrt( np.sum((C-Y)**2) / np.sum(C**2) )\n",
    "np.sqrt( np.sum((C-Y2)**2) / np.sum(C**2) )"
   ]
  },
  {
   "cell_type": "code",
   "execution_count": null,
   "id": "c5e5be5d-e097-4cb6-9e0a-c7e2dea80d1a",
   "metadata": {},
   "outputs": [],
   "source": [
    "from burgers import *"
   ]
  },
  {
   "cell_type": "code",
   "execution_count": null,
   "id": "db0e993d-d356-4fb6-9af8-a7b90becfdc3",
   "metadata": {},
   "outputs": [],
   "source": [
    "vtn = 101\n",
    "vxn = 101\n",
    "nu = 0.01 / np.pi\n",
    "vx = np.linspace(-1, 1, vxn)\n",
    "vt = np.linspace(0, 1, vtn)\n",
    "\n",
    "vu = burgers_viscous_time_exact1(nu, vxn, vx, vtn, vt)\n",
    "\n",
    "x, t = np.meshgrid(vx, vt)\n",
    "x = x.reshape(-1, 1)\n",
    "t = t.reshape(-1, 1)\n",
    "\n",
    "plt.scatter(x, t, c=vu, cmap='seismic')\n",
    "plt.colorbar()"
   ]
  },
  {
   "cell_type": "code",
   "execution_count": null,
   "id": "cb422fcf-83c4-422c-be16-fa44fa167b6c",
   "metadata": {},
   "outputs": [],
   "source": [
    "device = torch.device('cuda' if torch.cuda.is_available() else 'cpu')\n",
    "print(\"Current device:\", device)"
   ]
  },
  {
   "cell_type": "code",
   "execution_count": null,
   "id": "a71300da-7d02-45bc-b01c-e1d59586a7df",
   "metadata": {},
   "outputs": [],
   "source": [
    "vtn = 101\n",
    "vxn = 101\n",
    "nu = 0.01 / np.pi\n",
    "vx = np.linspace(-1, 1, vxn)\n",
    "vt = np.linspace(0, 1, vtn)\n",
    "x, t = np.meshgrid(vx, vt)\n",
    "x = x.reshape(-1, 1)\n",
    "t = t.reshape(-1, 1)\n",
    "alpha = np.full((x.shape), nu)\n",
    "pred = model_2(torch.Tensor(np.hstack((x, t))).to(device)).detach().cpu().numpy()\n",
    "# pred = model(torch.Tensor(np.hstack((x, t))).to(device)).detach().cpu().numpy()\n",
    "truth = burgers_viscous_time_exact1(nu, vxn, vx, vtn, vt).T.reshape(-1, 1)"
   ]
  },
  {
   "cell_type": "code",
   "execution_count": null,
   "id": "604419bf-42e5-47b5-81b2-1f22d32eeb4e",
   "metadata": {},
   "outputs": [],
   "source": [
    "plt.scatter(x, t, c=pred, cmap='seismic')\n",
    "plt.colorbar()"
   ]
  },
  {
   "cell_type": "code",
   "execution_count": null,
   "id": "84e57157-de00-457e-8766-698d7506f0f4",
   "metadata": {},
   "outputs": [],
   "source": []
  },
  {
   "cell_type": "code",
   "execution_count": null,
   "id": "f8d2c34f-a8b5-4104-9b86-3ca29e33af45",
   "metadata": {},
   "outputs": [],
   "source": []
  }
 ],
 "metadata": {
  "kernelspec": {
   "display_name": "torch",
   "language": "python",
   "name": "torch-1.10.1"
  },
  "language_info": {
   "codemirror_mode": {
    "name": "ipython",
    "version": 3
   },
   "file_extension": ".py",
   "mimetype": "text/x-python",
   "name": "python",
   "nbconvert_exporter": "python",
   "pygments_lexer": "ipython3",
   "version": "3.9.12"
  }
 },
 "nbformat": 4,
 "nbformat_minor": 5
}
